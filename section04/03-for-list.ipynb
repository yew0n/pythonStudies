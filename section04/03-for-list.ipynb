{
 "cells": [
  {
   "cell_type": "code",
   "execution_count": 1,
   "id": "hearing-struggle",
   "metadata": {},
   "outputs": [
    {
     "name": "stdout",
     "output_type": "stream",
     "text": [
      "P\n",
      "y\n",
      "t\n",
      "h\n",
      "o\n",
      "n\n"
     ]
    }
   ],
   "source": [
    "# -*- coding: utf-8 -*-\n",
    "\n",
    "#문자열에 대한 반복\n",
    "test_str = \"Python\"\n",
    "\n",
    "# -> 문자열의 각 글자를 순차적으로 i에 대입하면서 반복\n",
    "for i in test_str:\n",
    "    print(i)"
   ]
  },
  {
   "cell_type": "code",
   "execution_count": 2,
   "id": "honey-quarter",
   "metadata": {},
   "outputs": [
    {
     "name": "stdout",
     "output_type": "stream",
     "text": [
      "python\n",
      "is\n",
      "good\n"
     ]
    }
   ],
   "source": [
    "#리스트에 대한 반복\n",
    "test_list = ['python', 'is', 'good']\n",
    "#리스트의 각 원소를 순차적으로 i에 대입하면서 반복\n",
    "# 단점 : 몇 번째 원소인지 알 수 없음\n",
    "for i in test_list:\n",
    "    print(i)"
   ]
  },
  {
   "cell_type": "code",
   "execution_count": 4,
   "id": "hawaiian-importance",
   "metadata": {},
   "outputs": [
    {
     "name": "stdout",
     "output_type": "stream",
     "text": [
      "0번째 원소 : python \n",
      "1번째 원소 : is \n",
      "2번째 원소 : good \n"
     ]
    }
   ],
   "source": [
    "# 반복문안에서 현재 원소의 인덱스를 파악하기 위한 별도 변수 사용\n",
    "# -> 단점 : 별도 변수 관리를 위해 처리 복잡\n",
    "count = 0\n",
    "for i in test_list:\n",
    "    print(\"%d번째 원소 : %s \" % (count, i))\n",
    "    count+=1"
   ]
  },
  {
   "cell_type": "code",
   "execution_count": 5,
   "id": "hollywood-hanging",
   "metadata": {},
   "outputs": [
    {
     "name": "stdout",
     "output_type": "stream",
     "text": [
      "0번째 원소 : python \n",
      "1번째 원소 : is \n",
      "2번째 원소 : good \n"
     ]
    }
   ],
   "source": [
    "# 원소의 수를 조회한 다음 직접 반복범위 지정\n",
    "# -> 단점 : 각 원소가 저장되는 변수가 없으므로 원소에 대한 접근을 리스트를 통해 직접 수행해야 한다.\n",
    "size = len(test_list)\n",
    "for i in range(0,size):\n",
    "     print(\"%d번째 원소 : %s \" % (i, test_list[i]))"
   ]
  },
  {
   "cell_type": "code",
   "execution_count": 6,
   "id": "unlike-destiny",
   "metadata": {},
   "outputs": [
    {
     "name": "stdout",
     "output_type": "stream",
     "text": [
      "0번째 값 : python \n",
      "1번째 값 : is \n",
      "2번째 값 : good \n"
     ]
    }
   ],
   "source": [
    "# 내장 함수를 사용하여 인덱스와 값 한번에 얻기\n",
    "# -> i에는 리스트의 인덱스 저장\n",
    "# -> value에는 리스트의 값(원소) 저장\n",
    "# -> i, value는 단순 변수이므로 개발자 편의에 따라 이름지을 수 있다.\n",
    "for i, value in enumerate(test_list):\n",
    "     print(\"%d번째 값 : %s \" % (i, value))"
   ]
  },
  {
   "cell_type": "code",
   "execution_count": 8,
   "id": "accompanied-flesh",
   "metadata": {},
   "outputs": [
    {
     "name": "stdout",
     "output_type": "stream",
     "text": [
      "총점 : 407, 평균 : 81\n"
     ]
    }
   ],
   "source": [
    "# 일반적으로 많이 사용되는 응용패턴\n",
    "# 성적에 대한 총점/평균 구하기\n",
    "point_list = [100,82,98,76,51]\n",
    "total=0\n",
    "\n",
    "for point in point_list:\n",
    "    total+=point\n",
    "\n",
    "# 평균은 총 합에서 원소의 수를 나눈다\n",
    "# -> \"//\" 는 나눗셈에서 정수 부분의 몫만 구한다\n",
    "avg = total//len(point_list)\n",
    "tpl = \"총점 : {0}, 평균 : {1}\"\n",
    "print(tpl.format(total, avg))"
   ]
  }
 ],
 "metadata": {
  "kernelspec": {
   "display_name": "Python 3",
   "language": "python",
   "name": "python3"
  },
  "language_info": {
   "codemirror_mode": {
    "name": "ipython",
    "version": 3
   },
   "file_extension": ".py",
   "mimetype": "text/x-python",
   "name": "python",
   "nbconvert_exporter": "python",
   "pygments_lexer": "ipython3",
   "version": "3.8.0"
  }
 },
 "nbformat": 4,
 "nbformat_minor": 5
}
