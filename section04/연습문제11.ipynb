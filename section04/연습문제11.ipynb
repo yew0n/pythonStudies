{
 "cells": [
  {
   "cell_type": "code",
   "execution_count": 2,
   "id": "green-paris",
   "metadata": {},
   "outputs": [
    {
     "name": "stdout",
     "output_type": "stream",
     "text": [
      "15\n",
      "30\n",
      "45\n",
      "60\n",
      "75\n",
      "90\n",
      "공배수의 총 합 : 315\n"
     ]
    }
   ],
   "source": [
    "# -*- coding: utf-8 -*-\n",
    "\n",
    "# 공배수의 합을 구하기 위한 변수\n",
    "sum=0\n",
    "\n",
    "# i에 1~100까지 순차적으로 저장하는 반복문\n",
    "for i in range(1,101):\n",
    "    if i%5==0 and i%3==0:\n",
    "        sum+=i\n",
    "        print(i)\n",
    "\n",
    "tpl = \"공배수의 총 합 : {0}\"\n",
    "print(tpl.format(sum))\n"
   ]
  }
 ],
 "metadata": {
  "kernelspec": {
   "display_name": "Python 3",
   "language": "python",
   "name": "python3"
  },
  "language_info": {
   "codemirror_mode": {
    "name": "ipython",
    "version": 3
   },
   "file_extension": ".py",
   "mimetype": "text/x-python",
   "name": "python",
   "nbconvert_exporter": "python",
   "pygments_lexer": "ipython3",
   "version": "3.8.0"
  }
 },
 "nbformat": 4,
 "nbformat_minor": 5
}
