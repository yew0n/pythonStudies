{
 "cells": [
  {
   "cell_type": "code",
   "execution_count": 1,
   "id": "plastic-vegetarian",
   "metadata": {},
   "outputs": [
    {
     "name": "stdout",
     "output_type": "stream",
     "text": [
      "패스입니다.\n",
      "C입니다.\n"
     ]
    }
   ],
   "source": [
    "# -*- coding: utf-8 -*-\n",
    "\n",
    "# if문 간 중첩\n",
    "point = 78\n",
    "\n",
    "if point>70:\n",
    "    print(\"패스입니다.\")\n",
    "    \n",
    "    if point>90:\n",
    "        print(\"A입니다.\")\n",
    "    elif point>80:\n",
    "        print(\"B입니다.\")\n",
    "    else:\n",
    "        print(\"C입니다.\")\n",
    "else:\n",
    "    print(\"패스하지 못했습니다.\")"
   ]
  },
  {
   "cell_type": "code",
   "execution_count": 2,
   "id": "floating-applicant",
   "metadata": {},
   "outputs": [
    {
     "name": "stdout",
     "output_type": "stream",
     "text": [
      "1(은)는 홀수\n",
      "2(은)는 짝수\n",
      "3(은)는 홀수\n",
      "4(은)는 짝수\n",
      "5(은)는 홀수\n",
      "6(은)는 짝수\n",
      "7(은)는 홀수\n",
      "8(은)는 짝수\n",
      "9(은)는 홀수\n",
      "10(은)는 짝수\n",
      "1~10까지 짝수들의 합 : 30\n",
      "1~10까지 홀수들의 합 : 25\n"
     ]
    }
   ],
   "source": [
    "# for와 if의 중첩 -> 주로 반복되는 index 값에 대한 조건 판별\n",
    "x=0\n",
    "y=0\n",
    "\n",
    "for i in range(1,11):\n",
    "    if i%2==0:\n",
    "        print(\"%d(은)는 짝수\" % i)\n",
    "        x+=i\n",
    "    else:\n",
    "        print(\"%d(은)는 홀수\" % i)\n",
    "        y+=i\n",
    "\n",
    "print(\"1~10까지 짝수들의 합 : %d\" % x)\n",
    "print(\"1~10까지 홀수들의 합 : %d\" % y)"
   ]
  },
  {
   "cell_type": "code",
   "execution_count": 3,
   "id": "manufactured-probe",
   "metadata": {},
   "outputs": [
    {
     "name": "stdout",
     "output_type": "stream",
     "text": [
      "2 x 1 = 2\n",
      "2 x 2 = 4\n",
      "2 x 3 = 6\n",
      "2 x 4 = 8\n",
      "2 x 5 = 10\n",
      "2 x 6 = 12\n",
      "2 x 7 = 14\n",
      "2 x 8 = 16\n",
      "2 x 9 = 18\n",
      "3 x 1 = 3\n",
      "3 x 2 = 6\n",
      "3 x 3 = 9\n",
      "3 x 4 = 12\n",
      "3 x 5 = 15\n",
      "3 x 6 = 18\n",
      "3 x 7 = 21\n",
      "3 x 8 = 24\n",
      "3 x 9 = 27\n",
      "4 x 1 = 4\n",
      "4 x 2 = 8\n",
      "4 x 3 = 12\n",
      "4 x 4 = 16\n",
      "4 x 5 = 20\n",
      "4 x 6 = 24\n",
      "4 x 7 = 28\n",
      "4 x 8 = 32\n",
      "4 x 9 = 36\n",
      "5 x 1 = 5\n",
      "5 x 2 = 10\n",
      "5 x 3 = 15\n",
      "5 x 4 = 20\n",
      "5 x 5 = 25\n",
      "5 x 6 = 30\n",
      "5 x 7 = 35\n",
      "5 x 8 = 40\n",
      "5 x 9 = 45\n",
      "6 x 1 = 6\n",
      "6 x 2 = 12\n",
      "6 x 3 = 18\n",
      "6 x 4 = 24\n",
      "6 x 5 = 30\n",
      "6 x 6 = 36\n",
      "6 x 7 = 42\n",
      "6 x 8 = 48\n",
      "6 x 9 = 54\n",
      "7 x 1 = 7\n",
      "7 x 2 = 14\n",
      "7 x 3 = 21\n",
      "7 x 4 = 28\n",
      "7 x 5 = 35\n",
      "7 x 6 = 42\n",
      "7 x 7 = 49\n",
      "7 x 8 = 56\n",
      "7 x 9 = 63\n",
      "8 x 1 = 8\n",
      "8 x 2 = 16\n",
      "8 x 3 = 24\n",
      "8 x 4 = 32\n",
      "8 x 5 = 40\n",
      "8 x 6 = 48\n",
      "8 x 7 = 56\n",
      "8 x 8 = 64\n",
      "8 x 9 = 72\n",
      "9 x 1 = 9\n",
      "9 x 2 = 18\n",
      "9 x 3 = 27\n",
      "9 x 4 = 36\n",
      "9 x 5 = 45\n",
      "9 x 6 = 54\n",
      "9 x 7 = 63\n",
      "9 x 8 = 72\n",
      "9 x 9 = 81\n"
     ]
    }
   ],
   "source": [
    "# 2중반복문 --> 구구단\n",
    "tpl = \"{0} x {1} = {2}\"\n",
    "\n",
    "#i의 변화범위 = 2~9\n",
    "for i in range(2,10):\n",
    "    for j in range(1,10):\n",
    "        k=i*j\n",
    "        print(tpl.format(i,j,k))"
   ]
  }
 ],
 "metadata": {
  "kernelspec": {
   "display_name": "Python 3",
   "language": "python",
   "name": "python3"
  },
  "language_info": {
   "codemirror_mode": {
    "name": "ipython",
    "version": 3
   },
   "file_extension": ".py",
   "mimetype": "text/x-python",
   "name": "python",
   "nbconvert_exporter": "python",
   "pygments_lexer": "ipython3",
   "version": "3.8.0"
  }
 },
 "nbformat": 4,
 "nbformat_minor": 5
}
