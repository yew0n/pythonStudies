{
 "cells": [
  {
   "cell_type": "code",
   "execution_count": 1,
   "id": "bridal-coffee",
   "metadata": {},
   "outputs": [
    {
     "name": "stdout",
     "output_type": "stream",
     "text": [
      "x=1\n",
      "x=2\n",
      "x=3\n",
      "x=4\n",
      "x=5\n",
      "x=6\n",
      "x=7\n",
      "x=8\n",
      "x=9\n",
      "x=10\n"
     ]
    }
   ],
   "source": [
    "# -*- coding: utf-8 -*-\n",
    "\n",
    "# 반복문의 기본 특성\n",
    "x=1\n",
    "while x<=10:\n",
    "    print(\"x=%d\"%x)\n",
    "    x+=1"
   ]
  },
  {
   "cell_type": "code",
   "execution_count": 2,
   "id": "fifteen-federal",
   "metadata": {},
   "outputs": [
    {
     "name": "stdout",
     "output_type": "stream",
     "text": [
      "7 x 1 = 7\n",
      "7 x 2 = 14\n",
      "7 x 3 = 21\n",
      "7 x 4 = 28\n",
      "7 x 5 = 35\n",
      "7 x 6 = 42\n",
      "7 x 7 = 49\n",
      "7 x 8 = 56\n",
      "7 x 9 = 63\n"
     ]
    }
   ],
   "source": [
    "y=1\n",
    "while y<10:\n",
    "    z=7*y\n",
    "    print(\"7 x %d = %d\" % (y,z))\n",
    "    y+=1"
   ]
  },
  {
   "cell_type": "code",
   "execution_count": 3,
   "id": "personalized-hawaii",
   "metadata": {},
   "outputs": [
    {
     "name": "stdout",
     "output_type": "stream",
     "text": [
      "x=1, sum=1\n",
      "x=2, sum=3\n",
      "x=3, sum=6\n",
      "x=4, sum=10\n",
      "x=5, sum=15\n",
      "x=6, sum=21\n",
      "x=7, sum=28\n",
      "x=8, sum=36\n",
      "x=9, sum=45\n",
      "x=10, sum=55\n"
     ]
    }
   ],
   "source": [
    "x=1\n",
    "sum=0\n",
    "while x<=10:\n",
    "    sum+=x\n",
    "    print(\"x=%d, sum=%d\" % (x,sum))\n",
    "    x+=1"
   ]
  },
  {
   "cell_type": "code",
   "execution_count": 4,
   "id": "funky-knitting",
   "metadata": {},
   "outputs": [
    {
     "name": "stdout",
     "output_type": "stream",
     "text": [
      "a=0\n",
      "a=10\n",
      "a=20\n",
      "a=30\n",
      "a=40\n",
      "a=50\n",
      "a=60\n",
      "a=70\n",
      "a=80\n",
      "a=90\n"
     ]
    }
   ],
   "source": [
    "# 값의 변화단계 조절하기\n",
    "a=0 \n",
    "while a<100:\n",
    "    print(\"a=%d\" % a)\n",
    "    a+=10"
   ]
  },
  {
   "cell_type": "code",
   "execution_count": 5,
   "id": "brutal-blind",
   "metadata": {},
   "outputs": [
    {
     "name": "stdout",
     "output_type": "stream",
     "text": [
      "b=10\n",
      "b=8\n",
      "b=6\n",
      "b=4\n",
      "b=2\n"
     ]
    }
   ],
   "source": [
    "b= 10\n",
    "while b>0:\n",
    "    print(\"b=%d\" % b)\n",
    "    b-=2"
   ]
  }
 ],
 "metadata": {
  "kernelspec": {
   "display_name": "Python 3",
   "language": "python",
   "name": "python3"
  },
  "language_info": {
   "codemirror_mode": {
    "name": "ipython",
    "version": 3
   },
   "file_extension": ".py",
   "mimetype": "text/x-python",
   "name": "python",
   "nbconvert_exporter": "python",
   "pygments_lexer": "ipython3",
   "version": "3.8.0"
  }
 },
 "nbformat": 4,
 "nbformat_minor": 5
}
