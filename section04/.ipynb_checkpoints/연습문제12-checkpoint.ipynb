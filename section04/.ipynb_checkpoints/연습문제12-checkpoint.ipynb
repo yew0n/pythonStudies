{
 "cells": [
  {
   "cell_type": "code",
   "execution_count": 2,
   "id": "actual-blackberry",
   "metadata": {},
   "outputs": [
    {
     "name": "stdout",
     "output_type": "stream",
     "text": [
      "*****\n",
      "****\n",
      "***\n",
      "**\n",
      "*\n"
     ]
    }
   ],
   "source": [
    "# -*- coding: utf-8 -*-\n",
    "\n",
    "for i in range(0,5):\n",
    "    star = \"\"\n",
    "    for j in range(5,i,-1):\n",
    "        star=star+\"*\"\n",
    "    print(star)"
   ]
  }
 ],
 "metadata": {
  "kernelspec": {
   "display_name": "Python 3",
   "language": "python",
   "name": "python3"
  },
  "language_info": {
   "codemirror_mode": {
    "name": "ipython",
    "version": 3
   },
   "file_extension": ".py",
   "mimetype": "text/x-python",
   "name": "python",
   "nbconvert_exporter": "python",
   "pygments_lexer": "ipython3",
   "version": "3.8.0"
  }
 },
 "nbformat": 4,
 "nbformat_minor": 5
}
