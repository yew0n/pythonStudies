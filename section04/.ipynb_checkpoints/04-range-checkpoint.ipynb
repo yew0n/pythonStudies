{
 "cells": [
  {
   "cell_type": "code",
   "execution_count": 3,
   "id": "third-vienna",
   "metadata": {},
   "outputs": [
    {
     "name": "stdout",
     "output_type": "stream",
     "text": [
      "100\n",
      "200\n",
      "300\n"
     ]
    }
   ],
   "source": [
    "# -*- coding: utf-8 -*-\n",
    "\n",
    "# 1) 변수는 자신이 최초로 생성된 위치보다 깊은 레벨로 침투 가능\\\n",
    "num1=100\n",
    "num2=200\n",
    "\n",
    "if num1==100:\n",
    "    num3=300\n",
    "    print(num1)\n",
    "    print(num2)\n",
    "    print(num3)"
   ]
  },
  {
   "cell_type": "code",
   "execution_count": 5,
   "id": "broadband-uncertainty",
   "metadata": {},
   "outputs": [
    {
     "name": "stdout",
     "output_type": "stream",
     "text": [
      "300\n"
     ]
    }
   ],
   "source": [
    "# 2) 자신의 최초 생성 위치보다 얕은 레벨에서는 변수 생성 구문의 실행 여부에 따라 식별 가능 여부 결정\n",
    "print(num3)"
   ]
  },
  {
   "cell_type": "code",
   "execution_count": 6,
   "id": "parental-designer",
   "metadata": {},
   "outputs": [
    {
     "name": "stdout",
     "output_type": "stream",
     "text": [
      "900\n",
      "9\n"
     ]
    }
   ],
   "source": [
    "# 3) 반복문이 1회이상 수행 시 반복문 안에서 생성된 변수는 밖에서 식별 가능\n",
    "for i in range(1,10):\n",
    "    result = i*100\n",
    "\n",
    "# 반복문이 한번도 실행되지 않았다면 result변수는 존재 X\n",
    "print(result)\n",
    "print(i)"
   ]
  },
  {
   "cell_type": "code",
   "execution_count": 7,
   "id": "present-sphere",
   "metadata": {},
   "outputs": [
    {
     "name": "stdout",
     "output_type": "stream",
     "text": [
      "0\n"
     ]
    }
   ],
   "source": [
    "# 결론 ) if, for등 블록 구성 구문 안에서 변수를 생성해야 한다면 블로 밖에서 미리 변수를 생성하는 것이 좋다\n",
    "x= 0\n",
    "\n",
    "if num1>100:\n",
    "    x+=1\n",
    "    \n",
    "print(x)"
   ]
  }
 ],
 "metadata": {
  "kernelspec": {
   "display_name": "Python 3",
   "language": "python",
   "name": "python3"
  },
  "language_info": {
   "codemirror_mode": {
    "name": "ipython",
    "version": 3
   },
   "file_extension": ".py",
   "mimetype": "text/x-python",
   "name": "python",
   "nbconvert_exporter": "python",
   "pygments_lexer": "ipython3",
   "version": "3.8.0"
  }
 },
 "nbformat": 4,
 "nbformat_minor": 5
}
