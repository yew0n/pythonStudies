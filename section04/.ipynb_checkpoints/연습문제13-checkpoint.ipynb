{
 "cells": [
  {
   "cell_type": "code",
   "execution_count": 1,
   "id": "satisfactory-customer",
   "metadata": {},
   "outputs": [
    {
     "name": "stdout",
     "output_type": "stream",
     "text": [
      "일주일간의 총 급여는 213400원 입니다.\n"
     ]
    }
   ],
   "source": [
    "# -*- coding: utf-8 -*-\n",
    "\n",
    "time = [7,5,5,5,5,10,7]\n",
    "total = 0\n",
    "\n",
    "for i in range(0, len(time)):\n",
    "    if i<=3:\n",
    "        total+=time[i]*4500\n",
    "    else:\n",
    "        total+=time[i]*5200\n",
    "\n",
    "tpl = \"일주일간의 총 급여는 {0}원 입니다.\"\n",
    "print(tpl.format(total))"
   ]
  }
 ],
 "metadata": {
  "kernelspec": {
   "display_name": "Python 3",
   "language": "python",
   "name": "python3"
  },
  "language_info": {
   "codemirror_mode": {
    "name": "ipython",
    "version": 3
   },
   "file_extension": ".py",
   "mimetype": "text/x-python",
   "name": "python",
   "nbconvert_exporter": "python",
   "pygments_lexer": "ipython3",
   "version": "3.8.0"
  }
 },
 "nbformat": 4,
 "nbformat_minor": 5
}
