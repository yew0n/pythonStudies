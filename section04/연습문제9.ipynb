{
 "cells": [
  {
   "cell_type": "code",
   "execution_count": 2,
   "id": "departmental-constitution",
   "metadata": {},
   "outputs": [
    {
     "name": "stdout",
     "output_type": "stream",
     "text": [
      "38000원 x 6개 -> 총 228000원\n",
      "20000원 x 4개 -> 총 80000원\n",
      "17900원 x 3개 -> 총 53700원\n",
      "17900원 x 5개 -> 총 89500원\n",
      "-----------------------\n",
      "총 합계 금액 -> 451200원\n"
     ]
    }
   ],
   "source": [
    "# -*- coding: utf-8 -*-\n",
    "\n",
    "cart = [\n",
    "    {'price':38000, 'qty':6},\n",
    "    {'price':20000, 'qty':4},\n",
    "    {'price':17900, 'qty':3},\n",
    "    {'price':17900, 'qty':5}\n",
    "]\n",
    "\n",
    "sum = 0\n",
    "tpl = \"{0}원 x {1}개 -> 총 {2}원\"\n",
    "\n",
    "for i in range(0, len(cart)):\n",
    "    sum+=cart[i]['price']*cart[i]['qty']\n",
    "    print(tpl.format(cart[i]['price'],cart[i]['qty'],cart[i]['price']*cart[i]['qty']))\n",
    "\n",
    "print(\"-----------------------\")\n",
    "print(\"총 합계 금액 -> %d원\" % sum)"
   ]
  }
 ],
 "metadata": {
  "kernelspec": {
   "display_name": "Python 3",
   "language": "python",
   "name": "python3"
  },
  "language_info": {
   "codemirror_mode": {
    "name": "ipython",
    "version": 3
   },
   "file_extension": ".py",
   "mimetype": "text/x-python",
   "name": "python",
   "nbconvert_exporter": "python",
   "pygments_lexer": "ipython3",
   "version": "3.8.0"
  }
 },
 "nbformat": 4,
 "nbformat_minor": 5
}
