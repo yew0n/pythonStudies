{
 "cells": [
  {
   "cell_type": "code",
   "execution_count": 2,
   "id": "increased-carpet",
   "metadata": {},
   "outputs": [
    {
     "name": "stdout",
     "output_type": "stream",
     "text": [
      "404816.4G\n"
     ]
    }
   ],
   "source": [
    "# -*- coding: utf-8 -*-\n",
    "\n",
    "cart = [\n",
    "    {'price':500, 'qty':291},\n",
    "    {'price':320, 'qty':586},\n",
    "    {'price':100, 'qty':460},\n",
    "    {'price':120, 'qty':558},\n",
    "    {'price':92, 'qty':18},\n",
    "    {'price':30, 'qty':72},\n",
    "]\n",
    "\n",
    "sale = 0\n",
    "\n",
    "for i in range(0,len(cart)):\n",
    "    sale+=cart[i]['price']*cart[i]['qty']*0.9\n",
    "    \n",
    "print(\"%.1fG\" % sale)\n"
   ]
  }
 ],
 "metadata": {
  "kernelspec": {
   "display_name": "Python 3",
   "language": "python",
   "name": "python3"
  },
  "language_info": {
   "codemirror_mode": {
    "name": "ipython",
    "version": 3
   },
   "file_extension": ".py",
   "mimetype": "text/x-python",
   "name": "python",
   "nbconvert_exporter": "python",
   "pygments_lexer": "ipython3",
   "version": "3.8.0"
  }
 },
 "nbformat": 4,
 "nbformat_minor": 5
}
