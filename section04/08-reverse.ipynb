{
 "cells": [
  {
   "cell_type": "code",
   "execution_count": 1,
   "id": "divine-framing",
   "metadata": {},
   "outputs": [
    {
     "name": "stdout",
     "output_type": "stream",
     "text": [
      "[5, 3, 7, 1, 9]\n"
     ]
    }
   ],
   "source": [
    "# -*- coding: utf-8 -*-\n",
    "\n",
    "# 원본 리스트\n",
    "mylist = [5,3,7,1,9]\n",
    "print(mylist)"
   ]
  },
  {
   "cell_type": "code",
   "execution_count": 2,
   "id": "pending-sword",
   "metadata": {},
   "outputs": [
    {
     "data": {
      "text/plain": [
       "[9, 1, 7, 3, 5]"
      ]
     },
     "execution_count": 2,
     "metadata": {},
     "output_type": "execute_result"
    }
   ],
   "source": [
    "# 리스트의 길이 --> 5\n",
    "size = len(mylist)\n",
    "\n",
    "#리스트의 길이를 2로 나눈 정수 부분의 몫 =2\n",
    "# 리스트 길이가 홀수인 경우 가운데 원소는 위치 변경 필요 X\n",
    "# 나눗셈 나머지 버리고 정수부분 몫만 가져옴\n",
    "half = size//2\n",
    "\n",
    "# 리스트의 반만큼만 반복 수행\n",
    "for i in range(0,half):\n",
    "    #i번째 항목의 반대쪽에 위치한 원소의 인덱스 GET\n",
    "    p=size-i-1\n",
    "    \n",
    "    #i번째 원소와 p번쨰 원소 맞바꿈\n",
    "    mylist[i], mylist[p] = mylist[p], mylist[i]\n",
    "    \n",
    "mylist"
   ]
  }
 ],
 "metadata": {
  "kernelspec": {
   "display_name": "Python 3",
   "language": "python",
   "name": "python3"
  },
  "language_info": {
   "codemirror_mode": {
    "name": "ipython",
    "version": 3
   },
   "file_extension": ".py",
   "mimetype": "text/x-python",
   "name": "python",
   "nbconvert_exporter": "python",
   "pygments_lexer": "ipython3",
   "version": "3.8.0"
  }
 },
 "nbformat": 4,
 "nbformat_minor": 5
}
