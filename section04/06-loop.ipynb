{
 "cells": [
  {
   "cell_type": "code",
   "execution_count": 1,
   "id": "iraqi-motorcycle",
   "metadata": {},
   "outputs": [],
   "source": [
    "# -*- coding: utf-8 -*-\n",
    "\n",
    "# 무한루프 -> 조건 설정이 잘못되어 종료되지 않는 반복\n",
    "x=1\n",
    "\n",
    "#실행시 종료되지 않으므로 주석으로 막아둠\n",
    "# while x<10:\n",
    "#    print(x)\n",
    "#    x-=1"
   ]
  },
  {
   "cell_type": "code",
   "execution_count": 2,
   "id": "important-intent",
   "metadata": {},
   "outputs": [
    {
     "name": "stdout",
     "output_type": "stream",
     "text": [
      "Hello Python (1)\n",
      "Hello Python (3)\n",
      "Hello Python (5)\n",
      "Hello Python (7)\n",
      "Hello Python (9)\n"
     ]
    }
   ],
   "source": [
    "# 의도적으로 무한루프를 설정하는 경우\n",
    "# -> 반복의 횟수를 가늠할 수 없을 때 사용\n",
    "# -> 반복문 내에서의 흐름제어 : continue, break\n",
    "\n",
    "y=0\n",
    "while True:\n",
    "    y+=1\n",
    "    \n",
    "    if y%2==0:\n",
    "        continue #조건식으로 강제 이동\n",
    "    if y>10:\n",
    "        break\n",
    "    \n",
    "    print(\"Hello Python (%d)\" % y)"
   ]
  }
 ],
 "metadata": {
  "kernelspec": {
   "display_name": "Python 3",
   "language": "python",
   "name": "python3"
  },
  "language_info": {
   "codemirror_mode": {
    "name": "ipython",
    "version": 3
   },
   "file_extension": ".py",
   "mimetype": "text/x-python",
   "name": "python",
   "nbconvert_exporter": "python",
   "pygments_lexer": "ipython3",
   "version": "3.8.0"
  }
 },
 "nbformat": 4,
 "nbformat_minor": 5
}
