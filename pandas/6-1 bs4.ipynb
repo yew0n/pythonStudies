{
 "cells": [
  {
   "cell_type": "markdown",
   "id": "violent-argentina",
   "metadata": {},
   "source": [
    "# 6-1. BeautifulSoup을 활용한 HTML 컨텐츠 수집\n",
    "<b>BeautifulSOup</b>은 <b>bs4</b> 패키지에 포함된 클래스로서 <b>requests</b> 패키지를 통해 가져온 웹 페이지의 HTML 소스코들르 분석하여 원하는 영역만 추출하는 기능을 제공하는 패키지다.\n",
    "\n",
    "# #01. 기본 준비\n",
    "## 1) 필요한 패키지 설치"
   ]
  },
  {
   "cell_type": "code",
   "execution_count": 1,
   "id": "sporting-princess",
   "metadata": {},
   "outputs": [
    {
     "name": "stdout",
     "output_type": "stream",
     "text": [
      "Collecting bs4\n",
      "  Downloading https://files.pythonhosted.org/packages/10/ed/7e8b97591f6f456174139ec089c769f89a94a1a4025fe967691de971f314/bs4-0.0.1.tar.gz\n",
      "Collecting beautifulsoup4 (from bs4)\n",
      "  Downloading https://files.pythonhosted.org/packages/d1/41/e6495bd7d3781cee623ce23ea6ac73282a373088fcd0ddc809a047b18eae/beautifulsoup4-4.9.3-py3-none-any.whl (115kB)\n",
      "Collecting soupsieve>1.2; python_version >= \"3.0\" (from beautifulsoup4->bs4)\n",
      "  Downloading https://files.pythonhosted.org/packages/41/e7/3617a4b988ed7744743fb0dbba5aa0a6e3f95a9557b43f8c4740d296b48a/soupsieve-2.2-py3-none-any.whl\n",
      "Installing collected packages: soupsieve, beautifulsoup4, bs4\n",
      "  Running setup.py install for bs4: started\n",
      "    Running setup.py install for bs4: finished with status 'done'\n",
      "Successfully installed beautifulsoup4-4.9.3 bs4-0.0.1 soupsieve-2.2\n",
      "Note: you may need to restart the kernel to use updated packages.\n"
     ]
    },
    {
     "name": "stderr",
     "output_type": "stream",
     "text": [
      "WARNING: You are using pip version 19.2.3, however version 21.0.1 is available.\n",
      "You should consider upgrading via the 'python -m pip install --upgrade pip' command.\n"
     ]
    }
   ],
   "source": [
    "pip install --upgrade bs4"
   ]
  },
  {
   "cell_type": "markdown",
   "id": "persistent-medicare",
   "metadata": {},
   "source": [
    "## 2) 패키지 참조"
   ]
  },
  {
   "cell_type": "code",
   "execution_count": 2,
   "id": "thrown-genetics",
   "metadata": {},
   "outputs": [],
   "source": [
    "import requests\n",
    "from bs4 import BeautifulSoup"
   ]
  },
  {
   "cell_type": "markdown",
   "id": "initial-accreditation",
   "metadata": {},
   "source": [
    "## 3) 샘플 페이지 확인\n",
    "이 단원의 예제 진행을 위해 샘플 웹 페이지를 준비한다.\n",
    "> http://itpaper.co.kr/demo/py/selector.html\n",
    "\n",
    "웹 페이지의 화면 빈공간에서 마우스를 우클릭하고 <b>페이지 소스 보기</b> 클릭 시 웹 페이지 구성 전체 소스코드 확인 가능"
   ]
  },
  {
   "cell_type": "markdown",
   "id": "assisted-discrimination",
   "metadata": {},
   "source": [
    "## 4) requests 모듈로 웹 페이지 코드 가져오기"
   ]
  },
  {
   "cell_type": "code",
   "execution_count": 4,
   "id": "combined-throat",
   "metadata": {},
   "outputs": [
    {
     "data": {
      "text/plain": [
       "'<!DOCTYPE html>\\n<html lang=\"ko\">\\n\\n<head>\\n    <meta charset=\"UTF-8\">\\n    <meta name=\"viewport\" content=\"width=device-width,initial-scale=1.0,minimum-scale=1.0,maximum-scale=1.0,user-scalable=no\">\\n    <title>BeautifulSoup Sample</title>\\n    <style type=\"text/css\">\\n        * { padding: 5px; margin: 5px auto; list-style: none; }\\n        div#container { border: 3px dashed #ff00ff; }\\n        div#container > h1#title { border: 3px dashed #ff6600; }\\n        div#container div.box { border: 3px solid #ffff00; }\\n        div#container > ul { border: 3px solid #00ff00; }\\n        div#container > ul > li { border: 3px dotted #3438af; font-size: 18px; }\\n        p, pre { border: 1px solid #555; font-size: 16px; color: #f60;}\\n        i {font-size: 12px;}\\n    </style>\\n</head>\\n\\n<body>\\n    <div id=\"container\">\\n        <h1 id=\"title\">Hello World</h1>\\n        <div class=\"box\">이 웹 페이지는 CSS 선택자 실습을 위한 샘플 페이지 입니다.</div>\\n        <ul class=\"list-container\">\\n            <li class=\"list-item\">JAVA</li>\\n            <li class=\"list-item\">HTML,CSS</li>\\n            <li class=\"list-item\">Javascript,jQuery</li>\\n            <li class=\"list-item\">JSP,Spring</li>\\n            <li class=\"list-item\">Python</li>\\n        </ul>\\n        <p class=\"article hello\">안녕하세요. <i>Hello.</i></p>\\n        <p class=\"article welcome\">어서오세요. <i>Welcome</i></p>\\n        <p class=\"article say\">샘플 웹 페이지 입니다. <i>This is sample web page.</i></p>\\n        <a href=\"https://www.naver.com\" class=\"link\">네이버</a>\\n        <a href=\"https://www.daum.net\" class=\"link\">다음</a>\\n        <a href=\"https://www.google.com\" class=\"link\">구글</a>\\n        <footer><i>copyright&copy;itpaper.co.kr</i></footer>\\n    </div>\\n</body>\\n\\n</html>\\n\\n\\n'"
      ]
     },
     "execution_count": 4,
     "metadata": {},
     "output_type": "execute_result"
    }
   ],
   "source": [
    "user_agent = \"Mozilla/5.0 (Windows NT 10.0; Win64; x64) AppleWebKit/537.36 (KHTML, like Gecko) Chrome/88.0.4324.190 Safari/537.36\"\n",
    "session= requests.Session()\n",
    "session.headers.update({'User-agent':user_agent, 'referer':None})\n",
    "\n",
    "r = session.get('http://itpaper.co.kr/demo/py/selector.html')\n",
    "\n",
    "if r.status_code != 200:\n",
    "    print(\"[%d Error] %s\" % (r.status_code, r.reason))\n",
    "    quit()\n",
    "    \n",
    "r.encoding = 'utf-8'\n",
    "html = r.text\n",
    "html"
   ]
  },
  {
   "cell_type": "markdown",
   "id": "unsigned-georgia",
   "metadata": {},
   "source": [
    "## 5) BeautifulSoup 객체 생성"
   ]
  },
  {
   "cell_type": "code",
   "execution_count": 5,
   "id": "digital-hormone",
   "metadata": {},
   "outputs": [
    {
     "data": {
      "text/plain": [
       "<!DOCTYPE html>\n",
       "\n",
       "<html lang=\"ko\">\n",
       "<head>\n",
       "<meta charset=\"utf-8\"/>\n",
       "<meta content=\"width=device-width,initial-scale=1.0,minimum-scale=1.0,maximum-scale=1.0,user-scalable=no\" name=\"viewport\"/>\n",
       "<title>BeautifulSoup Sample</title>\n",
       "<style type=\"text/css\">\n",
       "        * { padding: 5px; margin: 5px auto; list-style: none; }\n",
       "        div#container { border: 3px dashed #ff00ff; }\n",
       "        div#container > h1#title { border: 3px dashed #ff6600; }\n",
       "        div#container div.box { border: 3px solid #ffff00; }\n",
       "        div#container > ul { border: 3px solid #00ff00; }\n",
       "        div#container > ul > li { border: 3px dotted #3438af; font-size: 18px; }\n",
       "        p, pre { border: 1px solid #555; font-size: 16px; color: #f60;}\n",
       "        i {font-size: 12px;}\n",
       "    </style>\n",
       "</head>\n",
       "<body>\n",
       "<div id=\"container\">\n",
       "<h1 id=\"title\">Hello World</h1>\n",
       "<div class=\"box\">이 웹 페이지는 CSS 선택자 실습을 위한 샘플 페이지 입니다.</div>\n",
       "<ul class=\"list-container\">\n",
       "<li class=\"list-item\">JAVA</li>\n",
       "<li class=\"list-item\">HTML,CSS</li>\n",
       "<li class=\"list-item\">Javascript,jQuery</li>\n",
       "<li class=\"list-item\">JSP,Spring</li>\n",
       "<li class=\"list-item\">Python</li>\n",
       "</ul>\n",
       "<p class=\"article hello\">안녕하세요. <i>Hello.</i></p>\n",
       "<p class=\"article welcome\">어서오세요. <i>Welcome</i></p>\n",
       "<p class=\"article say\">샘플 웹 페이지 입니다. <i>This is sample web page.</i></p>\n",
       "<a class=\"link\" href=\"https://www.naver.com\">네이버</a>\n",
       "<a class=\"link\" href=\"https://www.daum.net\">다음</a>\n",
       "<a class=\"link\" href=\"https://www.google.com\">구글</a>\n",
       "<footer><i>copyright©itpaper.co.kr</i></footer>\n",
       "</div>\n",
       "</body>\n",
       "</html>"
      ]
     },
     "execution_count": 5,
     "metadata": {},
     "output_type": "execute_result"
    }
   ],
   "source": [
    "soup = BeautifulSoup(html, 'html.parser')\n",
    "soup"
   ]
  },
  {
   "cell_type": "markdown",
   "id": "monetary-cooking",
   "metadata": {},
   "source": [
    "# #02. HTML 태그와 CSS 선택자의 이해\n",
    "## 1) HTML 태그의 구조\n",
    "HTML은 기본적으로 아래와 같은 구조를 갖는다.\n"
   ]
  },
  {
   "cell_type": "code",
   "execution_count": null,
   "id": "satellite-greece",
   "metadata": {},
   "outputs": [],
   "source": [
    "<태그이름 속성1='값' 속성2='값' 속성n='값'>...내용</태그이름>"
   ]
  },
  {
   "cell_type": "markdown",
   "id": "tough-savannah",
   "metadata": {},
   "source": [
    "- 시작태그와 끝태그로 구성되며 시작태그 = `<태그이름>`, 끝태크 = `</태그이름>` 형식\n",
    "- HTML 태그에는 하나 이상의 속성 명시 가능, 속성이 없는 경우도 有"
   ]
  },
  {
   "cell_type": "markdown",
   "id": "current-tractor",
   "metadata": {},
   "source": [
    "## 2) CSS 선택자\n",
    "HTML = 웹 페이지 골격 구성 언어 / CSS = 디자인을 추가하는 역할\n",
    "CSS Selector(선택자) = CSS가 HTML 특정 부분에 접근하기 위한 표현법\n",
    "- 태그이름\n",
    "- id 속성\n",
    "- class 속성"
   ]
  },
  {
   "cell_type": "markdown",
   "id": "helpful-system",
   "metadata": {},
   "source": [
    "# #03. HTML 요소 추출하기\n",
    "크롬 브라우저에서 F12 키를 누르면 화면 하단에 개발자 도구 표시 <br>\n",
    "개발자 도구의 왼쪽 상단 버튼을 누르고 분석을 원하는 영역을 클릭 시 해당 위치의 소스코드 표시\n",
    "\n",
    "## 1) id에 의한 접근\n",
    "### a) 요소 추출하기\n",
    "<b>BeautifulSoup 객체의 `select()` 함수에 css 선택자를 전달하여 원하는 부분 추출 가능</b><br>\n",
    "이 때 반환되는 결과 = <b>항상 리스트 타입</b>"
   ]
  },
  {
   "cell_type": "code",
   "execution_count": 7,
   "id": "promotional-profession",
   "metadata": {},
   "outputs": [
    {
     "data": {
      "text/plain": [
       "[<h1 id=\"title\">Hello World</h1>]"
      ]
     },
     "execution_count": 7,
     "metadata": {},
     "output_type": "execute_result"
    }
   ],
   "source": [
    "title = soup.select('#title')\n",
    "title"
   ]
  },
  {
   "cell_type": "markdown",
   "id": "nonprofit-cross",
   "metadata": {},
   "source": [
    "### b) 추출결과에서 HTML 태그 얻기\n",
    "<b>id 속성</b>은 그 페이지 안에서 고유한 요소임을 의미 -> 리턴받은 결과가 리스트 타입이어도 원소는 단 하나만 포함되어 있으므로 반복문 필요 X<br>\n",
    "추출된 원소 타입 = <b>Tag</b> 클래스의 객체 "
   ]
  },
  {
   "cell_type": "code",
   "execution_count": 9,
   "id": "double-fruit",
   "metadata": {},
   "outputs": [
    {
     "name": "stdout",
     "output_type": "stream",
     "text": [
      "<class 'bs4.element.Tag'>\n"
     ]
    }
   ],
   "source": [
    "tag = title[0]\n",
    "print(type(tag))"
   ]
  },
  {
   "cell_type": "markdown",
   "id": "nutritional-ranch",
   "metadata": {},
   "source": [
    "### c) 태그 안의 내용만 꺼내기\n",
    "<b>Tag</b> 클래스 객체를 사용하여 text 변수에 접근 시 내용만 추출 가능<br>\n",
    "이 값에 대해 앞 뒤 공백을 제거하고 사용하면 원하는 값만 얻을 수 있다."
   ]
  },
  {
   "cell_type": "code",
   "execution_count": 10,
   "id": "eligible-bridges",
   "metadata": {},
   "outputs": [
    {
     "data": {
      "text/plain": [
       "'Hello World'"
      ]
     },
     "execution_count": 10,
     "metadata": {},
     "output_type": "execute_result"
    }
   ],
   "source": [
    "content = tag.text.strip()\n",
    "content"
   ]
  },
  {
   "cell_type": "markdown",
   "id": "familiar-contemporary",
   "metadata": {},
   "source": [
    "## 2) class 속성에 의한 접근\n",
    "### a) 단일 원소에 대한 class 속성\n",
    "class 속성은 값 앞에 점(.)을 붙여 명시한다.<br>\n",
    ".box라는 클래스를 갖는 요소를 `select()` 함수로 추출해보면 1개의 원소를 갖는 리스트로 반환된다."
   ]
  },
  {
   "cell_type": "code",
   "execution_count": 11,
   "id": "cordless-edward",
   "metadata": {},
   "outputs": [
    {
     "data": {
      "text/plain": [
       "[<div class=\"box\">이 웹 페이지는 CSS 선택자 실습을 위한 샘플 페이지 입니다.</div>]"
      ]
     },
     "execution_count": 11,
     "metadata": {},
     "output_type": "execute_result"
    }
   ],
   "source": [
    "box = soup.select('.box')\n",
    "box"
   ]
  },
  {
   "cell_type": "markdown",
   "id": "married-watch",
   "metadata": {},
   "source": [
    "원소가 하나밖에 없는 경우 반복문 없이 바로 0번째 원소에 접근 가능"
   ]
  },
  {
   "cell_type": "code",
   "execution_count": 12,
   "id": "connected-return",
   "metadata": {},
   "outputs": [
    {
     "data": {
      "text/plain": [
       "'이 웹 페이지는 CSS 선택자 실습을 위한 샘플 페이지 입니다.'"
      ]
     },
     "execution_count": 12,
     "metadata": {},
     "output_type": "execute_result"
    }
   ],
   "source": [
    "content = box[0].text.strip()\n",
    "content"
   ]
  },
  {
   "cell_type": "markdown",
   "id": "smart-ready",
   "metadata": {},
   "source": [
    "### b) 복수 원소에 대한 class 속성\n",
    "class 속성은 하나의 페이지 안에서 여러 개의 태그에 복수로 사용될 수 있다.<br>\n",
    "아래와 같이 .list-item 이라는 class를 갖는 원소가 여러개 존재하는 경우 `select()` 함수 결과가 복수개의 원소를 갖는 리스트로 반환된다."
   ]
  },
  {
   "cell_type": "code",
   "execution_count": 13,
   "id": "shared-interference",
   "metadata": {},
   "outputs": [
    {
     "data": {
      "text/plain": [
       "[<li class=\"list-item\">JAVA</li>,\n",
       " <li class=\"list-item\">HTML,CSS</li>,\n",
       " <li class=\"list-item\">Javascript,jQuery</li>,\n",
       " <li class=\"list-item\">JSP,Spring</li>,\n",
       " <li class=\"list-item\">Python</li>]"
      ]
     },
     "execution_count": 13,
     "metadata": {},
     "output_type": "execute_result"
    }
   ],
   "source": [
    "item = soup.select('.list-item')\n",
    "item"
   ]
  },
  {
   "cell_type": "markdown",
   "id": "theoretical-minneapolis",
   "metadata": {},
   "source": [
    "이 경우 반복문을 사용해 원소를 추출하는 처리를 구현해야 한다."
   ]
  },
  {
   "cell_type": "code",
   "execution_count": 14,
   "id": "framed-registration",
   "metadata": {},
   "outputs": [
    {
     "data": {
      "text/plain": [
       "['JAVA', 'HTML,CSS', 'Javascript,jQuery', 'JSP,Spring', 'Python']"
      ]
     },
     "execution_count": 14,
     "metadata": {},
     "output_type": "execute_result"
    }
   ],
   "source": [
    "item_text = []\n",
    "\n",
    "for i in item:\n",
    "    k=i.text.strip()\n",
    "    item_text.append(k)\n",
    "    \n",
    "item_text"
   ]
  },
  {
   "cell_type": "markdown",
   "id": "completed-journalism",
   "metadata": {},
   "source": [
    "### c) 복수의 값을 갖는 class 속성\n",
    "class 속성은 공백으로 구분하여 두 개 이상의 값을 지정할 수 있다.<br>\n",
    "이 경우 적용된 값 중에서 하나만 활용해서 원소를 추출할 수 있다."
   ]
  },
  {
   "cell_type": "code",
   "execution_count": 15,
   "id": "adjusted-agreement",
   "metadata": {},
   "outputs": [
    {
     "data": {
      "text/plain": [
       "[<p class=\"article hello\">안녕하세요. <i>Hello.</i></p>,\n",
       " <p class=\"article welcome\">어서오세요. <i>Welcome</i></p>,\n",
       " <p class=\"article say\">샘플 웹 페이지 입니다. <i>This is sample web page.</i></p>]"
      ]
     },
     "execution_count": 15,
     "metadata": {},
     "output_type": "execute_result"
    }
   ],
   "source": [
    "article = soup.select('.article')\n",
    "article"
   ]
  },
  {
   "cell_type": "code",
   "execution_count": 16,
   "id": "split-circus",
   "metadata": {},
   "outputs": [
    {
     "name": "stdout",
     "output_type": "stream",
     "text": [
      "안녕하세요. Hello.\n",
      "어서오세요. Welcome\n",
      "샘플 웹 페이지 입니다. This is sample web page.\n"
     ]
    }
   ],
   "source": [
    "for i in article:\n",
    "    k=i.text.strip()\n",
    "    print(k)"
   ]
  },
  {
   "cell_type": "markdown",
   "id": "attractive-alloy",
   "metadata": {},
   "source": [
    "## 3) 태그 이름으로 접근하기\n",
    "id나 class 속성이 없는 경우 HTML 태그 이름으로 직접 접근할 수 있다.<br>\n",
    "이 경우 동일한 태그를 사용하는 모든 원소가 리스트로 반환되므로 가급적 지양해야 한다."
   ]
  },
  {
   "cell_type": "code",
   "execution_count": 17,
   "id": "answering-filename",
   "metadata": {},
   "outputs": [
    {
     "data": {
      "text/plain": [
       "[<i>Hello.</i>,\n",
       " <i>Welcome</i>,\n",
       " <i>This is sample web page.</i>,\n",
       " <i>copyright©itpaper.co.kr</i>]"
      ]
     },
     "execution_count": 17,
     "metadata": {},
     "output_type": "execute_result"
    }
   ],
   "source": [
    "# 모든 <i> 태그 가져오기\n",
    "italic = soup.select('i')\n",
    "italic"
   ]
  },
  {
   "cell_type": "code",
   "execution_count": 18,
   "id": "exempt-mercury",
   "metadata": {},
   "outputs": [
    {
     "name": "stdout",
     "output_type": "stream",
     "text": [
      "Hello.\n",
      "Welcome\n",
      "This is sample web page.\n",
      "copyright©itpaper.co.kr\n"
     ]
    }
   ],
   "source": [
    "for i in italic:\n",
    "    k=i.text.strip()\n",
    "    print(k)"
   ]
  },
  {
   "cell_type": "markdown",
   "id": "threaded-browser",
   "metadata": {},
   "source": [
    "## 4) 자식 선택자\n",
    "id, class, 태그 이름으로 추출하려는 위치를 특정지을 수 없을 경우 주변의 HTML 구조를 함께 명시한다.<br>\n",
    "여러개의 선택자를 `>` 로 구분하여 지정하면 HTML 태그의 포함관계를 표현할 수 있다.\n",
    "### a) 예시 1"
   ]
  },
  {
   "cell_type": "code",
   "execution_count": 19,
   "id": "affiliated-vessel",
   "metadata": {},
   "outputs": [
    {
     "data": {
      "text/plain": [
       "[<i>Hello.</i>, <i>Welcome</i>, <i>This is sample web page.</i>]"
      ]
     },
     "execution_count": 19,
     "metadata": {},
     "output_type": "execute_result"
    }
   ],
   "source": [
    "article_i = soup.select('#container > .article > i')\n",
    "article_i"
   ]
  },
  {
   "cell_type": "markdown",
   "id": "proper-pound",
   "metadata": {},
   "source": [
    "### b) 예시 2"
   ]
  },
  {
   "cell_type": "code",
   "execution_count": 20,
   "id": "initial-logic",
   "metadata": {},
   "outputs": [
    {
     "data": {
      "text/plain": [
       "[<h1 id=\"title\">Hello World</h1>]"
      ]
     },
     "execution_count": 20,
     "metadata": {},
     "output_type": "execute_result"
    }
   ],
   "source": [
    "title = soup.select('#container > #title')\n",
    "title"
   ]
  },
  {
   "cell_type": "markdown",
   "id": "mexican-stability",
   "metadata": {},
   "source": [
    "### c) 예시 3"
   ]
  },
  {
   "cell_type": "code",
   "execution_count": 21,
   "id": "alleged-citizen",
   "metadata": {},
   "outputs": [
    {
     "data": {
      "text/plain": [
       "[<div class=\"box\">이 웹 페이지는 CSS 선택자 실습을 위한 샘플 페이지 입니다.</div>]"
      ]
     },
     "execution_count": 21,
     "metadata": {},
     "output_type": "execute_result"
    }
   ],
   "source": [
    "box = soup.select('#container > .box')\n",
    "box"
   ]
  },
  {
   "cell_type": "markdown",
   "id": "capable-senegal",
   "metadata": {},
   "source": [
    "## 4) 자손 선택자\n",
    "HTML 태그의 직계 자식 요소를 가리킬 때는 `>` 를 사용하지만 몇 단계를 건너 뛴 하위 요소를 지정할 경우 공백으로 구분"
   ]
  },
  {
   "cell_type": "code",
   "execution_count": 22,
   "id": "little-campus",
   "metadata": {},
   "outputs": [
    {
     "data": {
      "text/plain": [
       "[<li class=\"list-item\">JAVA</li>,\n",
       " <li class=\"list-item\">HTML,CSS</li>,\n",
       " <li class=\"list-item\">Javascript,jQuery</li>,\n",
       " <li class=\"list-item\">JSP,Spring</li>,\n",
       " <li class=\"list-item\">Python</li>]"
      ]
     },
     "execution_count": 22,
     "metadata": {},
     "output_type": "execute_result"
    }
   ],
   "source": [
    "list_item = soup.select('#container  .list-item')\n",
    "list_item"
   ]
  },
  {
   "cell_type": "markdown",
   "id": "coastal-threat",
   "metadata": {},
   "source": [
    "## 5) 두 개 이상의 선택자를 복수로 지정하기\n",
    "콤마로 구분하여 두 개 이상의 선택자를 사용할 수 있다."
   ]
  },
  {
   "cell_type": "code",
   "execution_count": 23,
   "id": "forced-australia",
   "metadata": {},
   "outputs": [
    {
     "data": {
      "text/plain": [
       "[<h1 id=\"title\">Hello World</h1>,\n",
       " <div class=\"box\">이 웹 페이지는 CSS 선택자 실습을 위한 샘플 페이지 입니다.</div>]"
      ]
     },
     "execution_count": 23,
     "metadata": {},
     "output_type": "execute_result"
    }
   ],
   "source": [
    "title_box = soup.select('#container > #title, #container > .box')\n",
    "title_box"
   ]
  },
  {
   "cell_type": "markdown",
   "id": "lesbian-wichita",
   "metadata": {},
   "source": [
    "## 6) 두 개 이상의 class가 복수로 지정된 요소\n",
    "하나의 HTML 요소에 id, class 등이 복수로 지정되어 있는 경우\n",
    "> 클래스 속성은 공백으로 구분하여 두 개 이상을 지정할 수 있다.\n",
    "\n",
    "공백 없이 나열하여 다양한 조합을 만들어 낼 수 있다."
   ]
  },
  {
   "cell_type": "markdown",
   "id": "laughing-shade",
   "metadata": {},
   "source": [
    "### class속성이 .article이면서 .say인 어떤 요소"
   ]
  },
  {
   "cell_type": "code",
   "execution_count": 26,
   "id": "compound-burlington",
   "metadata": {},
   "outputs": [
    {
     "data": {
      "text/plain": [
       "[<p class=\"article say\">샘플 웹 페이지 입니다. <i>This is sample web page.</i></p>]"
      ]
     },
     "execution_count": 26,
     "metadata": {},
     "output_type": "execute_result"
    }
   ],
   "source": [
    "article_item = soup.select('.article.say')\n",
    "article_item"
   ]
  },
  {
   "cell_type": "markdown",
   "id": "metallic-bubble",
   "metadata": {},
   "source": [
    "### class 속성이 .say인 `<p>` 태그"
   ]
  },
  {
   "cell_type": "code",
   "execution_count": 27,
   "id": "introductory-salad",
   "metadata": {},
   "outputs": [
    {
     "data": {
      "text/plain": [
       "[<p class=\"article say\">샘플 웹 페이지 입니다. <i>This is sample web page.</i></p>]"
      ]
     },
     "execution_count": 27,
     "metadata": {},
     "output_type": "execute_result"
    }
   ],
   "source": [
    "article_item = soup.select('p.say')\n",
    "article_item"
   ]
  },
  {
   "cell_type": "markdown",
   "id": "moved-hebrew",
   "metadata": {},
   "source": [
    "## 7) 하나의 요소를 지정하는 다양한 표현 방법\n",
    "CSS 선택자는 특정 요소를 지정하는 데 있어 조합할 수 있는 경우의 수 만큼 다양한 표현법이 존재한다.\n",
    "### 태그 이름으로 접근\n",
    "실제 웹 페이지에서 `<a>` 태그 단독 추출할 경우 화면 상 클릭 가능한 모든 요소를 가져오므로 원하는 부분의 추출이 어렵다."
   ]
  },
  {
   "cell_type": "code",
   "execution_count": 28,
   "id": "molecular-inclusion",
   "metadata": {},
   "outputs": [
    {
     "data": {
      "text/plain": [
       "[<a class=\"link\" href=\"https://www.naver.com\">네이버</a>,\n",
       " <a class=\"link\" href=\"https://www.daum.net\">다음</a>,\n",
       " <a class=\"link\" href=\"https://www.google.com\">구글</a>]"
      ]
     },
     "execution_count": 28,
     "metadata": {},
     "output_type": "execute_result"
    }
   ],
   "source": [
    "link = soup.select('a')\n",
    "link"
   ]
  },
  {
   "cell_type": "markdown",
   "id": "classical-andrews",
   "metadata": {},
   "source": [
    "### 클래스로 접근\n",
    "클래스 속성은 디자인 특정을 적용하기 위해 사용된다.<br>\n",
    "그러므로 단일 클래스 속성을 사용할 경우 비슷한 디자인 특성을 갖는 모든 요소가 추출될 가능성이 있다."
   ]
  },
  {
   "cell_type": "code",
   "execution_count": 30,
   "id": "statistical-recycling",
   "metadata": {},
   "outputs": [
    {
     "data": {
      "text/plain": [
       "[<a class=\"link\" href=\"https://www.naver.com\">네이버</a>,\n",
       " <a class=\"link\" href=\"https://www.daum.net\">다음</a>,\n",
       " <a class=\"link\" href=\"https://www.google.com\">구글</a>]"
      ]
     },
     "execution_count": 30,
     "metadata": {},
     "output_type": "execute_result"
    }
   ],
   "source": [
    "link = soup.select('.link')\n",
    "link"
   ]
  },
  {
   "cell_type": "markdown",
   "id": "emotional-relevance",
   "metadata": {},
   "source": [
    "### 태그 이름과 클래스 속성을 함께 적용"
   ]
  },
  {
   "cell_type": "code",
   "execution_count": 32,
   "id": "separated-washington",
   "metadata": {},
   "outputs": [
    {
     "data": {
      "text/plain": [
       "[<a class=\"link\" href=\"https://www.naver.com\">네이버</a>,\n",
       " <a class=\"link\" href=\"https://www.daum.net\">다음</a>,\n",
       " <a class=\"link\" href=\"https://www.google.com\">구글</a>]"
      ]
     },
     "execution_count": 32,
     "metadata": {},
     "output_type": "execute_result"
    }
   ],
   "source": [
    "link = soup.select('a.link')\n",
    "link"
   ]
  },
  {
   "cell_type": "markdown",
   "id": "sweet-birmingham",
   "metadata": {},
   "source": [
    "### 특정 속성을 갖는 요소 지정하기\n",
    "속성에 대한 지정은 아래와 같이 처리한다.\n",
    "\n",
    "- 태그이름[속성명]\n",
    "- .클래스이름[속성명]\n",
    "- #아이디이름[속성명]\n",
    "- 태그이름.클래스이름[속성명]\n",
    "- 태그이름#아이디이름[속성명]"
   ]
  },
  {
   "cell_type": "code",
   "execution_count": 33,
   "id": "adaptive-hostel",
   "metadata": {},
   "outputs": [
    {
     "data": {
      "text/plain": [
       "[<a class=\"link\" href=\"https://www.naver.com\">네이버</a>,\n",
       " <a class=\"link\" href=\"https://www.daum.net\">다음</a>,\n",
       " <a class=\"link\" href=\"https://www.google.com\">구글</a>]"
      ]
     },
     "execution_count": 33,
     "metadata": {},
     "output_type": "execute_result"
    }
   ],
   "source": [
    "link = soup.select('a[href]')\n",
    "link"
   ]
  },
  {
   "cell_type": "markdown",
   "id": "conventional-button",
   "metadata": {},
   "source": [
    "### html 속성에 특정 값이 적용되어 있는 경우"
   ]
  },
  {
   "cell_type": "code",
   "execution_count": 34,
   "id": "departmental-headquarters",
   "metadata": {},
   "outputs": [
    {
     "data": {
      "text/plain": [
       "[<a class=\"link\" href=\"https://www.google.com\">구글</a>]"
      ]
     },
     "execution_count": 34,
     "metadata": {},
     "output_type": "execute_result"
    }
   ],
   "source": [
    "link = soup.select('a[href=\"https://www.google.com\"]')\n",
    "link"
   ]
  },
  {
   "cell_type": "markdown",
   "id": "organic-tucson",
   "metadata": {},
   "source": [
    "# #04.추출한 요소에서 속성 값을 얻어오기\n",
    "웹 사이트에서 추출한 요소에 포함된 텍스트 뿐 아니라, 이미지 수집이나 다른 하위 컨텐츠의 URL등 특정 속성에 대한 값이 필요한 경우가 있다.<br>\n",
    "BeautifulSoup으로 추출한 HTML 요소들은 속성을 attrs라는 이름의 딕셔너리 구조로 갖기 때문에 이를 활용하여 특정 속성에 대한 값 추출 가능"
   ]
  },
  {
   "cell_type": "code",
   "execution_count": 35,
   "id": "brown-uniform",
   "metadata": {},
   "outputs": [
    {
     "name": "stdout",
     "output_type": "stream",
     "text": [
      "{'href': 'https://www.naver.com', 'class': ['link']}\n",
      "{'href': 'https://www.daum.net', 'class': ['link']}\n",
      "{'href': 'https://www.google.com', 'class': ['link']}\n"
     ]
    },
    {
     "data": {
      "text/plain": [
       "['https://www.naver.com', 'https://www.daum.net', 'https://www.google.com']"
      ]
     },
     "execution_count": 35,
     "metadata": {},
     "output_type": "execute_result"
    }
   ],
   "source": [
    "# 추출한 속성값을 모아놓기 위한 빈 리스트\n",
    "url = []\n",
    "\n",
    "# 웹 페이지에서 .link 클래스를 갖는 <a> 추출\n",
    "link = soup.select('a.link')\n",
    "\n",
    "# 추출된 원소 수만큼 반복\n",
    "for item in link:\n",
    "    # 추출된 원소의 속성들 출력 -> 딕셔너리 구조\n",
    "    print(item.attrs)\n",
    "    \n",
    "    # 속성 중 href 속성이 있다면?\n",
    "    if 'href' in item.attrs:\n",
    "        # 그 값만 미리 준비한 빈 리스트에 모아놓는다.\n",
    "        url.append(item.attrs['href'])\n",
    "        \n",
    "# 결과 확인\n",
    "url"
   ]
  },
  {
   "cell_type": "markdown",
   "id": "fitted-drunk",
   "metadata": {},
   "source": [
    "# #05. 이미 추출한 객체의 하위 원소 추출하기\n",
    "`객체 = soup.select()` 형태로 추출한 웹 페이지 원소는 리스트 형태로 반환된다.\n",
    "\n",
    "그러므로 `객체`의 원소 수만큼 반복 처리가 필요하며, 각각의 개별 원소는 다시 `select()` 함수를 사용하여 하위 요소를 추출할 수 있다.\n",
    "\n",
    "## 1) 클래스가 `.list-container`인 요소 얻기"
   ]
  },
  {
   "cell_type": "code",
   "execution_count": 36,
   "id": "organizational-jersey",
   "metadata": {},
   "outputs": [
    {
     "data": {
      "text/plain": [
       "[<ul class=\"list-container\">\n",
       " <li class=\"list-item\">JAVA</li>\n",
       " <li class=\"list-item\">HTML,CSS</li>\n",
       " <li class=\"list-item\">Javascript,jQuery</li>\n",
       " <li class=\"list-item\">JSP,Spring</li>\n",
       " <li class=\"list-item\">Python</li>\n",
       " </ul>]"
      ]
     },
     "execution_count": 36,
     "metadata": {},
     "output_type": "execute_result"
    }
   ],
   "source": [
    "list_container = soup.select('.list-container')\n",
    "list_container"
   ]
  },
  {
   "cell_type": "markdown",
   "id": "korean-jewel",
   "metadata": {},
   "source": [
    "## 2) 원소 수만큼 반복하며 클래스가 `.list-item`인 하위 요소 추출\n",
    "추출된 하위 원소는 다시 리스트 형태로 반환된다."
   ]
  },
  {
   "cell_type": "code",
   "execution_count": 37,
   "id": "attended-comparison",
   "metadata": {},
   "outputs": [
    {
     "name": "stdout",
     "output_type": "stream",
     "text": [
      "[<li class=\"list-item\">JAVA</li>, <li class=\"list-item\">HTML,CSS</li>, <li class=\"list-item\">Javascript,jQuery</li>, <li class=\"list-item\">JSP,Spring</li>, <li class=\"list-item\">Python</li>]\n",
      "----------------------------------------\n",
      "JAVA\n",
      "HTML,CSS\n",
      "Javascript,jQuery\n",
      "JSP,Spring\n",
      "Python\n"
     ]
    }
   ],
   "source": [
    "for item in list_container:\n",
    "    li = item.select('.list-item')\n",
    "    print(li)\n",
    "    print('----' * 10)\n",
    "    \n",
    "    for li_item in li:\n",
    "        print(li_item.text.strip())"
   ]
  }
 ],
 "metadata": {
  "kernelspec": {
   "display_name": "Python 3",
   "language": "python",
   "name": "python3"
  },
  "language_info": {
   "codemirror_mode": {
    "name": "ipython",
    "version": 3
   },
   "file_extension": ".py",
   "mimetype": "text/x-python",
   "name": "python",
   "nbconvert_exporter": "python",
   "pygments_lexer": "ipython3",
   "version": "3.8.0"
  }
 },
 "nbformat": 4,
 "nbformat_minor": 5
}
