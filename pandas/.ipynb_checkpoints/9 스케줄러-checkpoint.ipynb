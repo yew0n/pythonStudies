{
 "cells": [
  {
   "cell_type": "markdown",
   "id": "ecological-acrobat",
   "metadata": {},
   "source": [
    "# 9. 스케줄러\n",
    "스케줄러 = 정해진 시간에 따라 특정 함수를 자동 실행하게 하는 기능\n",
    "\n",
    "# #01. 패키지 참조\n",
    "사용할 패키지를 하래 명령으로 설치 후 진행"
   ]
  },
  {
   "cell_type": "code",
   "execution_count": 1,
   "id": "innocent-charter",
   "metadata": {},
   "outputs": [
    {
     "name": "stdout",
     "output_type": "stream",
     "text": [
      "Collecting scheduleNote: you may need to restart the kernel to use updated packages.\n"
     ]
    },
    {
     "name": "stderr",
     "output_type": "stream",
     "text": [
      "WARNING: You are using pip version 19.2.3, however version 21.0.1 is available.\n",
      "You should consider upgrading via the 'python -m pip install --upgrade pip' command.\n"
     ]
    },
    {
     "name": "stdout",
     "output_type": "stream",
     "text": [
      "\n",
      "  Downloading https://files.pythonhosted.org/packages/43/8c/74529fcfbfaa93b8e88ba5d7f883805f87ee167ad878d0638cc012e5acc0/schedule-1.0.0-py2.py3-none-any.whl\n",
      "Installing collected packages: schedule\n",
      "Successfully installed schedule-1.0.0\n"
     ]
    }
   ],
   "source": [
    "pip install schedule"
   ]
  },
  {
   "cell_type": "code",
   "execution_count": 2,
   "id": "running-means",
   "metadata": {},
   "outputs": [],
   "source": [
    "import schedule\n",
    "import time\n",
    "import datetime as dt"
   ]
  },
  {
   "cell_type": "markdown",
   "id": "standard-basis",
   "metadata": {},
   "source": [
    "# #02. 스케줄에 따라 자동으로 실행될 함수들 정의"
   ]
  },
  {
   "cell_type": "code",
   "execution_count": 3,
   "id": "ideal-export",
   "metadata": {},
   "outputs": [],
   "source": [
    "def job_second():\n",
    "    print(\"I'm working... every second ::: \", dt.datetime.now())\n",
    "    \n",
    "def job_minute():\n",
    "    print(\"I'm working... every minute ::: \", dt.datetime.now())\n",
    "    \n",
    "def job_hour():\n",
    "    print(\"I'm working... every hour ::: \", dt.datetime.now())\n",
    "    \n",
    "def job_day():\n",
    "    print(\"I'm working... every day ::: \", dt.datetime.now())\n",
    "    \n",
    "def job_monday():\n",
    "    print(\"I'm working... every monday ::: \", dt.datetime.now())\n",
    "    \n",
    "def job_wednesday():\n",
    "    print(\"I'm working... every wednesday ::: \", dt.datetime.now())"
   ]
  },
  {
   "cell_type": "markdown",
   "id": "fleet-massage",
   "metadata": {},
   "source": [
    "# #03. 함수에 스케줄 적용하기"
   ]
  },
  {
   "cell_type": "code",
   "execution_count": 5,
   "id": "expected-summit",
   "metadata": {},
   "outputs": [
    {
     "data": {
      "text/plain": [
       "Every 3 seconds do job_second() (last run: [never], next run: 2021-03-04 11:29:39)"
      ]
     },
     "execution_count": 5,
     "metadata": {},
     "output_type": "execute_result"
    }
   ],
   "source": [
    "# 3초에 한번씩 실행\n",
    "schedule.every(3).seconds.do(job_second)"
   ]
  },
  {
   "cell_type": "code",
   "execution_count": 6,
   "id": "floppy-american",
   "metadata": {},
   "outputs": [
    {
     "data": {
      "text/plain": [
       "Every 1 minute do job_minute() (last run: [never], next run: 2021-03-04 11:30:36)"
      ]
     },
     "execution_count": 6,
     "metadata": {},
     "output_type": "execute_result"
    }
   ],
   "source": [
    "# 3분에 한번씩 실행\n",
    "schedule.every(1).minutes.do(job_minute)"
   ]
  },
  {
   "cell_type": "code",
   "execution_count": 7,
   "id": "understood-beach",
   "metadata": {},
   "outputs": [
    {
     "data": {
      "text/plain": [
       "Every 1 hour do job_hour() (last run: [never], next run: 2021-03-04 12:29:36)"
      ]
     },
     "execution_count": 7,
     "metadata": {},
     "output_type": "execute_result"
    }
   ],
   "source": [
    "# 매 시간 실행\n",
    "schedule.every().hours.do(job_hour)"
   ]
  },
  {
   "cell_type": "code",
   "execution_count": 8,
   "id": "pleasant-colleague",
   "metadata": {},
   "outputs": [
    {
     "data": {
      "text/plain": [
       "Every 1 day at 17:50:00 do job_day() (last run: [never], next run: 2021-03-04 17:50:00)"
      ]
     },
     "execution_count": 8,
     "metadata": {},
     "output_type": "execute_result"
    }
   ],
   "source": [
    "# 매일 17:50 에 실행\n",
    "schedule.every().days.at(\"17:50\").do(job_day)"
   ]
  },
  {
   "cell_type": "code",
   "execution_count": 11,
   "id": "subtle-reading",
   "metadata": {},
   "outputs": [
    {
     "data": {
      "text/plain": [
       "Every 1 week do job_monday() (last run: [never], next run: 2021-03-08 11:29:56)"
      ]
     },
     "execution_count": 11,
     "metadata": {},
     "output_type": "execute_result"
    }
   ],
   "source": [
    "# 매주 월요일 실행\n",
    "schedule.every().monday.do(job_monday)"
   ]
  },
  {
   "cell_type": "code",
   "execution_count": 14,
   "id": "tamil-concert",
   "metadata": {},
   "outputs": [
    {
     "data": {
      "text/plain": [
       "Every 1 week at 13:15:00 do job_wednesday() (last run: [never], next run: 2021-03-10 13:15:00)"
      ]
     },
     "execution_count": 14,
     "metadata": {},
     "output_type": "execute_result"
    }
   ],
   "source": [
    "# 매주 수요일 13:15에 실행\n",
    "schedule.every().wednesday.at(\"13:15\").do(job_wednesday)"
   ]
  },
  {
   "cell_type": "markdown",
   "id": "robust-planet",
   "metadata": {},
   "source": [
    "# #04. 스케줄 수행하기"
   ]
  },
  {
   "cell_type": "code",
   "execution_count": 15,
   "id": "varied-combat",
   "metadata": {},
   "outputs": [
    {
     "name": "stdout",
     "output_type": "stream",
     "text": [
      "1번째 반복수행 ..... \n",
      "I'm working... every second :::  2021-03-04 11:31:36.453378\n",
      "I'm working... every minute :::  2021-03-04 11:31:36.453378\n",
      "2번째 반복수행 ..... \n",
      "3번째 반복수행 ..... \n",
      "4번째 반복수행 ..... \n",
      "I'm working... every second :::  2021-03-04 11:31:39.477457\n",
      "5번째 반복수행 ..... \n",
      "6번째 반복수행 ..... \n",
      "7번째 반복수행 ..... \n",
      "I'm working... every second :::  2021-03-04 11:31:42.500386\n",
      "8번째 반복수행 ..... \n",
      "9번째 반복수행 ..... \n",
      "10번째 반복수행 ..... \n",
      "I'm working... every second :::  2021-03-04 11:31:45.531827\n",
      "11번째 반복수행 ..... \n",
      "12번째 반복수행 ..... \n",
      "13번째 반복수행 ..... \n",
      "I'm working... every second :::  2021-03-04 11:31:48.571621\n",
      "14번째 반복수행 ..... \n",
      "15번째 반복수행 ..... \n",
      "16번째 반복수행 ..... \n",
      "I'm working... every second :::  2021-03-04 11:31:51.598105\n",
      "17번째 반복수행 ..... \n",
      "18번째 반복수행 ..... \n",
      "19번째 반복수행 ..... \n",
      "I'm working... every second :::  2021-03-04 11:31:54.639547\n",
      "20번째 반복수행 ..... \n",
      "21번째 반복수행 ..... \n",
      "22번째 반복수행 ..... \n",
      "I'm working... every second :::  2021-03-04 11:31:57.671594\n",
      "23번째 반복수행 ..... \n",
      "24번째 반복수행 ..... \n",
      "25번째 반복수행 ..... \n",
      "I'm working... every second :::  2021-03-04 11:32:00.688204\n",
      "26번째 반복수행 ..... \n",
      "27번째 반복수행 ..... \n",
      "28번째 반복수행 ..... \n",
      "I'm working... every second :::  2021-03-04 11:32:03.695818\n",
      "29번째 반복수행 ..... \n",
      "30번째 반복수행 ..... \n",
      "fin :)\n"
     ]
    }
   ],
   "source": [
    "count = 0\n",
    "\n",
    "while True:\n",
    "    count+=1\n",
    "    print(\"%d번째 반복수행 ..... \" % count)\n",
    "    \n",
    "    # 현재 시간에 동작해야 할 함수들을 찾아 구동\n",
    "    schedule.run_pending()\n",
    "    \n",
    "    if count>=30:\n",
    "        break\n",
    "        \n",
    "    # 1초대기\n",
    "    time.sleep(1)\n",
    "    \n",
    "print(\"fin :)\")"
   ]
  }
 ],
 "metadata": {
  "kernelspec": {
   "display_name": "Python 3",
   "language": "python",
   "name": "python3"
  },
  "language_info": {
   "codemirror_mode": {
    "name": "ipython",
    "version": 3
   },
   "file_extension": ".py",
   "mimetype": "text/x-python",
   "name": "python",
   "nbconvert_exporter": "python",
   "pygments_lexer": "ipython3",
   "version": "3.8.0"
  }
 },
 "nbformat": 4,
 "nbformat_minor": 5
}
