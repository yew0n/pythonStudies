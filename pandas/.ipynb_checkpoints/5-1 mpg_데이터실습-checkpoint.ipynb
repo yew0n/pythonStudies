{
 "cells": [
  {
   "cell_type": "markdown",
   "id": "sitting-designation",
   "metadata": {},
   "source": [
    "# 5-1. mpg 데이터 실습\n",
    "R 패키지에 포함되어있는 예제 데이터로 1998년, 2004년, 2008년도에 <br>\n",
    "미국에서 생산되는 자동차 제조회사별로 자동차의 연비, 구동방식 등을 조사한 데이터\n",
    "\n",
    "# #01. 패키지 및 샘플 데이터 준비\n",
    "## 1) 패키지 가져오기"
   ]
  },
  {
   "cell_type": "code",
   "execution_count": 1,
   "id": "difficult-question",
   "metadata": {},
   "outputs": [],
   "source": [
    "from pandas import DataFrame\n",
    "from pandas import ExcelFile\n",
    "from pandas import merge       # 열단위 병합기능을 제공하는 함수\n",
    "from matplotlib import pyplot\n",
    "import numpy"
   ]
  },
  {
   "cell_type": "markdown",
   "id": "rolled-dealing",
   "metadata": {},
   "source": [
    "## 2) 예제 데이터 가져오기"
   ]
  },
  {
   "cell_type": "code",
   "execution_count": 2,
   "id": "hairy-attendance",
   "metadata": {},
   "outputs": [
    {
     "data": {
      "text/html": [
       "<div>\n",
       "<style scoped>\n",
       "    .dataframe tbody tr th:only-of-type {\n",
       "        vertical-align: middle;\n",
       "    }\n",
       "\n",
       "    .dataframe tbody tr th {\n",
       "        vertical-align: top;\n",
       "    }\n",
       "\n",
       "    .dataframe thead th {\n",
       "        text-align: right;\n",
       "    }\n",
       "</style>\n",
       "<table border=\"1\" class=\"dataframe\">\n",
       "  <thead>\n",
       "    <tr style=\"text-align: right;\">\n",
       "      <th></th>\n",
       "      <th>Unnamed: 0</th>\n",
       "      <th>manufacturer</th>\n",
       "      <th>model</th>\n",
       "      <th>displ</th>\n",
       "      <th>year</th>\n",
       "      <th>cyl</th>\n",
       "      <th>trans</th>\n",
       "      <th>drv</th>\n",
       "      <th>cty</th>\n",
       "      <th>hwy</th>\n",
       "      <th>fl</th>\n",
       "      <th>class</th>\n",
       "    </tr>\n",
       "  </thead>\n",
       "  <tbody>\n",
       "    <tr>\n",
       "      <th>0</th>\n",
       "      <td>1</td>\n",
       "      <td>audi</td>\n",
       "      <td>a4</td>\n",
       "      <td>1.8</td>\n",
       "      <td>1999</td>\n",
       "      <td>4</td>\n",
       "      <td>auto(l5)</td>\n",
       "      <td>f</td>\n",
       "      <td>18</td>\n",
       "      <td>29</td>\n",
       "      <td>p</td>\n",
       "      <td>compact</td>\n",
       "    </tr>\n",
       "    <tr>\n",
       "      <th>1</th>\n",
       "      <td>2</td>\n",
       "      <td>audi</td>\n",
       "      <td>a4</td>\n",
       "      <td>1.8</td>\n",
       "      <td>1999</td>\n",
       "      <td>4</td>\n",
       "      <td>manual(m5)</td>\n",
       "      <td>f</td>\n",
       "      <td>21</td>\n",
       "      <td>29</td>\n",
       "      <td>p</td>\n",
       "      <td>compact</td>\n",
       "    </tr>\n",
       "    <tr>\n",
       "      <th>2</th>\n",
       "      <td>3</td>\n",
       "      <td>audi</td>\n",
       "      <td>a4</td>\n",
       "      <td>2.0</td>\n",
       "      <td>2008</td>\n",
       "      <td>4</td>\n",
       "      <td>manual(m6)</td>\n",
       "      <td>f</td>\n",
       "      <td>20</td>\n",
       "      <td>31</td>\n",
       "      <td>p</td>\n",
       "      <td>compact</td>\n",
       "    </tr>\n",
       "    <tr>\n",
       "      <th>3</th>\n",
       "      <td>4</td>\n",
       "      <td>audi</td>\n",
       "      <td>a4</td>\n",
       "      <td>2.0</td>\n",
       "      <td>2008</td>\n",
       "      <td>4</td>\n",
       "      <td>auto(av)</td>\n",
       "      <td>f</td>\n",
       "      <td>21</td>\n",
       "      <td>30</td>\n",
       "      <td>p</td>\n",
       "      <td>compact</td>\n",
       "    </tr>\n",
       "    <tr>\n",
       "      <th>4</th>\n",
       "      <td>5</td>\n",
       "      <td>audi</td>\n",
       "      <td>a4</td>\n",
       "      <td>2.8</td>\n",
       "      <td>1999</td>\n",
       "      <td>6</td>\n",
       "      <td>auto(l5)</td>\n",
       "      <td>f</td>\n",
       "      <td>16</td>\n",
       "      <td>26</td>\n",
       "      <td>p</td>\n",
       "      <td>compact</td>\n",
       "    </tr>\n",
       "    <tr>\n",
       "      <th>...</th>\n",
       "      <td>...</td>\n",
       "      <td>...</td>\n",
       "      <td>...</td>\n",
       "      <td>...</td>\n",
       "      <td>...</td>\n",
       "      <td>...</td>\n",
       "      <td>...</td>\n",
       "      <td>...</td>\n",
       "      <td>...</td>\n",
       "      <td>...</td>\n",
       "      <td>...</td>\n",
       "      <td>...</td>\n",
       "    </tr>\n",
       "    <tr>\n",
       "      <th>229</th>\n",
       "      <td>230</td>\n",
       "      <td>volkswagen</td>\n",
       "      <td>passat</td>\n",
       "      <td>2.0</td>\n",
       "      <td>2008</td>\n",
       "      <td>4</td>\n",
       "      <td>auto(s6)</td>\n",
       "      <td>f</td>\n",
       "      <td>19</td>\n",
       "      <td>28</td>\n",
       "      <td>p</td>\n",
       "      <td>midsize</td>\n",
       "    </tr>\n",
       "    <tr>\n",
       "      <th>230</th>\n",
       "      <td>231</td>\n",
       "      <td>volkswagen</td>\n",
       "      <td>passat</td>\n",
       "      <td>2.0</td>\n",
       "      <td>2008</td>\n",
       "      <td>4</td>\n",
       "      <td>manual(m6)</td>\n",
       "      <td>f</td>\n",
       "      <td>21</td>\n",
       "      <td>29</td>\n",
       "      <td>p</td>\n",
       "      <td>midsize</td>\n",
       "    </tr>\n",
       "    <tr>\n",
       "      <th>231</th>\n",
       "      <td>232</td>\n",
       "      <td>volkswagen</td>\n",
       "      <td>passat</td>\n",
       "      <td>2.8</td>\n",
       "      <td>1999</td>\n",
       "      <td>6</td>\n",
       "      <td>auto(l5)</td>\n",
       "      <td>f</td>\n",
       "      <td>16</td>\n",
       "      <td>26</td>\n",
       "      <td>p</td>\n",
       "      <td>midsize</td>\n",
       "    </tr>\n",
       "    <tr>\n",
       "      <th>232</th>\n",
       "      <td>233</td>\n",
       "      <td>volkswagen</td>\n",
       "      <td>passat</td>\n",
       "      <td>2.8</td>\n",
       "      <td>1999</td>\n",
       "      <td>6</td>\n",
       "      <td>manual(m5)</td>\n",
       "      <td>f</td>\n",
       "      <td>18</td>\n",
       "      <td>26</td>\n",
       "      <td>p</td>\n",
       "      <td>midsize</td>\n",
       "    </tr>\n",
       "    <tr>\n",
       "      <th>233</th>\n",
       "      <td>234</td>\n",
       "      <td>volkswagen</td>\n",
       "      <td>passat</td>\n",
       "      <td>3.6</td>\n",
       "      <td>2008</td>\n",
       "      <td>6</td>\n",
       "      <td>auto(s6)</td>\n",
       "      <td>f</td>\n",
       "      <td>17</td>\n",
       "      <td>26</td>\n",
       "      <td>p</td>\n",
       "      <td>midsize</td>\n",
       "    </tr>\n",
       "  </tbody>\n",
       "</table>\n",
       "<p>234 rows × 12 columns</p>\n",
       "</div>"
      ],
      "text/plain": [
       "     Unnamed: 0 manufacturer   model  displ  year  cyl       trans drv  cty  \\\n",
       "0             1         audi      a4    1.8  1999    4    auto(l5)   f   18   \n",
       "1             2         audi      a4    1.8  1999    4  manual(m5)   f   21   \n",
       "2             3         audi      a4    2.0  2008    4  manual(m6)   f   20   \n",
       "3             4         audi      a4    2.0  2008    4    auto(av)   f   21   \n",
       "4             5         audi      a4    2.8  1999    6    auto(l5)   f   16   \n",
       "..          ...          ...     ...    ...   ...  ...         ...  ..  ...   \n",
       "229         230   volkswagen  passat    2.0  2008    4    auto(s6)   f   19   \n",
       "230         231   volkswagen  passat    2.0  2008    4  manual(m6)   f   21   \n",
       "231         232   volkswagen  passat    2.8  1999    6    auto(l5)   f   16   \n",
       "232         233   volkswagen  passat    2.8  1999    6  manual(m5)   f   18   \n",
       "233         234   volkswagen  passat    3.6  2008    6    auto(s6)   f   17   \n",
       "\n",
       "     hwy fl    class  \n",
       "0     29  p  compact  \n",
       "1     29  p  compact  \n",
       "2     31  p  compact  \n",
       "3     30  p  compact  \n",
       "4     26  p  compact  \n",
       "..   ... ..      ...  \n",
       "229   28  p  midsize  \n",
       "230   29  p  midsize  \n",
       "231   26  p  midsize  \n",
       "232   26  p  midsize  \n",
       "233   26  p  midsize  \n",
       "\n",
       "[234 rows x 12 columns]"
      ]
     },
     "execution_count": 2,
     "metadata": {},
     "output_type": "execute_result"
    }
   ],
   "source": [
    "xlsx = ExcelFile('http://itpaper.co.kr/demo/py/mpg.xlsx')\n",
    "mpg_df = xlsx.parse(xlsx.sheet_names[0])\n",
    "mpg_df"
   ]
  },
  {
   "cell_type": "markdown",
   "id": "driving-lease",
   "metadata": {},
   "source": [
    "## 3) 데이터 살펴보기\n",
    "### 데이터프레임의 각 컬럼이 갖는 의미\n",
    "컬럼이름 | 설명 |\n",
    "---- | ---- |\n",
    "manufacturer | 제조회사 |\n",
    "model | 자동차 모델명 |\n",
    "displ | 배기량 |\n",
    "year | 생산년도 |\n",
    "cyl | 실린더 개수 |\n",
    "trans | 변속기 종류 |\n",
    "drv | 구동방식 |\n",
    "cty | 도시연비 |\n",
    "hwy | 고속도로 연비 |\n",
    "fl | 연료 종류 |\n",
    "class | 자동차 종류 |\n",
    "\n",
    "### 연료 종류(fl) 컬럼에서 사용되는 코드값\n",
    "코드 | 설명 |\n",
    "---- | ---- |\n",
    "c | CNG(2.35) - 가스 |\n",
    "d | diesel(2.38) - 디젤 |\n",
    "e | ethanol E85 (2.11) - 에탄올 혼합연료 |\n",
    "p | premium(2.76) - 고급 휘발유 |\n",
    "r | regular(2.22) - 보통 휘발유 |\n",
    "\n",
    "# #02. 기술통계\n",
    "## 1) 데이터의 내용 확인하기\n",
    "### mpg 데이터의 크기 확인"
   ]
  },
  {
   "cell_type": "code",
   "execution_count": 3,
   "id": "ongoing-supplement",
   "metadata": {},
   "outputs": [
    {
     "name": "stdout",
     "output_type": "stream",
     "text": [
      "행의 크기 =  234\n",
      "열의 크기 =  12\n"
     ]
    }
   ],
   "source": [
    "행, 열 = mpg_df.shape\n",
    "print(\"행의 크기 = \", 행)\n",
    "print(\"열의 크기 = \", 열)"
   ]
  },
  {
   "cell_type": "markdown",
   "id": "sticky-consumption",
   "metadata": {},
   "source": [
    "### 데이터의 일부 확인하기\n",
    "상위 5건 확인"
   ]
  },
  {
   "cell_type": "code",
   "execution_count": 4,
   "id": "robust-third",
   "metadata": {},
   "outputs": [
    {
     "data": {
      "text/html": [
       "<div>\n",
       "<style scoped>\n",
       "    .dataframe tbody tr th:only-of-type {\n",
       "        vertical-align: middle;\n",
       "    }\n",
       "\n",
       "    .dataframe tbody tr th {\n",
       "        vertical-align: top;\n",
       "    }\n",
       "\n",
       "    .dataframe thead th {\n",
       "        text-align: right;\n",
       "    }\n",
       "</style>\n",
       "<table border=\"1\" class=\"dataframe\">\n",
       "  <thead>\n",
       "    <tr style=\"text-align: right;\">\n",
       "      <th></th>\n",
       "      <th>Unnamed: 0</th>\n",
       "      <th>manufacturer</th>\n",
       "      <th>model</th>\n",
       "      <th>displ</th>\n",
       "      <th>year</th>\n",
       "      <th>cyl</th>\n",
       "      <th>trans</th>\n",
       "      <th>drv</th>\n",
       "      <th>cty</th>\n",
       "      <th>hwy</th>\n",
       "      <th>fl</th>\n",
       "      <th>class</th>\n",
       "    </tr>\n",
       "  </thead>\n",
       "  <tbody>\n",
       "    <tr>\n",
       "      <th>0</th>\n",
       "      <td>1</td>\n",
       "      <td>audi</td>\n",
       "      <td>a4</td>\n",
       "      <td>1.8</td>\n",
       "      <td>1999</td>\n",
       "      <td>4</td>\n",
       "      <td>auto(l5)</td>\n",
       "      <td>f</td>\n",
       "      <td>18</td>\n",
       "      <td>29</td>\n",
       "      <td>p</td>\n",
       "      <td>compact</td>\n",
       "    </tr>\n",
       "    <tr>\n",
       "      <th>1</th>\n",
       "      <td>2</td>\n",
       "      <td>audi</td>\n",
       "      <td>a4</td>\n",
       "      <td>1.8</td>\n",
       "      <td>1999</td>\n",
       "      <td>4</td>\n",
       "      <td>manual(m5)</td>\n",
       "      <td>f</td>\n",
       "      <td>21</td>\n",
       "      <td>29</td>\n",
       "      <td>p</td>\n",
       "      <td>compact</td>\n",
       "    </tr>\n",
       "    <tr>\n",
       "      <th>2</th>\n",
       "      <td>3</td>\n",
       "      <td>audi</td>\n",
       "      <td>a4</td>\n",
       "      <td>2.0</td>\n",
       "      <td>2008</td>\n",
       "      <td>4</td>\n",
       "      <td>manual(m6)</td>\n",
       "      <td>f</td>\n",
       "      <td>20</td>\n",
       "      <td>31</td>\n",
       "      <td>p</td>\n",
       "      <td>compact</td>\n",
       "    </tr>\n",
       "    <tr>\n",
       "      <th>3</th>\n",
       "      <td>4</td>\n",
       "      <td>audi</td>\n",
       "      <td>a4</td>\n",
       "      <td>2.0</td>\n",
       "      <td>2008</td>\n",
       "      <td>4</td>\n",
       "      <td>auto(av)</td>\n",
       "      <td>f</td>\n",
       "      <td>21</td>\n",
       "      <td>30</td>\n",
       "      <td>p</td>\n",
       "      <td>compact</td>\n",
       "    </tr>\n",
       "    <tr>\n",
       "      <th>4</th>\n",
       "      <td>5</td>\n",
       "      <td>audi</td>\n",
       "      <td>a4</td>\n",
       "      <td>2.8</td>\n",
       "      <td>1999</td>\n",
       "      <td>6</td>\n",
       "      <td>auto(l5)</td>\n",
       "      <td>f</td>\n",
       "      <td>16</td>\n",
       "      <td>26</td>\n",
       "      <td>p</td>\n",
       "      <td>compact</td>\n",
       "    </tr>\n",
       "  </tbody>\n",
       "</table>\n",
       "</div>"
      ],
      "text/plain": [
       "   Unnamed: 0 manufacturer model  displ  year  cyl       trans drv  cty  hwy  \\\n",
       "0           1         audi    a4    1.8  1999    4    auto(l5)   f   18   29   \n",
       "1           2         audi    a4    1.8  1999    4  manual(m5)   f   21   29   \n",
       "2           3         audi    a4    2.0  2008    4  manual(m6)   f   20   31   \n",
       "3           4         audi    a4    2.0  2008    4    auto(av)   f   21   30   \n",
       "4           5         audi    a4    2.8  1999    6    auto(l5)   f   16   26   \n",
       "\n",
       "  fl    class  \n",
       "0  p  compact  \n",
       "1  p  compact  \n",
       "2  p  compact  \n",
       "3  p  compact  \n",
       "4  p  compact  "
      ]
     },
     "execution_count": 4,
     "metadata": {},
     "output_type": "execute_result"
    }
   ],
   "source": [
    "mpg_df.head(5)"
   ]
  },
  {
   "cell_type": "markdown",
   "id": "tough-poison",
   "metadata": {},
   "source": [
    "하위 5건 확인"
   ]
  },
  {
   "cell_type": "code",
   "execution_count": 5,
   "id": "framed-cradle",
   "metadata": {},
   "outputs": [
    {
     "data": {
      "text/html": [
       "<div>\n",
       "<style scoped>\n",
       "    .dataframe tbody tr th:only-of-type {\n",
       "        vertical-align: middle;\n",
       "    }\n",
       "\n",
       "    .dataframe tbody tr th {\n",
       "        vertical-align: top;\n",
       "    }\n",
       "\n",
       "    .dataframe thead th {\n",
       "        text-align: right;\n",
       "    }\n",
       "</style>\n",
       "<table border=\"1\" class=\"dataframe\">\n",
       "  <thead>\n",
       "    <tr style=\"text-align: right;\">\n",
       "      <th></th>\n",
       "      <th>Unnamed: 0</th>\n",
       "      <th>manufacturer</th>\n",
       "      <th>model</th>\n",
       "      <th>displ</th>\n",
       "      <th>year</th>\n",
       "      <th>cyl</th>\n",
       "      <th>trans</th>\n",
       "      <th>drv</th>\n",
       "      <th>cty</th>\n",
       "      <th>hwy</th>\n",
       "      <th>fl</th>\n",
       "      <th>class</th>\n",
       "    </tr>\n",
       "  </thead>\n",
       "  <tbody>\n",
       "    <tr>\n",
       "      <th>229</th>\n",
       "      <td>230</td>\n",
       "      <td>volkswagen</td>\n",
       "      <td>passat</td>\n",
       "      <td>2.0</td>\n",
       "      <td>2008</td>\n",
       "      <td>4</td>\n",
       "      <td>auto(s6)</td>\n",
       "      <td>f</td>\n",
       "      <td>19</td>\n",
       "      <td>28</td>\n",
       "      <td>p</td>\n",
       "      <td>midsize</td>\n",
       "    </tr>\n",
       "    <tr>\n",
       "      <th>230</th>\n",
       "      <td>231</td>\n",
       "      <td>volkswagen</td>\n",
       "      <td>passat</td>\n",
       "      <td>2.0</td>\n",
       "      <td>2008</td>\n",
       "      <td>4</td>\n",
       "      <td>manual(m6)</td>\n",
       "      <td>f</td>\n",
       "      <td>21</td>\n",
       "      <td>29</td>\n",
       "      <td>p</td>\n",
       "      <td>midsize</td>\n",
       "    </tr>\n",
       "    <tr>\n",
       "      <th>231</th>\n",
       "      <td>232</td>\n",
       "      <td>volkswagen</td>\n",
       "      <td>passat</td>\n",
       "      <td>2.8</td>\n",
       "      <td>1999</td>\n",
       "      <td>6</td>\n",
       "      <td>auto(l5)</td>\n",
       "      <td>f</td>\n",
       "      <td>16</td>\n",
       "      <td>26</td>\n",
       "      <td>p</td>\n",
       "      <td>midsize</td>\n",
       "    </tr>\n",
       "    <tr>\n",
       "      <th>232</th>\n",
       "      <td>233</td>\n",
       "      <td>volkswagen</td>\n",
       "      <td>passat</td>\n",
       "      <td>2.8</td>\n",
       "      <td>1999</td>\n",
       "      <td>6</td>\n",
       "      <td>manual(m5)</td>\n",
       "      <td>f</td>\n",
       "      <td>18</td>\n",
       "      <td>26</td>\n",
       "      <td>p</td>\n",
       "      <td>midsize</td>\n",
       "    </tr>\n",
       "    <tr>\n",
       "      <th>233</th>\n",
       "      <td>234</td>\n",
       "      <td>volkswagen</td>\n",
       "      <td>passat</td>\n",
       "      <td>3.6</td>\n",
       "      <td>2008</td>\n",
       "      <td>6</td>\n",
       "      <td>auto(s6)</td>\n",
       "      <td>f</td>\n",
       "      <td>17</td>\n",
       "      <td>26</td>\n",
       "      <td>p</td>\n",
       "      <td>midsize</td>\n",
       "    </tr>\n",
       "  </tbody>\n",
       "</table>\n",
       "</div>"
      ],
      "text/plain": [
       "     Unnamed: 0 manufacturer   model  displ  year  cyl       trans drv  cty  \\\n",
       "229         230   volkswagen  passat    2.0  2008    4    auto(s6)   f   19   \n",
       "230         231   volkswagen  passat    2.0  2008    4  manual(m6)   f   21   \n",
       "231         232   volkswagen  passat    2.8  1999    6    auto(l5)   f   16   \n",
       "232         233   volkswagen  passat    2.8  1999    6  manual(m5)   f   18   \n",
       "233         234   volkswagen  passat    3.6  2008    6    auto(s6)   f   17   \n",
       "\n",
       "     hwy fl    class  \n",
       "229   28  p  midsize  \n",
       "230   29  p  midsize  \n",
       "231   26  p  midsize  \n",
       "232   26  p  midsize  \n",
       "233   26  p  midsize  "
      ]
     },
     "execution_count": 5,
     "metadata": {},
     "output_type": "execute_result"
    }
   ],
   "source": [
    "mpg_df.tail(5)"
   ]
  },
  {
   "cell_type": "markdown",
   "id": "promotional-retro",
   "metadata": {},
   "source": [
    "## 2) 데이터 요약 정보를 통해 기술통계값 확인하기\n"
   ]
  },
  {
   "cell_type": "code",
   "execution_count": 7,
   "id": "future-paper",
   "metadata": {},
   "outputs": [
    {
     "data": {
      "text/html": [
       "<div>\n",
       "<style scoped>\n",
       "    .dataframe tbody tr th:only-of-type {\n",
       "        vertical-align: middle;\n",
       "    }\n",
       "\n",
       "    .dataframe tbody tr th {\n",
       "        vertical-align: top;\n",
       "    }\n",
       "\n",
       "    .dataframe thead th {\n",
       "        text-align: right;\n",
       "    }\n",
       "</style>\n",
       "<table border=\"1\" class=\"dataframe\">\n",
       "  <thead>\n",
       "    <tr style=\"text-align: right;\">\n",
       "      <th></th>\n",
       "      <th>Unnamed: 0</th>\n",
       "      <th>displ</th>\n",
       "      <th>year</th>\n",
       "      <th>cyl</th>\n",
       "      <th>cty</th>\n",
       "      <th>hwy</th>\n",
       "    </tr>\n",
       "  </thead>\n",
       "  <tbody>\n",
       "    <tr>\n",
       "      <th>count</th>\n",
       "      <td>234.000000</td>\n",
       "      <td>234.000000</td>\n",
       "      <td>234.000000</td>\n",
       "      <td>234.000000</td>\n",
       "      <td>234.000000</td>\n",
       "      <td>234.000000</td>\n",
       "    </tr>\n",
       "    <tr>\n",
       "      <th>mean</th>\n",
       "      <td>117.500000</td>\n",
       "      <td>3.471795</td>\n",
       "      <td>2003.500000</td>\n",
       "      <td>5.888889</td>\n",
       "      <td>16.858974</td>\n",
       "      <td>23.440171</td>\n",
       "    </tr>\n",
       "    <tr>\n",
       "      <th>std</th>\n",
       "      <td>67.694165</td>\n",
       "      <td>1.291959</td>\n",
       "      <td>4.509646</td>\n",
       "      <td>1.611534</td>\n",
       "      <td>4.255946</td>\n",
       "      <td>5.954643</td>\n",
       "    </tr>\n",
       "    <tr>\n",
       "      <th>min</th>\n",
       "      <td>1.000000</td>\n",
       "      <td>1.600000</td>\n",
       "      <td>1999.000000</td>\n",
       "      <td>4.000000</td>\n",
       "      <td>9.000000</td>\n",
       "      <td>12.000000</td>\n",
       "    </tr>\n",
       "    <tr>\n",
       "      <th>25%</th>\n",
       "      <td>59.250000</td>\n",
       "      <td>2.400000</td>\n",
       "      <td>1999.000000</td>\n",
       "      <td>4.000000</td>\n",
       "      <td>14.000000</td>\n",
       "      <td>18.000000</td>\n",
       "    </tr>\n",
       "    <tr>\n",
       "      <th>50%</th>\n",
       "      <td>117.500000</td>\n",
       "      <td>3.300000</td>\n",
       "      <td>2003.500000</td>\n",
       "      <td>6.000000</td>\n",
       "      <td>17.000000</td>\n",
       "      <td>24.000000</td>\n",
       "    </tr>\n",
       "    <tr>\n",
       "      <th>75%</th>\n",
       "      <td>175.750000</td>\n",
       "      <td>4.600000</td>\n",
       "      <td>2008.000000</td>\n",
       "      <td>8.000000</td>\n",
       "      <td>19.000000</td>\n",
       "      <td>27.000000</td>\n",
       "    </tr>\n",
       "    <tr>\n",
       "      <th>max</th>\n",
       "      <td>234.000000</td>\n",
       "      <td>7.000000</td>\n",
       "      <td>2008.000000</td>\n",
       "      <td>8.000000</td>\n",
       "      <td>35.000000</td>\n",
       "      <td>44.000000</td>\n",
       "    </tr>\n",
       "  </tbody>\n",
       "</table>\n",
       "</div>"
      ],
      "text/plain": [
       "       Unnamed: 0       displ         year         cyl         cty         hwy\n",
       "count  234.000000  234.000000   234.000000  234.000000  234.000000  234.000000\n",
       "mean   117.500000    3.471795  2003.500000    5.888889   16.858974   23.440171\n",
       "std     67.694165    1.291959     4.509646    1.611534    4.255946    5.954643\n",
       "min      1.000000    1.600000  1999.000000    4.000000    9.000000   12.000000\n",
       "25%     59.250000    2.400000  1999.000000    4.000000   14.000000   18.000000\n",
       "50%    117.500000    3.300000  2003.500000    6.000000   17.000000   24.000000\n",
       "75%    175.750000    4.600000  2008.000000    8.000000   19.000000   27.000000\n",
       "max    234.000000    7.000000  2008.000000    8.000000   35.000000   44.000000"
      ]
     },
     "execution_count": 7,
     "metadata": {},
     "output_type": "execute_result"
    }
   ],
   "source": [
    "mpg_df.describe()"
   ]
  },
  {
   "cell_type": "markdown",
   "id": "reliable-being",
   "metadata": {},
   "source": [
    "### 확인결과\n",
    "\n",
    "<b>양적자료</b>\n",
    "\n",
    "요약정보에 집계가 되는 컬럼으로서 관측된 값이 수치 형태의 속성을 가지는 자료<br>\n",
    "사분위수와 상자 그림으로 데이터 분포를 확인해야 하는 값들이다.\n",
    "\n",
    "- 범위형(interval)자료 : 화씨, 섭씨와 같이 수치 간에 차이가 의미를 가지는 자료\n",
    "- 비율(ratio) 자료 : 무게와 같이 수치의 차이 뿐만 아니라 비율 또한 의미를 가지는 자료\n",
    "    \n",
    "> 배기량, 생산년도, 실린더 개수, 도시연비, 고속도로 연비\n",
    "    \n",
    "(이 중 생산년도와 실린더 개수는 데이터 값의 종류가 매우 적으므로 반드시 확인할 필요 X)\n",
    "\n",
    "<b>질적자료</b>\n",
    "\n",
    "범주 또는 순서 형태의 속성을 가지는 자료로서 도수분포표와 히스토그램으로 데이터분포를 확인해야 하는 값들이다.\n",
    "\n",
    "- 범주형(명목,nominal) 자료 : 사람의 피부색, 성별\n",
    "- 순서(서수, ordinal) 자료 : 제품의 품질, 등급, 순위\n",
    "\n",
    "> 제조회사, 모델명, 변속기 종류, 구동방식, 연료 종류, 자동차 종류\n",
    "\n",
    "## 3) 양적 자료의 데이터 분포 확인\n",
    "### 상자그림을 통한 데이터 분포 확인하기\n",
    "그래프 기본 설정"
   ]
  },
  {
   "cell_type": "code",
   "execution_count": 8,
   "id": "superb-syndication",
   "metadata": {},
   "outputs": [],
   "source": [
    "pyplot.rcParams['font.family'] = 'Malgun Gothic'\n",
    "pyplot.rcParams['font.size'] = 16\n",
    "pyplot.rcParams['figure.figsize'] = (20,10)"
   ]
  },
  {
   "cell_type": "markdown",
   "id": "agricultural-kernel",
   "metadata": {},
   "source": [
    "상자그림확인"
   ]
  },
  {
   "cell_type": "code",
   "execution_count": 9,
   "id": "pressing-sauce",
   "metadata": {},
   "outputs": [
    {
     "data": {
      "image/png": "[encoded data removed]",
      "text/plain": [
       "<Figure size 1440x720 with 1 Axes>"
      ]
     },
     "metadata": {
      "needs_background": "light"
     },
     "output_type": "display_data"
    }
   ],
   "source": [
    "mpg_df.boxplot(['displ', 'cyl', 'cty', 'hwy'])\n",
    "pyplot.show()"
   ]
  },
  {
   "cell_type": "markdown",
   "id": "southeast-yorkshire",
   "metadata": {},
   "source": [
    "## 4) 질적 자료에 대한 데이터 빈도 확인\n",
    "제조회사, 모델명, 변속기 종류, 구동방식, 연료종루, 자동차 종류\n",
    "### 데이터 빈도 수 확인하기"
   ]
  },
  {
   "cell_type": "code",
   "execution_count": 10,
   "id": "hollywood-tanzania",
   "metadata": {},
   "outputs": [
    {
     "data": {
      "text/plain": [
       "dodge         37\n",
       "toyota        34\n",
       "volkswagen    27\n",
       "ford          25\n",
       "chevrolet     19\n",
       "audi          18\n",
       "subaru        14\n",
       "hyundai       14\n",
       "nissan        13\n",
       "honda          9\n",
       "jeep           8\n",
       "pontiac        5\n",
       "land rover     4\n",
       "mercury        4\n",
       "lincoln        3\n",
       "Name: manufacturer, dtype: int64"
      ]
     },
     "execution_count": 10,
     "metadata": {},
     "output_type": "execute_result"
    }
   ],
   "source": [
    "mpg_df['manufacturer'].value_counts()"
   ]
  },
  {
   "cell_type": "code",
   "execution_count": 11,
   "id": "imposed-blues",
   "metadata": {},
   "outputs": [
    {
     "data": {
      "text/plain": [
       "caravan 2wd               11\n",
       "ram 1500 pickup 4wd       10\n",
       "civic                      9\n",
       "mustang                    9\n",
       "dakota pickup 4wd          9\n",
       "jetta                      9\n",
       "grand cherokee 4wd         8\n",
       "a4 quattro                 8\n",
       "impreza awd                8\n",
       "f150 pickup 4wd            7\n",
       "tiburon                    7\n",
       "a4                         7\n",
       "durango 4wd                7\n",
       "toyota tacoma 4wd          7\n",
       "camry solara               7\n",
       "passat                     7\n",
       "camry                      7\n",
       "sonata                     7\n",
       "explorer 4wd               6\n",
       "forester awd               6\n",
       "altima                     6\n",
       "4runner 4wd                6\n",
       "new beetle                 6\n",
       "grand prix                 5\n",
       "corvette                   5\n",
       "corolla                    5\n",
       "gti                        5\n",
       "c1500 suburban 2wd         5\n",
       "malibu                     5\n",
       "pathfinder 4wd             4\n",
       "range rover                4\n",
       "k1500 tahoe 4wd            4\n",
       "mountaineer 4wd            4\n",
       "maxima                     3\n",
       "expedition 2wd             3\n",
       "navigator 2wd              3\n",
       "a6 quattro                 3\n",
       "land cruiser wagon 4wd     2\n",
       "Name: model, dtype: int64"
      ]
     },
     "execution_count": 11,
     "metadata": {},
     "output_type": "execute_result"
    }
   ],
   "source": [
    "mpg_df['model'].value_counts()"
   ]
  },
  {
   "cell_type": "code",
   "execution_count": 12,
   "id": "saved-petersburg",
   "metadata": {},
   "outputs": [
    {
     "data": {
      "text/plain": [
       "auto(l4)      83\n",
       "manual(m5)    58\n",
       "auto(l5)      39\n",
       "manual(m6)    19\n",
       "auto(s6)      16\n",
       "auto(l6)       6\n",
       "auto(av)       5\n",
       "auto(s5)       3\n",
       "auto(s4)       3\n",
       "auto(l3)       2\n",
       "Name: trans, dtype: int64"
      ]
     },
     "execution_count": 12,
     "metadata": {},
     "output_type": "execute_result"
    }
   ],
   "source": [
    "mpg_df['trans'].value_counts()"
   ]
  },
  {
   "cell_type": "code",
   "execution_count": 13,
   "id": "intensive-focus",
   "metadata": {},
   "outputs": [
    {
     "data": {
      "text/plain": [
       "f    106\n",
       "4    103\n",
       "r     25\n",
       "Name: drv, dtype: int64"
      ]
     },
     "execution_count": 13,
     "metadata": {},
     "output_type": "execute_result"
    }
   ],
   "source": [
    "mpg_df['drv'].value_counts()"
   ]
  },
  {
   "cell_type": "code",
   "execution_count": 15,
   "id": "extraordinary-madonna",
   "metadata": {},
   "outputs": [
    {
     "data": {
      "text/plain": [
       "r    168\n",
       "p     52\n",
       "e      8\n",
       "d      5\n",
       "c      1\n",
       "Name: fl, dtype: int64"
      ]
     },
     "execution_count": 15,
     "metadata": {},
     "output_type": "execute_result"
    }
   ],
   "source": [
    "mpg_df['fl'].value_counts()"
   ]
  },
  {
   "cell_type": "code",
   "execution_count": 16,
   "id": "derived-hypothetical",
   "metadata": {},
   "outputs": [
    {
     "data": {
      "text/plain": [
       "suv           62\n",
       "compact       47\n",
       "midsize       41\n",
       "subcompact    35\n",
       "pickup        33\n",
       "minivan       11\n",
       "2seater        5\n",
       "Name: class, dtype: int64"
      ]
     },
     "execution_count": 16,
     "metadata": {},
     "output_type": "execute_result"
    }
   ],
   "source": [
    "mpg_df['class'].value_counts()"
   ]
  },
  {
   "cell_type": "markdown",
   "id": "agricultural-connectivity",
   "metadata": {},
   "source": [
    "## 5) 문제\n",
    "### Q1) 자동차 배기량에 따라 고속도로 연비가 다른지 알아보려고 한다.<br>\n",
    "<b>displ(배기량)이 4이하/5이상인 자동차 중 어떤 자동차의 hwy가 평균적으로 더 높은지 알아보시오</b>\n",
    "\n",
    "배기량이 4 이하인 자동차의 고속도로 연비 평균"
   ]
  },
  {
   "cell_type": "code",
   "execution_count": 17,
   "id": "continuing-night",
   "metadata": {},
   "outputs": [
    {
     "data": {
      "text/plain": [
       "25.96319018404908"
      ]
     },
     "execution_count": 17,
     "metadata": {},
     "output_type": "execute_result"
    }
   ],
   "source": [
    "mpg_a = mpg_df.query('displ <= 4')    #displ 4 이하 추출\n",
    "mpg_a['hwy'].mean()"
   ]
  },
  {
   "cell_type": "markdown",
   "id": "micro-indiana",
   "metadata": {},
   "source": [
    "배기량이 5 이상인 자동차의 고속도로 연비 평균"
   ]
  },
  {
   "cell_type": "code",
   "execution_count": 18,
   "id": "metallic-class",
   "metadata": {},
   "outputs": [
    {
     "data": {
      "text/plain": [
       "18.07894736842105"
      ]
     },
     "execution_count": 18,
     "metadata": {},
     "output_type": "execute_result"
    }
   ],
   "source": [
    "mpg_b = mpg_df.query('displ >= 5')    #displ 5 이상 추출\n",
    "mpg_b['hwy'].mean()"
   ]
  },
  {
   "cell_type": "markdown",
   "id": "federal-might",
   "metadata": {},
   "source": [
    "### Q2 ) 자동차 제조회사에 따라 도시 연비가 다른지 알아보려고 한다.\n",
    "<b>'audi'와 'toyota' 중 어느 manufacturer의 cty가 평균적으로 더 높은지 알아보시오</b>\n",
    "\n",
    "'audi'의 도시연비 평균"
   ]
  },
  {
   "cell_type": "code",
   "execution_count": 19,
   "id": "aging-absorption",
   "metadata": {},
   "outputs": [
    {
     "data": {
      "text/plain": [
       "17.61111111111111"
      ]
     },
     "execution_count": 19,
     "metadata": {},
     "output_type": "execute_result"
    }
   ],
   "source": [
    "mpg_audi = mpg_df.query('manufacturer==\"audi\"')   # 아우디 추출\n",
    "mpg_audi['cty'].mean()"
   ]
  },
  {
   "cell_type": "markdown",
   "id": "desperate-surprise",
   "metadata": {},
   "source": [
    "'toyota'의 도시연비 평균"
   ]
  },
  {
   "cell_type": "code",
   "execution_count": 20,
   "id": "greater-accounting",
   "metadata": {},
   "outputs": [
    {
     "data": {
      "text/plain": [
       "18.529411764705884"
      ]
     },
     "execution_count": 20,
     "metadata": {},
     "output_type": "execute_result"
    }
   ],
   "source": [
    "mpg_toyota = mpg_df.query('manufacturer==\"toyota\"')   # 도요타 추출\n",
    "mpg_toyota['cty'].mean()"
   ]
  },
  {
   "cell_type": "markdown",
   "id": "forward-hobby",
   "metadata": {},
   "source": [
    "### Q3) 'chevrolet', 'ford', 'honda' 자동차의 고속도로 연비 평균을 알아보려고 한다.\n",
    "<b>이 회사들의 데이터를 추출한 후 hwy 전체 평균을 확인하시오 </b>\n",
    "\n",
    "방법1 - in 연산 사용하기"
   ]
  },
  {
   "cell_type": "code",
   "execution_count": 21,
   "id": "sharing-literature",
   "metadata": {},
   "outputs": [
    {
     "data": {
      "text/plain": [
       "22.50943396226415"
      ]
     },
     "execution_count": 21,
     "metadata": {},
     "output_type": "execute_result"
    }
   ],
   "source": [
    "target = ['chevrolet', 'ford', 'honda']\n",
    "\n",
    "# 외부 변수를 조건문 안으로 가져올 경우 '@변수이름' 형식으로 사용\n",
    "target_df = mpg_df.query('manufacturer in @target')\n",
    "target_df['hwy'].mean()"
   ]
  },
  {
   "cell_type": "markdown",
   "id": "associate-infrastructure",
   "metadata": {},
   "source": [
    "방법2 - or 연산 사용하기"
   ]
  },
  {
   "cell_type": "code",
   "execution_count": 23,
   "id": "patent-scratch",
   "metadata": {},
   "outputs": [
    {
     "data": {
      "text/plain": [
       "22.50943396226415"
      ]
     },
     "execution_count": 23,
     "metadata": {},
     "output_type": "execute_result"
    }
   ],
   "source": [
    "target_df = mpg_df.query('manufacturer ==\"chevrolet\" or manufacturer==\"ford\" or manufacturer==\"honda\"')\n",
    "target_df['hwy'].mean()"
   ]
  },
  {
   "cell_type": "markdown",
   "id": "designed-miniature",
   "metadata": {},
   "source": [
    "# #05. 데이터 전처리 문제\n",
    "mpg 데이터의 fl 변수는 자동차에 사용하는 연료(fuel)를 의미한다.<br>\n",
    "mpg 데이터에는 연료 종류를 나타낸 fl 변수는 있지만 연료 가격을 나타낸 변수는 없다.\n",
    "\n",
    "다음의 가격 정보를 이용해 mpg 데이터에 price_fl(연료가격) 변수를 추가하라.\n",
    "\n",
    "코드 | 종류 | 가격 |\n",
    "---- | ---- | ---- |\n",
    "c | 가스 | 2.35 달러 |\n",
    "d | 디젤 | 2.38 달러 |\n",
    "e | 에탄올 혼합연료 | 2.11 달러 |\n",
    "p | 고급휘발유 | 2.76 달러 |\n",
    "r | 보통휘발유 | 2.22 달러 |\n",
    "\n",
    "추가한 결과에서 model, fl, price_fl을 추출하여 출력하세요."
   ]
  },
  {
   "cell_type": "markdown",
   "id": "separated-manor",
   "metadata": {},
   "source": [
    "## 1) mpg에 연료 가격 변수 추가\n",
    "### 연료가격 정보 만들기"
   ]
  },
  {
   "cell_type": "code",
   "execution_count": 24,
   "id": "latter-overview",
   "metadata": {},
   "outputs": [
    {
     "data": {
      "text/html": [
       "<div>\n",
       "<style scoped>\n",
       "    .dataframe tbody tr th:only-of-type {\n",
       "        vertical-align: middle;\n",
       "    }\n",
       "\n",
       "    .dataframe tbody tr th {\n",
       "        vertical-align: top;\n",
       "    }\n",
       "\n",
       "    .dataframe thead th {\n",
       "        text-align: right;\n",
       "    }\n",
       "</style>\n",
       "<table border=\"1\" class=\"dataframe\">\n",
       "  <thead>\n",
       "    <tr style=\"text-align: right;\">\n",
       "      <th></th>\n",
       "      <th>fl</th>\n",
       "      <th>price_fl</th>\n",
       "    </tr>\n",
       "  </thead>\n",
       "  <tbody>\n",
       "    <tr>\n",
       "      <th>0</th>\n",
       "      <td>c</td>\n",
       "      <td>2.35</td>\n",
       "    </tr>\n",
       "    <tr>\n",
       "      <th>1</th>\n",
       "      <td>d</td>\n",
       "      <td>2.38</td>\n",
       "    </tr>\n",
       "    <tr>\n",
       "      <th>2</th>\n",
       "      <td>e</td>\n",
       "      <td>2.11</td>\n",
       "    </tr>\n",
       "    <tr>\n",
       "      <th>3</th>\n",
       "      <td>p</td>\n",
       "      <td>2.76</td>\n",
       "    </tr>\n",
       "    <tr>\n",
       "      <th>4</th>\n",
       "      <td>r</td>\n",
       "      <td>2.22</td>\n",
       "    </tr>\n",
       "  </tbody>\n",
       "</table>\n",
       "</div>"
      ],
      "text/plain": [
       "  fl  price_fl\n",
       "0  c      2.35\n",
       "1  d      2.38\n",
       "2  e      2.11\n",
       "3  p      2.76\n",
       "4  r      2.22"
      ]
     },
     "execution_count": 24,
     "metadata": {},
     "output_type": "execute_result"
    }
   ],
   "source": [
    "연료가격df = DataFrame({\n",
    "    'fl' : ['c', 'd', 'e', 'p', 'r'],\n",
    "    'price_fl' : [2.35, 2.38, 2.11, 2.76, 2.22]\n",
    "})\n",
    "연료가격df"
   ]
  },
  {
   "cell_type": "markdown",
   "id": "characteristic-clark",
   "metadata": {},
   "source": [
    "### 연료가격 정보를 원본 데이터에 병합"
   ]
  },
  {
   "cell_type": "code",
   "execution_count": 26,
   "id": "entitled-funds",
   "metadata": {},
   "outputs": [
    {
     "data": {
      "text/html": [
       "<div>\n",
       "<style scoped>\n",
       "    .dataframe tbody tr th:only-of-type {\n",
       "        vertical-align: middle;\n",
       "    }\n",
       "\n",
       "    .dataframe tbody tr th {\n",
       "        vertical-align: top;\n",
       "    }\n",
       "\n",
       "    .dataframe thead th {\n",
       "        text-align: right;\n",
       "    }\n",
       "</style>\n",
       "<table border=\"1\" class=\"dataframe\">\n",
       "  <thead>\n",
       "    <tr style=\"text-align: right;\">\n",
       "      <th></th>\n",
       "      <th>Unnamed: 0</th>\n",
       "      <th>manufacturer</th>\n",
       "      <th>model</th>\n",
       "      <th>displ</th>\n",
       "      <th>year</th>\n",
       "      <th>cyl</th>\n",
       "      <th>trans</th>\n",
       "      <th>drv</th>\n",
       "      <th>cty</th>\n",
       "      <th>hwy</th>\n",
       "      <th>fl</th>\n",
       "      <th>class</th>\n",
       "      <th>price_fl</th>\n",
       "    </tr>\n",
       "  </thead>\n",
       "  <tbody>\n",
       "    <tr>\n",
       "      <th>0</th>\n",
       "      <td>1</td>\n",
       "      <td>audi</td>\n",
       "      <td>a4</td>\n",
       "      <td>1.8</td>\n",
       "      <td>1999</td>\n",
       "      <td>4</td>\n",
       "      <td>auto(l5)</td>\n",
       "      <td>f</td>\n",
       "      <td>18</td>\n",
       "      <td>29</td>\n",
       "      <td>p</td>\n",
       "      <td>compact</td>\n",
       "      <td>2.76</td>\n",
       "    </tr>\n",
       "    <tr>\n",
       "      <th>1</th>\n",
       "      <td>2</td>\n",
       "      <td>audi</td>\n",
       "      <td>a4</td>\n",
       "      <td>1.8</td>\n",
       "      <td>1999</td>\n",
       "      <td>4</td>\n",
       "      <td>manual(m5)</td>\n",
       "      <td>f</td>\n",
       "      <td>21</td>\n",
       "      <td>29</td>\n",
       "      <td>p</td>\n",
       "      <td>compact</td>\n",
       "      <td>2.76</td>\n",
       "    </tr>\n",
       "    <tr>\n",
       "      <th>2</th>\n",
       "      <td>3</td>\n",
       "      <td>audi</td>\n",
       "      <td>a4</td>\n",
       "      <td>2.0</td>\n",
       "      <td>2008</td>\n",
       "      <td>4</td>\n",
       "      <td>manual(m6)</td>\n",
       "      <td>f</td>\n",
       "      <td>20</td>\n",
       "      <td>31</td>\n",
       "      <td>p</td>\n",
       "      <td>compact</td>\n",
       "      <td>2.76</td>\n",
       "    </tr>\n",
       "    <tr>\n",
       "      <th>3</th>\n",
       "      <td>4</td>\n",
       "      <td>audi</td>\n",
       "      <td>a4</td>\n",
       "      <td>2.0</td>\n",
       "      <td>2008</td>\n",
       "      <td>4</td>\n",
       "      <td>auto(av)</td>\n",
       "      <td>f</td>\n",
       "      <td>21</td>\n",
       "      <td>30</td>\n",
       "      <td>p</td>\n",
       "      <td>compact</td>\n",
       "      <td>2.76</td>\n",
       "    </tr>\n",
       "    <tr>\n",
       "      <th>4</th>\n",
       "      <td>5</td>\n",
       "      <td>audi</td>\n",
       "      <td>a4</td>\n",
       "      <td>2.8</td>\n",
       "      <td>1999</td>\n",
       "      <td>6</td>\n",
       "      <td>auto(l5)</td>\n",
       "      <td>f</td>\n",
       "      <td>16</td>\n",
       "      <td>26</td>\n",
       "      <td>p</td>\n",
       "      <td>compact</td>\n",
       "      <td>2.76</td>\n",
       "    </tr>\n",
       "    <tr>\n",
       "      <th>...</th>\n",
       "      <td>...</td>\n",
       "      <td>...</td>\n",
       "      <td>...</td>\n",
       "      <td>...</td>\n",
       "      <td>...</td>\n",
       "      <td>...</td>\n",
       "      <td>...</td>\n",
       "      <td>...</td>\n",
       "      <td>...</td>\n",
       "      <td>...</td>\n",
       "      <td>...</td>\n",
       "      <td>...</td>\n",
       "      <td>...</td>\n",
       "    </tr>\n",
       "    <tr>\n",
       "      <th>229</th>\n",
       "      <td>123</td>\n",
       "      <td>jeep</td>\n",
       "      <td>grand cherokee 4wd</td>\n",
       "      <td>3.0</td>\n",
       "      <td>2008</td>\n",
       "      <td>6</td>\n",
       "      <td>auto(l5)</td>\n",
       "      <td>4</td>\n",
       "      <td>17</td>\n",
       "      <td>22</td>\n",
       "      <td>d</td>\n",
       "      <td>suv</td>\n",
       "      <td>2.38</td>\n",
       "    </tr>\n",
       "    <tr>\n",
       "      <th>230</th>\n",
       "      <td>213</td>\n",
       "      <td>volkswagen</td>\n",
       "      <td>jetta</td>\n",
       "      <td>1.9</td>\n",
       "      <td>1999</td>\n",
       "      <td>4</td>\n",
       "      <td>manual(m5)</td>\n",
       "      <td>f</td>\n",
       "      <td>33</td>\n",
       "      <td>44</td>\n",
       "      <td>d</td>\n",
       "      <td>compact</td>\n",
       "      <td>2.38</td>\n",
       "    </tr>\n",
       "    <tr>\n",
       "      <th>231</th>\n",
       "      <td>222</td>\n",
       "      <td>volkswagen</td>\n",
       "      <td>new beetle</td>\n",
       "      <td>1.9</td>\n",
       "      <td>1999</td>\n",
       "      <td>4</td>\n",
       "      <td>manual(m5)</td>\n",
       "      <td>f</td>\n",
       "      <td>35</td>\n",
       "      <td>44</td>\n",
       "      <td>d</td>\n",
       "      <td>subcompact</td>\n",
       "      <td>2.38</td>\n",
       "    </tr>\n",
       "    <tr>\n",
       "      <th>232</th>\n",
       "      <td>223</td>\n",
       "      <td>volkswagen</td>\n",
       "      <td>new beetle</td>\n",
       "      <td>1.9</td>\n",
       "      <td>1999</td>\n",
       "      <td>4</td>\n",
       "      <td>auto(l4)</td>\n",
       "      <td>f</td>\n",
       "      <td>29</td>\n",
       "      <td>41</td>\n",
       "      <td>d</td>\n",
       "      <td>subcompact</td>\n",
       "      <td>2.38</td>\n",
       "    </tr>\n",
       "    <tr>\n",
       "      <th>233</th>\n",
       "      <td>107</td>\n",
       "      <td>honda</td>\n",
       "      <td>civic</td>\n",
       "      <td>1.8</td>\n",
       "      <td>2008</td>\n",
       "      <td>4</td>\n",
       "      <td>auto(l5)</td>\n",
       "      <td>f</td>\n",
       "      <td>24</td>\n",
       "      <td>36</td>\n",
       "      <td>c</td>\n",
       "      <td>subcompact</td>\n",
       "      <td>2.35</td>\n",
       "    </tr>\n",
       "  </tbody>\n",
       "</table>\n",
       "<p>234 rows × 13 columns</p>\n",
       "</div>"
      ],
      "text/plain": [
       "     Unnamed: 0 manufacturer               model  displ  year  cyl  \\\n",
       "0             1         audi                  a4    1.8  1999    4   \n",
       "1             2         audi                  a4    1.8  1999    4   \n",
       "2             3         audi                  a4    2.0  2008    4   \n",
       "3             4         audi                  a4    2.0  2008    4   \n",
       "4             5         audi                  a4    2.8  1999    6   \n",
       "..          ...          ...                 ...    ...   ...  ...   \n",
       "229         123         jeep  grand cherokee 4wd    3.0  2008    6   \n",
       "230         213   volkswagen               jetta    1.9  1999    4   \n",
       "231         222   volkswagen          new beetle    1.9  1999    4   \n",
       "232         223   volkswagen          new beetle    1.9  1999    4   \n",
       "233         107        honda               civic    1.8  2008    4   \n",
       "\n",
       "          trans drv  cty  hwy fl       class  price_fl  \n",
       "0      auto(l5)   f   18   29  p     compact      2.76  \n",
       "1    manual(m5)   f   21   29  p     compact      2.76  \n",
       "2    manual(m6)   f   20   31  p     compact      2.76  \n",
       "3      auto(av)   f   21   30  p     compact      2.76  \n",
       "4      auto(l5)   f   16   26  p     compact      2.76  \n",
       "..          ...  ..  ...  ... ..         ...       ...  \n",
       "229    auto(l5)   4   17   22  d         suv      2.38  \n",
       "230  manual(m5)   f   33   44  d     compact      2.38  \n",
       "231  manual(m5)   f   35   44  d  subcompact      2.38  \n",
       "232    auto(l4)   f   29   41  d  subcompact      2.38  \n",
       "233    auto(l5)   f   24   36  c  subcompact      2.35  \n",
       "\n",
       "[234 rows x 13 columns]"
      ]
     },
     "execution_count": 26,
     "metadata": {},
     "output_type": "execute_result"
    }
   ],
   "source": [
    "병합df = merge(mpg_df, 연료가격df, left_on=\"fl\", right_on=\"fl\")\n",
    "병합df"
   ]
  },
  {
   "cell_type": "markdown",
   "id": "sustainable-quest",
   "metadata": {},
   "source": [
    "## 2) 추가한 결과에서 model, fl, price_fl 추출하여 출력"
   ]
  },
  {
   "cell_type": "code",
   "execution_count": 27,
   "id": "photographic-provision",
   "metadata": {},
   "outputs": [
    {
     "data": {
      "text/html": [
       "<div>\n",
       "<style scoped>\n",
       "    .dataframe tbody tr th:only-of-type {\n",
       "        vertical-align: middle;\n",
       "    }\n",
       "\n",
       "    .dataframe tbody tr th {\n",
       "        vertical-align: top;\n",
       "    }\n",
       "\n",
       "    .dataframe thead th {\n",
       "        text-align: right;\n",
       "    }\n",
       "</style>\n",
       "<table border=\"1\" class=\"dataframe\">\n",
       "  <thead>\n",
       "    <tr style=\"text-align: right;\">\n",
       "      <th></th>\n",
       "      <th>model</th>\n",
       "      <th>fl</th>\n",
       "      <th>price_fl</th>\n",
       "    </tr>\n",
       "  </thead>\n",
       "  <tbody>\n",
       "    <tr>\n",
       "      <th>0</th>\n",
       "      <td>a4</td>\n",
       "      <td>p</td>\n",
       "      <td>2.76</td>\n",
       "    </tr>\n",
       "    <tr>\n",
       "      <th>1</th>\n",
       "      <td>a4</td>\n",
       "      <td>p</td>\n",
       "      <td>2.76</td>\n",
       "    </tr>\n",
       "    <tr>\n",
       "      <th>2</th>\n",
       "      <td>a4</td>\n",
       "      <td>p</td>\n",
       "      <td>2.76</td>\n",
       "    </tr>\n",
       "    <tr>\n",
       "      <th>3</th>\n",
       "      <td>a4</td>\n",
       "      <td>p</td>\n",
       "      <td>2.76</td>\n",
       "    </tr>\n",
       "    <tr>\n",
       "      <th>4</th>\n",
       "      <td>a4</td>\n",
       "      <td>p</td>\n",
       "      <td>2.76</td>\n",
       "    </tr>\n",
       "    <tr>\n",
       "      <th>...</th>\n",
       "      <td>...</td>\n",
       "      <td>...</td>\n",
       "      <td>...</td>\n",
       "    </tr>\n",
       "    <tr>\n",
       "      <th>229</th>\n",
       "      <td>grand cherokee 4wd</td>\n",
       "      <td>d</td>\n",
       "      <td>2.38</td>\n",
       "    </tr>\n",
       "    <tr>\n",
       "      <th>230</th>\n",
       "      <td>jetta</td>\n",
       "      <td>d</td>\n",
       "      <td>2.38</td>\n",
       "    </tr>\n",
       "    <tr>\n",
       "      <th>231</th>\n",
       "      <td>new beetle</td>\n",
       "      <td>d</td>\n",
       "      <td>2.38</td>\n",
       "    </tr>\n",
       "    <tr>\n",
       "      <th>232</th>\n",
       "      <td>new beetle</td>\n",
       "      <td>d</td>\n",
       "      <td>2.38</td>\n",
       "    </tr>\n",
       "    <tr>\n",
       "      <th>233</th>\n",
       "      <td>civic</td>\n",
       "      <td>c</td>\n",
       "      <td>2.35</td>\n",
       "    </tr>\n",
       "  </tbody>\n",
       "</table>\n",
       "<p>234 rows × 3 columns</p>\n",
       "</div>"
      ],
      "text/plain": [
       "                  model fl  price_fl\n",
       "0                    a4  p      2.76\n",
       "1                    a4  p      2.76\n",
       "2                    a4  p      2.76\n",
       "3                    a4  p      2.76\n",
       "4                    a4  p      2.76\n",
       "..                  ... ..       ...\n",
       "229  grand cherokee 4wd  d      2.38\n",
       "230               jetta  d      2.38\n",
       "231          new beetle  d      2.38\n",
       "232          new beetle  d      2.38\n",
       "233               civic  c      2.35\n",
       "\n",
       "[234 rows x 3 columns]"
      ]
     },
     "execution_count": 27,
     "metadata": {},
     "output_type": "execute_result"
    }
   ],
   "source": [
    "병합df.filter(['model', 'fl', 'price_fl'])"
   ]
  },
  {
   "cell_type": "markdown",
   "id": "hollow-persian",
   "metadata": {},
   "source": [
    "# #04. 데이터 정제 문제\n",
    "## 1) 결측치 정제\n",
    "### mpg 데이터에서 구동방식(drv)별 고속도로 연비(hwy) 평균 알아보기\n",
    "> 문제설정을 위해 아래와 같이 임의의 결측치를 생성하고 진행하세요."
   ]
  },
  {
   "cell_type": "code",
   "execution_count": 29,
   "id": "capital-debut",
   "metadata": {},
   "outputs": [],
   "source": [
    "mpg_df.loc[65, 'hwy'] = None\n",
    "mpg_df.loc[124, 'hwy'] = None\n",
    "mpg_df.loc[131, 'hwy'] = None\n",
    "mpg_df.loc[153, 'hwy'] = None\n",
    "mpg_df.loc[212, 'hwy'] = None"
   ]
  },
  {
   "cell_type": "markdown",
   "id": "increased-cleveland",
   "metadata": {},
   "source": [
    "### Q1) 분석을 하기 전에 두 변수에 결측치가 있는지 확인해야 한다.\n",
    "<b>구동방식 변수와 고속도로 연비 변수에 결측치가몇 개 있는지 알아보아라</b>\n",
    "\n",
    "구동방식과 고속도로 연비에 대한 결측치 확인"
   ]
  },
  {
   "cell_type": "code",
   "execution_count": 30,
   "id": "becoming-hammer",
   "metadata": {},
   "outputs": [
    {
     "data": {
      "text/plain": [
       "drv    0\n",
       "hwy    5\n",
       "dtype: int64"
      ]
     },
     "execution_count": 30,
     "metadata": {},
     "output_type": "execute_result"
    }
   ],
   "source": [
    "결측치합계 = mpg_df.filter(['drv', 'hwy']).isna().sum()\n",
    "결측치합계"
   ]
  },
  {
   "cell_type": "markdown",
   "id": "indonesian-final",
   "metadata": {},
   "source": [
    "### Q2) hwy 변수의 결측치를 제외하고, 어떤 구동 방식의 hwy 평균이 높은지 알아보아라\n",
    "구동방식과 고속도로 연비 추출 후 결측치 제고"
   ]
  },
  {
   "cell_type": "code",
   "execution_count": 33,
   "id": "israeli-being",
   "metadata": {},
   "outputs": [
    {
     "data": {
      "text/html": [
       "<div>\n",
       "<style scoped>\n",
       "    .dataframe tbody tr th:only-of-type {\n",
       "        vertical-align: middle;\n",
       "    }\n",
       "\n",
       "    .dataframe tbody tr th {\n",
       "        vertical-align: top;\n",
       "    }\n",
       "\n",
       "    .dataframe thead th {\n",
       "        text-align: right;\n",
       "    }\n",
       "</style>\n",
       "<table border=\"1\" class=\"dataframe\">\n",
       "  <thead>\n",
       "    <tr style=\"text-align: right;\">\n",
       "      <th></th>\n",
       "      <th>drv</th>\n",
       "      <th>hwy</th>\n",
       "    </tr>\n",
       "  </thead>\n",
       "  <tbody>\n",
       "    <tr>\n",
       "      <th>0</th>\n",
       "      <td>f</td>\n",
       "      <td>29.0</td>\n",
       "    </tr>\n",
       "    <tr>\n",
       "      <th>1</th>\n",
       "      <td>f</td>\n",
       "      <td>29.0</td>\n",
       "    </tr>\n",
       "    <tr>\n",
       "      <th>2</th>\n",
       "      <td>f</td>\n",
       "      <td>31.0</td>\n",
       "    </tr>\n",
       "    <tr>\n",
       "      <th>3</th>\n",
       "      <td>f</td>\n",
       "      <td>30.0</td>\n",
       "    </tr>\n",
       "    <tr>\n",
       "      <th>4</th>\n",
       "      <td>f</td>\n",
       "      <td>26.0</td>\n",
       "    </tr>\n",
       "    <tr>\n",
       "      <th>...</th>\n",
       "      <td>...</td>\n",
       "      <td>...</td>\n",
       "    </tr>\n",
       "    <tr>\n",
       "      <th>229</th>\n",
       "      <td>f</td>\n",
       "      <td>28.0</td>\n",
       "    </tr>\n",
       "    <tr>\n",
       "      <th>230</th>\n",
       "      <td>f</td>\n",
       "      <td>29.0</td>\n",
       "    </tr>\n",
       "    <tr>\n",
       "      <th>231</th>\n",
       "      <td>f</td>\n",
       "      <td>26.0</td>\n",
       "    </tr>\n",
       "    <tr>\n",
       "      <th>232</th>\n",
       "      <td>f</td>\n",
       "      <td>26.0</td>\n",
       "    </tr>\n",
       "    <tr>\n",
       "      <th>233</th>\n",
       "      <td>f</td>\n",
       "      <td>26.0</td>\n",
       "    </tr>\n",
       "  </tbody>\n",
       "</table>\n",
       "<p>229 rows × 2 columns</p>\n",
       "</div>"
      ],
      "text/plain": [
       "    drv   hwy\n",
       "0     f  29.0\n",
       "1     f  29.0\n",
       "2     f  31.0\n",
       "3     f  30.0\n",
       "4     f  26.0\n",
       "..   ..   ...\n",
       "229   f  28.0\n",
       "230   f  29.0\n",
       "231   f  26.0\n",
       "232   f  26.0\n",
       "233   f  26.0\n",
       "\n",
       "[229 rows x 2 columns]"
      ]
     },
     "execution_count": 33,
     "metadata": {},
     "output_type": "execute_result"
    }
   ],
   "source": [
    "정제df = mpg_df.filter(['drv', 'hwy']).dropna()\n",
    "정제df"
   ]
  },
  {
   "cell_type": "markdown",
   "id": "norman-breakfast",
   "metadata": {},
   "source": [
    "구동방식별 평균 구하기"
   ]
  },
  {
   "cell_type": "code",
   "execution_count": 34,
   "id": "confused-river",
   "metadata": {},
   "outputs": [
    {
     "data": {
      "text/html": [
       "<div>\n",
       "<style scoped>\n",
       "    .dataframe tbody tr th:only-of-type {\n",
       "        vertical-align: middle;\n",
       "    }\n",
       "\n",
       "    .dataframe tbody tr th {\n",
       "        vertical-align: top;\n",
       "    }\n",
       "\n",
       "    .dataframe thead th {\n",
       "        text-align: right;\n",
       "    }\n",
       "</style>\n",
       "<table border=\"1\" class=\"dataframe\">\n",
       "  <thead>\n",
       "    <tr style=\"text-align: right;\">\n",
       "      <th></th>\n",
       "      <th>hwy</th>\n",
       "    </tr>\n",
       "    <tr>\n",
       "      <th>drv</th>\n",
       "      <th></th>\n",
       "    </tr>\n",
       "  </thead>\n",
       "  <tbody>\n",
       "    <tr>\n",
       "      <th>4</th>\n",
       "      <td>19.262626</td>\n",
       "    </tr>\n",
       "    <tr>\n",
       "      <th>f</th>\n",
       "      <td>28.009524</td>\n",
       "    </tr>\n",
       "    <tr>\n",
       "      <th>r</th>\n",
       "      <td>21.000000</td>\n",
       "    </tr>\n",
       "  </tbody>\n",
       "</table>\n",
       "</div>"
      ],
      "text/plain": [
       "           hwy\n",
       "drv           \n",
       "4    19.262626\n",
       "f    28.009524\n",
       "r    21.000000"
      ]
     },
     "execution_count": 34,
     "metadata": {},
     "output_type": "execute_result"
    }
   ],
   "source": [
    "정제df.groupby('drv').mean()"
   ]
  },
  {
   "cell_type": "markdown",
   "id": "twelve-tucson",
   "metadata": {},
   "source": [
    "## 3) 이상치 정제\n",
    "### mpg 데이터에서 구동방식별 고속도로 연비 평균과 도시 연비 평균을 극단치를 제외하고 확인하시오.\n",
    "\n",
    "### 각 연비별 이상치 확인\n",
    "상자그림과 항께 상자그림의 상태값을 함께 출력하여 극단치 경계값을 찾아야 한다.\n",
    "> 상자그림의 출력 결과 고속도로 연비의 경우 37보다 큰 경우, 도시연비의 경우 26보다 큰 경우가 이상치인 것으로 확인된다."
   ]
  },
  {
   "cell_type": "code",
   "execution_count": 36,
   "id": "polished-pride",
   "metadata": {},
   "outputs": [
    {
     "data": {
      "image/png": "[encoded data removed]",
      "text/plain": [
       "<Figure size 1440x720 with 1 Axes>"
      ]
     },
     "metadata": {
      "needs_background": "light"
     },
     "output_type": "display_data"
    }
   ],
   "source": [
    "mydf = mpg_df.filter(['drv', 'hwy', 'cty'])\n",
    "mydf.boxplot()\n",
    "pyplot.show()"
   ]
  },
  {
   "cell_type": "markdown",
   "id": "convertible-shell",
   "metadata": {},
   "source": [
    "### 3사분위 수 얻기"
   ]
  },
  {
   "cell_type": "code",
   "execution_count": 37,
   "id": "imperial-colors",
   "metadata": {},
   "outputs": [
    {
     "data": {
      "text/plain": [
       "hwy    27.0\n",
       "cty    19.0\n",
       "Name: 0.75, dtype: float64"
      ]
     },
     "execution_count": 37,
     "metadata": {},
     "output_type": "execute_result"
    }
   ],
   "source": [
    "사분위수3 = mydf.quantile(q=0.75)\n",
    "사분위수3"
   ]
  },
  {
   "cell_type": "markdown",
   "id": "scheduled-virus",
   "metadata": {},
   "source": [
    "### 1사분위 수 얻기"
   ]
  },
  {
   "cell_type": "code",
   "execution_count": 38,
   "id": "ahead-inquiry",
   "metadata": {},
   "outputs": [
    {
     "data": {
      "text/plain": [
       "hwy    18.0\n",
       "cty    14.0\n",
       "Name: 0.25, dtype: float64"
      ]
     },
     "execution_count": 38,
     "metadata": {},
     "output_type": "execute_result"
    }
   ],
   "source": [
    "사분위수1 = mydf.quantile(q=0.25)\n",
    "사분위수1"
   ]
  },
  {
   "cell_type": "markdown",
   "id": "joined-traffic",
   "metadata": {},
   "source": [
    "### iqr 값 얻기 (3사분위 수와 1사분위 수의 차)"
   ]
  },
  {
   "cell_type": "code",
   "execution_count": 39,
   "id": "about-garage",
   "metadata": {},
   "outputs": [
    {
     "data": {
      "text/plain": [
       "hwy    9.0\n",
       "cty    5.0\n",
       "dtype: float64"
      ]
     },
     "execution_count": 39,
     "metadata": {},
     "output_type": "execute_result"
    }
   ],
   "source": [
    "iqr = 사분위수3 - 사분위수1\n",
    "iqr"
   ]
  },
  {
   "cell_type": "markdown",
   "id": "preceding-hours",
   "metadata": {},
   "source": [
    "### 최저 한계치(lower fence) 얻기\n",
    "최저 한계치는 실제로 존재하는 값이 아니라 계산을 통해 얻어진 수치값이다."
   ]
  },
  {
   "cell_type": "code",
   "execution_count": 41,
   "id": "distant-capacity",
   "metadata": {},
   "outputs": [
    {
     "data": {
      "text/plain": [
       "hwy    4.5\n",
       "cty    6.5\n",
       "dtype: float64"
      ]
     },
     "execution_count": 41,
     "metadata": {},
     "output_type": "execute_result"
    }
   ],
   "source": [
    "최저한계치 = 사분위수1 - 1.5 * iqr\n",
    "최저한계치"
   ]
  },
  {
   "cell_type": "markdown",
   "id": "eastern-madonna",
   "metadata": {},
   "source": [
    "### 최고 한계치(upper fence) 얻기\n",
    "최고 한계치는 실제로 존재하는 값이 아니라 계산을 통해 얻어진 수치값이다."
   ]
  },
  {
   "cell_type": "code",
   "execution_count": 43,
   "id": "genetic-edinburgh",
   "metadata": {},
   "outputs": [
    {
     "data": {
      "text/plain": [
       "hwy    40.5\n",
       "cty    26.5\n",
       "dtype: float64"
      ]
     },
     "execution_count": 43,
     "metadata": {},
     "output_type": "execute_result"
    }
   ],
   "source": [
    "최고한계치 = 사분위수3 + 1.5 * iqr\n",
    "최고한계치"
   ]
  },
  {
   "cell_type": "markdown",
   "id": "affected-building",
   "metadata": {},
   "source": [
    "### 아래 수평선 (극단치 경계) 값 얻기\n",
    "최저한계치보다 큰 것들 중 최소값"
   ]
  },
  {
   "cell_type": "code",
   "execution_count": 44,
   "id": "boolean-catalog",
   "metadata": {},
   "outputs": [
    {
     "name": "stderr",
     "output_type": "stream",
     "text": [
      "<ipython-input-44-4f09d8268cc4>:1: FutureWarning: Automatic reindexing on DataFrame vs Series comparisons is deprecated and will raise ValueError in a future version.  Do `left, right = left.align(right, axis=1, copy=False)` before e.g. `left == right`\n",
      "  mydf[mydf>최저한계치].min()\n"
     ]
    },
    {
     "data": {
      "text/plain": [
       "drv    None\n",
       "hwy    12.0\n",
       "cty       9\n",
       "dtype: object"
      ]
     },
     "execution_count": 44,
     "metadata": {},
     "output_type": "execute_result"
    }
   ],
   "source": [
    "mydf[mydf>최저한계치].min()"
   ]
  },
  {
   "cell_type": "markdown",
   "id": "tender-thanks",
   "metadata": {},
   "source": [
    "### 제일 위 수평선 (극단치 경계) 값 얻기\n",
    "최고한계치보다 작은 것들 중 최대값"
   ]
  },
  {
   "cell_type": "code",
   "execution_count": 46,
   "id": "ignored-chicken",
   "metadata": {},
   "outputs": [
    {
     "name": "stderr",
     "output_type": "stream",
     "text": [
      "<ipython-input-46-e80b280df7ed>:1: FutureWarning: Automatic reindexing on DataFrame vs Series comparisons is deprecated and will raise ValueError in a future version.  Do `left, right = left.align(right, axis=1, copy=False)` before e.g. `left == right`\n",
      "  극단치경계 = mydf[mydf<최고한계치].max()\n"
     ]
    },
    {
     "data": {
      "text/plain": [
       "drv    None\n",
       "hwy    37.0\n",
       "cty    26.0\n",
       "dtype: object"
      ]
     },
     "execution_count": 46,
     "metadata": {},
     "output_type": "execute_result"
    }
   ],
   "source": [
    "극단치경계 = mydf[mydf<최고한계치].max()\n",
    "극단치경계"
   ]
  },
  {
   "cell_type": "markdown",
   "id": "adapted-geography",
   "metadata": {},
   "source": [
    "### 이상치를 결측치로 변경하기\n",
    "a) 고속도로 연비의 이상치 데이터 추출하기"
   ]
  },
  {
   "cell_type": "code",
   "execution_count": 52,
   "id": "aerial-vatican",
   "metadata": {},
   "outputs": [
    {
     "data": {
      "text/html": [
       "<div>\n",
       "<style scoped>\n",
       "    .dataframe tbody tr th:only-of-type {\n",
       "        vertical-align: middle;\n",
       "    }\n",
       "\n",
       "    .dataframe tbody tr th {\n",
       "        vertical-align: top;\n",
       "    }\n",
       "\n",
       "    .dataframe thead th {\n",
       "        text-align: right;\n",
       "    }\n",
       "</style>\n",
       "<table border=\"1\" class=\"dataframe\">\n",
       "  <thead>\n",
       "    <tr style=\"text-align: right;\">\n",
       "      <th></th>\n",
       "      <th>Unnamed: 0</th>\n",
       "      <th>manufacturer</th>\n",
       "      <th>model</th>\n",
       "      <th>displ</th>\n",
       "      <th>year</th>\n",
       "      <th>cyl</th>\n",
       "      <th>trans</th>\n",
       "      <th>drv</th>\n",
       "      <th>cty</th>\n",
       "      <th>hwy</th>\n",
       "      <th>fl</th>\n",
       "      <th>class</th>\n",
       "    </tr>\n",
       "  </thead>\n",
       "  <tbody>\n",
       "    <tr>\n",
       "      <th>221</th>\n",
       "      <td>222</td>\n",
       "      <td>volkswagen</td>\n",
       "      <td>new beetle</td>\n",
       "      <td>1.9</td>\n",
       "      <td>1999</td>\n",
       "      <td>4</td>\n",
       "      <td>manual(m5)</td>\n",
       "      <td>f</td>\n",
       "      <td>35</td>\n",
       "      <td>44.0</td>\n",
       "      <td>d</td>\n",
       "      <td>subcompact</td>\n",
       "    </tr>\n",
       "    <tr>\n",
       "      <th>222</th>\n",
       "      <td>223</td>\n",
       "      <td>volkswagen</td>\n",
       "      <td>new beetle</td>\n",
       "      <td>1.9</td>\n",
       "      <td>1999</td>\n",
       "      <td>4</td>\n",
       "      <td>auto(l4)</td>\n",
       "      <td>f</td>\n",
       "      <td>29</td>\n",
       "      <td>41.0</td>\n",
       "      <td>d</td>\n",
       "      <td>subcompact</td>\n",
       "    </tr>\n",
       "  </tbody>\n",
       "</table>\n",
       "</div>"
      ],
      "text/plain": [
       "     Unnamed: 0 manufacturer       model  displ  year  cyl       trans drv  \\\n",
       "221         222   volkswagen  new beetle    1.9  1999    4  manual(m5)   f   \n",
       "222         223   volkswagen  new beetle    1.9  1999    4    auto(l4)   f   \n",
       "\n",
       "     cty   hwy fl       class  \n",
       "221   35  44.0  d  subcompact  \n",
       "222   29  41.0  d  subcompact  "
      ]
     },
     "execution_count": 52,
     "metadata": {},
     "output_type": "execute_result"
    }
   ],
   "source": [
    "이상치df1 = mpg_df.query('hwy > '+str(극단치경계['hwy']))\n",
    "이상치df1"
   ]
  },
  {
   "cell_type": "markdown",
   "id": "silent-arctic",
   "metadata": {},
   "source": [
    "b) 도시 연비의 이상치 데이터 추출하기"
   ]
  },
  {
   "cell_type": "code",
   "execution_count": 53,
   "id": "confirmed-quarterly",
   "metadata": {},
   "outputs": [
    {
     "data": {
      "text/html": [
       "<div>\n",
       "<style scoped>\n",
       "    .dataframe tbody tr th:only-of-type {\n",
       "        vertical-align: middle;\n",
       "    }\n",
       "\n",
       "    .dataframe tbody tr th {\n",
       "        vertical-align: top;\n",
       "    }\n",
       "\n",
       "    .dataframe thead th {\n",
       "        text-align: right;\n",
       "    }\n",
       "</style>\n",
       "<table border=\"1\" class=\"dataframe\">\n",
       "  <thead>\n",
       "    <tr style=\"text-align: right;\">\n",
       "      <th></th>\n",
       "      <th>Unnamed: 0</th>\n",
       "      <th>manufacturer</th>\n",
       "      <th>model</th>\n",
       "      <th>displ</th>\n",
       "      <th>year</th>\n",
       "      <th>cyl</th>\n",
       "      <th>trans</th>\n",
       "      <th>drv</th>\n",
       "      <th>cty</th>\n",
       "      <th>hwy</th>\n",
       "      <th>fl</th>\n",
       "      <th>class</th>\n",
       "    </tr>\n",
       "  </thead>\n",
       "  <tbody>\n",
       "    <tr>\n",
       "      <th>99</th>\n",
       "      <td>100</td>\n",
       "      <td>honda</td>\n",
       "      <td>civic</td>\n",
       "      <td>1.6</td>\n",
       "      <td>1999</td>\n",
       "      <td>4</td>\n",
       "      <td>manual(m5)</td>\n",
       "      <td>f</td>\n",
       "      <td>28</td>\n",
       "      <td>33.0</td>\n",
       "      <td>r</td>\n",
       "      <td>subcompact</td>\n",
       "    </tr>\n",
       "    <tr>\n",
       "      <th>196</th>\n",
       "      <td>197</td>\n",
       "      <td>toyota</td>\n",
       "      <td>corolla</td>\n",
       "      <td>1.8</td>\n",
       "      <td>2008</td>\n",
       "      <td>4</td>\n",
       "      <td>manual(m5)</td>\n",
       "      <td>f</td>\n",
       "      <td>28</td>\n",
       "      <td>37.0</td>\n",
       "      <td>r</td>\n",
       "      <td>compact</td>\n",
       "    </tr>\n",
       "    <tr>\n",
       "      <th>212</th>\n",
       "      <td>213</td>\n",
       "      <td>volkswagen</td>\n",
       "      <td>jetta</td>\n",
       "      <td>1.9</td>\n",
       "      <td>1999</td>\n",
       "      <td>4</td>\n",
       "      <td>manual(m5)</td>\n",
       "      <td>f</td>\n",
       "      <td>33</td>\n",
       "      <td>NaN</td>\n",
       "      <td>d</td>\n",
       "      <td>compact</td>\n",
       "    </tr>\n",
       "    <tr>\n",
       "      <th>221</th>\n",
       "      <td>222</td>\n",
       "      <td>volkswagen</td>\n",
       "      <td>new beetle</td>\n",
       "      <td>1.9</td>\n",
       "      <td>1999</td>\n",
       "      <td>4</td>\n",
       "      <td>manual(m5)</td>\n",
       "      <td>f</td>\n",
       "      <td>35</td>\n",
       "      <td>44.0</td>\n",
       "      <td>d</td>\n",
       "      <td>subcompact</td>\n",
       "    </tr>\n",
       "    <tr>\n",
       "      <th>222</th>\n",
       "      <td>223</td>\n",
       "      <td>volkswagen</td>\n",
       "      <td>new beetle</td>\n",
       "      <td>1.9</td>\n",
       "      <td>1999</td>\n",
       "      <td>4</td>\n",
       "      <td>auto(l4)</td>\n",
       "      <td>f</td>\n",
       "      <td>29</td>\n",
       "      <td>41.0</td>\n",
       "      <td>d</td>\n",
       "      <td>subcompact</td>\n",
       "    </tr>\n",
       "  </tbody>\n",
       "</table>\n",
       "</div>"
      ],
      "text/plain": [
       "     Unnamed: 0 manufacturer       model  displ  year  cyl       trans drv  \\\n",
       "99          100        honda       civic    1.6  1999    4  manual(m5)   f   \n",
       "196         197       toyota     corolla    1.8  2008    4  manual(m5)   f   \n",
       "212         213   volkswagen       jetta    1.9  1999    4  manual(m5)   f   \n",
       "221         222   volkswagen  new beetle    1.9  1999    4  manual(m5)   f   \n",
       "222         223   volkswagen  new beetle    1.9  1999    4    auto(l4)   f   \n",
       "\n",
       "     cty   hwy fl       class  \n",
       "99    28  33.0  r  subcompact  \n",
       "196   28  37.0  r     compact  \n",
       "212   33   NaN  d     compact  \n",
       "221   35  44.0  d  subcompact  \n",
       "222   29  41.0  d  subcompact  "
      ]
     },
     "execution_count": 53,
     "metadata": {},
     "output_type": "execute_result"
    }
   ],
   "source": [
    "이상치df2 = mpg_df.query('cty > '+str(극단치경계['cty']))\n",
    "이상치df2"
   ]
  },
  {
   "cell_type": "markdown",
   "id": "demonstrated-encoding",
   "metadata": {},
   "source": [
    "c) 정제를 위한 복사본 생성"
   ]
  },
  {
   "cell_type": "code",
   "execution_count": 54,
   "id": "answering-drain",
   "metadata": {},
   "outputs": [
    {
     "data": {
      "text/html": [
       "<div>\n",
       "<style scoped>\n",
       "    .dataframe tbody tr th:only-of-type {\n",
       "        vertical-align: middle;\n",
       "    }\n",
       "\n",
       "    .dataframe tbody tr th {\n",
       "        vertical-align: top;\n",
       "    }\n",
       "\n",
       "    .dataframe thead th {\n",
       "        text-align: right;\n",
       "    }\n",
       "</style>\n",
       "<table border=\"1\" class=\"dataframe\">\n",
       "  <thead>\n",
       "    <tr style=\"text-align: right;\">\n",
       "      <th></th>\n",
       "      <th>Unnamed: 0</th>\n",
       "      <th>manufacturer</th>\n",
       "      <th>model</th>\n",
       "      <th>displ</th>\n",
       "      <th>year</th>\n",
       "      <th>cyl</th>\n",
       "      <th>trans</th>\n",
       "      <th>drv</th>\n",
       "      <th>cty</th>\n",
       "      <th>hwy</th>\n",
       "      <th>fl</th>\n",
       "      <th>class</th>\n",
       "    </tr>\n",
       "  </thead>\n",
       "  <tbody>\n",
       "    <tr>\n",
       "      <th>0</th>\n",
       "      <td>1</td>\n",
       "      <td>audi</td>\n",
       "      <td>a4</td>\n",
       "      <td>1.8</td>\n",
       "      <td>1999</td>\n",
       "      <td>4</td>\n",
       "      <td>auto(l5)</td>\n",
       "      <td>f</td>\n",
       "      <td>18</td>\n",
       "      <td>29.0</td>\n",
       "      <td>p</td>\n",
       "      <td>compact</td>\n",
       "    </tr>\n",
       "    <tr>\n",
       "      <th>1</th>\n",
       "      <td>2</td>\n",
       "      <td>audi</td>\n",
       "      <td>a4</td>\n",
       "      <td>1.8</td>\n",
       "      <td>1999</td>\n",
       "      <td>4</td>\n",
       "      <td>manual(m5)</td>\n",
       "      <td>f</td>\n",
       "      <td>21</td>\n",
       "      <td>29.0</td>\n",
       "      <td>p</td>\n",
       "      <td>compact</td>\n",
       "    </tr>\n",
       "    <tr>\n",
       "      <th>2</th>\n",
       "      <td>3</td>\n",
       "      <td>audi</td>\n",
       "      <td>a4</td>\n",
       "      <td>2.0</td>\n",
       "      <td>2008</td>\n",
       "      <td>4</td>\n",
       "      <td>manual(m6)</td>\n",
       "      <td>f</td>\n",
       "      <td>20</td>\n",
       "      <td>31.0</td>\n",
       "      <td>p</td>\n",
       "      <td>compact</td>\n",
       "    </tr>\n",
       "    <tr>\n",
       "      <th>3</th>\n",
       "      <td>4</td>\n",
       "      <td>audi</td>\n",
       "      <td>a4</td>\n",
       "      <td>2.0</td>\n",
       "      <td>2008</td>\n",
       "      <td>4</td>\n",
       "      <td>auto(av)</td>\n",
       "      <td>f</td>\n",
       "      <td>21</td>\n",
       "      <td>30.0</td>\n",
       "      <td>p</td>\n",
       "      <td>compact</td>\n",
       "    </tr>\n",
       "    <tr>\n",
       "      <th>4</th>\n",
       "      <td>5</td>\n",
       "      <td>audi</td>\n",
       "      <td>a4</td>\n",
       "      <td>2.8</td>\n",
       "      <td>1999</td>\n",
       "      <td>6</td>\n",
       "      <td>auto(l5)</td>\n",
       "      <td>f</td>\n",
       "      <td>16</td>\n",
       "      <td>26.0</td>\n",
       "      <td>p</td>\n",
       "      <td>compact</td>\n",
       "    </tr>\n",
       "    <tr>\n",
       "      <th>...</th>\n",
       "      <td>...</td>\n",
       "      <td>...</td>\n",
       "      <td>...</td>\n",
       "      <td>...</td>\n",
       "      <td>...</td>\n",
       "      <td>...</td>\n",
       "      <td>...</td>\n",
       "      <td>...</td>\n",
       "      <td>...</td>\n",
       "      <td>...</td>\n",
       "      <td>...</td>\n",
       "      <td>...</td>\n",
       "    </tr>\n",
       "    <tr>\n",
       "      <th>229</th>\n",
       "      <td>230</td>\n",
       "      <td>volkswagen</td>\n",
       "      <td>passat</td>\n",
       "      <td>2.0</td>\n",
       "      <td>2008</td>\n",
       "      <td>4</td>\n",
       "      <td>auto(s6)</td>\n",
       "      <td>f</td>\n",
       "      <td>19</td>\n",
       "      <td>28.0</td>\n",
       "      <td>p</td>\n",
       "      <td>midsize</td>\n",
       "    </tr>\n",
       "    <tr>\n",
       "      <th>230</th>\n",
       "      <td>231</td>\n",
       "      <td>volkswagen</td>\n",
       "      <td>passat</td>\n",
       "      <td>2.0</td>\n",
       "      <td>2008</td>\n",
       "      <td>4</td>\n",
       "      <td>manual(m6)</td>\n",
       "      <td>f</td>\n",
       "      <td>21</td>\n",
       "      <td>29.0</td>\n",
       "      <td>p</td>\n",
       "      <td>midsize</td>\n",
       "    </tr>\n",
       "    <tr>\n",
       "      <th>231</th>\n",
       "      <td>232</td>\n",
       "      <td>volkswagen</td>\n",
       "      <td>passat</td>\n",
       "      <td>2.8</td>\n",
       "      <td>1999</td>\n",
       "      <td>6</td>\n",
       "      <td>auto(l5)</td>\n",
       "      <td>f</td>\n",
       "      <td>16</td>\n",
       "      <td>26.0</td>\n",
       "      <td>p</td>\n",
       "      <td>midsize</td>\n",
       "    </tr>\n",
       "    <tr>\n",
       "      <th>232</th>\n",
       "      <td>233</td>\n",
       "      <td>volkswagen</td>\n",
       "      <td>passat</td>\n",
       "      <td>2.8</td>\n",
       "      <td>1999</td>\n",
       "      <td>6</td>\n",
       "      <td>manual(m5)</td>\n",
       "      <td>f</td>\n",
       "      <td>18</td>\n",
       "      <td>26.0</td>\n",
       "      <td>p</td>\n",
       "      <td>midsize</td>\n",
       "    </tr>\n",
       "    <tr>\n",
       "      <th>233</th>\n",
       "      <td>234</td>\n",
       "      <td>volkswagen</td>\n",
       "      <td>passat</td>\n",
       "      <td>3.6</td>\n",
       "      <td>2008</td>\n",
       "      <td>6</td>\n",
       "      <td>auto(s6)</td>\n",
       "      <td>f</td>\n",
       "      <td>17</td>\n",
       "      <td>26.0</td>\n",
       "      <td>p</td>\n",
       "      <td>midsize</td>\n",
       "    </tr>\n",
       "  </tbody>\n",
       "</table>\n",
       "<p>234 rows × 12 columns</p>\n",
       "</div>"
      ],
      "text/plain": [
       "     Unnamed: 0 manufacturer   model  displ  year  cyl       trans drv  cty  \\\n",
       "0             1         audi      a4    1.8  1999    4    auto(l5)   f   18   \n",
       "1             2         audi      a4    1.8  1999    4  manual(m5)   f   21   \n",
       "2             3         audi      a4    2.0  2008    4  manual(m6)   f   20   \n",
       "3             4         audi      a4    2.0  2008    4    auto(av)   f   21   \n",
       "4             5         audi      a4    2.8  1999    6    auto(l5)   f   16   \n",
       "..          ...          ...     ...    ...   ...  ...         ...  ..  ...   \n",
       "229         230   volkswagen  passat    2.0  2008    4    auto(s6)   f   19   \n",
       "230         231   volkswagen  passat    2.0  2008    4  manual(m6)   f   21   \n",
       "231         232   volkswagen  passat    2.8  1999    6    auto(l5)   f   16   \n",
       "232         233   volkswagen  passat    2.8  1999    6  manual(m5)   f   18   \n",
       "233         234   volkswagen  passat    3.6  2008    6    auto(s6)   f   17   \n",
       "\n",
       "      hwy fl    class  \n",
       "0    29.0  p  compact  \n",
       "1    29.0  p  compact  \n",
       "2    31.0  p  compact  \n",
       "3    30.0  p  compact  \n",
       "4    26.0  p  compact  \n",
       "..    ... ..      ...  \n",
       "229  28.0  p  midsize  \n",
       "230  29.0  p  midsize  \n",
       "231  26.0  p  midsize  \n",
       "232  26.0  p  midsize  \n",
       "233  26.0  p  midsize  \n",
       "\n",
       "[234 rows x 12 columns]"
      ]
     },
     "execution_count": 54,
     "metadata": {},
     "output_type": "execute_result"
    }
   ],
   "source": [
    "이상치정제df = mpg_df.copy()\n",
    "이상치정제df"
   ]
  },
  {
   "cell_type": "markdown",
   "id": "related-volleyball",
   "metadata": {},
   "source": [
    "d) 고속도로 연비에 대한 이상치를 결측치로 변경"
   ]
  },
  {
   "cell_type": "code",
   "execution_count": 55,
   "id": "narrative-chess",
   "metadata": {},
   "outputs": [
    {
     "data": {
      "text/html": [
       "<div>\n",
       "<style scoped>\n",
       "    .dataframe tbody tr th:only-of-type {\n",
       "        vertical-align: middle;\n",
       "    }\n",
       "\n",
       "    .dataframe tbody tr th {\n",
       "        vertical-align: top;\n",
       "    }\n",
       "\n",
       "    .dataframe thead th {\n",
       "        text-align: right;\n",
       "    }\n",
       "</style>\n",
       "<table border=\"1\" class=\"dataframe\">\n",
       "  <thead>\n",
       "    <tr style=\"text-align: right;\">\n",
       "      <th></th>\n",
       "      <th>Unnamed: 0</th>\n",
       "      <th>manufacturer</th>\n",
       "      <th>model</th>\n",
       "      <th>displ</th>\n",
       "      <th>year</th>\n",
       "      <th>cyl</th>\n",
       "      <th>trans</th>\n",
       "      <th>drv</th>\n",
       "      <th>cty</th>\n",
       "      <th>hwy</th>\n",
       "      <th>fl</th>\n",
       "      <th>class</th>\n",
       "    </tr>\n",
       "  </thead>\n",
       "  <tbody>\n",
       "    <tr>\n",
       "      <th>0</th>\n",
       "      <td>1</td>\n",
       "      <td>audi</td>\n",
       "      <td>a4</td>\n",
       "      <td>1.8</td>\n",
       "      <td>1999</td>\n",
       "      <td>4</td>\n",
       "      <td>auto(l5)</td>\n",
       "      <td>f</td>\n",
       "      <td>18</td>\n",
       "      <td>29.0</td>\n",
       "      <td>p</td>\n",
       "      <td>compact</td>\n",
       "    </tr>\n",
       "    <tr>\n",
       "      <th>1</th>\n",
       "      <td>2</td>\n",
       "      <td>audi</td>\n",
       "      <td>a4</td>\n",
       "      <td>1.8</td>\n",
       "      <td>1999</td>\n",
       "      <td>4</td>\n",
       "      <td>manual(m5)</td>\n",
       "      <td>f</td>\n",
       "      <td>21</td>\n",
       "      <td>29.0</td>\n",
       "      <td>p</td>\n",
       "      <td>compact</td>\n",
       "    </tr>\n",
       "    <tr>\n",
       "      <th>2</th>\n",
       "      <td>3</td>\n",
       "      <td>audi</td>\n",
       "      <td>a4</td>\n",
       "      <td>2.0</td>\n",
       "      <td>2008</td>\n",
       "      <td>4</td>\n",
       "      <td>manual(m6)</td>\n",
       "      <td>f</td>\n",
       "      <td>20</td>\n",
       "      <td>31.0</td>\n",
       "      <td>p</td>\n",
       "      <td>compact</td>\n",
       "    </tr>\n",
       "    <tr>\n",
       "      <th>3</th>\n",
       "      <td>4</td>\n",
       "      <td>audi</td>\n",
       "      <td>a4</td>\n",
       "      <td>2.0</td>\n",
       "      <td>2008</td>\n",
       "      <td>4</td>\n",
       "      <td>auto(av)</td>\n",
       "      <td>f</td>\n",
       "      <td>21</td>\n",
       "      <td>30.0</td>\n",
       "      <td>p</td>\n",
       "      <td>compact</td>\n",
       "    </tr>\n",
       "    <tr>\n",
       "      <th>4</th>\n",
       "      <td>5</td>\n",
       "      <td>audi</td>\n",
       "      <td>a4</td>\n",
       "      <td>2.8</td>\n",
       "      <td>1999</td>\n",
       "      <td>6</td>\n",
       "      <td>auto(l5)</td>\n",
       "      <td>f</td>\n",
       "      <td>16</td>\n",
       "      <td>26.0</td>\n",
       "      <td>p</td>\n",
       "      <td>compact</td>\n",
       "    </tr>\n",
       "    <tr>\n",
       "      <th>...</th>\n",
       "      <td>...</td>\n",
       "      <td>...</td>\n",
       "      <td>...</td>\n",
       "      <td>...</td>\n",
       "      <td>...</td>\n",
       "      <td>...</td>\n",
       "      <td>...</td>\n",
       "      <td>...</td>\n",
       "      <td>...</td>\n",
       "      <td>...</td>\n",
       "      <td>...</td>\n",
       "      <td>...</td>\n",
       "    </tr>\n",
       "    <tr>\n",
       "      <th>229</th>\n",
       "      <td>230</td>\n",
       "      <td>volkswagen</td>\n",
       "      <td>passat</td>\n",
       "      <td>2.0</td>\n",
       "      <td>2008</td>\n",
       "      <td>4</td>\n",
       "      <td>auto(s6)</td>\n",
       "      <td>f</td>\n",
       "      <td>19</td>\n",
       "      <td>28.0</td>\n",
       "      <td>p</td>\n",
       "      <td>midsize</td>\n",
       "    </tr>\n",
       "    <tr>\n",
       "      <th>230</th>\n",
       "      <td>231</td>\n",
       "      <td>volkswagen</td>\n",
       "      <td>passat</td>\n",
       "      <td>2.0</td>\n",
       "      <td>2008</td>\n",
       "      <td>4</td>\n",
       "      <td>manual(m6)</td>\n",
       "      <td>f</td>\n",
       "      <td>21</td>\n",
       "      <td>29.0</td>\n",
       "      <td>p</td>\n",
       "      <td>midsize</td>\n",
       "    </tr>\n",
       "    <tr>\n",
       "      <th>231</th>\n",
       "      <td>232</td>\n",
       "      <td>volkswagen</td>\n",
       "      <td>passat</td>\n",
       "      <td>2.8</td>\n",
       "      <td>1999</td>\n",
       "      <td>6</td>\n",
       "      <td>auto(l5)</td>\n",
       "      <td>f</td>\n",
       "      <td>16</td>\n",
       "      <td>26.0</td>\n",
       "      <td>p</td>\n",
       "      <td>midsize</td>\n",
       "    </tr>\n",
       "    <tr>\n",
       "      <th>232</th>\n",
       "      <td>233</td>\n",
       "      <td>volkswagen</td>\n",
       "      <td>passat</td>\n",
       "      <td>2.8</td>\n",
       "      <td>1999</td>\n",
       "      <td>6</td>\n",
       "      <td>manual(m5)</td>\n",
       "      <td>f</td>\n",
       "      <td>18</td>\n",
       "      <td>26.0</td>\n",
       "      <td>p</td>\n",
       "      <td>midsize</td>\n",
       "    </tr>\n",
       "    <tr>\n",
       "      <th>233</th>\n",
       "      <td>234</td>\n",
       "      <td>volkswagen</td>\n",
       "      <td>passat</td>\n",
       "      <td>3.6</td>\n",
       "      <td>2008</td>\n",
       "      <td>6</td>\n",
       "      <td>auto(s6)</td>\n",
       "      <td>f</td>\n",
       "      <td>17</td>\n",
       "      <td>26.0</td>\n",
       "      <td>p</td>\n",
       "      <td>midsize</td>\n",
       "    </tr>\n",
       "  </tbody>\n",
       "</table>\n",
       "<p>234 rows × 12 columns</p>\n",
       "</div>"
      ],
      "text/plain": [
       "     Unnamed: 0 manufacturer   model  displ  year  cyl       trans drv  cty  \\\n",
       "0             1         audi      a4    1.8  1999    4    auto(l5)   f   18   \n",
       "1             2         audi      a4    1.8  1999    4  manual(m5)   f   21   \n",
       "2             3         audi      a4    2.0  2008    4  manual(m6)   f   20   \n",
       "3             4         audi      a4    2.0  2008    4    auto(av)   f   21   \n",
       "4             5         audi      a4    2.8  1999    6    auto(l5)   f   16   \n",
       "..          ...          ...     ...    ...   ...  ...         ...  ..  ...   \n",
       "229         230   volkswagen  passat    2.0  2008    4    auto(s6)   f   19   \n",
       "230         231   volkswagen  passat    2.0  2008    4  manual(m6)   f   21   \n",
       "231         232   volkswagen  passat    2.8  1999    6    auto(l5)   f   16   \n",
       "232         233   volkswagen  passat    2.8  1999    6  manual(m5)   f   18   \n",
       "233         234   volkswagen  passat    3.6  2008    6    auto(s6)   f   17   \n",
       "\n",
       "      hwy fl    class  \n",
       "0    29.0  p  compact  \n",
       "1    29.0  p  compact  \n",
       "2    31.0  p  compact  \n",
       "3    30.0  p  compact  \n",
       "4    26.0  p  compact  \n",
       "..    ... ..      ...  \n",
       "229  28.0  p  midsize  \n",
       "230  29.0  p  midsize  \n",
       "231  26.0  p  midsize  \n",
       "232  26.0  p  midsize  \n",
       "233  26.0  p  midsize  \n",
       "\n",
       "[234 rows x 12 columns]"
      ]
     },
     "execution_count": 55,
     "metadata": {},
     "output_type": "execute_result"
    }
   ],
   "source": [
    "for i in 이상치df1.index:\n",
    "    이상치정제df.loc[i, 'hwy'] = numpy.nan\n",
    "    \n",
    "이상치정제df"
   ]
  },
  {
   "cell_type": "markdown",
   "id": "humanitarian-baking",
   "metadata": {},
   "source": [
    "e) 도시 연비에 대한 이상치를 결측치로 변경"
   ]
  },
  {
   "cell_type": "code",
   "execution_count": 56,
   "id": "combined-petersburg",
   "metadata": {},
   "outputs": [
    {
     "data": {
      "text/html": [
       "<div>\n",
       "<style scoped>\n",
       "    .dataframe tbody tr th:only-of-type {\n",
       "        vertical-align: middle;\n",
       "    }\n",
       "\n",
       "    .dataframe tbody tr th {\n",
       "        vertical-align: top;\n",
       "    }\n",
       "\n",
       "    .dataframe thead th {\n",
       "        text-align: right;\n",
       "    }\n",
       "</style>\n",
       "<table border=\"1\" class=\"dataframe\">\n",
       "  <thead>\n",
       "    <tr style=\"text-align: right;\">\n",
       "      <th></th>\n",
       "      <th>Unnamed: 0</th>\n",
       "      <th>manufacturer</th>\n",
       "      <th>model</th>\n",
       "      <th>displ</th>\n",
       "      <th>year</th>\n",
       "      <th>cyl</th>\n",
       "      <th>trans</th>\n",
       "      <th>drv</th>\n",
       "      <th>cty</th>\n",
       "      <th>hwy</th>\n",
       "      <th>fl</th>\n",
       "      <th>class</th>\n",
       "    </tr>\n",
       "  </thead>\n",
       "  <tbody>\n",
       "    <tr>\n",
       "      <th>0</th>\n",
       "      <td>1</td>\n",
       "      <td>audi</td>\n",
       "      <td>a4</td>\n",
       "      <td>1.8</td>\n",
       "      <td>1999</td>\n",
       "      <td>4</td>\n",
       "      <td>auto(l5)</td>\n",
       "      <td>f</td>\n",
       "      <td>18.0</td>\n",
       "      <td>29.0</td>\n",
       "      <td>p</td>\n",
       "      <td>compact</td>\n",
       "    </tr>\n",
       "    <tr>\n",
       "      <th>1</th>\n",
       "      <td>2</td>\n",
       "      <td>audi</td>\n",
       "      <td>a4</td>\n",
       "      <td>1.8</td>\n",
       "      <td>1999</td>\n",
       "      <td>4</td>\n",
       "      <td>manual(m5)</td>\n",
       "      <td>f</td>\n",
       "      <td>21.0</td>\n",
       "      <td>29.0</td>\n",
       "      <td>p</td>\n",
       "      <td>compact</td>\n",
       "    </tr>\n",
       "    <tr>\n",
       "      <th>2</th>\n",
       "      <td>3</td>\n",
       "      <td>audi</td>\n",
       "      <td>a4</td>\n",
       "      <td>2.0</td>\n",
       "      <td>2008</td>\n",
       "      <td>4</td>\n",
       "      <td>manual(m6)</td>\n",
       "      <td>f</td>\n",
       "      <td>20.0</td>\n",
       "      <td>31.0</td>\n",
       "      <td>p</td>\n",
       "      <td>compact</td>\n",
       "    </tr>\n",
       "    <tr>\n",
       "      <th>3</th>\n",
       "      <td>4</td>\n",
       "      <td>audi</td>\n",
       "      <td>a4</td>\n",
       "      <td>2.0</td>\n",
       "      <td>2008</td>\n",
       "      <td>4</td>\n",
       "      <td>auto(av)</td>\n",
       "      <td>f</td>\n",
       "      <td>21.0</td>\n",
       "      <td>30.0</td>\n",
       "      <td>p</td>\n",
       "      <td>compact</td>\n",
       "    </tr>\n",
       "    <tr>\n",
       "      <th>4</th>\n",
       "      <td>5</td>\n",
       "      <td>audi</td>\n",
       "      <td>a4</td>\n",
       "      <td>2.8</td>\n",
       "      <td>1999</td>\n",
       "      <td>6</td>\n",
       "      <td>auto(l5)</td>\n",
       "      <td>f</td>\n",
       "      <td>16.0</td>\n",
       "      <td>26.0</td>\n",
       "      <td>p</td>\n",
       "      <td>compact</td>\n",
       "    </tr>\n",
       "    <tr>\n",
       "      <th>...</th>\n",
       "      <td>...</td>\n",
       "      <td>...</td>\n",
       "      <td>...</td>\n",
       "      <td>...</td>\n",
       "      <td>...</td>\n",
       "      <td>...</td>\n",
       "      <td>...</td>\n",
       "      <td>...</td>\n",
       "      <td>...</td>\n",
       "      <td>...</td>\n",
       "      <td>...</td>\n",
       "      <td>...</td>\n",
       "    </tr>\n",
       "    <tr>\n",
       "      <th>229</th>\n",
       "      <td>230</td>\n",
       "      <td>volkswagen</td>\n",
       "      <td>passat</td>\n",
       "      <td>2.0</td>\n",
       "      <td>2008</td>\n",
       "      <td>4</td>\n",
       "      <td>auto(s6)</td>\n",
       "      <td>f</td>\n",
       "      <td>19.0</td>\n",
       "      <td>28.0</td>\n",
       "      <td>p</td>\n",
       "      <td>midsize</td>\n",
       "    </tr>\n",
       "    <tr>\n",
       "      <th>230</th>\n",
       "      <td>231</td>\n",
       "      <td>volkswagen</td>\n",
       "      <td>passat</td>\n",
       "      <td>2.0</td>\n",
       "      <td>2008</td>\n",
       "      <td>4</td>\n",
       "      <td>manual(m6)</td>\n",
       "      <td>f</td>\n",
       "      <td>21.0</td>\n",
       "      <td>29.0</td>\n",
       "      <td>p</td>\n",
       "      <td>midsize</td>\n",
       "    </tr>\n",
       "    <tr>\n",
       "      <th>231</th>\n",
       "      <td>232</td>\n",
       "      <td>volkswagen</td>\n",
       "      <td>passat</td>\n",
       "      <td>2.8</td>\n",
       "      <td>1999</td>\n",
       "      <td>6</td>\n",
       "      <td>auto(l5)</td>\n",
       "      <td>f</td>\n",
       "      <td>16.0</td>\n",
       "      <td>26.0</td>\n",
       "      <td>p</td>\n",
       "      <td>midsize</td>\n",
       "    </tr>\n",
       "    <tr>\n",
       "      <th>232</th>\n",
       "      <td>233</td>\n",
       "      <td>volkswagen</td>\n",
       "      <td>passat</td>\n",
       "      <td>2.8</td>\n",
       "      <td>1999</td>\n",
       "      <td>6</td>\n",
       "      <td>manual(m5)</td>\n",
       "      <td>f</td>\n",
       "      <td>18.0</td>\n",
       "      <td>26.0</td>\n",
       "      <td>p</td>\n",
       "      <td>midsize</td>\n",
       "    </tr>\n",
       "    <tr>\n",
       "      <th>233</th>\n",
       "      <td>234</td>\n",
       "      <td>volkswagen</td>\n",
       "      <td>passat</td>\n",
       "      <td>3.6</td>\n",
       "      <td>2008</td>\n",
       "      <td>6</td>\n",
       "      <td>auto(s6)</td>\n",
       "      <td>f</td>\n",
       "      <td>17.0</td>\n",
       "      <td>26.0</td>\n",
       "      <td>p</td>\n",
       "      <td>midsize</td>\n",
       "    </tr>\n",
       "  </tbody>\n",
       "</table>\n",
       "<p>234 rows × 12 columns</p>\n",
       "</div>"
      ],
      "text/plain": [
       "     Unnamed: 0 manufacturer   model  displ  year  cyl       trans drv   cty  \\\n",
       "0             1         audi      a4    1.8  1999    4    auto(l5)   f  18.0   \n",
       "1             2         audi      a4    1.8  1999    4  manual(m5)   f  21.0   \n",
       "2             3         audi      a4    2.0  2008    4  manual(m6)   f  20.0   \n",
       "3             4         audi      a4    2.0  2008    4    auto(av)   f  21.0   \n",
       "4             5         audi      a4    2.8  1999    6    auto(l5)   f  16.0   \n",
       "..          ...          ...     ...    ...   ...  ...         ...  ..   ...   \n",
       "229         230   volkswagen  passat    2.0  2008    4    auto(s6)   f  19.0   \n",
       "230         231   volkswagen  passat    2.0  2008    4  manual(m6)   f  21.0   \n",
       "231         232   volkswagen  passat    2.8  1999    6    auto(l5)   f  16.0   \n",
       "232         233   volkswagen  passat    2.8  1999    6  manual(m5)   f  18.0   \n",
       "233         234   volkswagen  passat    3.6  2008    6    auto(s6)   f  17.0   \n",
       "\n",
       "      hwy fl    class  \n",
       "0    29.0  p  compact  \n",
       "1    29.0  p  compact  \n",
       "2    31.0  p  compact  \n",
       "3    30.0  p  compact  \n",
       "4    26.0  p  compact  \n",
       "..    ... ..      ...  \n",
       "229  28.0  p  midsize  \n",
       "230  29.0  p  midsize  \n",
       "231  26.0  p  midsize  \n",
       "232  26.0  p  midsize  \n",
       "233  26.0  p  midsize  \n",
       "\n",
       "[234 rows x 12 columns]"
      ]
     },
     "execution_count": 56,
     "metadata": {},
     "output_type": "execute_result"
    }
   ],
   "source": [
    "for i in 이상치df2.index:\n",
    "    이상치정제df.loc[i, 'cty'] = numpy.nan\n",
    "    \n",
    "이상치정제df"
   ]
  },
  {
   "cell_type": "markdown",
   "id": "hollow-portable",
   "metadata": {},
   "source": [
    "f) 결측치 확인"
   ]
  },
  {
   "cell_type": "code",
   "execution_count": 58,
   "id": "stunning-coating",
   "metadata": {},
   "outputs": [
    {
     "data": {
      "text/plain": [
       "cty    5\n",
       "hwy    7\n",
       "dtype: int64"
      ]
     },
     "execution_count": 58,
     "metadata": {},
     "output_type": "execute_result"
    }
   ],
   "source": [
    "이상치정제df.filter(['cty', 'hwy']).isna().sum()"
   ]
  },
  {
   "cell_type": "markdown",
   "id": "independent-wildlife",
   "metadata": {},
   "source": [
    "### 결측치를 제거한 구동방식별 고속도로 연비 평균과 도시 연비 평균"
   ]
  },
  {
   "cell_type": "code",
   "execution_count": 59,
   "id": "dominant-restoration",
   "metadata": {},
   "outputs": [
    {
     "data": {
      "text/html": [
       "<div>\n",
       "<style scoped>\n",
       "    .dataframe tbody tr th:only-of-type {\n",
       "        vertical-align: middle;\n",
       "    }\n",
       "\n",
       "    .dataframe tbody tr th {\n",
       "        vertical-align: top;\n",
       "    }\n",
       "\n",
       "    .dataframe thead th {\n",
       "        text-align: right;\n",
       "    }\n",
       "</style>\n",
       "<table border=\"1\" class=\"dataframe\">\n",
       "  <thead>\n",
       "    <tr style=\"text-align: right;\">\n",
       "      <th></th>\n",
       "      <th>hwy</th>\n",
       "      <th>cty</th>\n",
       "    </tr>\n",
       "    <tr>\n",
       "      <th>drv</th>\n",
       "      <th></th>\n",
       "      <th></th>\n",
       "    </tr>\n",
       "  </thead>\n",
       "  <tbody>\n",
       "    <tr>\n",
       "      <th>4</th>\n",
       "      <td>19.262626</td>\n",
       "      <td>14.424242</td>\n",
       "    </tr>\n",
       "    <tr>\n",
       "      <th>f</th>\n",
       "      <td>27.584158</td>\n",
       "      <td>19.445545</td>\n",
       "    </tr>\n",
       "    <tr>\n",
       "      <th>r</th>\n",
       "      <td>21.000000</td>\n",
       "      <td>14.080000</td>\n",
       "    </tr>\n",
       "  </tbody>\n",
       "</table>\n",
       "</div>"
      ],
      "text/plain": [
       "           hwy        cty\n",
       "drv                      \n",
       "4    19.262626  14.424242\n",
       "f    27.584158  19.445545\n",
       "r    21.000000  14.080000"
      ]
     },
     "execution_count": 59,
     "metadata": {},
     "output_type": "execute_result"
    }
   ],
   "source": [
    "구동방식별연비평균df = 이상치정제df.filter(['drv', 'hwy', 'cty']).dropna().groupby('drv').mean()\n",
    "구동방식별연비평균df"
   ]
  },
  {
   "cell_type": "markdown",
   "id": "floral-patio",
   "metadata": {},
   "source": [
    "### R과 Python의 차이\n",
    "R은 결측치가 포함된 경우 어떠한 집계함수도 사용할 수 없기 때문에 무조건 정제과정이 필요<br>\n",
    "Python은 결측치를 제거하고 집계를 수행하므로 반드시 결측치를 제거할 필요는 없다."
   ]
  },
  {
   "cell_type": "code",
   "execution_count": 60,
   "id": "surface-native",
   "metadata": {},
   "outputs": [
    {
     "data": {
      "text/html": [
       "<div>\n",
       "<style scoped>\n",
       "    .dataframe tbody tr th:only-of-type {\n",
       "        vertical-align: middle;\n",
       "    }\n",
       "\n",
       "    .dataframe tbody tr th {\n",
       "        vertical-align: top;\n",
       "    }\n",
       "\n",
       "    .dataframe thead th {\n",
       "        text-align: right;\n",
       "    }\n",
       "</style>\n",
       "<table border=\"1\" class=\"dataframe\">\n",
       "  <thead>\n",
       "    <tr style=\"text-align: right;\">\n",
       "      <th></th>\n",
       "      <th>hwy</th>\n",
       "      <th>cty</th>\n",
       "    </tr>\n",
       "    <tr>\n",
       "      <th>drv</th>\n",
       "      <th></th>\n",
       "      <th></th>\n",
       "    </tr>\n",
       "  </thead>\n",
       "  <tbody>\n",
       "    <tr>\n",
       "      <th>4</th>\n",
       "      <td>19.262626</td>\n",
       "      <td>14.330097</td>\n",
       "    </tr>\n",
       "    <tr>\n",
       "      <th>f</th>\n",
       "      <td>27.728155</td>\n",
       "      <td>19.445545</td>\n",
       "    </tr>\n",
       "    <tr>\n",
       "      <th>r</th>\n",
       "      <td>21.000000</td>\n",
       "      <td>14.080000</td>\n",
       "    </tr>\n",
       "  </tbody>\n",
       "</table>\n",
       "</div>"
      ],
      "text/plain": [
       "           hwy        cty\n",
       "drv                      \n",
       "4    19.262626  14.330097\n",
       "f    27.728155  19.445545\n",
       "r    21.000000  14.080000"
      ]
     },
     "execution_count": 60,
     "metadata": {},
     "output_type": "execute_result"
    }
   ],
   "source": [
    "이상치정제df.filter(['drv', 'hwy', 'cty']).groupby('drv').mean()"
   ]
  },
  {
   "cell_type": "markdown",
   "id": "verified-income",
   "metadata": {},
   "source": [
    "## 4) 데이터 시각화\n",
    "### Q1) 앞에서 도출한 구동방식별 연비평균을 비교하기 위한 막대 그래프를 생성하시오."
   ]
  },
  {
   "cell_type": "code",
   "execution_count": 61,
   "id": "departmental-cement",
   "metadata": {},
   "outputs": [
    {
     "data": {
      "text/html": [
       "<div>\n",
       "<style scoped>\n",
       "    .dataframe tbody tr th:only-of-type {\n",
       "        vertical-align: middle;\n",
       "    }\n",
       "\n",
       "    .dataframe tbody tr th {\n",
       "        vertical-align: top;\n",
       "    }\n",
       "\n",
       "    .dataframe thead th {\n",
       "        text-align: right;\n",
       "    }\n",
       "</style>\n",
       "<table border=\"1\" class=\"dataframe\">\n",
       "  <thead>\n",
       "    <tr style=\"text-align: right;\">\n",
       "      <th></th>\n",
       "      <th>hwy</th>\n",
       "      <th>cty</th>\n",
       "    </tr>\n",
       "    <tr>\n",
       "      <th>drv</th>\n",
       "      <th></th>\n",
       "      <th></th>\n",
       "    </tr>\n",
       "  </thead>\n",
       "  <tbody>\n",
       "    <tr>\n",
       "      <th>4</th>\n",
       "      <td>19.262626</td>\n",
       "      <td>14.424242</td>\n",
       "    </tr>\n",
       "    <tr>\n",
       "      <th>f</th>\n",
       "      <td>27.584158</td>\n",
       "      <td>19.445545</td>\n",
       "    </tr>\n",
       "    <tr>\n",
       "      <th>r</th>\n",
       "      <td>21.000000</td>\n",
       "      <td>14.080000</td>\n",
       "    </tr>\n",
       "  </tbody>\n",
       "</table>\n",
       "</div>"
      ],
      "text/plain": [
       "           hwy        cty\n",
       "drv                      \n",
       "4    19.262626  14.424242\n",
       "f    27.584158  19.445545\n",
       "r    21.000000  14.080000"
      ]
     },
     "execution_count": 61,
     "metadata": {},
     "output_type": "execute_result"
    }
   ],
   "source": [
    "구동방식별연비평균df"
   ]
  },
  {
   "cell_type": "code",
   "execution_count": 62,
   "id": "understanding-investigator",
   "metadata": {},
   "outputs": [
    {
     "data": {
      "image/png": "[encoded data removed]",
      "text/plain": [
       "<Figure size 1440x720 with 1 Axes>"
      ]
     },
     "metadata": {
      "needs_background": "light"
     },
     "output_type": "display_data"
    }
   ],
   "source": [
    "구동방식별연비평균df.plot.bar(rot=0)\n",
    "pyplot.grid()\n",
    "pyplot.xticks([0, 1, 2], ['4륜구동', '전륜구동', '후륜구동'])\n",
    "pyplot.title('구동방식별 고속도로, 도시 평균 연비 비교')\n",
    "pyplot.ylabel('평균연비')\n",
    "pyplot.xlabel('구동방식')\n",
    "pyplot.show()"
   ]
  },
  {
   "cell_type": "markdown",
   "id": "referenced-train",
   "metadata": {},
   "source": [
    "### Q2) 자동차 중에서 어떤 class(차종)가 가장 많은지 알아보려고 한다.\n",
    "<b>자동차 종류별 빈도를 표현한 막대 그래프를 표현하시오.</b>\n",
    "\n",
    "값의 종류별 빈도수 검사"
   ]
  },
  {
   "cell_type": "code",
   "execution_count": 63,
   "id": "impossible-municipality",
   "metadata": {},
   "outputs": [
    {
     "data": {
      "text/plain": [
       "suv           62\n",
       "compact       47\n",
       "midsize       41\n",
       "subcompact    35\n",
       "pickup        33\n",
       "minivan       11\n",
       "2seater        5\n",
       "Name: class, dtype: int64"
      ]
     },
     "execution_count": 63,
     "metadata": {},
     "output_type": "execute_result"
    }
   ],
   "source": [
    "vcount = mpg_df['class'].value_counts()\n",
    "vcount"
   ]
  },
  {
   "cell_type": "markdown",
   "id": "ultimate-bracket",
   "metadata": {},
   "source": [
    "### 시리즈 객체를 통한 plot 객체 사용\n",
    "시리즈 객체 역시 pandas 패키지를 통해 제공되는 자료형이므로 DataFrame과 마찬가지로 pyplot 객체를 내장하고 있다."
   ]
  },
  {
   "cell_type": "code",
   "execution_count": 65,
   "id": "capital-planet",
   "metadata": {},
   "outputs": [
    {
     "data": {
      "image/png": "[encoded data removed]",
      "text/plain": [
       "<Figure size 1440x720 with 1 Axes>"
      ]
     },
     "metadata": {
      "needs_background": "light"
     },
     "output_type": "display_data"
    }
   ],
   "source": [
    "vcount.plot.bar(rot=0)\n",
    "pyplot.grid()\n",
    "pyplot.title('자동차 종류별 빈도')\n",
    "pyplot.ylabel('차량 수')\n",
    "pyplot.xlabel('종류')\n",
    "pyplot.show()"
   ]
  },
  {
   "cell_type": "markdown",
   "id": "coated-million",
   "metadata": {},
   "source": [
    "### Q3) 어떤 회사에서 생산한 'suv' 차종의 도시연비가 높은지 알아보려고 한다.\n",
    "<b>'suv' 차종을 대상으로 평균 도시연비가 가장 높은 회사 다섯곳을 막대그래프로 표현하시오</b>\n",
    "\n",
    "suv 차종에 대한 제조사별 도시연비 평균 구하기\n",
    "> 컬럼이름 class가 python의 예약어이므로 역따옴표로 감싼 상태로 명시해야 합니다."
   ]
  },
  {
   "cell_type": "code",
   "execution_count": 67,
   "id": "excessive-spank",
   "metadata": {},
   "outputs": [
    {
     "data": {
      "text/html": [
       "<div>\n",
       "<style scoped>\n",
       "    .dataframe tbody tr th:only-of-type {\n",
       "        vertical-align: middle;\n",
       "    }\n",
       "\n",
       "    .dataframe tbody tr th {\n",
       "        vertical-align: top;\n",
       "    }\n",
       "\n",
       "    .dataframe thead th {\n",
       "        text-align: right;\n",
       "    }\n",
       "</style>\n",
       "<table border=\"1\" class=\"dataframe\">\n",
       "  <thead>\n",
       "    <tr style=\"text-align: right;\">\n",
       "      <th></th>\n",
       "      <th>cty</th>\n",
       "    </tr>\n",
       "    <tr>\n",
       "      <th>manufacturer</th>\n",
       "      <th></th>\n",
       "    </tr>\n",
       "  </thead>\n",
       "  <tbody>\n",
       "    <tr>\n",
       "      <th>chevrolet</th>\n",
       "      <td>12.666667</td>\n",
       "    </tr>\n",
       "    <tr>\n",
       "      <th>dodge</th>\n",
       "      <td>11.857143</td>\n",
       "    </tr>\n",
       "    <tr>\n",
       "      <th>ford</th>\n",
       "      <td>12.888889</td>\n",
       "    </tr>\n",
       "    <tr>\n",
       "      <th>jeep</th>\n",
       "      <td>13.500000</td>\n",
       "    </tr>\n",
       "    <tr>\n",
       "      <th>land rover</th>\n",
       "      <td>11.500000</td>\n",
       "    </tr>\n",
       "    <tr>\n",
       "      <th>lincoln</th>\n",
       "      <td>11.333333</td>\n",
       "    </tr>\n",
       "    <tr>\n",
       "      <th>mercury</th>\n",
       "      <td>13.250000</td>\n",
       "    </tr>\n",
       "    <tr>\n",
       "      <th>nissan</th>\n",
       "      <td>13.750000</td>\n",
       "    </tr>\n",
       "    <tr>\n",
       "      <th>subaru</th>\n",
       "      <td>18.833333</td>\n",
       "    </tr>\n",
       "    <tr>\n",
       "      <th>toyota</th>\n",
       "      <td>14.375000</td>\n",
       "    </tr>\n",
       "  </tbody>\n",
       "</table>\n",
       "</div>"
      ],
      "text/plain": [
       "                    cty\n",
       "manufacturer           \n",
       "chevrolet     12.666667\n",
       "dodge         11.857143\n",
       "ford          12.888889\n",
       "jeep          13.500000\n",
       "land rover    11.500000\n",
       "lincoln       11.333333\n",
       "mercury       13.250000\n",
       "nissan        13.750000\n",
       "subaru        18.833333\n",
       "toyota        14.375000"
      ]
     },
     "execution_count": 67,
     "metadata": {},
     "output_type": "execute_result"
    }
   ],
   "source": [
    "제조사별suv연비평균df = mpg_df.query(\"`class`=='suv'\").filter(['manufacturer', 'cty']).groupby('manufacturer').mean()\n",
    "제조사별suv연비평균df"
   ]
  },
  {
   "cell_type": "markdown",
   "id": "better-heather",
   "metadata": {},
   "source": [
    "cty 컬럼을 기준으로 역순 정렬"
   ]
  },
  {
   "cell_type": "code",
   "execution_count": 68,
   "id": "chemical-hindu",
   "metadata": {},
   "outputs": [
    {
     "data": {
      "text/html": [
       "<div>\n",
       "<style scoped>\n",
       "    .dataframe tbody tr th:only-of-type {\n",
       "        vertical-align: middle;\n",
       "    }\n",
       "\n",
       "    .dataframe tbody tr th {\n",
       "        vertical-align: top;\n",
       "    }\n",
       "\n",
       "    .dataframe thead th {\n",
       "        text-align: right;\n",
       "    }\n",
       "</style>\n",
       "<table border=\"1\" class=\"dataframe\">\n",
       "  <thead>\n",
       "    <tr style=\"text-align: right;\">\n",
       "      <th></th>\n",
       "      <th>cty</th>\n",
       "    </tr>\n",
       "    <tr>\n",
       "      <th>manufacturer</th>\n",
       "      <th></th>\n",
       "    </tr>\n",
       "  </thead>\n",
       "  <tbody>\n",
       "    <tr>\n",
       "      <th>subaru</th>\n",
       "      <td>18.833333</td>\n",
       "    </tr>\n",
       "    <tr>\n",
       "      <th>toyota</th>\n",
       "      <td>14.375000</td>\n",
       "    </tr>\n",
       "    <tr>\n",
       "      <th>nissan</th>\n",
       "      <td>13.750000</td>\n",
       "    </tr>\n",
       "    <tr>\n",
       "      <th>jeep</th>\n",
       "      <td>13.500000</td>\n",
       "    </tr>\n",
       "    <tr>\n",
       "      <th>mercury</th>\n",
       "      <td>13.250000</td>\n",
       "    </tr>\n",
       "    <tr>\n",
       "      <th>ford</th>\n",
       "      <td>12.888889</td>\n",
       "    </tr>\n",
       "    <tr>\n",
       "      <th>chevrolet</th>\n",
       "      <td>12.666667</td>\n",
       "    </tr>\n",
       "    <tr>\n",
       "      <th>dodge</th>\n",
       "      <td>11.857143</td>\n",
       "    </tr>\n",
       "    <tr>\n",
       "      <th>land rover</th>\n",
       "      <td>11.500000</td>\n",
       "    </tr>\n",
       "    <tr>\n",
       "      <th>lincoln</th>\n",
       "      <td>11.333333</td>\n",
       "    </tr>\n",
       "  </tbody>\n",
       "</table>\n",
       "</div>"
      ],
      "text/plain": [
       "                    cty\n",
       "manufacturer           \n",
       "subaru        18.833333\n",
       "toyota        14.375000\n",
       "nissan        13.750000\n",
       "jeep          13.500000\n",
       "mercury       13.250000\n",
       "ford          12.888889\n",
       "chevrolet     12.666667\n",
       "dodge         11.857143\n",
       "land rover    11.500000\n",
       "lincoln       11.333333"
      ]
     },
     "execution_count": 68,
     "metadata": {},
     "output_type": "execute_result"
    }
   ],
   "source": [
    "제조사별suv연비정렬df = 제조사별suv연비평균df.sort_values('cty', ascending=False)\n",
    "제조사별suv연비정렬df"
   ]
  },
  {
   "cell_type": "markdown",
   "id": "dangerous-hollow",
   "metadata": {},
   "source": [
    "정렬결과에 대한 상위 5건 추출"
   ]
  },
  {
   "cell_type": "code",
   "execution_count": 69,
   "id": "integral-safety",
   "metadata": {},
   "outputs": [
    {
     "data": {
      "text/html": [
       "<div>\n",
       "<style scoped>\n",
       "    .dataframe tbody tr th:only-of-type {\n",
       "        vertical-align: middle;\n",
       "    }\n",
       "\n",
       "    .dataframe tbody tr th {\n",
       "        vertical-align: top;\n",
       "    }\n",
       "\n",
       "    .dataframe thead th {\n",
       "        text-align: right;\n",
       "    }\n",
       "</style>\n",
       "<table border=\"1\" class=\"dataframe\">\n",
       "  <thead>\n",
       "    <tr style=\"text-align: right;\">\n",
       "      <th></th>\n",
       "      <th>cty</th>\n",
       "    </tr>\n",
       "    <tr>\n",
       "      <th>manufacturer</th>\n",
       "      <th></th>\n",
       "    </tr>\n",
       "  </thead>\n",
       "  <tbody>\n",
       "    <tr>\n",
       "      <th>subaru</th>\n",
       "      <td>18.833333</td>\n",
       "    </tr>\n",
       "    <tr>\n",
       "      <th>toyota</th>\n",
       "      <td>14.375000</td>\n",
       "    </tr>\n",
       "    <tr>\n",
       "      <th>nissan</th>\n",
       "      <td>13.750000</td>\n",
       "    </tr>\n",
       "    <tr>\n",
       "      <th>jeep</th>\n",
       "      <td>13.500000</td>\n",
       "    </tr>\n",
       "    <tr>\n",
       "      <th>mercury</th>\n",
       "      <td>13.250000</td>\n",
       "    </tr>\n",
       "  </tbody>\n",
       "</table>\n",
       "</div>"
      ],
      "text/plain": [
       "                    cty\n",
       "manufacturer           \n",
       "subaru        18.833333\n",
       "toyota        14.375000\n",
       "nissan        13.750000\n",
       "jeep          13.500000\n",
       "mercury       13.250000"
      ]
     },
     "execution_count": 69,
     "metadata": {},
     "output_type": "execute_result"
    }
   ],
   "source": [
    "연비top5df = 제조사별suv연비정렬df.head(5)\n",
    "연비top5df"
   ]
  },
  {
   "cell_type": "markdown",
   "id": "canadian-cyprus",
   "metadata": {},
   "source": [
    "시각화"
   ]
  },
  {
   "cell_type": "code",
   "execution_count": 71,
   "id": "finite-marshall",
   "metadata": {},
   "outputs": [
    {
     "data": {
      "image/png": "[encoded data removed]",
      "text/plain": [
       "<Figure size 1440x720 with 1 Axes>"
      ]
     },
     "metadata": {
      "needs_background": "light"
     },
     "output_type": "display_data"
    }
   ],
   "source": [
    "연비top5df.plot.bar(rot=0)\n",
    "pyplot.grid()\n",
    "pyplot.title('제조사별 SUV 도시연비 TOP 5')\n",
    "pyplot.ylabel('연비')\n",
    "pyplot.xlabel('제조사')\n",
    "pyplot.show()"
   ]
  }
 ],
 "metadata": {
  "kernelspec": {
   "display_name": "Python 3",
   "language": "python",
   "name": "python3"
  },
  "language_info": {
   "codemirror_mode": {
    "name": "ipython",
    "version": 3
   },
   "file_extension": ".py",
   "mimetype": "text/x-python",
   "name": "python",
   "nbconvert_exporter": "python",
   "pygments_lexer": "ipython3",
   "version": "3.8.0"
  }
 },
 "nbformat": 4,
 "nbformat_minor": 5
}
