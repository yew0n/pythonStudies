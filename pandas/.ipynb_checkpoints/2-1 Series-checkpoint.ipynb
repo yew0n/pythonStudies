{
 "cells": [
  {
   "cell_type": "markdown",
   "id": "julian-indie",
   "metadata": {},
   "source": [
    "# 2-1 Series\n",
    "## 패키지 참조하기"
   ]
  },
  {
   "cell_type": "code",
   "execution_count": 16,
   "id": "electoral-committee",
   "metadata": {},
   "outputs": [
    {
     "name": "stderr",
     "output_type": "stream",
     "text": [
      "Matplotlib is building the font cache; this may take a moment.\n"
     ]
    }
   ],
   "source": [
    "from pandas import Series\n",
    "from matplotlib import pyplot"
   ]
  },
  {
   "cell_type": "markdown",
   "id": "enclosed-malaysia",
   "metadata": {},
   "source": [
    "## 리스트 데이터를 Series 객체로 생성하기"
   ]
  },
  {
   "cell_type": "code",
   "execution_count": 2,
   "id": "beginning-discount",
   "metadata": {},
   "outputs": [
    {
     "data": {
      "text/plain": [
       "0    10\n",
       "1    30\n",
       "2    50\n",
       "3    70\n",
       "4    90\n",
       "dtype: int64"
      ]
     },
     "execution_count": 2,
     "metadata": {},
     "output_type": "execute_result"
    }
   ],
   "source": [
    "item=[10,30,50,70,90]\n",
    "column = Series(item)\n",
    "column"
   ]
  },
  {
   "cell_type": "markdown",
   "id": "uniform-arctic",
   "metadata": {},
   "source": [
    "## 시리즈의 인덱스를 통한 개별 값 확인하기"
   ]
  },
  {
   "cell_type": "code",
   "execution_count": 4,
   "id": "endangered-finland",
   "metadata": {},
   "outputs": [
    {
     "name": "stdout",
     "output_type": "stream",
     "text": [
      "10\n",
      "50\n",
      "90\n"
     ]
    }
   ],
   "source": [
    "print(column[0])\n",
    "print(column[2])\n",
    "print(column[4])"
   ]
  },
  {
   "cell_type": "markdown",
   "id": "welsh-beverage",
   "metadata": {},
   "source": [
    "## 시리즈의 값만 추출하기"
   ]
  },
  {
   "cell_type": "code",
   "execution_count": 5,
   "id": "rational-conjunction",
   "metadata": {},
   "outputs": [
    {
     "name": "stdout",
     "output_type": "stream",
     "text": [
      "<class 'numpy.ndarray'>\n"
     ]
    },
    {
     "data": {
      "text/plain": [
       "array([10, 30, 50, 70, 90], dtype=int64)"
      ]
     },
     "execution_count": 5,
     "metadata": {},
     "output_type": "execute_result"
    }
   ],
   "source": [
    "v = column.values\n",
    "print(type(v))\n",
    "v"
   ]
  },
  {
   "cell_type": "markdown",
   "id": "important-width",
   "metadata": {},
   "source": [
    "## 시리즈 객체를 numpy 배열로 변환하기"
   ]
  },
  {
   "cell_type": "code",
   "execution_count": 6,
   "id": "quiet-wrapping",
   "metadata": {},
   "outputs": [
    {
     "name": "stdout",
     "output_type": "stream",
     "text": [
      "<class 'list'>\n"
     ]
    },
    {
     "data": {
      "text/plain": [
       "[10, 30, 50, 70, 90]"
      ]
     },
     "execution_count": 6,
     "metadata": {},
     "output_type": "execute_result"
    }
   ],
   "source": [
    "value_list = list(v)\n",
    "print(type(value_list))\n",
    "value_list"
   ]
  },
  {
   "cell_type": "markdown",
   "id": "neutral-restaurant",
   "metadata": {},
   "source": [
    "## 시리즈 객체를 리스트로 변환하기"
   ]
  },
  {
   "cell_type": "code",
   "execution_count": 7,
   "id": "tender-count",
   "metadata": {},
   "outputs": [
    {
     "name": "stdout",
     "output_type": "stream",
     "text": [
      "<class 'list'>\n"
     ]
    },
    {
     "data": {
      "text/plain": [
       "[10, 30, 50, 70, 90]"
      ]
     },
     "execution_count": 7,
     "metadata": {},
     "output_type": "execute_result"
    }
   ],
   "source": [
    "value_list2 = list(column.values)\n",
    "print(type(value_list2))\n",
    "value_list2"
   ]
  },
  {
   "cell_type": "markdown",
   "id": "dried-running",
   "metadata": {},
   "source": [
    "## 시리즈의 색인(index) 추출하기"
   ]
  },
  {
   "cell_type": "code",
   "execution_count": 8,
   "id": "august-pickup",
   "metadata": {},
   "outputs": [
    {
     "name": "stdout",
     "output_type": "stream",
     "text": [
      "<class 'pandas.core.indexes.range.RangeIndex'>\n"
     ]
    },
    {
     "data": {
      "text/plain": [
       "RangeIndex(start=0, stop=5, step=1)"
      ]
     },
     "execution_count": 8,
     "metadata": {},
     "output_type": "execute_result"
    }
   ],
   "source": [
    "i = column.index\n",
    "print(type(i))\n",
    "i"
   ]
  },
  {
   "cell_type": "markdown",
   "id": "planned-array",
   "metadata": {},
   "source": [
    "## 시리즈의 색인(index)을 리스트로 변환하기"
   ]
  },
  {
   "cell_type": "code",
   "execution_count": 9,
   "id": "widespread-steel",
   "metadata": {},
   "outputs": [
    {
     "name": "stdout",
     "output_type": "stream",
     "text": [
      "<class 'list'>\n"
     ]
    },
    {
     "data": {
      "text/plain": [
       "[0, 1, 2, 3, 4]"
      ]
     },
     "execution_count": 9,
     "metadata": {},
     "output_type": "execute_result"
    }
   ],
   "source": [
    "index_list = list(i)\n",
    "print(type(index_list))\n",
    "index_list"
   ]
  },
  {
   "cell_type": "markdown",
   "id": "hundred-slovenia",
   "metadata": {},
   "source": [
    "## 시리즈를 활용하여 그래프 그리기"
   ]
  },
  {
   "cell_type": "code",
   "execution_count": 17,
   "id": "stylish-deficit",
   "metadata": {},
   "outputs": [
    {
     "data": {
      "image/png": "[encoded data removed]",
      "text/plain": [
       "<Figure size 432x288 with 1 Axes>"
      ]
     },
     "metadata": {
      "needs_background": "light"
     },
     "output_type": "display_data"
    }
   ],
   "source": [
    "pyplot.figure()\n",
    "pyplot.plot(column)\n",
    "pyplot.show()"
   ]
  },
  {
   "cell_type": "markdown",
   "id": "blank-sponsorship",
   "metadata": {},
   "source": [
    "## 시리즈 객체 조건 검색"
   ]
  },
  {
   "cell_type": "code",
   "execution_count": 10,
   "id": "institutional-danish",
   "metadata": {},
   "outputs": [
    {
     "data": {
      "text/plain": [
       "2    50\n",
       "3    70\n",
       "4    90\n",
       "dtype: int64"
      ]
     },
     "execution_count": 10,
     "metadata": {},
     "output_type": "execute_result"
    }
   ],
   "source": [
    "in1 = column[column>30]\n",
    "in1"
   ]
  },
  {
   "cell_type": "markdown",
   "id": "basic-walter",
   "metadata": {},
   "source": [
    "## 시리즈 객체 AND 조건 검색"
   ]
  },
  {
   "cell_type": "code",
   "execution_count": 11,
   "id": "devoted-cooperative",
   "metadata": {},
   "outputs": [
    {
     "data": {
      "text/plain": [
       "1    30\n",
       "2    50\n",
       "3    70\n",
       "dtype: int64"
      ]
     },
     "execution_count": 11,
     "metadata": {},
     "output_type": "execute_result"
    }
   ],
   "source": [
    "in2 = column[column<=70][column>10]\n",
    "in2"
   ]
  },
  {
   "cell_type": "markdown",
   "id": "worthy-bangkok",
   "metadata": {},
   "source": [
    "## 시리즈 객체 OR 조건 검색"
   ]
  },
  {
   "cell_type": "code",
   "execution_count": 12,
   "id": "purple-traveler",
   "metadata": {},
   "outputs": [
    {
     "data": {
      "text/plain": [
       "0    10\n",
       "3    70\n",
       "4    90\n",
       "dtype: int64"
      ]
     },
     "execution_count": 12,
     "metadata": {},
     "output_type": "execute_result"
    }
   ],
   "source": [
    "in3 = column[(column<=10) | (column>=70)]\n",
    "in3"
   ]
  },
  {
   "cell_type": "markdown",
   "id": "confident-implementation",
   "metadata": {},
   "source": [
    "## 인덱스를 직접 정의하기"
   ]
  },
  {
   "cell_type": "code",
   "execution_count": 13,
   "id": "colored-literacy",
   "metadata": {},
   "outputs": [
    {
     "name": "stdout",
     "output_type": "stream",
     "text": [
      "토    290000\n",
      "일    310000\n",
      "dtype: int64\n",
      "일    120000\n",
      "토    220000\n",
      "dtype: int64\n"
     ]
    }
   ],
   "source": [
    "week1 = Series([290000,310000], index=['토', '일'])\n",
    "week2 = Series([120000,220000], index=['일', '토'])\n",
    "print(week1)\n",
    "print(week2)"
   ]
  },
  {
   "cell_type": "markdown",
   "id": "median-dimension",
   "metadata": {},
   "source": [
    "## 시리즈 객체 간의 사칙연산"
   ]
  },
  {
   "cell_type": "code",
   "execution_count": 14,
   "id": "indonesian-equity",
   "metadata": {},
   "outputs": [
    {
     "data": {
      "text/plain": [
       "일    430000\n",
       "토    510000\n",
       "dtype: int64"
      ]
     },
     "execution_count": 14,
     "metadata": {},
     "output_type": "execute_result"
    }
   ],
   "source": [
    "result = week1+week2\n",
    "result"
   ]
  }
 ],
 "metadata": {
  "kernelspec": {
   "display_name": "Python 3",
   "language": "python",
   "name": "python3"
  },
  "language_info": {
   "codemirror_mode": {
    "name": "ipython",
    "version": 3
   },
   "file_extension": ".py",
   "mimetype": "text/x-python",
   "name": "python",
   "nbconvert_exporter": "python",
   "pygments_lexer": "ipython3",
   "version": "3.8.0"
  }
 },
 "nbformat": 4,
 "nbformat_minor": 5
}
