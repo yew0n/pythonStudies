{
 "cells": [
  {
   "cell_type": "markdown",
   "id": "sound-worcester",
   "metadata": {},
   "source": [
    "# 3-2. 기술통계\n",
    "자료를 그래프나 숫자 등으로 요약하는 통계적 행위 및 관련 방법\n",
    "\n",
    "데이터를 요약하고 시각화해서 잘 설명하는 것에 중점\n",
    "\n",
    "기술 통계에서 기본적으로 사용하는 시각화 자료 : 박스플롯/도수분포표/히스토그램\n",
    "\n",
    "# #01. 기술통계 절차\n",
    "1. 데이터의 전체 크기와 형태\n",
    "    - 행과 열의 수를 확인\n",
    "    - 10만건의 데이터 전체를 출력하는 것 = 부담증가 => 상위n건, 하위n건의 일부 확인\n",
    "2. 수치로 표현되는 연속성 데이터의 경우 집단의 특성을 잘 나타내는 요약 통계량 확인\n",
    "    - 평균, 중앙값, 표준편차, 범위(최대값-최소값), 사분위수 등 확인\n",
    "    - 요약통계량을 박스플롯(상자그림)으로 시각화하여 확인\n",
    "    - ex) 키, 몸무게, 성적\n",
    "3. 수치화 할 수 없는 종류에 대한 데이터 -> 전체 데이터 분포 확인\n",
    "    - 구간별 자료의 개수를 나타내는 도수분포표 산정\n",
    "    - 도수분포표를 그래프로 표현한 히스토그램 확인\n",
    "    - ex) 투표결과"
   ]
  },
  {
   "cell_type": "markdown",
   "id": "married-romania",
   "metadata": {},
   "source": [
    "# #02. 필요한 패키지 및 샘플 데이터 준비\n",
    "## 1) 패키지 참조하기"
   ]
  },
  {
   "cell_type": "code",
   "execution_count": 2,
   "id": "educated-michigan",
   "metadata": {},
   "outputs": [],
   "source": [
    "from pandas import DataFrame\n",
    "from pandas import read_csv\n",
    "from matplotlib import pyplot"
   ]
  },
  {
   "cell_type": "markdown",
   "id": "collected-japanese",
   "metadata": {},
   "source": [
    "## 2) 샘플 데이터 가져오기"
   ]
  },
  {
   "cell_type": "code",
   "execution_count": 3,
   "id": "joint-netherlands",
   "metadata": {},
   "outputs": [
    {
     "data": {
      "text/html": [
       "<div>\n",
       "<style scoped>\n",
       "    .dataframe tbody tr th:only-of-type {\n",
       "        vertical-align: middle;\n",
       "    }\n",
       "\n",
       "    .dataframe tbody tr th {\n",
       "        vertical-align: top;\n",
       "    }\n",
       "\n",
       "    .dataframe thead th {\n",
       "        text-align: right;\n",
       "    }\n",
       "</style>\n",
       "<table border=\"1\" class=\"dataframe\">\n",
       "  <thead>\n",
       "    <tr style=\"text-align: right;\">\n",
       "      <th></th>\n",
       "      <th>이름</th>\n",
       "      <th>학년</th>\n",
       "      <th>성별</th>\n",
       "      <th>국어</th>\n",
       "      <th>영어</th>\n",
       "      <th>수학</th>\n",
       "      <th>과학</th>\n",
       "    </tr>\n",
       "  </thead>\n",
       "  <tbody>\n",
       "    <tr>\n",
       "      <th>0</th>\n",
       "      <td>철수</td>\n",
       "      <td>1</td>\n",
       "      <td>남자</td>\n",
       "      <td>98</td>\n",
       "      <td>NaN</td>\n",
       "      <td>88.0</td>\n",
       "      <td>64.0</td>\n",
       "    </tr>\n",
       "    <tr>\n",
       "      <th>1</th>\n",
       "      <td>영희</td>\n",
       "      <td>2</td>\n",
       "      <td>여자</td>\n",
       "      <td>88</td>\n",
       "      <td>90.0</td>\n",
       "      <td>62.0</td>\n",
       "      <td>72.0</td>\n",
       "    </tr>\n",
       "    <tr>\n",
       "      <th>2</th>\n",
       "      <td>민수</td>\n",
       "      <td>1</td>\n",
       "      <td>남자</td>\n",
       "      <td>92</td>\n",
       "      <td>70.0</td>\n",
       "      <td>NaN</td>\n",
       "      <td>NaN</td>\n",
       "    </tr>\n",
       "    <tr>\n",
       "      <th>3</th>\n",
       "      <td>수현</td>\n",
       "      <td>3</td>\n",
       "      <td>여자</td>\n",
       "      <td>63</td>\n",
       "      <td>60.0</td>\n",
       "      <td>31.0</td>\n",
       "      <td>70.0</td>\n",
       "    </tr>\n",
       "    <tr>\n",
       "      <th>4</th>\n",
       "      <td>호영</td>\n",
       "      <td>4</td>\n",
       "      <td>남자</td>\n",
       "      <td>120</td>\n",
       "      <td>50.0</td>\n",
       "      <td>NaN</td>\n",
       "      <td>88.0</td>\n",
       "    </tr>\n",
       "  </tbody>\n",
       "</table>\n",
       "</div>"
      ],
      "text/plain": [
       "   이름  학년  성별   국어    영어    수학    과학\n",
       "0  철수   1  남자   98   NaN  88.0  64.0\n",
       "1  영희   2  여자   88  90.0  62.0  72.0\n",
       "2  민수   1  남자   92  70.0   NaN   NaN\n",
       "3  수현   3  여자   63  60.0  31.0  70.0\n",
       "4  호영   4  남자  120  50.0   NaN  88.0"
      ]
     },
     "execution_count": 3,
     "metadata": {},
     "output_type": "execute_result"
    }
   ],
   "source": [
    "성적표csv = read_csv(\"http://itpaper.co.kr/demo/py/grade.csv\", encoding=\"euc-kr\")\n",
    "성적표 = 성적표csv.set_index('이름')\n",
    "성적표csv"
   ]
  },
  {
   "cell_type": "markdown",
   "id": "particular-origin",
   "metadata": {},
   "source": [
    "# #03. 데이터의 전체 크기와 형태 확인\n",
    "## 1) 데이터프레임의 전체 크기 조회\n",
    "조회 결과는 튜플타입으로 리턴"
   ]
  },
  {
   "cell_type": "code",
   "execution_count": 4,
   "id": "broken-alloy",
   "metadata": {},
   "outputs": [
    {
     "name": "stdout",
     "output_type": "stream",
     "text": [
      "행의 크기 =  5\n",
      "열의 크기 =  6\n"
     ]
    }
   ],
   "source": [
    "행,열 = 성적표.shape\n",
    "print(\"행의 크기 = \", 행)\n",
    "print(\"열의 크기 = \", 열)"
   ]
  },
  {
   "cell_type": "markdown",
   "id": "greenhouse-indication",
   "metadata": {},
   "source": [
    "## 2) 데이터의 일부만 확인하기\n",
    "### 앞부분의 2건만 확인"
   ]
  },
  {
   "cell_type": "code",
   "execution_count": 5,
   "id": "accepting-generic",
   "metadata": {},
   "outputs": [
    {
     "data": {
      "text/html": [
       "<div>\n",
       "<style scoped>\n",
       "    .dataframe tbody tr th:only-of-type {\n",
       "        vertical-align: middle;\n",
       "    }\n",
       "\n",
       "    .dataframe tbody tr th {\n",
       "        vertical-align: top;\n",
       "    }\n",
       "\n",
       "    .dataframe thead th {\n",
       "        text-align: right;\n",
       "    }\n",
       "</style>\n",
       "<table border=\"1\" class=\"dataframe\">\n",
       "  <thead>\n",
       "    <tr style=\"text-align: right;\">\n",
       "      <th></th>\n",
       "      <th>학년</th>\n",
       "      <th>성별</th>\n",
       "      <th>국어</th>\n",
       "      <th>영어</th>\n",
       "      <th>수학</th>\n",
       "      <th>과학</th>\n",
       "    </tr>\n",
       "    <tr>\n",
       "      <th>이름</th>\n",
       "      <th></th>\n",
       "      <th></th>\n",
       "      <th></th>\n",
       "      <th></th>\n",
       "      <th></th>\n",
       "      <th></th>\n",
       "    </tr>\n",
       "  </thead>\n",
       "  <tbody>\n",
       "    <tr>\n",
       "      <th>철수</th>\n",
       "      <td>1</td>\n",
       "      <td>남자</td>\n",
       "      <td>98</td>\n",
       "      <td>NaN</td>\n",
       "      <td>88.0</td>\n",
       "      <td>64.0</td>\n",
       "    </tr>\n",
       "    <tr>\n",
       "      <th>영희</th>\n",
       "      <td>2</td>\n",
       "      <td>여자</td>\n",
       "      <td>88</td>\n",
       "      <td>90.0</td>\n",
       "      <td>62.0</td>\n",
       "      <td>72.0</td>\n",
       "    </tr>\n",
       "  </tbody>\n",
       "</table>\n",
       "</div>"
      ],
      "text/plain": [
       "    학년  성별  국어    영어    수학    과학\n",
       "이름                              \n",
       "철수   1  남자  98   NaN  88.0  64.0\n",
       "영희   2  여자  88  90.0  62.0  72.0"
      ]
     },
     "execution_count": 5,
     "metadata": {},
     "output_type": "execute_result"
    }
   ],
   "source": [
    "성적표.head(2)"
   ]
  },
  {
   "cell_type": "markdown",
   "id": "chronic-train",
   "metadata": {},
   "source": [
    "### 뒷부분의 2건만 확인"
   ]
  },
  {
   "cell_type": "code",
   "execution_count": 6,
   "id": "three-geometry",
   "metadata": {},
   "outputs": [
    {
     "data": {
      "text/html": [
       "<div>\n",
       "<style scoped>\n",
       "    .dataframe tbody tr th:only-of-type {\n",
       "        vertical-align: middle;\n",
       "    }\n",
       "\n",
       "    .dataframe tbody tr th {\n",
       "        vertical-align: top;\n",
       "    }\n",
       "\n",
       "    .dataframe thead th {\n",
       "        text-align: right;\n",
       "    }\n",
       "</style>\n",
       "<table border=\"1\" class=\"dataframe\">\n",
       "  <thead>\n",
       "    <tr style=\"text-align: right;\">\n",
       "      <th></th>\n",
       "      <th>학년</th>\n",
       "      <th>성별</th>\n",
       "      <th>국어</th>\n",
       "      <th>영어</th>\n",
       "      <th>수학</th>\n",
       "      <th>과학</th>\n",
       "    </tr>\n",
       "    <tr>\n",
       "      <th>이름</th>\n",
       "      <th></th>\n",
       "      <th></th>\n",
       "      <th></th>\n",
       "      <th></th>\n",
       "      <th></th>\n",
       "      <th></th>\n",
       "    </tr>\n",
       "  </thead>\n",
       "  <tbody>\n",
       "    <tr>\n",
       "      <th>수현</th>\n",
       "      <td>3</td>\n",
       "      <td>여자</td>\n",
       "      <td>63</td>\n",
       "      <td>60.0</td>\n",
       "      <td>31.0</td>\n",
       "      <td>70.0</td>\n",
       "    </tr>\n",
       "    <tr>\n",
       "      <th>호영</th>\n",
       "      <td>4</td>\n",
       "      <td>남자</td>\n",
       "      <td>120</td>\n",
       "      <td>50.0</td>\n",
       "      <td>NaN</td>\n",
       "      <td>88.0</td>\n",
       "    </tr>\n",
       "  </tbody>\n",
       "</table>\n",
       "</div>"
      ],
      "text/plain": [
       "    학년  성별   국어    영어    수학    과학\n",
       "이름                               \n",
       "수현   3  여자   63  60.0  31.0  70.0\n",
       "호영   4  남자  120  50.0   NaN  88.0"
      ]
     },
     "execution_count": 6,
     "metadata": {},
     "output_type": "execute_result"
    }
   ],
   "source": [
    "성적표.tail(2)"
   ]
  },
  {
   "cell_type": "markdown",
   "id": "spoken-superior",
   "metadata": {},
   "source": [
    "# #04. 요약통계량 얻기\n",
    "## 1) 요약통계량을 이해하기 위한 통계학 개념\n",
    "### 평균값\n",
    "모든값을 더한 후 개수로 나눈 값 (특정 값이 다른 값들과 범위차이가 큰 경우 신뢰도 하락)\n",
    "\n",
    "1, 2, 3, 4, 5, 100 중 100은 다른 값들에 비해 극단적으로 높다 (=이런 값 = 극단치)"
   ]
  },
  {
   "cell_type": "markdown",
   "id": "exclusive-puppy",
   "metadata": {},
   "source": [
    "### 중앙값\n",
    "모든 값을 순서대로 정렬한 후 가운데 위치의 값\n",
    "\n",
    "평균 신뢰도가 현저히 낮을 경우 데이터 분포를 확인하기 위해 사용\n",
    "\n",
    "<b>데이터의 수가 홀수인 경우</b> -> 가운데 값\n",
    "<b>데이터의 수가 짝수인 경우</b> -> 가운데 두 값의 평균"
   ]
  },
  {
   "cell_type": "markdown",
   "id": "ignored-tokyo",
   "metadata": {},
   "source": [
    "### 사분위 수\n",
    "데이터 표본을 4개의 동일한 부분으로 나눈 값\n",
    "\n",
    "사분위수 = 데이터의 관측치X, -> 계산된 값\n",
    "\n",
    "사분위수를 사용하여 데이터 집합의 범위와 위치를 신속하게 평가할 수 있다\n",
    "\n",
    "<b>1사분위 수</b>  => 데이터의 하위 25%가 이 값보다 작거나 같음\n",
    "\n",
    "<b>2사분위 수</b>  => 중위수 데이터의 50%가 이 값보다 작거나 같음 (=중앙값)\n",
    "\n",
    "<b>3사분위 수</b>  => 데이터의 하위 75%가 이 값보다 작거나 같음"
   ]
  },
  {
   "cell_type": "markdown",
   "id": "fantastic-afternoon",
   "metadata": {},
   "source": [
    "## 2) 모든 항목에 대한 요약 통계 결과 확인\n",
    "<b>count</b> = 결측치(NaN)를 제외한 유효 데이터 수\n",
    "\n",
    "<b>mean</b> = 평균\n",
    "\n",
    "<b>min</b> = 최소값\n",
    "\n",
    "<b>25%</b> = 1사분위 수 (하위25% 위치 데이터)\n",
    "\n",
    "<b>50%</b> = 2사분위 수, 중앙값 (하위50% 위치 데이터)\n",
    "\n",
    "<b>75%</b> = 3사분위 수 (하위 75% 위치 데이터 = 상위25%)\n",
    "\n",
    "<b>max</b> = 최대값"
   ]
  },
  {
   "cell_type": "code",
   "execution_count": 12,
   "id": "different-difficulty",
   "metadata": {},
   "outputs": [
    {
     "data": {
      "text/html": [
       "<div>\n",
       "<style scoped>\n",
       "    .dataframe tbody tr th:only-of-type {\n",
       "        vertical-align: middle;\n",
       "    }\n",
       "\n",
       "    .dataframe tbody tr th {\n",
       "        vertical-align: top;\n",
       "    }\n",
       "\n",
       "    .dataframe thead th {\n",
       "        text-align: right;\n",
       "    }\n",
       "</style>\n",
       "<table border=\"1\" class=\"dataframe\">\n",
       "  <thead>\n",
       "    <tr style=\"text-align: right;\">\n",
       "      <th></th>\n",
       "      <th>학년</th>\n",
       "      <th>국어</th>\n",
       "      <th>영어</th>\n",
       "      <th>수학</th>\n",
       "      <th>과학</th>\n",
       "    </tr>\n",
       "  </thead>\n",
       "  <tbody>\n",
       "    <tr>\n",
       "      <th>count</th>\n",
       "      <td>5.00000</td>\n",
       "      <td>5.000000</td>\n",
       "      <td>4.000000</td>\n",
       "      <td>3.000000</td>\n",
       "      <td>4.000000</td>\n",
       "    </tr>\n",
       "    <tr>\n",
       "      <th>mean</th>\n",
       "      <td>2.20000</td>\n",
       "      <td>92.200000</td>\n",
       "      <td>67.500000</td>\n",
       "      <td>60.333333</td>\n",
       "      <td>73.500000</td>\n",
       "    </tr>\n",
       "    <tr>\n",
       "      <th>std</th>\n",
       "      <td>1.30384</td>\n",
       "      <td>20.474374</td>\n",
       "      <td>17.078251</td>\n",
       "      <td>28.536526</td>\n",
       "      <td>10.246951</td>\n",
       "    </tr>\n",
       "    <tr>\n",
       "      <th>min</th>\n",
       "      <td>1.00000</td>\n",
       "      <td>63.000000</td>\n",
       "      <td>50.000000</td>\n",
       "      <td>31.000000</td>\n",
       "      <td>64.000000</td>\n",
       "    </tr>\n",
       "    <tr>\n",
       "      <th>25%</th>\n",
       "      <td>1.00000</td>\n",
       "      <td>88.000000</td>\n",
       "      <td>57.500000</td>\n",
       "      <td>46.500000</td>\n",
       "      <td>68.500000</td>\n",
       "    </tr>\n",
       "    <tr>\n",
       "      <th>50%</th>\n",
       "      <td>2.00000</td>\n",
       "      <td>92.000000</td>\n",
       "      <td>65.000000</td>\n",
       "      <td>62.000000</td>\n",
       "      <td>71.000000</td>\n",
       "    </tr>\n",
       "    <tr>\n",
       "      <th>75%</th>\n",
       "      <td>3.00000</td>\n",
       "      <td>98.000000</td>\n",
       "      <td>75.000000</td>\n",
       "      <td>75.000000</td>\n",
       "      <td>76.000000</td>\n",
       "    </tr>\n",
       "    <tr>\n",
       "      <th>max</th>\n",
       "      <td>4.00000</td>\n",
       "      <td>120.000000</td>\n",
       "      <td>90.000000</td>\n",
       "      <td>88.000000</td>\n",
       "      <td>88.000000</td>\n",
       "    </tr>\n",
       "  </tbody>\n",
       "</table>\n",
       "</div>"
      ],
      "text/plain": [
       "            학년          국어         영어         수학         과학\n",
       "count  5.00000    5.000000   4.000000   3.000000   4.000000\n",
       "mean   2.20000   92.200000  67.500000  60.333333  73.500000\n",
       "std    1.30384   20.474374  17.078251  28.536526  10.246951\n",
       "min    1.00000   63.000000  50.000000  31.000000  64.000000\n",
       "25%    1.00000   88.000000  57.500000  46.500000  68.500000\n",
       "50%    2.00000   92.000000  65.000000  62.000000  71.000000\n",
       "75%    3.00000   98.000000  75.000000  75.000000  76.000000\n",
       "max    4.00000  120.000000  90.000000  88.000000  88.000000"
      ]
     },
     "execution_count": 12,
     "metadata": {},
     "output_type": "execute_result"
    }
   ],
   "source": [
    "des = 성적표.describe()\n",
    "des"
   ]
  },
  {
   "cell_type": "markdown",
   "id": "informational-driving",
   "metadata": {},
   "source": [
    "## 3) 특정 컬럼에 대한 확인"
   ]
  },
  {
   "cell_type": "code",
   "execution_count": 14,
   "id": "vulnerable-spare",
   "metadata": {},
   "outputs": [
    {
     "data": {
      "text/plain": [
       "count      5.000000\n",
       "mean      92.200000\n",
       "std       20.474374\n",
       "min       63.000000\n",
       "25%       88.000000\n",
       "50%       92.000000\n",
       "75%       98.000000\n",
       "max      120.000000\n",
       "Name: 국어, dtype: float64"
      ]
     },
     "execution_count": 14,
     "metadata": {},
     "output_type": "execute_result"
    }
   ],
   "source": [
    "성적표['국어'].describe()"
   ]
  },
  {
   "cell_type": "markdown",
   "id": "impressive-ground",
   "metadata": {},
   "source": [
    "## 4) 기술통계값들을 개별적으로 얻기"
   ]
  },
  {
   "cell_type": "code",
   "execution_count": 15,
   "id": "banner-curve",
   "metadata": {},
   "outputs": [
    {
     "data": {
      "text/plain": [
       "학년    5\n",
       "성별    5\n",
       "국어    5\n",
       "영어    4\n",
       "수학    3\n",
       "과학    4\n",
       "dtype: int64"
      ]
     },
     "execution_count": 15,
     "metadata": {},
     "output_type": "execute_result"
    }
   ],
   "source": [
    "성적표.count()"
   ]
  },
  {
   "cell_type": "code",
   "execution_count": 16,
   "id": "floating-locator",
   "metadata": {},
   "outputs": [
    {
     "data": {
      "text/plain": [
       "학년     2.200000\n",
       "국어    92.200000\n",
       "영어    67.500000\n",
       "수학    60.333333\n",
       "과학    73.500000\n",
       "dtype: float64"
      ]
     },
     "execution_count": 16,
     "metadata": {},
     "output_type": "execute_result"
    }
   ],
   "source": [
    "성적표.mean()"
   ]
  },
  {
   "cell_type": "code",
   "execution_count": 17,
   "id": "norman-craps",
   "metadata": {},
   "outputs": [
    {
     "data": {
      "text/plain": [
       "학년       4\n",
       "성별      여자\n",
       "국어     120\n",
       "영어    90.0\n",
       "수학    88.0\n",
       "과학    88.0\n",
       "dtype: object"
      ]
     },
     "execution_count": 17,
     "metadata": {},
     "output_type": "execute_result"
    }
   ],
   "source": [
    "성적표.max()"
   ]
  },
  {
   "cell_type": "code",
   "execution_count": 18,
   "id": "senior-picking",
   "metadata": {},
   "outputs": [
    {
     "data": {
      "text/plain": [
       "학년       1\n",
       "성별      남자\n",
       "국어      63\n",
       "영어    50.0\n",
       "수학    31.0\n",
       "과학    64.0\n",
       "dtype: object"
      ]
     },
     "execution_count": 18,
     "metadata": {},
     "output_type": "execute_result"
    }
   ],
   "source": [
    "성적표.min()"
   ]
  },
  {
   "cell_type": "code",
   "execution_count": 19,
   "id": "pointed-article",
   "metadata": {},
   "outputs": [
    {
     "data": {
      "text/plain": [
       "학년     1.303840\n",
       "국어    20.474374\n",
       "영어    17.078251\n",
       "수학    28.536526\n",
       "과학    10.246951\n",
       "dtype: float64"
      ]
     },
     "execution_count": 19,
     "metadata": {},
     "output_type": "execute_result"
    }
   ],
   "source": [
    "성적표.std()"
   ]
  },
  {
   "cell_type": "code",
   "execution_count": 20,
   "id": "innocent-apache",
   "metadata": {},
   "outputs": [
    {
     "data": {
      "text/plain": [
       "학년     1.0\n",
       "국어    88.0\n",
       "영어    57.5\n",
       "수학    46.5\n",
       "과학    68.5\n",
       "Name: 0.25, dtype: float64"
      ]
     },
     "execution_count": 20,
     "metadata": {},
     "output_type": "execute_result"
    }
   ],
   "source": [
    "#1사분위 수\n",
    "성적표.quantile(q=0.25)"
   ]
  },
  {
   "cell_type": "code",
   "execution_count": 21,
   "id": "centered-rotation",
   "metadata": {},
   "outputs": [
    {
     "data": {
      "text/plain": [
       "학년     2.0\n",
       "국어    92.0\n",
       "영어    65.0\n",
       "수학    62.0\n",
       "과학    71.0\n",
       "Name: 0.5, dtype: float64"
      ]
     },
     "execution_count": 21,
     "metadata": {},
     "output_type": "execute_result"
    }
   ],
   "source": [
    "#2사분위 수\n",
    "성적표.quantile(q=0.5)"
   ]
  },
  {
   "cell_type": "code",
   "execution_count": 22,
   "id": "cheap-legend",
   "metadata": {},
   "outputs": [
    {
     "data": {
      "text/plain": [
       "학년     2.0\n",
       "국어    92.0\n",
       "영어    65.0\n",
       "수학    62.0\n",
       "과학    71.0\n",
       "dtype: float64"
      ]
     },
     "execution_count": 22,
     "metadata": {},
     "output_type": "execute_result"
    }
   ],
   "source": [
    "# 중앙값을 얻는 또 다른 방법\n",
    "성적표.median()"
   ]
  },
  {
   "cell_type": "code",
   "execution_count": 23,
   "id": "extensive-liability",
   "metadata": {},
   "outputs": [
    {
     "data": {
      "text/plain": [
       "학년     3.0\n",
       "국어    98.0\n",
       "영어    75.0\n",
       "수학    75.0\n",
       "과학    76.0\n",
       "Name: 0.75, dtype: float64"
      ]
     },
     "execution_count": 23,
     "metadata": {},
     "output_type": "execute_result"
    }
   ],
   "source": [
    "#3사분위 수\n",
    "성적표.quantile(q=0.75)"
   ]
  },
  {
   "cell_type": "code",
   "execution_count": 24,
   "id": "separate-adrian",
   "metadata": {},
   "outputs": [
    {
     "data": {
      "text/plain": [
       "학년      3.6\n",
       "국어    111.2\n",
       "영어     84.0\n",
       "수학     82.8\n",
       "과학     83.2\n",
       "Name: 0.9, dtype: float64"
      ]
     },
     "execution_count": 24,
     "metadata": {},
     "output_type": "execute_result"
    }
   ],
   "source": [
    "# 응용 -> 상위 10%에 들기 위해 취득해야 하는 과목별 점수\n",
    "성적표.quantile(q=0.9)"
   ]
  },
  {
   "cell_type": "markdown",
   "id": "cubic-platform",
   "metadata": {},
   "source": [
    "## 5) 상자그림 (=박스플롯)\n",
    "데이터의 요약 정보를 시각화해놓은 그래프, 데이터의 범위/사분위 수 등을 확인 가능\n",
    "\n",
    "내부적으로 matplotlib 패키지의 pyplot 객체 사용\n",
    "\n",
    "### pyplot 객체 기본 환경 설정"
   ]
  },
  {
   "cell_type": "code",
   "execution_count": 26,
   "id": "likely-flesh",
   "metadata": {},
   "outputs": [],
   "source": [
    "#한글폰트, 그래픽 크기 설정\n",
    "pyplot.rcParams['font.family'] = 'Malgun Gothic'  # 사용할 폰트 맑은고딕\n",
    "pyplot.rcParams['font.size'] = 14\n",
    "pyplot.rcParams['figure.figsize'] = (12,6)        # 그래프의 가로/세로 크기 (inch 단위)"
   ]
  },
  {
   "cell_type": "code",
   "execution_count": 27,
   "id": "english-sheet",
   "metadata": {},
   "outputs": [],
   "source": [
    "# 경고 메시지 표시 안함\n",
    "import warnings\n",
    "warnings.filterwarnings(\"ignore\")"
   ]
  },
  {
   "cell_type": "markdown",
   "id": "passing-jesus",
   "metadata": {},
   "source": [
    "### 전체 데이터 프레임의 상자그림 생성"
   ]
  },
  {
   "cell_type": "code",
   "execution_count": 28,
   "id": "nuclear-alexander",
   "metadata": {},
   "outputs": [
    {
     "data": {
      "image/png": "[encoded data removed]",
      "text/plain": [
       "<Figure size 864x432 with 1 Axes>"
      ]
     },
     "metadata": {
      "needs_background": "light"
     },
     "output_type": "display_data"
    }
   ],
   "source": [
    "# 상자그림 생성\n",
    "성적표.boxplot()\n",
    "\n",
    "# 생성된 그래프 화면 표시\n",
    "pyplot.show()"
   ]
  },
  {
   "cell_type": "markdown",
   "id": "literary-spectrum",
   "metadata": {},
   "source": [
    "### 특정 컬럼에 대한 상자그림 표시하기\n",
    "두개 이상의 컬럼을 한번에 표시할 경우 () 안의 리스트에 컬럼 이름 나열"
   ]
  },
  {
   "cell_type": "code",
   "execution_count": 29,
   "id": "employed-reserve",
   "metadata": {},
   "outputs": [
    {
     "data": {
      "image/png": "[encoded data removed]",
      "text/plain": [
       "<Figure size 864x432 with 1 Axes>"
      ]
     },
     "metadata": {
      "needs_background": "light"
     },
     "output_type": "display_data"
    }
   ],
   "source": [
    "# 상자그림 생성\n",
    "성적표.boxplot(['영어'])\n",
    "\n",
    "# 생성된 그래프 화면 표시\n",
    "pyplot.show()"
   ]
  },
  {
   "cell_type": "markdown",
   "id": "changing-pastor",
   "metadata": {},
   "source": [
    "# #05. 히스토그램과 도수분포표\n",
    "## 1) 히스토그램\n",
    "자료가 가질 수 있는 범위를 몇 개의 <b>구간</b>으로 나누고 각 구간에 해당하는 값의 숫자/상대적 빈도를 표현하는 그래프\n",
    "\n",
    "### 히스토그램 작성과정\n",
    "1. 자료의 갯수와 구간(최대값, 최소값)을 확인\n",
    "2. 자료를 몇 개의 구간으로 나눌지 분석가의 주관에 따라 결정\n",
    "    - 구간은 자료의 개수나 분포에 따라 달라져야 한다.\n",
    "    - 각 구간별로 5개 이상의 값이 들어가도록 하는 것이 좋다.\n",
    "    - 너무 많은 구간을 나누지 않도록 해야 한다. (일반적으로 5~15 사이의 값)\n",
    "3. Pyplot의 hist() 함수를 사용하여 히스토그램 생성\n",
    "\n",
    "`n, bins, patches = pyplot.hist(값, 구간의_수)`\n",
    "\n",
    "    - n = 각 구간에 포함된 값의 갯수 / 빈도를 표현하는 리스트\n",
    "    - bins = 각 구간별 경계값 리스트\n",
    "    - patches = 각 구간을 그리는 matplot 객체 리스트 (사용안함)"
   ]
  },
  {
   "cell_type": "markdown",
   "id": "pretty-netherlands",
   "metadata": {},
   "source": [
    "## 2) 샘플 데이터 가져오기"
   ]
  },
  {
   "cell_type": "code",
   "execution_count": 31,
   "id": "olive-consumption",
   "metadata": {},
   "outputs": [
    {
     "data": {
      "text/html": [
       "<div>\n",
       "<style scoped>\n",
       "    .dataframe tbody tr th:only-of-type {\n",
       "        vertical-align: middle;\n",
       "    }\n",
       "\n",
       "    .dataframe tbody tr th {\n",
       "        vertical-align: top;\n",
       "    }\n",
       "\n",
       "    .dataframe thead th {\n",
       "        text-align: right;\n",
       "    }\n",
       "</style>\n",
       "<table border=\"1\" class=\"dataframe\">\n",
       "  <thead>\n",
       "    <tr style=\"text-align: right;\">\n",
       "      <th></th>\n",
       "      <th>이름</th>\n",
       "      <th>국어</th>\n",
       "      <th>영어</th>\n",
       "      <th>수학</th>\n",
       "      <th>과학</th>\n",
       "    </tr>\n",
       "  </thead>\n",
       "  <tbody>\n",
       "    <tr>\n",
       "      <th>0</th>\n",
       "      <td>학생1</td>\n",
       "      <td>98.0</td>\n",
       "      <td>NaN</td>\n",
       "      <td>88.0</td>\n",
       "      <td>64.0</td>\n",
       "    </tr>\n",
       "    <tr>\n",
       "      <th>1</th>\n",
       "      <td>학생2</td>\n",
       "      <td>88.0</td>\n",
       "      <td>90.0</td>\n",
       "      <td>62.0</td>\n",
       "      <td>72.0</td>\n",
       "    </tr>\n",
       "    <tr>\n",
       "      <th>2</th>\n",
       "      <td>학생3</td>\n",
       "      <td>92.0</td>\n",
       "      <td>70.0</td>\n",
       "      <td>NaN</td>\n",
       "      <td>NaN</td>\n",
       "    </tr>\n",
       "    <tr>\n",
       "      <th>3</th>\n",
       "      <td>학생4</td>\n",
       "      <td>63.0</td>\n",
       "      <td>60.0</td>\n",
       "      <td>31.0</td>\n",
       "      <td>70.0</td>\n",
       "    </tr>\n",
       "    <tr>\n",
       "      <th>4</th>\n",
       "      <td>학생5</td>\n",
       "      <td>100.0</td>\n",
       "      <td>50.0</td>\n",
       "      <td>NaN</td>\n",
       "      <td>88.0</td>\n",
       "    </tr>\n",
       "    <tr>\n",
       "      <th>...</th>\n",
       "      <td>...</td>\n",
       "      <td>...</td>\n",
       "      <td>...</td>\n",
       "      <td>...</td>\n",
       "      <td>...</td>\n",
       "    </tr>\n",
       "    <tr>\n",
       "      <th>9995</th>\n",
       "      <td>학생9996</td>\n",
       "      <td>63.0</td>\n",
       "      <td>60.0</td>\n",
       "      <td>55.0</td>\n",
       "      <td>70.0</td>\n",
       "    </tr>\n",
       "    <tr>\n",
       "      <th>9996</th>\n",
       "      <td>학생9997</td>\n",
       "      <td>21.0</td>\n",
       "      <td>50.0</td>\n",
       "      <td>55.0</td>\n",
       "      <td>88.0</td>\n",
       "    </tr>\n",
       "    <tr>\n",
       "      <th>9997</th>\n",
       "      <td>학생9998</td>\n",
       "      <td>98.0</td>\n",
       "      <td>90.0</td>\n",
       "      <td>88.0</td>\n",
       "      <td>64.0</td>\n",
       "    </tr>\n",
       "    <tr>\n",
       "      <th>9998</th>\n",
       "      <td>학생9999</td>\n",
       "      <td>88.0</td>\n",
       "      <td>90.0</td>\n",
       "      <td>62.0</td>\n",
       "      <td>72.0</td>\n",
       "    </tr>\n",
       "    <tr>\n",
       "      <th>9999</th>\n",
       "      <td>학생10000</td>\n",
       "      <td>92.0</td>\n",
       "      <td>70.0</td>\n",
       "      <td>75.0</td>\n",
       "      <td>85.0</td>\n",
       "    </tr>\n",
       "  </tbody>\n",
       "</table>\n",
       "<p>10000 rows × 5 columns</p>\n",
       "</div>"
      ],
      "text/plain": [
       "           이름     국어    영어    수학    과학\n",
       "0         학생1   98.0   NaN  88.0  64.0\n",
       "1         학생2   88.0  90.0  62.0  72.0\n",
       "2         학생3   92.0  70.0   NaN   NaN\n",
       "3         학생4   63.0  60.0  31.0  70.0\n",
       "4         학생5  100.0  50.0   NaN  88.0\n",
       "...       ...    ...   ...   ...   ...\n",
       "9995   학생9996   63.0  60.0  55.0  70.0\n",
       "9996   학생9997   21.0  50.0  55.0  88.0\n",
       "9997   학생9998   98.0  90.0  88.0  64.0\n",
       "9998   학생9999   88.0  90.0  62.0  72.0\n",
       "9999  학생10000   92.0  70.0  75.0  85.0\n",
       "\n",
       "[10000 rows x 5 columns]"
      ]
     },
     "execution_count": 31,
     "metadata": {},
     "output_type": "execute_result"
    }
   ],
   "source": [
    "# 성적표 데이터\n",
    "성적표10000건 = read_csv(\"http://itpaper.co.kr/demo/py/grade10000.csv\", encoding=\"euc-kr\")\n",
    "성적표10000건"
   ]
  },
  {
   "cell_type": "markdown",
   "id": "thousand-mechanics",
   "metadata": {},
   "source": [
    "## 3) 성적표 데이터 전처리\n",
    "### 인덱스 컬럼 지정"
   ]
  },
  {
   "cell_type": "code",
   "execution_count": 32,
   "id": "collaborative-broadway",
   "metadata": {},
   "outputs": [
    {
     "data": {
      "text/html": [
       "<div>\n",
       "<style scoped>\n",
       "    .dataframe tbody tr th:only-of-type {\n",
       "        vertical-align: middle;\n",
       "    }\n",
       "\n",
       "    .dataframe tbody tr th {\n",
       "        vertical-align: top;\n",
       "    }\n",
       "\n",
       "    .dataframe thead th {\n",
       "        text-align: right;\n",
       "    }\n",
       "</style>\n",
       "<table border=\"1\" class=\"dataframe\">\n",
       "  <thead>\n",
       "    <tr style=\"text-align: right;\">\n",
       "      <th></th>\n",
       "      <th>국어</th>\n",
       "      <th>영어</th>\n",
       "      <th>수학</th>\n",
       "      <th>과학</th>\n",
       "    </tr>\n",
       "    <tr>\n",
       "      <th>이름</th>\n",
       "      <th></th>\n",
       "      <th></th>\n",
       "      <th></th>\n",
       "      <th></th>\n",
       "    </tr>\n",
       "  </thead>\n",
       "  <tbody>\n",
       "    <tr>\n",
       "      <th>학생1</th>\n",
       "      <td>98.0</td>\n",
       "      <td>NaN</td>\n",
       "      <td>88.0</td>\n",
       "      <td>64.0</td>\n",
       "    </tr>\n",
       "    <tr>\n",
       "      <th>학생2</th>\n",
       "      <td>88.0</td>\n",
       "      <td>90.0</td>\n",
       "      <td>62.0</td>\n",
       "      <td>72.0</td>\n",
       "    </tr>\n",
       "    <tr>\n",
       "      <th>학생3</th>\n",
       "      <td>92.0</td>\n",
       "      <td>70.0</td>\n",
       "      <td>NaN</td>\n",
       "      <td>NaN</td>\n",
       "    </tr>\n",
       "    <tr>\n",
       "      <th>학생4</th>\n",
       "      <td>63.0</td>\n",
       "      <td>60.0</td>\n",
       "      <td>31.0</td>\n",
       "      <td>70.0</td>\n",
       "    </tr>\n",
       "    <tr>\n",
       "      <th>학생5</th>\n",
       "      <td>100.0</td>\n",
       "      <td>50.0</td>\n",
       "      <td>NaN</td>\n",
       "      <td>88.0</td>\n",
       "    </tr>\n",
       "    <tr>\n",
       "      <th>...</th>\n",
       "      <td>...</td>\n",
       "      <td>...</td>\n",
       "      <td>...</td>\n",
       "      <td>...</td>\n",
       "    </tr>\n",
       "    <tr>\n",
       "      <th>학생9996</th>\n",
       "      <td>63.0</td>\n",
       "      <td>60.0</td>\n",
       "      <td>55.0</td>\n",
       "      <td>70.0</td>\n",
       "    </tr>\n",
       "    <tr>\n",
       "      <th>학생9997</th>\n",
       "      <td>21.0</td>\n",
       "      <td>50.0</td>\n",
       "      <td>55.0</td>\n",
       "      <td>88.0</td>\n",
       "    </tr>\n",
       "    <tr>\n",
       "      <th>학생9998</th>\n",
       "      <td>98.0</td>\n",
       "      <td>90.0</td>\n",
       "      <td>88.0</td>\n",
       "      <td>64.0</td>\n",
       "    </tr>\n",
       "    <tr>\n",
       "      <th>학생9999</th>\n",
       "      <td>88.0</td>\n",
       "      <td>90.0</td>\n",
       "      <td>62.0</td>\n",
       "      <td>72.0</td>\n",
       "    </tr>\n",
       "    <tr>\n",
       "      <th>학생10000</th>\n",
       "      <td>92.0</td>\n",
       "      <td>70.0</td>\n",
       "      <td>75.0</td>\n",
       "      <td>85.0</td>\n",
       "    </tr>\n",
       "  </tbody>\n",
       "</table>\n",
       "<p>10000 rows × 4 columns</p>\n",
       "</div>"
      ],
      "text/plain": [
       "            국어    영어    수학    과학\n",
       "이름                              \n",
       "학생1       98.0   NaN  88.0  64.0\n",
       "학생2       88.0  90.0  62.0  72.0\n",
       "학생3       92.0  70.0   NaN   NaN\n",
       "학생4       63.0  60.0  31.0  70.0\n",
       "학생5      100.0  50.0   NaN  88.0\n",
       "...        ...   ...   ...   ...\n",
       "학생9996    63.0  60.0  55.0  70.0\n",
       "학생9997    21.0  50.0  55.0  88.0\n",
       "학생9998    98.0  90.0  88.0  64.0\n",
       "학생9999    88.0  90.0  62.0  72.0\n",
       "학생10000   92.0  70.0  75.0  85.0\n",
       "\n",
       "[10000 rows x 4 columns]"
      ]
     },
     "execution_count": 32,
     "metadata": {},
     "output_type": "execute_result"
    }
   ],
   "source": [
    "성적표df = 성적표10000건.set_index(\"이름\")\n",
    "성적표df"
   ]
  },
  {
   "cell_type": "markdown",
   "id": "friendly-jersey",
   "metadata": {},
   "source": [
    "## 4) 히스토그램 생성하기\n",
    "### 자료의 갯수 카운트"
   ]
  },
  {
   "cell_type": "code",
   "execution_count": 34,
   "id": "cooked-chick",
   "metadata": {},
   "outputs": [
    {
     "data": {
      "text/plain": [
       "9770"
      ]
     },
     "execution_count": 34,
     "metadata": {},
     "output_type": "execute_result"
    }
   ],
   "source": [
    "count = 성적표df['영어'].count()\n",
    "count"
   ]
  },
  {
   "cell_type": "markdown",
   "id": "frozen-answer",
   "metadata": {},
   "source": [
    "### 자료 내에서 최대/최소값 찾기"
   ]
  },
  {
   "cell_type": "code",
   "execution_count": 35,
   "id": "fantastic-wisdom",
   "metadata": {},
   "outputs": [
    {
     "name": "stdout",
     "output_type": "stream",
     "text": [
      "최대값 =  98.0\n",
      "최소값 =  1.0\n"
     ]
    }
   ],
   "source": [
    "max_value = 성적표df['영어'].max()\n",
    "min_value = 성적표df['영어'].min()\n",
    "print(\"최대값 = \", max_value)\n",
    "print(\"최소값 = \", min_value)"
   ]
  },
  {
   "cell_type": "markdown",
   "id": "resident-deficit",
   "metadata": {},
   "source": [
    "### 몇 개 구간으로 나눌 지 분석가의 주관에 따라 결정"
   ]
  },
  {
   "cell_type": "code",
   "execution_count": 36,
   "id": "located-mexican",
   "metadata": {},
   "outputs": [],
   "source": [
    "step = 5"
   ]
  },
  {
   "cell_type": "markdown",
   "id": "missing-translation",
   "metadata": {},
   "source": [
    "### 히스토그램 그래프에 대한 한글폰트, 글자크기, 그래픽 크기 설정"
   ]
  },
  {
   "cell_type": "code",
   "execution_count": 37,
   "id": "assumed-judges",
   "metadata": {},
   "outputs": [],
   "source": [
    "#한글폰트, 그래픽 크기 설정\n",
    "pyplot.rcParams['font.family'] = 'Malgun Gothic'  # 사용할 폰트 맑은고딕\n",
    "pyplot.rcParams['font.size'] = 20\n",
    "pyplot.rcParams['figure.figsize'] = (25, 15)        # 그래프의 가로/세로 크기 (inch 단위)"
   ]
  },
  {
   "cell_type": "markdown",
   "id": "finished-techno",
   "metadata": {},
   "source": [
    "### 데이터와 구간을 사용하여 히스토그램 작성하기\n",
    "결측치(NaN)가 포함된 컬럼에 대한 처리 요청 시 경고 메시지가 표시될 수도 있다. (무시)"
   ]
  },
  {
   "cell_type": "code",
   "execution_count": 38,
   "id": "worthy-recipient",
   "metadata": {},
   "outputs": [
    {
     "data": {
      "image/png": "[encoded data removed]",
      "text/plain": [
       "<Figure size 1800x1080 with 1 Axes>"
      ]
     },
     "metadata": {
      "needs_background": "light"
     },
     "output_type": "display_data"
    }
   ],
   "source": [
    "n, bins, patches = pyplot.hist(성적표df['영어'], bins=step)"
   ]
  },
  {
   "cell_type": "markdown",
   "id": "cosmetic-allah",
   "metadata": {},
   "source": [
    "### 리턴값 확인\n",
    "데이터의 구간 정보를 담고 있는 리스트\n",
    "- 1이상 20.4 미만\n",
    "- 20.4 이상 39.8 미만\n",
    "- 39.8 이상 59.2 미만\n",
    "- 59.2 이상 78.6 미만\n",
    "- 78.6 이상 98 미만 (마지막 구간은 포함됨)"
   ]
  },
  {
   "cell_type": "code",
   "execution_count": 40,
   "id": "fifteen-relation",
   "metadata": {},
   "outputs": [
    {
     "data": {
      "text/plain": [
       "array([ 1. , 20.4, 39.8, 59.2, 78.6, 98. ])"
      ]
     },
     "execution_count": 40,
     "metadata": {},
     "output_type": "execute_result"
    }
   ],
   "source": [
    "bins"
   ]
  },
  {
   "cell_type": "markdown",
   "id": "secret-conducting",
   "metadata": {},
   "source": [
    "### 각 구간별 빈도를 담고있는 리스트\n",
    "bins가 의미하는 구간별 데이터의 수"
   ]
  },
  {
   "cell_type": "code",
   "execution_count": 41,
   "id": "tired-terrorist",
   "metadata": {},
   "outputs": [
    {
     "data": {
      "text/plain": [
       "array([ 727., 1314., 3158., 2400., 2171.])"
      ]
     },
     "execution_count": 41,
     "metadata": {},
     "output_type": "execute_result"
    }
   ],
   "source": [
    "n"
   ]
  },
  {
   "cell_type": "markdown",
   "id": "breathing-mount",
   "metadata": {},
   "source": [
    "### 그래프를 표현하는데 사용되는 객체들에 대한 참조\n",
    "사용안함"
   ]
  },
  {
   "cell_type": "code",
   "execution_count": 42,
   "id": "saving-beverage",
   "metadata": {},
   "outputs": [
    {
     "data": {
      "text/plain": [
       "<BarContainer object of 5 artists>"
      ]
     },
     "execution_count": 42,
     "metadata": {},
     "output_type": "execute_result"
    }
   ],
   "source": [
    "patches"
   ]
  },
  {
   "cell_type": "markdown",
   "id": "blessed-sacramento",
   "metadata": {},
   "source": [
    "## 5) 히스토그램 보정하기\n",
    "### 구간정보의 소수점 반올림 처리\n",
    "jupyter에서는 bins값이 소수점 첫자리까지만 표시 => python 콘솔에서 직접 확인 시 소수점 자리수가 매우 긴 것을 확인 가능"
   ]
  },
  {
   "cell_type": "code",
   "execution_count": 44,
   "id": "cellular-identifier",
   "metadata": {},
   "outputs": [
    {
     "data": {
      "text/plain": [
       "array([ 1. , 20.4, 39.8, 59.2, 78.6, 98. ])"
      ]
     },
     "execution_count": 44,
     "metadata": {},
     "output_type": "execute_result"
    }
   ],
   "source": [
    "# bins 리스트의 원소들을 소수점 둘째 자리에서 반올림\n",
    "for i, v in enumerate(bins) :\n",
    "    # round(값, 소수점자리) ->> 지정된 자리수까지 남기라는 의미\n",
    "    bins[i] = round(v,1)\n",
    "\n",
    "bins"
   ]
  },
  {
   "cell_type": "markdown",
   "id": "designed-principle",
   "metadata": {},
   "source": [
    "### pyplot을 활용한 히스토그램 구성"
   ]
  },
  {
   "cell_type": "code",
   "execution_count": 46,
   "id": "sustained-refund",
   "metadata": {},
   "outputs": [
    {
     "name": "stdout",
     "output_type": "stream",
     "text": [
      "727명\n",
      "1314명\n",
      "3158명\n",
      "2400명\n",
      "2171명\n"
     ]
    },
    {
     "data": {
      "image/png": "[encoded data removed]",
      "text/plain": [
       "<Figure size 1800x720 with 1 Axes>"
      ]
     },
     "metadata": {
      "needs_background": "light"
     },
     "output_type": "display_data"
    }
   ],
   "source": [
    "pyplot.rcParams['font.family'] = 'Malgun Gothic'\n",
    "pyplot.rcParams['font.size'] = 20\n",
    "pyplot.rcParams['figure.figsize'] = (25, 10) \n",
    "\n",
    "pyplot.hist(성적표df['영어'], bins=step)\n",
    "pyplot.grid()\n",
    "pyplot.xlabel('영어 점수 구간')\n",
    "pyplot.ylabel('영어점수 구간별 학생 수')\n",
    "pyplot.title('영어점수 히스토그램')\n",
    "\n",
    "# x축의 좌표에 다른 내용을 출력\n",
    "pyplot.xticks(bins, bins)\n",
    "\n",
    "# 출력할 데이터 수만큼 반복\n",
    "for i, v in enumerate(n):\n",
    "    txt = \"%d명\" % v\n",
    "    print(txt)\n",
    "    \n",
    "    x = bins[i] + ((bins[i+1]-bins[i])/2)\n",
    "    \n",
    "    # 텍스트 출력 -> x좌표, y좌표, 내용, 글자크기, 색상, 텍스트가로정렬, 세로정렬\n",
    "    pyplot.text(x, v, txt, fontsize=18, color='#ff0000',\n",
    "               horizontalalignment='center', verticalalignment='bottom')\n",
    "    \n",
    "pyplot.show()"
   ]
  },
  {
   "cell_type": "markdown",
   "id": "received-stroke",
   "metadata": {},
   "source": [
    "## 6) 도수분포표 만들기\n",
    "히스토그램을 생성하는 과정에서 리턴되는 값들이 도수분포표를 구성하는 정보에 해당\n",
    "\n",
    "Python에서 도수 분포표를 한 번에 생성하는 기능은 제공X => 필요하다면 표를 생성하기 위한 로직을 직접 구현"
   ]
  },
  {
   "cell_type": "code",
   "execution_count": 49,
   "id": "better-north",
   "metadata": {},
   "outputs": [
    {
     "data": {
      "text/plain": [
       "['1.0 ~ 20.4', '20.4 ~ 39.8', '39.8 ~ 59.2', '59.2 ~ 78.6', '78.6 ~ 98.0']"
      ]
     },
     "execution_count": 49,
     "metadata": {},
     "output_type": "execute_result"
    }
   ],
   "source": [
    "idx = []\n",
    "for i in range(0, len(bins)-1):\n",
    "    k = \"%0.1f ~ %0.1f\" % (bins[i], bins[i+1])\n",
    "    idx.append(k)\n",
    "    \n",
    "idx"
   ]
  },
  {
   "cell_type": "code",
   "execution_count": 50,
   "id": "unusual-quantum",
   "metadata": {},
   "outputs": [
    {
     "data": {
      "text/html": [
       "<div>\n",
       "<style scoped>\n",
       "    .dataframe tbody tr th:only-of-type {\n",
       "        vertical-align: middle;\n",
       "    }\n",
       "\n",
       "    .dataframe tbody tr th {\n",
       "        vertical-align: top;\n",
       "    }\n",
       "\n",
       "    .dataframe thead th {\n",
       "        text-align: right;\n",
       "    }\n",
       "</style>\n",
       "<table border=\"1\" class=\"dataframe\">\n",
       "  <thead>\n",
       "    <tr style=\"text-align: right;\">\n",
       "      <th></th>\n",
       "      <th>빈도</th>\n",
       "    </tr>\n",
       "  </thead>\n",
       "  <tbody>\n",
       "    <tr>\n",
       "      <th>1.0 ~ 20.4</th>\n",
       "      <td>727.0</td>\n",
       "    </tr>\n",
       "    <tr>\n",
       "      <th>20.4 ~ 39.8</th>\n",
       "      <td>1314.0</td>\n",
       "    </tr>\n",
       "    <tr>\n",
       "      <th>39.8 ~ 59.2</th>\n",
       "      <td>3158.0</td>\n",
       "    </tr>\n",
       "    <tr>\n",
       "      <th>59.2 ~ 78.6</th>\n",
       "      <td>2400.0</td>\n",
       "    </tr>\n",
       "    <tr>\n",
       "      <th>78.6 ~ 98.0</th>\n",
       "      <td>2171.0</td>\n",
       "    </tr>\n",
       "  </tbody>\n",
       "</table>\n",
       "</div>"
      ],
      "text/plain": [
       "                 빈도\n",
       "1.0 ~ 20.4    727.0\n",
       "20.4 ~ 39.8  1314.0\n",
       "39.8 ~ 59.2  3158.0\n",
       "59.2 ~ 78.6  2400.0\n",
       "78.6 ~ 98.0  2171.0"
      ]
     },
     "execution_count": 50,
     "metadata": {},
     "output_type": "execute_result"
    }
   ],
   "source": [
    "df = DataFrame(n, index=idx, columns=['빈도'])\n",
    "df"
   ]
  }
 ],
 "metadata": {
  "kernelspec": {
   "display_name": "Python 3",
   "language": "python",
   "name": "python3"
  },
  "language_info": {
   "codemirror_mode": {
    "name": "ipython",
    "version": 3
   },
   "file_extension": ".py",
   "mimetype": "text/x-python",
   "name": "python",
   "nbconvert_exporter": "python",
   "pygments_lexer": "ipython3",
   "version": "3.8.0"
  }
 },
 "nbformat": 4,
 "nbformat_minor": 5
}
