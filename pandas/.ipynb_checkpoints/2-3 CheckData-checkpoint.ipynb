{
 "cells": [
  {
   "cell_type": "markdown",
   "id": "unauthorized-initial",
   "metadata": {},
   "source": [
    "# 2-3 데이터 확인하기\n",
    "이전 실습 코드에서 생성한 성적표xlsx 데이터 프레임 활용\n",
    "\n",
    "## 1) 패키지 로드 및 데이터프레임 구성\n",
    "### 패키지 로드하기"
   ]
  },
  {
   "cell_type": "code",
   "execution_count": 1,
   "id": "considerable-arthur",
   "metadata": {},
   "outputs": [],
   "source": [
    "from pandas import DataFrame\n",
    "from pandas import read_excel"
   ]
  },
  {
   "cell_type": "markdown",
   "id": "structural-museum",
   "metadata": {},
   "source": [
    "### 데이터 프레임 구성하기"
   ]
  },
  {
   "cell_type": "code",
   "execution_count": 2,
   "id": "blind-might",
   "metadata": {},
   "outputs": [
    {
     "data": {
      "text/html": [
       "<div>\n",
       "<style scoped>\n",
       "    .dataframe tbody tr th:only-of-type {\n",
       "        vertical-align: middle;\n",
       "    }\n",
       "\n",
       "    .dataframe tbody tr th {\n",
       "        vertical-align: top;\n",
       "    }\n",
       "\n",
       "    .dataframe thead th {\n",
       "        text-align: right;\n",
       "    }\n",
       "</style>\n",
       "<table border=\"1\" class=\"dataframe\">\n",
       "  <thead>\n",
       "    <tr style=\"text-align: right;\">\n",
       "      <th></th>\n",
       "      <th>학년</th>\n",
       "      <th>성별</th>\n",
       "      <th>국어</th>\n",
       "      <th>영어</th>\n",
       "      <th>수학</th>\n",
       "      <th>과학</th>\n",
       "    </tr>\n",
       "    <tr>\n",
       "      <th>이름</th>\n",
       "      <th></th>\n",
       "      <th></th>\n",
       "      <th></th>\n",
       "      <th></th>\n",
       "      <th></th>\n",
       "      <th></th>\n",
       "    </tr>\n",
       "  </thead>\n",
       "  <tbody>\n",
       "    <tr>\n",
       "      <th>철수</th>\n",
       "      <td>1</td>\n",
       "      <td>남자</td>\n",
       "      <td>98</td>\n",
       "      <td>NaN</td>\n",
       "      <td>88.0</td>\n",
       "      <td>64.0</td>\n",
       "    </tr>\n",
       "    <tr>\n",
       "      <th>영희</th>\n",
       "      <td>2</td>\n",
       "      <td>여자</td>\n",
       "      <td>88</td>\n",
       "      <td>90.0</td>\n",
       "      <td>62.0</td>\n",
       "      <td>72.0</td>\n",
       "    </tr>\n",
       "    <tr>\n",
       "      <th>민수</th>\n",
       "      <td>1</td>\n",
       "      <td>남자</td>\n",
       "      <td>92</td>\n",
       "      <td>70.0</td>\n",
       "      <td>NaN</td>\n",
       "      <td>NaN</td>\n",
       "    </tr>\n",
       "    <tr>\n",
       "      <th>수현</th>\n",
       "      <td>3</td>\n",
       "      <td>여자</td>\n",
       "      <td>63</td>\n",
       "      <td>60.0</td>\n",
       "      <td>31.0</td>\n",
       "      <td>70.0</td>\n",
       "    </tr>\n",
       "    <tr>\n",
       "      <th>호영</th>\n",
       "      <td>4</td>\n",
       "      <td>남자</td>\n",
       "      <td>120</td>\n",
       "      <td>50.0</td>\n",
       "      <td>NaN</td>\n",
       "      <td>88.0</td>\n",
       "    </tr>\n",
       "  </tbody>\n",
       "</table>\n",
       "</div>"
      ],
      "text/plain": [
       "    학년  성별   국어    영어    수학    과학\n",
       "이름                               \n",
       "철수   1  남자   98   NaN  88.0  64.0\n",
       "영희   2  여자   88  90.0  62.0  72.0\n",
       "민수   1  남자   92  70.0   NaN   NaN\n",
       "수현   3  여자   63  60.0  31.0  70.0\n",
       "호영   4  남자  120  50.0   NaN  88.0"
      ]
     },
     "execution_count": 2,
     "metadata": {},
     "output_type": "execute_result"
    }
   ],
   "source": [
    "xlsx = read_excel('http://itpaper.co.kr/demo/py/grade.xlsx')\n",
    "df = xlsx.set_index('이름')\n",
    "df"
   ]
  },
  {
   "cell_type": "markdown",
   "id": "received-creativity",
   "metadata": {},
   "source": [
    "## 2) 데이터에 접근하기\n",
    "### 행, 열 크기 확인"
   ]
  },
  {
   "cell_type": "code",
   "execution_count": 3,
   "id": "dirty-reading",
   "metadata": {},
   "outputs": [
    {
     "data": {
      "text/plain": [
       "(5, 6)"
      ]
     },
     "execution_count": 3,
     "metadata": {},
     "output_type": "execute_result"
    }
   ],
   "source": [
    "size = df.shape\n",
    "size"
   ]
  },
  {
   "cell_type": "markdown",
   "id": "naughty-relief",
   "metadata": {},
   "source": [
    "### 행, 열 크기를 서로 다른 변수에 나누어 저장하기 (튜플이므로 가능)"
   ]
  },
  {
   "cell_type": "code",
   "execution_count": 4,
   "id": "optical-modem",
   "metadata": {},
   "outputs": [
    {
     "name": "stdout",
     "output_type": "stream",
     "text": [
      "5\n",
      "6\n"
     ]
    }
   ],
   "source": [
    "rows, cols = df.shape\n",
    "print(rows)\n",
    "print(cols)"
   ]
  },
  {
   "cell_type": "markdown",
   "id": "innocent-basis",
   "metadata": {},
   "source": [
    "### 상위 3건 확인하기\n",
    "`head()` 함수는 데이터의 상위n건을 반환한다. (파라미터를 생략할 경우 상위5건 반환)"
   ]
  },
  {
   "cell_type": "code",
   "execution_count": 5,
   "id": "limited-ranking",
   "metadata": {},
   "outputs": [
    {
     "data": {
      "text/html": [
       "<div>\n",
       "<style scoped>\n",
       "    .dataframe tbody tr th:only-of-type {\n",
       "        vertical-align: middle;\n",
       "    }\n",
       "\n",
       "    .dataframe tbody tr th {\n",
       "        vertical-align: top;\n",
       "    }\n",
       "\n",
       "    .dataframe thead th {\n",
       "        text-align: right;\n",
       "    }\n",
       "</style>\n",
       "<table border=\"1\" class=\"dataframe\">\n",
       "  <thead>\n",
       "    <tr style=\"text-align: right;\">\n",
       "      <th></th>\n",
       "      <th>학년</th>\n",
       "      <th>성별</th>\n",
       "      <th>국어</th>\n",
       "      <th>영어</th>\n",
       "      <th>수학</th>\n",
       "      <th>과학</th>\n",
       "    </tr>\n",
       "    <tr>\n",
       "      <th>이름</th>\n",
       "      <th></th>\n",
       "      <th></th>\n",
       "      <th></th>\n",
       "      <th></th>\n",
       "      <th></th>\n",
       "      <th></th>\n",
       "    </tr>\n",
       "  </thead>\n",
       "  <tbody>\n",
       "    <tr>\n",
       "      <th>철수</th>\n",
       "      <td>1</td>\n",
       "      <td>남자</td>\n",
       "      <td>98</td>\n",
       "      <td>NaN</td>\n",
       "      <td>88.0</td>\n",
       "      <td>64.0</td>\n",
       "    </tr>\n",
       "    <tr>\n",
       "      <th>영희</th>\n",
       "      <td>2</td>\n",
       "      <td>여자</td>\n",
       "      <td>88</td>\n",
       "      <td>90.0</td>\n",
       "      <td>62.0</td>\n",
       "      <td>72.0</td>\n",
       "    </tr>\n",
       "    <tr>\n",
       "      <th>민수</th>\n",
       "      <td>1</td>\n",
       "      <td>남자</td>\n",
       "      <td>92</td>\n",
       "      <td>70.0</td>\n",
       "      <td>NaN</td>\n",
       "      <td>NaN</td>\n",
       "    </tr>\n",
       "  </tbody>\n",
       "</table>\n",
       "</div>"
      ],
      "text/plain": [
       "    학년  성별  국어    영어    수학    과학\n",
       "이름                              \n",
       "철수   1  남자  98   NaN  88.0  64.0\n",
       "영희   2  여자  88  90.0  62.0  72.0\n",
       "민수   1  남자  92  70.0   NaN   NaN"
      ]
     },
     "execution_count": 5,
     "metadata": {},
     "output_type": "execute_result"
    }
   ],
   "source": [
    "top3 = df.head(3)\n",
    "top3"
   ]
  },
  {
   "cell_type": "markdown",
   "id": "major-continuity",
   "metadata": {},
   "source": [
    "### 하위 3건 확인하기\n",
    "`tail()` 함수는 데이터의 하위n건을 반환한다. (파라미터를 생략할 경우 하위5건 반환)"
   ]
  },
  {
   "cell_type": "code",
   "execution_count": 6,
   "id": "dominican-mattress",
   "metadata": {},
   "outputs": [
    {
     "data": {
      "text/html": [
       "<div>\n",
       "<style scoped>\n",
       "    .dataframe tbody tr th:only-of-type {\n",
       "        vertical-align: middle;\n",
       "    }\n",
       "\n",
       "    .dataframe tbody tr th {\n",
       "        vertical-align: top;\n",
       "    }\n",
       "\n",
       "    .dataframe thead th {\n",
       "        text-align: right;\n",
       "    }\n",
       "</style>\n",
       "<table border=\"1\" class=\"dataframe\">\n",
       "  <thead>\n",
       "    <tr style=\"text-align: right;\">\n",
       "      <th></th>\n",
       "      <th>학년</th>\n",
       "      <th>성별</th>\n",
       "      <th>국어</th>\n",
       "      <th>영어</th>\n",
       "      <th>수학</th>\n",
       "      <th>과학</th>\n",
       "    </tr>\n",
       "    <tr>\n",
       "      <th>이름</th>\n",
       "      <th></th>\n",
       "      <th></th>\n",
       "      <th></th>\n",
       "      <th></th>\n",
       "      <th></th>\n",
       "      <th></th>\n",
       "    </tr>\n",
       "  </thead>\n",
       "  <tbody>\n",
       "    <tr>\n",
       "      <th>민수</th>\n",
       "      <td>1</td>\n",
       "      <td>남자</td>\n",
       "      <td>92</td>\n",
       "      <td>70.0</td>\n",
       "      <td>NaN</td>\n",
       "      <td>NaN</td>\n",
       "    </tr>\n",
       "    <tr>\n",
       "      <th>수현</th>\n",
       "      <td>3</td>\n",
       "      <td>여자</td>\n",
       "      <td>63</td>\n",
       "      <td>60.0</td>\n",
       "      <td>31.0</td>\n",
       "      <td>70.0</td>\n",
       "    </tr>\n",
       "    <tr>\n",
       "      <th>호영</th>\n",
       "      <td>4</td>\n",
       "      <td>남자</td>\n",
       "      <td>120</td>\n",
       "      <td>50.0</td>\n",
       "      <td>NaN</td>\n",
       "      <td>88.0</td>\n",
       "    </tr>\n",
       "  </tbody>\n",
       "</table>\n",
       "</div>"
      ],
      "text/plain": [
       "    학년  성별   국어    영어    수학    과학\n",
       "이름                               \n",
       "민수   1  남자   92  70.0   NaN   NaN\n",
       "수현   3  여자   63  60.0  31.0  70.0\n",
       "호영   4  남자  120  50.0   NaN  88.0"
      ]
     },
     "execution_count": 6,
     "metadata": {},
     "output_type": "execute_result"
    }
   ],
   "source": [
    "last3 = df.tail(3)\n",
    "last3"
   ]
  },
  {
   "cell_type": "markdown",
   "id": "recovered-music",
   "metadata": {},
   "source": [
    "### 데이터 프레임의 인덱스 객체 확인\n",
    "데이터 프레임 객체의 `index` 속성을 통해 인덱스 이름을 저장하고 있는 객체 확인 가능"
   ]
  },
  {
   "cell_type": "code",
   "execution_count": 7,
   "id": "pregnant-honor",
   "metadata": {},
   "outputs": [
    {
     "data": {
      "text/plain": [
       "Index(['철수', '영희', '민수', '수현', '호영'], dtype='object', name='이름')"
      ]
     },
     "execution_count": 7,
     "metadata": {},
     "output_type": "execute_result"
    }
   ],
   "source": [
    "df.index"
   ]
  },
  {
   "cell_type": "markdown",
   "id": "ranging-syntax",
   "metadata": {},
   "source": [
    "### 인덱스 이름을 리스트로 변환\n",
    "데이터프레임의 index 객체를 `list()` 함수의 파라미터로 전달하여 리스트 형태로 반환 가능"
   ]
  },
  {
   "cell_type": "code",
   "execution_count": 8,
   "id": "fleet-encoding",
   "metadata": {},
   "outputs": [
    {
     "data": {
      "text/plain": [
       "['철수', '영희', '민수', '수현', '호영']"
      ]
     },
     "execution_count": 8,
     "metadata": {},
     "output_type": "execute_result"
    }
   ],
   "source": [
    "i_list = list(df.index)\n",
    "i_list"
   ]
  },
  {
   "cell_type": "markdown",
   "id": "infinite-medicare",
   "metadata": {},
   "source": [
    "### 데이터 프레임의 컬럼 객체 확인\n",
    "데이터 프레임 객체의 `columns` 속성을 통해 컬럼 이름을 저장하고 있는 객체 확인"
   ]
  },
  {
   "cell_type": "code",
   "execution_count": 9,
   "id": "surprising-security",
   "metadata": {},
   "outputs": [
    {
     "data": {
      "text/plain": [
       "Index(['학년', '성별', '국어', '영어', '수학', '과학'], dtype='object')"
      ]
     },
     "execution_count": 9,
     "metadata": {},
     "output_type": "execute_result"
    }
   ],
   "source": [
    "df.columns"
   ]
  },
  {
   "cell_type": "markdown",
   "id": "equipped-plasma",
   "metadata": {},
   "source": [
    "### 컬럼 이름을 리스트로 변환\n",
    "데이터프레임의 culumns 객체를 `list()` 함수의 파라미터로 전달하여 리스트 형태로 반환 가능"
   ]
  },
  {
   "cell_type": "code",
   "execution_count": 11,
   "id": "combined-moment",
   "metadata": {},
   "outputs": [
    {
     "data": {
      "text/plain": [
       "['학년', '성별', '국어', '영어', '수학', '과학']"
      ]
     },
     "execution_count": 11,
     "metadata": {},
     "output_type": "execute_result"
    }
   ],
   "source": [
    "c_list = list(df.columns)\n",
    "c_list"
   ]
  },
  {
   "cell_type": "markdown",
   "id": "growing-namibia",
   "metadata": {},
   "source": [
    "### 데이터프레임의 데이터만 확인\n",
    "데이터 프레임 객체의 `values` 속성을 통해 데이터를 저장하고 있는 Numpy의 Array 객체를 확인할 수 있다."
   ]
  },
  {
   "cell_type": "code",
   "execution_count": 12,
   "id": "angry-yield",
   "metadata": {},
   "outputs": [
    {
     "name": "stdout",
     "output_type": "stream",
     "text": [
      "<class 'numpy.ndarray'>\n"
     ]
    },
    {
     "data": {
      "text/plain": [
       "array([[1, '남자', 98, nan, 88.0, 64.0],\n",
       "       [2, '여자', 88, 90.0, 62.0, 72.0],\n",
       "       [1, '남자', 92, 70.0, nan, nan],\n",
       "       [3, '여자', 63, 60.0, 31.0, 70.0],\n",
       "       [4, '남자', 120, 50.0, nan, 88.0]], dtype=object)"
      ]
     },
     "execution_count": 12,
     "metadata": {},
     "output_type": "execute_result"
    }
   ],
   "source": [
    "print(type(df.values))\n",
    "df.values"
   ]
  },
  {
   "cell_type": "markdown",
   "id": "right-sodium",
   "metadata": {},
   "source": [
    "### 데이터프레임의 전치 구하기\n",
    "데이터 프레임 객체의 `T` 속성을 통해 전치 형태의 데이터 프레임을 확인할 수 있다."
   ]
  },
  {
   "cell_type": "code",
   "execution_count": 13,
   "id": "unlikely-classification",
   "metadata": {},
   "outputs": [
    {
     "data": {
      "text/html": [
       "<div>\n",
       "<style scoped>\n",
       "    .dataframe tbody tr th:only-of-type {\n",
       "        vertical-align: middle;\n",
       "    }\n",
       "\n",
       "    .dataframe tbody tr th {\n",
       "        vertical-align: top;\n",
       "    }\n",
       "\n",
       "    .dataframe thead th {\n",
       "        text-align: right;\n",
       "    }\n",
       "</style>\n",
       "<table border=\"1\" class=\"dataframe\">\n",
       "  <thead>\n",
       "    <tr style=\"text-align: right;\">\n",
       "      <th>이름</th>\n",
       "      <th>철수</th>\n",
       "      <th>영희</th>\n",
       "      <th>민수</th>\n",
       "      <th>수현</th>\n",
       "      <th>호영</th>\n",
       "    </tr>\n",
       "  </thead>\n",
       "  <tbody>\n",
       "    <tr>\n",
       "      <th>학년</th>\n",
       "      <td>1</td>\n",
       "      <td>2</td>\n",
       "      <td>1</td>\n",
       "      <td>3</td>\n",
       "      <td>4</td>\n",
       "    </tr>\n",
       "    <tr>\n",
       "      <th>성별</th>\n",
       "      <td>남자</td>\n",
       "      <td>여자</td>\n",
       "      <td>남자</td>\n",
       "      <td>여자</td>\n",
       "      <td>남자</td>\n",
       "    </tr>\n",
       "    <tr>\n",
       "      <th>국어</th>\n",
       "      <td>98</td>\n",
       "      <td>88</td>\n",
       "      <td>92</td>\n",
       "      <td>63</td>\n",
       "      <td>120</td>\n",
       "    </tr>\n",
       "    <tr>\n",
       "      <th>영어</th>\n",
       "      <td>NaN</td>\n",
       "      <td>90.0</td>\n",
       "      <td>70.0</td>\n",
       "      <td>60.0</td>\n",
       "      <td>50.0</td>\n",
       "    </tr>\n",
       "    <tr>\n",
       "      <th>수학</th>\n",
       "      <td>88.0</td>\n",
       "      <td>62.0</td>\n",
       "      <td>NaN</td>\n",
       "      <td>31.0</td>\n",
       "      <td>NaN</td>\n",
       "    </tr>\n",
       "    <tr>\n",
       "      <th>과학</th>\n",
       "      <td>64.0</td>\n",
       "      <td>72.0</td>\n",
       "      <td>NaN</td>\n",
       "      <td>70.0</td>\n",
       "      <td>88.0</td>\n",
       "    </tr>\n",
       "  </tbody>\n",
       "</table>\n",
       "</div>"
      ],
      "text/plain": [
       "이름    철수    영희    민수    수현    호영\n",
       "학년     1     2     1     3     4\n",
       "성별    남자    여자    남자    여자    남자\n",
       "국어    98    88    92    63   120\n",
       "영어   NaN  90.0  70.0  60.0  50.0\n",
       "수학  88.0  62.0   NaN  31.0   NaN\n",
       "과학  64.0  72.0   NaN  70.0  88.0"
      ]
     },
     "execution_count": 13,
     "metadata": {},
     "output_type": "execute_result"
    }
   ],
   "source": [
    "df_t = df.T\n",
    "df_t"
   ]
  },
  {
   "cell_type": "markdown",
   "id": "worst-cassette",
   "metadata": {},
   "source": [
    "## 3) 열단위의 데이터 접근\n",
    "### 컬럼들에 대한 데이터 타입 확인\n",
    "데이터프레임 객체의 `dtypes` 속성은 각 변수에 대한 DataType을 확인할 수 있다."
   ]
  },
  {
   "cell_type": "code",
   "execution_count": 15,
   "id": "guided-shadow",
   "metadata": {},
   "outputs": [
    {
     "data": {
      "text/plain": [
       "학년      int64\n",
       "성별     object\n",
       "국어      int64\n",
       "영어    float64\n",
       "수학    float64\n",
       "과학    float64\n",
       "dtype: object"
      ]
     },
     "execution_count": 15,
     "metadata": {},
     "output_type": "execute_result"
    }
   ],
   "source": [
    "df.dtypes"
   ]
  },
  {
   "cell_type": "markdown",
   "id": "authorized-throat",
   "metadata": {},
   "source": [
    "### 특정 열에 대한 타입과 값 확인 - 국어 컬럼에 대한 데이터 타입 확인\n",
    "`데이터프레임객체['컬럼이름']` 형식으로 특정 컬럼에 접근 가능\n",
    "\n",
    "특정 컬럼만 확인하고자 할 경우 컬럼을 `type()` 함수에 전달하여 반환 받는다.\n",
    "\n",
    "DataFrame의 각 열은 Series로 구성되어 있음을 알 수 있다."
   ]
  },
  {
   "cell_type": "code",
   "execution_count": 16,
   "id": "minute-synthesis",
   "metadata": {},
   "outputs": [
    {
     "name": "stdout",
     "output_type": "stream",
     "text": [
      "<class 'pandas.core.series.Series'>\n"
     ]
    },
    {
     "data": {
      "text/plain": [
       "이름\n",
       "철수     98\n",
       "영희     88\n",
       "민수     92\n",
       "수현     63\n",
       "호영    120\n",
       "Name: 국어, dtype: int64"
      ]
     },
     "execution_count": 16,
     "metadata": {},
     "output_type": "execute_result"
    }
   ],
   "source": [
    "print(type(df['국어']))\n",
    "df['국어']"
   ]
  },
  {
   "cell_type": "markdown",
   "id": "naked-world",
   "metadata": {},
   "source": [
    "### 특정 열의 값들을 numpy 배열로 변환 - 국어 점수를 numpy 배열로 변환하기\n",
    "컬럼에 대한 values 속성을 사용해서 실제 데이터들만 numpy 배열로 반환받는다."
   ]
  },
  {
   "cell_type": "code",
   "execution_count": 17,
   "id": "persistent-lawsuit",
   "metadata": {},
   "outputs": [
    {
     "name": "stdout",
     "output_type": "stream",
     "text": [
      "<class 'numpy.ndarray'>\n"
     ]
    },
    {
     "data": {
      "text/plain": [
       "array([ 98,  88,  92,  63, 120], dtype=int64)"
      ]
     },
     "execution_count": 17,
     "metadata": {},
     "output_type": "execute_result"
    }
   ],
   "source": [
    "arr = df['국어'].values\n",
    "print(type(arr))\n",
    "arr"
   ]
  },
  {
   "cell_type": "markdown",
   "id": "promotional-accordance",
   "metadata": {},
   "source": [
    "### 열의 값들을 list로 변환 - 국어 점수를 list 타입으로 변환\n",
    "numpy 배열과 파이썬의 리스트 타입은 서로 호환 -> 컬럼 자체를 `list()` 함수를 통해 리스트타입으로 변환 가능"
   ]
  },
  {
   "cell_type": "code",
   "execution_count": 18,
   "id": "efficient-forestry",
   "metadata": {},
   "outputs": [
    {
     "name": "stdout",
     "output_type": "stream",
     "text": [
      "<class 'list'>\n"
     ]
    },
    {
     "data": {
      "text/plain": [
       "[98, 88, 92, 63, 120]"
      ]
     },
     "execution_count": 18,
     "metadata": {},
     "output_type": "execute_result"
    }
   ],
   "source": [
    "ls = list(df['국어'])\n",
    "print(type(ls))\n",
    "ls"
   ]
  },
  {
   "cell_type": "markdown",
   "id": "unlikely-chinese",
   "metadata": {},
   "source": [
    "## 4) 행 단위로 접근하기\n",
    "반드시 `loc` 이라는 속성을 통해 접근해야 한다.\n",
    "### 하나의 행에 속한 모든 데이터 추출 - 철수의 과목별 점수 확인하기\n",
    "`loc` 속성에 인덱스 이름을 지정하여 특정 행의 모든 데이터를 가져올 수 있다."
   ]
  },
  {
   "cell_type": "code",
   "execution_count": 20,
   "id": "powered-ordering",
   "metadata": {},
   "outputs": [
    {
     "name": "stdout",
     "output_type": "stream",
     "text": [
      "<class 'pandas.core.series.Series'>\n"
     ]
    },
    {
     "data": {
      "text/plain": [
       "학년       1\n",
       "성별      남자\n",
       "국어      98\n",
       "영어     NaN\n",
       "수학    88.0\n",
       "과학    64.0\n",
       "Name: 철수, dtype: object"
      ]
     },
     "execution_count": 20,
     "metadata": {},
     "output_type": "execute_result"
    }
   ],
   "source": [
    "cs = df.loc['철수']\n",
    "print(type(cs))\n",
    "cs"
   ]
  },
  {
   "cell_type": "markdown",
   "id": "signed-briefs",
   "metadata": {},
   "source": [
    "### 행의 값들을 numpy 배열로 변환 - 철수에 대한 데이터를 numpy 배열로 변환\n",
    "행의 경우도 열과 마찬가지로 `values` 속성을 통해 numpy 배열로 변환 가능"
   ]
  },
  {
   "cell_type": "code",
   "execution_count": 22,
   "id": "renewable-traffic",
   "metadata": {},
   "outputs": [
    {
     "name": "stdout",
     "output_type": "stream",
     "text": [
      "<class 'numpy.ndarray'>\n"
     ]
    },
    {
     "data": {
      "text/plain": [
       "array([1, '남자', 98, nan, 88.0, 64.0], dtype=object)"
      ]
     },
     "execution_count": 22,
     "metadata": {},
     "output_type": "execute_result"
    }
   ],
   "source": [
    "arr = df.loc['철수'].values\n",
    "print(type(arr))\n",
    "arr"
   ]
  },
  {
   "cell_type": "markdown",
   "id": "macro-difference",
   "metadata": {},
   "source": [
    "### 행의 값들을 list로 변환 - 철수에 대한 데이터를 리스트로 변환"
   ]
  },
  {
   "cell_type": "code",
   "execution_count": 23,
   "id": "warming-nicholas",
   "metadata": {},
   "outputs": [
    {
     "name": "stdout",
     "output_type": "stream",
     "text": [
      "<class 'list'>\n"
     ]
    },
    {
     "data": {
      "text/plain": [
       "[1, '남자', 98, nan, 88.0, 64.0]"
      ]
     },
     "execution_count": 23,
     "metadata": {},
     "output_type": "execute_result"
    }
   ],
   "source": [
    "ls = list(df.loc['철수'])\n",
    "print(type(ls))\n",
    "ls"
   ]
  },
  {
   "cell_type": "markdown",
   "id": "literary-counter",
   "metadata": {},
   "source": [
    "## 5) 특정 위치의 값에 직접 접근\n",
    "### 열 -> 행 순으로 접근하기 - 국어에 대한 철수의 점수 확인\n",
    "`데이터프레임객체[열][행]` 순으로 명시한다."
   ]
  },
  {
   "cell_type": "code",
   "execution_count": 25,
   "id": "auburn-throw",
   "metadata": {},
   "outputs": [
    {
     "data": {
      "text/plain": [
       "98"
      ]
     },
     "execution_count": 25,
     "metadata": {},
     "output_type": "execute_result"
    }
   ],
   "source": [
    "df['국어']['철수']"
   ]
  },
  {
   "cell_type": "markdown",
   "id": "aging-chase",
   "metadata": {},
   "source": [
    "### 행 -> 열 순으로 접근하기 - 철수의 국어 점수 확인\n",
    "`데이터프레임객체.loc[행,열]` 형식을 사용하여 특정 값에 접근 가능 (괄호 표기법에서 실수하지 않도록 주의!)"
   ]
  },
  {
   "cell_type": "code",
   "execution_count": 26,
   "id": "neutral-steel",
   "metadata": {},
   "outputs": [
    {
     "data": {
      "text/plain": [
       "98"
      ]
     },
     "execution_count": 26,
     "metadata": {},
     "output_type": "execute_result"
    }
   ],
   "source": [
    "df.loc['철수', '국어']"
   ]
  },
  {
   "cell_type": "markdown",
   "id": "sharing-toilet",
   "metadata": {},
   "source": [
    "### 특정 값 변경하기 - 철수의 국어점수를 99점으로 수정하기\n",
    "데이터 프레임의 특정 값을 수정해야 할 경우는 <b>행 우선 접근 방법</b>으로만 가능"
   ]
  },
  {
   "cell_type": "code",
   "execution_count": 28,
   "id": "mobile-absolute",
   "metadata": {},
   "outputs": [
    {
     "data": {
      "text/html": [
       "<div>\n",
       "<style scoped>\n",
       "    .dataframe tbody tr th:only-of-type {\n",
       "        vertical-align: middle;\n",
       "    }\n",
       "\n",
       "    .dataframe tbody tr th {\n",
       "        vertical-align: top;\n",
       "    }\n",
       "\n",
       "    .dataframe thead th {\n",
       "        text-align: right;\n",
       "    }\n",
       "</style>\n",
       "<table border=\"1\" class=\"dataframe\">\n",
       "  <thead>\n",
       "    <tr style=\"text-align: right;\">\n",
       "      <th></th>\n",
       "      <th>학년</th>\n",
       "      <th>성별</th>\n",
       "      <th>국어</th>\n",
       "      <th>영어</th>\n",
       "      <th>수학</th>\n",
       "      <th>과학</th>\n",
       "    </tr>\n",
       "    <tr>\n",
       "      <th>이름</th>\n",
       "      <th></th>\n",
       "      <th></th>\n",
       "      <th></th>\n",
       "      <th></th>\n",
       "      <th></th>\n",
       "      <th></th>\n",
       "    </tr>\n",
       "  </thead>\n",
       "  <tbody>\n",
       "    <tr>\n",
       "      <th>철수</th>\n",
       "      <td>1</td>\n",
       "      <td>남자</td>\n",
       "      <td>99</td>\n",
       "      <td>NaN</td>\n",
       "      <td>88.0</td>\n",
       "      <td>64.0</td>\n",
       "    </tr>\n",
       "    <tr>\n",
       "      <th>영희</th>\n",
       "      <td>2</td>\n",
       "      <td>여자</td>\n",
       "      <td>88</td>\n",
       "      <td>90.0</td>\n",
       "      <td>62.0</td>\n",
       "      <td>72.0</td>\n",
       "    </tr>\n",
       "    <tr>\n",
       "      <th>민수</th>\n",
       "      <td>1</td>\n",
       "      <td>남자</td>\n",
       "      <td>92</td>\n",
       "      <td>70.0</td>\n",
       "      <td>NaN</td>\n",
       "      <td>NaN</td>\n",
       "    </tr>\n",
       "    <tr>\n",
       "      <th>수현</th>\n",
       "      <td>3</td>\n",
       "      <td>여자</td>\n",
       "      <td>63</td>\n",
       "      <td>60.0</td>\n",
       "      <td>31.0</td>\n",
       "      <td>70.0</td>\n",
       "    </tr>\n",
       "    <tr>\n",
       "      <th>호영</th>\n",
       "      <td>4</td>\n",
       "      <td>남자</td>\n",
       "      <td>120</td>\n",
       "      <td>50.0</td>\n",
       "      <td>NaN</td>\n",
       "      <td>88.0</td>\n",
       "    </tr>\n",
       "  </tbody>\n",
       "</table>\n",
       "</div>"
      ],
      "text/plain": [
       "    학년  성별   국어    영어    수학    과학\n",
       "이름                               \n",
       "철수   1  남자   99   NaN  88.0  64.0\n",
       "영희   2  여자   88  90.0  62.0  72.0\n",
       "민수   1  남자   92  70.0   NaN   NaN\n",
       "수현   3  여자   63  60.0  31.0  70.0\n",
       "호영   4  남자  120  50.0   NaN  88.0"
      ]
     },
     "execution_count": 28,
     "metadata": {},
     "output_type": "execute_result"
    }
   ],
   "source": [
    "df.loc['철수', '국어'] = 99\n",
    "df"
   ]
  },
  {
   "cell_type": "markdown",
   "id": "invalid-outside",
   "metadata": {},
   "source": [
    "## ※ 수정은 행-열 방식으로만 수정가능하므로 행 우선 접근 방법을 권장!"
   ]
  }
 ],
 "metadata": {
  "kernelspec": {
   "display_name": "Python 3",
   "language": "python",
   "name": "python3"
  },
  "language_info": {
   "codemirror_mode": {
    "name": "ipython",
    "version": 3
   },
   "file_extension": ".py",
   "mimetype": "text/x-python",
   "name": "python",
   "nbconvert_exporter": "python",
   "pygments_lexer": "ipython3",
   "version": "3.8.0"
  }
 },
 "nbformat": 4,
 "nbformat_minor": 5
}
