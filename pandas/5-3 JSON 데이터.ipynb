{
 "cells": [
  {
   "cell_type": "markdown",
   "id": "collaborative-landing",
   "metadata": {},
   "source": [
    "# 5-3. JSON 데이터\n",
    "JSON = 경량의 데이터 표현 형식, 최근 웹/모바일 등을 중심으로 <b>서로 다른 플랫폼 간 데이터 교환</b>을 위해 활용되는 사실상 산업 표준<br>\n",
    "특히 OpenAPI 등을 통해 다른 곳에서 제공하는 데이터를 수집할 경우 JSON 형식으로 되어 있는 경우가 많으므로<br>\n",
    "Python에서도 HTTP 통신을 기반으로 OpenAPI로부터 JSON 형식의 데이터를 수집하고 이를 데이터 프레임으로 변환하는 기능을 제공\n",
    "\n",
    "# #01. JSON 구조의 이해\n",
    "key와 value의 쌍으로 이루어진 데이터 표현 형식으로 <b>Python의 딕셔너리와 동일한 구조</b>를 갖는다.\n",
    "### 이름(key)과 값(value)의 쌍을 이루는 구조"
   ]
  },
  {
   "cell_type": "code",
   "execution_count": null,
   "id": "eligible-inside",
   "metadata": {},
   "outputs": [],
   "source": [
    "{\"이름\":\"값\", \"이름\":\"값\" ... }"
   ]
  },
  {
   "cell_type": "markdown",
   "id": "orange-bouquet",
   "metadata": {},
   "source": [
    "> 값에는 문자, 문자열, 논리값(true/false) 모두 가능, 값이 문자열인 경우 쌍따옴표나 홑따옴표로 감싸 표현\n",
    "\n",
    "### 값을 배열 형식으로 구성 가능\n",
    "하나의 이름에 여러 개의 값을 포함시키고, 0부터 시작되는 인덱스 번호를 통해 값에 접근"
   ]
  },
  {
   "cell_type": "code",
   "execution_count": null,
   "id": "prime-italian",
   "metadata": {},
   "outputs": [],
   "source": [
    "{\"이름\" : [\"값0\", \"값1\", \"값2\"] }"
   ]
  },
  {
   "cell_type": "markdown",
   "id": "cooked-company",
   "metadata": {},
   "source": [
    "### 계층화 된 데이터의 표현"
   ]
  },
  {
   "cell_type": "code",
   "execution_count": null,
   "id": "planned-reservation",
   "metadata": {},
   "outputs": [],
   "source": [
    "{\n",
    "    \"이름\" : {\"이름\":\"값\", \"이름\":\"값\" },\n",
    "    \"이름\" : {\"이름\":\"값\", \"이름\":\"값\" }\n",
    "};"
   ]
  },
  {
   "cell_type": "markdown",
   "id": "baking-toddler",
   "metadata": {},
   "source": [
    "### 목록형 데이터의 표현\n",
    "가장 일반적인 형식<br>\n",
    "하나의 key에 대응되는 값이 배열 형태이고, 배열의 각 원소가 동일한 구조를 갖는 JSON들로 구성된다.\n",
    "> article[0].subject --> 글 제목"
   ]
  },
  {
   "cell_type": "code",
   "execution_count": null,
   "id": "frequent-compiler",
   "metadata": {},
   "outputs": [],
   "source": [
    "{ 'article' : [\n",
    "    {'subject':'글 제목', 'content' : '글 내용', 'writer':'작성자', 'date':'작성일'},\n",
    "    {'subject':'글 제목', 'content' : '글 내용', 'writer':'작성자', 'date':'작성일'},\n",
    "    ...\n",
    "    {'subject':'글 제목', 'content' : '글 내용', 'writer':'작성자', 'date':'작성일'}\n",
    "]}"
   ]
  },
  {
   "cell_type": "markdown",
   "id": "still-gambling",
   "metadata": {},
   "source": [
    "# #02. 필요한 패키지 가져오기"
   ]
  },
  {
   "cell_type": "code",
   "execution_count": 1,
   "id": "robust-botswana",
   "metadata": {},
   "outputs": [],
   "source": [
    "import requests               # 통신 기능 제공\n",
    "import json                   # 파이썬 내장 모듈\n",
    "from pandas import DataFrame\n",
    "from matplotlib import pyplot"
   ]
  },
  {
   "cell_type": "markdown",
   "id": "identified-socket",
   "metadata": {},
   "source": [
    "# #03. 간단한 JSON 데이터 가져오기\n",
    "requests 모듈이 지정된 URL의 내용을 모두 텍스트로만 가져오기 때문에 가져온 데이터의 형식에 따라 변환 처리 필요\n",
    "\n",
    "## 1) URL 지정"
   ]
  },
  {
   "cell_type": "code",
   "execution_count": 2,
   "id": "complicated-window",
   "metadata": {},
   "outputs": [],
   "source": [
    "simple_json_url = 'http://www.itpaper.co.kr/demo/py/simple.json'"
   ]
  },
  {
   "cell_type": "markdown",
   "id": "brilliant-decline",
   "metadata": {},
   "source": [
    "## 2) 세션 생성"
   ]
  },
  {
   "cell_type": "code",
   "execution_count": 5,
   "id": "medium-runner",
   "metadata": {},
   "outputs": [],
   "source": [
    "user_agent = \"Mozilla/5.0 (Windows NT 10.0; Win64; x64) AppleWebKit/537.36 (KHTML, like Gecko) Chrome/88.0.4324.190 Safari/537.36\"\n",
    "session= requests.Session()\n",
    "session.headers.update({'User-agent':user_agent, 'referer':None})"
   ]
  },
  {
   "cell_type": "markdown",
   "id": "closed-retro",
   "metadata": {},
   "source": [
    "## 3) JSON 데이터 가져오기"
   ]
  },
  {
   "cell_type": "code",
   "execution_count": 6,
   "id": "streaming-airfare",
   "metadata": {},
   "outputs": [
    {
     "name": "stdout",
     "output_type": "stream",
     "text": [
      "<class 'str'>\n"
     ]
    },
    {
     "data": {
      "text/plain": [
       "'{\\n    \"name\": \"갤럭시 S6\",\\n    \"type\": \"삼성\",\\n    \"img\": \"http://itpaper.co.kr/demo/app/img/GalaxyS6.png\"\\n}'"
      ]
     },
     "execution_count": 6,
     "metadata": {},
     "output_type": "execute_result"
    }
   ],
   "source": [
    "# 데이터 가져오기\n",
    "r = session.get(simple_json_url)\n",
    "\n",
    "# 결과 검사\n",
    "if r.status_code != 200:\n",
    "    print(\"[%d Error] %s\" % (r.status_code, r.reason))\n",
    "    quit()\n",
    "    \n",
    "#인코딩 형식 지정\n",
    "r.encoding = 'utf-8'\n",
    "\n",
    "# 텍스트 출력\n",
    "print(type(r.text))\n",
    "r.text"
   ]
  },
  {
   "cell_type": "markdown",
   "id": "inappropriate-space",
   "metadata": {},
   "source": [
    "## 4) JSON 형식의 문자열을 딕셔너리로 변환\n",
    "파이썬 내장 패키지닌 json 패키지의 `loads()` 함수를 사용하여 JSON 형식 문자열을 딕셔너리 구조로 변환"
   ]
  },
  {
   "cell_type": "code",
   "execution_count": 7,
   "id": "early-uncertainty",
   "metadata": {},
   "outputs": [
    {
     "name": "stdout",
     "output_type": "stream",
     "text": [
      "<class 'dict'>\n"
     ]
    },
    {
     "data": {
      "text/plain": [
       "{'name': '갤럭시 S6',\n",
       " 'type': '삼성',\n",
       " 'img': 'http://itpaper.co.kr/demo/app/img/GalaxyS6.png'}"
      ]
     },
     "execution_count": 7,
     "metadata": {},
     "output_type": "execute_result"
    }
   ],
   "source": [
    "result = json.loads(r.text)\n",
    "print(type(result))\n",
    "result"
   ]
  },
  {
   "cell_type": "markdown",
   "id": "sized-payday",
   "metadata": {},
   "source": [
    "## 5) 딕셔너리를 DataFrame으로 변환\n",
    "Dataframe을 생성 가능한 파라미터 형식\n",
    "1. 2차 리스트\n",
    "2. 모든 원소가 같은 크기의 리스트인 딕셔너리\n",
    "3. 모든 원소가 같은 구조의 딕셔너리인 리스트\n",
    "\n",
    "> 수신 결과는 단순한 딕셔너리이므로 이 값을 통째로 리스트에 넣어줘야 한다 (=3번 케이스)"
   ]
  },
  {
   "cell_type": "code",
   "execution_count": 8,
   "id": "silent-lending",
   "metadata": {},
   "outputs": [
    {
     "data": {
      "text/html": [
       "<div>\n",
       "<style scoped>\n",
       "    .dataframe tbody tr th:only-of-type {\n",
       "        vertical-align: middle;\n",
       "    }\n",
       "\n",
       "    .dataframe tbody tr th {\n",
       "        vertical-align: top;\n",
       "    }\n",
       "\n",
       "    .dataframe thead th {\n",
       "        text-align: right;\n",
       "    }\n",
       "</style>\n",
       "<table border=\"1\" class=\"dataframe\">\n",
       "  <thead>\n",
       "    <tr style=\"text-align: right;\">\n",
       "      <th></th>\n",
       "      <th>name</th>\n",
       "      <th>type</th>\n",
       "      <th>img</th>\n",
       "    </tr>\n",
       "  </thead>\n",
       "  <tbody>\n",
       "    <tr>\n",
       "      <th>0</th>\n",
       "      <td>갤럭시 S6</td>\n",
       "      <td>삼성</td>\n",
       "      <td>http://itpaper.co.kr/demo/app/img/GalaxyS6.png</td>\n",
       "    </tr>\n",
       "  </tbody>\n",
       "</table>\n",
       "</div>"
      ],
      "text/plain": [
       "     name type                                             img\n",
       "0  갤럭시 S6   삼성  http://itpaper.co.kr/demo/app/img/GalaxyS6.png"
      ]
     },
     "execution_count": 8,
     "metadata": {},
     "output_type": "execute_result"
    }
   ],
   "source": [
    "# 가져온 딕셔너리를 List의 원소로 활용하여 새로운 리스트 생성\n",
    "data_list = [result]\n",
    "\n",
    "simple_df = DataFrame(data_list)\n",
    "simple_df"
   ]
  },
  {
   "cell_type": "markdown",
   "id": "written-catch",
   "metadata": {},
   "source": [
    "# #03. 리스트 형식의 데이터를 포함하는 JSON\n",
    "## 1) 데이터 수집\n",
    "### JSON 가져오기"
   ]
  },
  {
   "cell_type": "code",
   "execution_count": 10,
   "id": "hispanic-dividend",
   "metadata": {},
   "outputs": [
    {
     "data": {
      "text/plain": [
       "{'student': [{'name': '철수', 'math': 85, 'kor': 80, 'eng': 70},\n",
       "  {'name': '영이', 'math': 92, 'kor': 70, 'eng': 85},\n",
       "  {'name': '순이', 'math': 61, 'kor': 100, 'eng': 72}]}"
      ]
     },
     "execution_count": 10,
     "metadata": {},
     "output_type": "execute_result"
    }
   ],
   "source": [
    "# JSON URL\n",
    "json_list_url = 'http://www.itpaper.co.kr/demo/py/student.json'\n",
    "\n",
    "# 준비된 URL의 컨텐츠 가져오기\n",
    "r = session.get(json_list_url)\n",
    "\n",
    "# 접속에 실패한 경우에 대한 예외 처리\n",
    "if r.status_code != 200:\n",
    "    print(\"[%d Error] %s\" % (r.status_code, r.reason))\n",
    "    quit()\n",
    "    \n",
    "#인코딩 형식 지정\n",
    "r.encoding = 'utf-8'\n",
    "\n",
    "# 가져온 결과를 딕셔너리로 변환\n",
    "result = json.loads(r.text)\n",
    "result"
   ]
  },
  {
   "cell_type": "markdown",
   "id": "minute-material",
   "metadata": {},
   "source": [
    "### 데이터 프레임으로 변환\n",
    "가져온 결과에서 student 키에 해당하는 리스트를 추출, 데이터프레임으로 변환"
   ]
  },
  {
   "cell_type": "code",
   "execution_count": 11,
   "id": "similar-opera",
   "metadata": {},
   "outputs": [
    {
     "data": {
      "text/html": [
       "<div>\n",
       "<style scoped>\n",
       "    .dataframe tbody tr th:only-of-type {\n",
       "        vertical-align: middle;\n",
       "    }\n",
       "\n",
       "    .dataframe tbody tr th {\n",
       "        vertical-align: top;\n",
       "    }\n",
       "\n",
       "    .dataframe thead th {\n",
       "        text-align: right;\n",
       "    }\n",
       "</style>\n",
       "<table border=\"1\" class=\"dataframe\">\n",
       "  <thead>\n",
       "    <tr style=\"text-align: right;\">\n",
       "      <th></th>\n",
       "      <th>name</th>\n",
       "      <th>math</th>\n",
       "      <th>kor</th>\n",
       "      <th>eng</th>\n",
       "    </tr>\n",
       "  </thead>\n",
       "  <tbody>\n",
       "    <tr>\n",
       "      <th>0</th>\n",
       "      <td>철수</td>\n",
       "      <td>85</td>\n",
       "      <td>80</td>\n",
       "      <td>70</td>\n",
       "    </tr>\n",
       "    <tr>\n",
       "      <th>1</th>\n",
       "      <td>영이</td>\n",
       "      <td>92</td>\n",
       "      <td>70</td>\n",
       "      <td>85</td>\n",
       "    </tr>\n",
       "    <tr>\n",
       "      <th>2</th>\n",
       "      <td>순이</td>\n",
       "      <td>61</td>\n",
       "      <td>100</td>\n",
       "      <td>72</td>\n",
       "    </tr>\n",
       "  </tbody>\n",
       "</table>\n",
       "</div>"
      ],
      "text/plain": [
       "  name  math  kor  eng\n",
       "0   철수    85   80   70\n",
       "1   영이    92   70   85\n",
       "2   순이    61  100   72"
      ]
     },
     "execution_count": 11,
     "metadata": {},
     "output_type": "execute_result"
    }
   ],
   "source": [
    "student_df = DataFrame(result['student'])\n",
    "student_df"
   ]
  },
  {
   "cell_type": "markdown",
   "id": "naval-apollo",
   "metadata": {},
   "source": [
    "## 2) 데이터 전처리\n",
    "### 컬럼이름 변경"
   ]
  },
  {
   "cell_type": "code",
   "execution_count": 12,
   "id": "afraid-scientist",
   "metadata": {},
   "outputs": [
    {
     "data": {
      "text/html": [
       "<div>\n",
       "<style scoped>\n",
       "    .dataframe tbody tr th:only-of-type {\n",
       "        vertical-align: middle;\n",
       "    }\n",
       "\n",
       "    .dataframe tbody tr th {\n",
       "        vertical-align: top;\n",
       "    }\n",
       "\n",
       "    .dataframe thead th {\n",
       "        text-align: right;\n",
       "    }\n",
       "</style>\n",
       "<table border=\"1\" class=\"dataframe\">\n",
       "  <thead>\n",
       "    <tr style=\"text-align: right;\">\n",
       "      <th></th>\n",
       "      <th>이름</th>\n",
       "      <th>수학</th>\n",
       "      <th>국어</th>\n",
       "      <th>영어</th>\n",
       "    </tr>\n",
       "  </thead>\n",
       "  <tbody>\n",
       "    <tr>\n",
       "      <th>0</th>\n",
       "      <td>철수</td>\n",
       "      <td>85</td>\n",
       "      <td>80</td>\n",
       "      <td>70</td>\n",
       "    </tr>\n",
       "    <tr>\n",
       "      <th>1</th>\n",
       "      <td>영이</td>\n",
       "      <td>92</td>\n",
       "      <td>70</td>\n",
       "      <td>85</td>\n",
       "    </tr>\n",
       "    <tr>\n",
       "      <th>2</th>\n",
       "      <td>순이</td>\n",
       "      <td>61</td>\n",
       "      <td>100</td>\n",
       "      <td>72</td>\n",
       "    </tr>\n",
       "  </tbody>\n",
       "</table>\n",
       "</div>"
      ],
      "text/plain": [
       "   이름  수학   국어  영어\n",
       "0  철수  85   80  70\n",
       "1  영이  92   70  85\n",
       "2  순이  61  100  72"
      ]
     },
     "execution_count": 12,
     "metadata": {},
     "output_type": "execute_result"
    }
   ],
   "source": [
    "student_df2 = student_df.rename(columns={'name':'이름', 'math':'수학', 'kor':'국어', 'eng':'영어'})\n",
    "student_df2"
   ]
  },
  {
   "cell_type": "markdown",
   "id": "polished-exclusion",
   "metadata": {},
   "source": [
    "### 학생 이름을 인덱스로 지정"
   ]
  },
  {
   "cell_type": "code",
   "execution_count": 13,
   "id": "anticipated-girlfriend",
   "metadata": {},
   "outputs": [
    {
     "data": {
      "text/html": [
       "<div>\n",
       "<style scoped>\n",
       "    .dataframe tbody tr th:only-of-type {\n",
       "        vertical-align: middle;\n",
       "    }\n",
       "\n",
       "    .dataframe tbody tr th {\n",
       "        vertical-align: top;\n",
       "    }\n",
       "\n",
       "    .dataframe thead th {\n",
       "        text-align: right;\n",
       "    }\n",
       "</style>\n",
       "<table border=\"1\" class=\"dataframe\">\n",
       "  <thead>\n",
       "    <tr style=\"text-align: right;\">\n",
       "      <th></th>\n",
       "      <th>수학</th>\n",
       "      <th>국어</th>\n",
       "      <th>영어</th>\n",
       "    </tr>\n",
       "    <tr>\n",
       "      <th>이름</th>\n",
       "      <th></th>\n",
       "      <th></th>\n",
       "      <th></th>\n",
       "    </tr>\n",
       "  </thead>\n",
       "  <tbody>\n",
       "    <tr>\n",
       "      <th>철수</th>\n",
       "      <td>85</td>\n",
       "      <td>80</td>\n",
       "      <td>70</td>\n",
       "    </tr>\n",
       "    <tr>\n",
       "      <th>영이</th>\n",
       "      <td>92</td>\n",
       "      <td>70</td>\n",
       "      <td>85</td>\n",
       "    </tr>\n",
       "    <tr>\n",
       "      <th>순이</th>\n",
       "      <td>61</td>\n",
       "      <td>100</td>\n",
       "      <td>72</td>\n",
       "    </tr>\n",
       "  </tbody>\n",
       "</table>\n",
       "</div>"
      ],
      "text/plain": [
       "    수학   국어  영어\n",
       "이름             \n",
       "철수  85   80  70\n",
       "영이  92   70  85\n",
       "순이  61  100  72"
      ]
     },
     "execution_count": 13,
     "metadata": {},
     "output_type": "execute_result"
    }
   ],
   "source": [
    "성적표df = student_df2.set_index('이름')\n",
    "성적표df"
   ]
  },
  {
   "cell_type": "markdown",
   "id": "contained-sphere",
   "metadata": {},
   "source": [
    "### 컬럼 순서 변경"
   ]
  },
  {
   "cell_type": "code",
   "execution_count": 14,
   "id": "improved-promotion",
   "metadata": {},
   "outputs": [
    {
     "data": {
      "text/html": [
       "<div>\n",
       "<style scoped>\n",
       "    .dataframe tbody tr th:only-of-type {\n",
       "        vertical-align: middle;\n",
       "    }\n",
       "\n",
       "    .dataframe tbody tr th {\n",
       "        vertical-align: top;\n",
       "    }\n",
       "\n",
       "    .dataframe thead th {\n",
       "        text-align: right;\n",
       "    }\n",
       "</style>\n",
       "<table border=\"1\" class=\"dataframe\">\n",
       "  <thead>\n",
       "    <tr style=\"text-align: right;\">\n",
       "      <th></th>\n",
       "      <th>국어</th>\n",
       "      <th>영어</th>\n",
       "      <th>수학</th>\n",
       "    </tr>\n",
       "    <tr>\n",
       "      <th>이름</th>\n",
       "      <th></th>\n",
       "      <th></th>\n",
       "      <th></th>\n",
       "    </tr>\n",
       "  </thead>\n",
       "  <tbody>\n",
       "    <tr>\n",
       "      <th>철수</th>\n",
       "      <td>80</td>\n",
       "      <td>70</td>\n",
       "      <td>85</td>\n",
       "    </tr>\n",
       "    <tr>\n",
       "      <th>영이</th>\n",
       "      <td>70</td>\n",
       "      <td>85</td>\n",
       "      <td>92</td>\n",
       "    </tr>\n",
       "    <tr>\n",
       "      <th>순이</th>\n",
       "      <td>100</td>\n",
       "      <td>72</td>\n",
       "      <td>61</td>\n",
       "    </tr>\n",
       "  </tbody>\n",
       "</table>\n",
       "</div>"
      ],
      "text/plain": [
       "     국어  영어  수학\n",
       "이름             \n",
       "철수   80  70  85\n",
       "영이   70  85  92\n",
       "순이  100  72  61"
      ]
     },
     "execution_count": 14,
     "metadata": {},
     "output_type": "execute_result"
    }
   ],
   "source": [
    "성적표df = 성적표df.reindex(columns=['국어','영어','수학'])\n",
    "성적표df"
   ]
  },
  {
   "cell_type": "markdown",
   "id": "detailed-pizza",
   "metadata": {},
   "source": [
    "## 3) 데이터 시각화"
   ]
  },
  {
   "cell_type": "code",
   "execution_count": 16,
   "id": "annual-services",
   "metadata": {},
   "outputs": [
    {
     "data": {
      "image/png": "[encoded data removed]",
      "text/plain": [
       "<Figure size 1008x576 with 1 Axes>"
      ]
     },
     "metadata": {
      "needs_background": "light"
     },
     "output_type": "display_data"
    }
   ],
   "source": [
    "# 그래프를 만들기 위한 한글 폰트 설정\n",
    "pyplot.rcParams['font.family'] = 'Malgun Gothic'\n",
    "pyplot.rcParams['font.size'] = 16\n",
    "pyplot.rcParams['figure.figsize'] = (14, 8)\n",
    "\n",
    "# 전체 컬럼에 대한 시각화\n",
    "성적표df.plot.bar(rot=0)\n",
    "pyplot.grid()\n",
    "pyplot.title('학생별 시험 점수')\n",
    "pyplot.legend()\n",
    "pyplot.ylabel('점수')\n",
    "pyplot.show()"
   ]
  }
 ],
 "metadata": {
  "kernelspec": {
   "display_name": "Python 3",
   "language": "python",
   "name": "python3"
  },
  "language_info": {
   "codemirror_mode": {
    "name": "ipython",
    "version": 3
   },
   "file_extension": ".py",
   "mimetype": "text/x-python",
   "name": "python",
   "nbconvert_exporter": "python",
   "pygments_lexer": "ipython3",
   "version": "3.8.0"
  }
 },
 "nbformat": 4,
 "nbformat_minor": 5
}
