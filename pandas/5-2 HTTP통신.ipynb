{
 "cells": [
  {
   "cell_type": "markdown",
   "id": "extra-relevance",
   "metadata": {},
   "source": [
    "# 5-2. HTTP 통신\n",
    "## 웹에서 수집할 수 있는 데이터의 형식\n",
    "형식 | 설명 |\n",
    "---- | ---- |\n",
    "TEXT | 단순 텍스트 파일을 내려받아 문자열 변수에 저장해야 함 |\n",
    "CSV, XLSX | Pandas가 자체적으로 처리 가능 |\n",
    "<b>JSON</b> | requests 모듈을 통해 데이털르 받아온 후 JSON 클래스를 통해 DataFrame으로 변환 |\n",
    "<b>HTML</b>(일반 웹 페이지), XML | requests 모듈을 통해 문자열 형태로 내려받고, BeautifulSoup 클래스를 통해 데이터 추출 |\n",
    "이미지, 동영상 | requests 모듈을 통해 직접 파일 다운로드 구현\n",
    "\n",
    "## requests 모듈\n",
    "HTTP(웹) 통신 기능을 제공하는 파이썬 패키지\n",
    "명령프롬프트를 실행한 후 다음의 명령어로 설치\n",
    "\n",
    "```pip install --upgrade requests```\n",
    "\n",
    "> --updarade 옵션은 이미 설치가 되어있다면 최신 버전으로 교체하는 옵션"
   ]
  },
  {
   "cell_type": "markdown",
   "id": "sharing-relaxation",
   "metadata": {},
   "source": [
    "# #01. 필요한 패키지 가져오기"
   ]
  },
  {
   "cell_type": "code",
   "execution_count": 2,
   "id": "instant-imperial",
   "metadata": {},
   "outputs": [],
   "source": [
    "import requests            #통신 기능 제공"
   ]
  },
  {
   "cell_type": "markdown",
   "id": "negative-modeling",
   "metadata": {},
   "source": [
    "# #02. 간단한 텍스트 데이터 가져오기\n",
    "## 1) 텍스트 데이터 URL"
   ]
  },
  {
   "cell_type": "code",
   "execution_count": 5,
   "id": "brutal-utility",
   "metadata": {},
   "outputs": [],
   "source": [
    "simple_text_url = \"http://itpaper.co.kr/demo/py/simple_text.txt\""
   ]
  },
  {
   "cell_type": "markdown",
   "id": "fiscal-reputation",
   "metadata": {},
   "source": [
    "## 2) 특정 웹 페이지에 접속\n",
    "통신 결과를 저장하고 있는 객체가 반환된다."
   ]
  },
  {
   "cell_type": "code",
   "execution_count": 6,
   "id": "innovative-mission",
   "metadata": {},
   "outputs": [
    {
     "data": {
      "text/plain": [
       "<Response [200]>"
      ]
     },
     "execution_count": 6,
     "metadata": {},
     "output_type": "execute_result"
    }
   ],
   "source": [
    "r = requests.get(simple_text_url)\n",
    "r"
   ]
  },
  {
   "cell_type": "markdown",
   "id": "beautiful-armor",
   "metadata": {},
   "source": [
    "## 3) 접속에 실패한 경우에 대한 예외처리\n",
    "통신결과 객체에 내장된 상태코드(Status_code) 값을 활용, 통신의 성공/실패 여부를 판단한다.\n",
    "- 200 : OK\n",
    "- 400, 403 : 잘못된 접근 / 접근 권한 없음\n",
    "- 404 : Page Not Found (URL 오타)\n",
    "- 50x : Server Error (접속대상이 에러인 상황)"
   ]
  },
  {
   "cell_type": "code",
   "execution_count": 7,
   "id": "pursuant-editor",
   "metadata": {},
   "outputs": [],
   "source": [
    "if r.status_code != 200:\n",
    "    # 에러코드와 에러 메시지 출력\n",
    "    print(\"[%d Error] %s\" % (r.status_code, r.reason))\n",
    "    # 프로그램 강제 종료 (Jupyter 재시작)\n",
    "    quit()"
   ]
  },
  {
   "cell_type": "markdown",
   "id": "virtual-poster",
   "metadata": {},
   "source": [
    "## 4) 텍스트 데이터 추출\n",
    "수집한 컨텐츠의 인코딩 형식을 파이썬에게 알려준 후 텍스트를 추출한다.\n",
    "\n",
    "인코딩 형식은 해당 데이터가 문자열을 부호화(2진수로 변환)하는데 사용한 변환방법으로, 인코딩 형식을 파이썬에게 알려줘야 해당 방법을 사용해 데이터를 문자열로 복호화 할 수 있다.\n",
    "\n",
    "> 일반적인 인코딩 형식 = 'utf-8'(다국어지원) / 드물게 = 'euc-kr', 'euc-ch', 'euc-jp' 등을 사용"
   ]
  },
  {
   "cell_type": "code",
   "execution_count": 8,
   "id": "looking-cruise",
   "metadata": {},
   "outputs": [
    {
     "name": "stdout",
     "output_type": "stream",
     "text": [
      "Hello Python~!!!\n",
      "안녕하세요. 파이썬~!!!\n",
      "\n"
     ]
    }
   ],
   "source": [
    "#인코딩 형식 지정 (대상 파일이 저장된 방식을 명시해야 함)\n",
    "r.encoding = 'utf-8'\n",
    "\n",
    "# 텍스트 출력\n",
    "print(r.text)"
   ]
  },
  {
   "cell_type": "markdown",
   "id": "amended-permit",
   "metadata": {},
   "source": [
    "# #03. 파일 다운로드\n",
    "HTML 웹 페이지, JSON 형식의 Open API, txt 파일 등은 텍스트 형식으로 식별 <br>\n",
    "pptx, pdf, 이미지 파일 등은 직접 다운로드 처리 형태로 수집\n",
    "\n",
    "그 밖에 일반 텍스트 형식의 파일도 필요한 경우 다운로드 형태로 구현 가능\n",
    "\n",
    "## 1) 데이터 가져오기"
   ]
  },
  {
   "cell_type": "code",
   "execution_count": 3,
   "id": "returning-lemon",
   "metadata": {},
   "outputs": [],
   "source": [
    "# 다운로드 할 대상의 URL\n",
    "file_url = 'https://search.pstatic.net/common/?src=https%3A%2F%2Fstorep-phinf.pstatic.net%2Fogq-59aa6742e540a%2Fimg%2Fkevpivff.jpg%3Ftype%3Do720_mask&type=sc960_832'\n",
    "\n",
    "# URL에 파일을 다운로드하기 위해 접속\n",
    "r = requests.get(file_url, stream=True)\n",
    "\n",
    "# 접속에 실패한 경우\n",
    "if r.status_code != 200:\n",
    "    print(\"[%d Error] %s\" % (r.status_code, r.reason))\n",
    "    quit()"
   ]
  },
  {
   "cell_type": "markdown",
   "id": "romance-appreciation",
   "metadata": {},
   "source": [
    "## 2) raw 데이터 저장하기\n",
    "특별한 출력결과 없음. 지정한 경로에 다운로드 된 파일을 확인하세요.\n",
    "> 여기서는 현재 작성중인 소스파일과 동일한 폴더 내에 저장"
   ]
  },
  {
   "cell_type": "code",
   "execution_count": 4,
   "id": "discrete-nicaragua",
   "metadata": {},
   "outputs": [
    {
     "name": "stdout",
     "output_type": "stream",
     "text": [
      "다운로드 완료\n"
     ]
    }
   ],
   "source": [
    "#수집 결과의 바이너리(이진값) 데이터를 추출\n",
    "data = r.raw.read()\n",
    "\n",
    "#추출한 데이터를 저장\n",
    "# -> 'w' : 텍스트 쓰기 모드, 'wb' : 바이너리(이진값) 쓰기 모드\n",
    "with open('다운받은파일.jpeg', 'wb') as f:\n",
    "    f.write(data)\n",
    "    print(\"다운로드 완료\")"
   ]
  },
  {
   "cell_type": "markdown",
   "id": "textile-parent",
   "metadata": {},
   "source": [
    "# #04. Session 처리\n",
    "<b>Session</b> = 브라우저가 웹 사이트에 접속할 때 생성되는 통신 단위\n",
    "\n",
    "웹 브라우저와 웹 사이트간 세션 생성 시 웹 브라우저는 웹 사이트에 자신의 버전 정보를 <b>UserAgent</b>라는 이름으로 전송\n",
    "\n",
    "웹 개발자는 <b>UserAgent</b>값을 판별하면 현재 접근한 프로그램의 종류 파악<br>\n",
    "-> <b>UserAgent</b>값이 알려진 웹 브라우저와 다르다면 사이트는 비정상 접속으로 간주하고 접근 차단 구현 가능\n",
    "\n",
    "파이썬의 requests 모듈은 <b>UserAgent</b>값이 없다.\n",
    "\n",
    "## 1) UserAgent 값이 없을 경우 접근이 차단되는 페이지에 접근 시도\n",
    "브라우저로 접속한 경우 정상적인 페이지가 표시되지만 requests 모듈로 접근할 경우 컨텐츠 표시 X"
   ]
  },
  {
   "cell_type": "code",
   "execution_count": 5,
   "id": "disabled-ottawa",
   "metadata": {},
   "outputs": [
    {
     "data": {
      "text/plain": [
       "'<!DOCTYPE HTML>\\n<html lang=\"ko\">\\n<head>\\n    <meta http-equiv=\"Content-Type\" content=\"text/html; charset=utf-8\"/>\\n    <meta name=\"viewport\" content=\"width=device-width,initial-scale=1.0,maximum-scale=1.0,minimum-scale=1.0,user-scalable=no\">\\n    <meta name=\"description\" lang=\"ko\" content=\"네이버 :: 서비스에 접속할 수 없습니다.\">\\n    <title>[접근 오류] 서비스에 접속할 수 없습니다.</title>\\n    <style type=\"text/css\">\\n        /* PC */\\n        body,p,h1,h2,h3,h4,h5,h6,ul,ol,li,dl,dt,dd,table,th,td,form,fieldset,legend,input,textarea,button,select{margin:0;padding:0}\\n        body,input,textarea,select,button,table{font-size:12px;font-family:\\'굴림\\',Gulim,helvetica,sans-serif;color:#424242}\\n        body,html{height:100%}\\n        img,fieldset{border:0}\\n        img{vertical-align:middle}\\n        ul,ol{list-style:none}\\n        em,address{font-style:normal}\\n        a{color:#000;text-decoration:none}\\n        legend{display:none}\\n        hr{display:none !important}\\n        #u_skip{position:relative;width:100%;z-index:10}\\n        #u_skip a{position:absolute;top:-40px;left:0;width:auto;padding:0 10px;border:1px solid #4ec53d;background-color:#000;color:#fff;line-height:38px;white-space:nowrap;opacity:0;-webkit-transition:0.3s;transition:0.3s}\\n        #u_skip a:active, #u_skip a:focus{top:0;text-decoration:none;opacity:1}\\n        .wrap{width:600px;margin:0 auto}\\n        .header{overflow:hidden;padding-top:30px}\\n        .header .logo{float:left}\\n        .header .logo .logo_link{display:inline-block;vertical-align:top}\\n        .header .logo .logo_link img{width:90px;height:16px}\\n        .header .nav{float:right;margin-top:9px}\\n        .header .nav .nav_link:hover{text-decoration:underline}\\n        .header .nav .nav_link+.nav_link:before{content:\\'\\';display:inline-block;width:1px;height:10px;margin:0 9px 0 5px;background-color:#d6d6d6;vertical-align:0}\\n        .container{margin-top:66px}\\n        .container .content{overflow:hidden}\\n        .container .image_area{float:right;width:280px}\\n        .container .image_area .image_link{display:block}\\n        .container .image_area .image_author{overflow:hidden;display:block;text-align:center;white-space:nowrap;text-overflow:ellipsis;font-size:12px;line-height:17px;color:#8f8f8f}\\n        .container .image_area+.info_area{overflow:hidden;text-align:left}\\n        .container .info_area{margin-bottom:26px;text-align:center}\\n        .container .info_area .info_txt{margin-top:29px}\\n        .container .info_area .info_txt .tit{font-size:22px;line-height:25px}\\n        .container .info_area .info_txt .txt{margin-top:18px;line-height:20px}\\n        .container .info_area .info_link{margin-top:33px}\\n        .container .info_area .info_link [class^=\"link_\"]{overflow:hidden;display:inline-block;width:101px;height:34px;border:1px solid #e3e6e7;background-color:#fafbfc;line-height:34px;text-align:center;vertical-align:top;white-space:nowrap}\\n        .container .info_area .info_link .link_home{margin-left:10px}\\n        .footer{margin-top:93px;padding:18px 0 24px;border-top:1px solid #eff3f6}\\n        .footer address, .footer .link_naver{text-align:center;font-family:verdana,sans-serif;font-size:11px;line-height:14px;color:#8f8f8f}\\n        /* 모바일 */\\n        body.mobile, body.mobile input,textarea,select,button,table{font-family:-apple-system,BlinkMacSystemFont,helvetica,Apple SD Gothic Neo,sans-serif;letter-spacing:-0.3px}\\n        body.mobile{background-color:#fafbfc;-webkit-text-size-adjust:none}\\n        body.mobile .wrap{width:100%}\\n        body.mobile .header{padding-top:15px;text-align:center}\\n        body.mobile .header .logo{float:none}\\n        body.mobile .header .logo .logo_link img{width:82px;height:15px}\\n        body.mobile .header .nav{display:none}\\n        body.mobile .container{margin-top:38px}\\n        body.mobile .container .content{position:relative}\\n        body.mobile .container .image_area{position:absolute;bottom:72px;left:50%;margin-left:-140px}\\n        body.mobile .container .image_area+.info_area{margin:0}\\n        body.mobile .container .image_area+.info_area .info_link{margin-top:280px}\\n        body.mobile .container .info_area{margin:40px 0 161px 0;text-align:center}\\n        body.mobile .container .info_area .info_txt{margin-top:0}\\n        body.mobile .container .info_area .info_txt .tit{font-size:26px;line-height:29px;color:#000}\\n        body.mobile .container .info_area .info_txt .txt{margin-top:13px;font-size:17px;line-height:25px;color:#666}\\n        body.mobile .container .info_area .info_link{margin-top:79px}\\n        body.mobile .container .info_area .info_link [class^=\"link_\"]{width:139px;height:42px;background-color:#fff;font-size:15px;line-height:42px;color:#424242}\\n        body.mobile .container .info_area .info_link .link_home{margin-left:-1px}\\n        body.mobile .footer{margin-top:66px;border-top:0}\\n        body.mobile .footer address span{display:none}\\n    </style>\\n</head>\\n<!-- 모바일 노출시 .mobile 추가 -->\\n<body>\\n<div id=\"u_skip\" class=\"u_skip\">\\n    <a href=\"#content\">본문 바로가기</a>\\n</div>\\n<div class=\"wrap\">\\n    <div class=\"header\" role=\"banner\">\\n        <h1 class=\"logo\"><a href=\"https://www.naver.com\" class=\"logo_link\"><img src=\"https://ssl.pstatic.net/static.datalab/202102250221/img/naver_logo.png\" width=\"90\" height=\"16\" alt=\"네이버\"></a></h1>\\n        <div class=\"nav\" role=\"navigation\">\\n            <a href=\"https://www.naver.com\" class=\"nav_link\">네이버홈</a>\\n            <a href=\"https://help.naver.com/support/service/main.nhn?serviceNo=14493\" class=\"nav_link\">네이버 데이터랩 고객센터</a>\\n        </div>\\n    </div>\\n    <hr>\\n    <div class=\"container\" role=\"main\">\\n        <div class=\"content\" id=\"content\">\\n            <div class=\"image_area _errorImage\">\\n            </div>\\n\\n            <div class=\"info_area\">\\n                <div class=\"info_txt\">\\n                    <strong class=\"tit\">다시 한번 확인해주세요!</strong>\\n                    <p class=\"txt\">\\n                        지금 입력하신 주소의 페이지는<br>\\n                        사라졌거나 다른 페이지로 변경되었습니다.<br>\\n                        주소를 다시 확인해주세요.\\n                    </p>\\n                </div>\\n                <div class=\"info_link\">\\n                    <a href=\"javascript:history.back()\" class=\"link_prev\">이전 페이지</a><a href=\"https://www.naver.com\" class=\"link_home\">네이버 홈</a>\\n                </div>\\n            </div>\\n        </div>\\n    </div>\\n    <hr>\\n    <div class=\"footer\" role=\"contentinfo\">\\n        <address>\\n            <span>Copyright</span> ©<a href=\"http://www.navercorp.com\" class=\"link_naver\" target=\"_blank\">NAVER Corp.</a> <span>All Rights Reserved.</span>\\n        </address>\\n    </div>\\n</div>\\n<script src=\"https://ssl.pstatic.net/static/fe/grafolio.js\"></script>\\n</body>\\n</html>'"
      ]
     },
     "execution_count": 5,
     "metadata": {},
     "output_type": "execute_result"
    }
   ],
   "source": [
    "r = requests.get('https://datalab.naver.com/keyword/realtimeList.naver?where=main')\n",
    "\n",
    "if r.status_code != 200:\n",
    "    print(\"[%d Error] %s\" % (r.status_code, r.reason))\n",
    "    quit()\n",
    "    \n",
    "r.encoding='utf-8'\n",
    "r.text"
   ]
  },
  {
   "cell_type": "markdown",
   "id": "cheap-orange",
   "metadata": {},
   "source": [
    "## 2) requests 모뮬에 UserAgent 값 지정 후 접근하기\n",
    "### UserAgent 값 지정\n",
    "웹 브라우저의 주소 표시줄에 다음의 코드를 입력하고 엔터를 누르면 즉시 확인 가능\n",
    "\n",
    "```javascript:document.write(navigator.userAgent);```\n",
    "    \n",
    "> 오타를 포함한 상태로 입력하거나 복사-붙여넣기로 실행하면 코드가 동작하지 않는 경우가 빈번하므로 직접 입력"
   ]
  },
  {
   "cell_type": "code",
   "execution_count": 6,
   "id": "historical-conservative",
   "metadata": {},
   "outputs": [],
   "source": [
    "user_agent = \"Mozilla/5.0 (Windows NT 10.0; Win64; x64) AppleWebKit/537.36 (KHTML, like Gecko) Chrome/88.0.4324.190 Safari/537.36\""
   ]
  },
  {
   "cell_type": "markdown",
   "id": "brilliant-playback",
   "metadata": {},
   "source": [
    "### Session 객체 만들기\n",
    "세션 객체에 포함된 headers 객체의 update() 함수를 사용하여 User-agent와 referer 값을 지정\n",
    "- 현재 세션의 웹 브라우저 정보(User-agent)를 구글 크롬으로 설정\n",
    "- 현재 세션의 referer 페이지를 '없음'으로 강제 설정\n",
    "\n",
    "> referer=이전에 머물렀던 페이지 주소, referer 값이 없으면 웹 서버는 브라우저에서 직접 URL을 입력한 것으로 간주"
   ]
  },
  {
   "cell_type": "code",
   "execution_count": 7,
   "id": "italian-orange",
   "metadata": {},
   "outputs": [],
   "source": [
    "session = requests.Session()\n",
    "session.headers.update({'User-agent' : user_agent, 'referer' : None})"
   ]
  },
  {
   "cell_type": "markdown",
   "id": "accomplished-season",
   "metadata": {},
   "source": [
    "### 생성된 Session 객체를 통한 웹 페이지 접근"
   ]
  },
  {
   "cell_type": "code",
   "execution_count": 8,
   "id": "musical-default",
   "metadata": {},
   "outputs": [
    {
     "data": {
      "text/plain": [
       "'<!DOCTYPE html>\\n<html lang=\"ko\">\\n<head>\\n    <meta charset=\"utf-8\">\\n    <meta http-equiv=\"X-UA-Compatible\" content=\"IE=edge\">\\n    <meta name=\"viewport\" content=\"width=1200\">\\n    <title>급상승검색어 : 네이버 데이터랩</title>\\n    <link rel=\"stylesheet\" type=\"text/css\" href=\"https://ssl.pstatic.net/static.datalab/202102250221/css/datalab.css\">\\n    <link rel=\"stylesheet\" type=\"text/css\" href=\"https://ssl.pstatic.net/static.datalab/202102250221/css/graph.css\">\\n\\n    <link rel=\"icon\" sizes=\"192x192\" href=\"https://ssl.pstatic.net/static.datalab/202102250221/img/favicon/android_legacy_xxxhpdi_192x192.png\" >\\n    <link rel=\"icon\" sizes=\"144x144\" href=\"https://ssl.pstatic.net/static.datalab/202102250221/img/favicon/android_legacy_xxhpdi_144x144.png\" >\\n    <link rel=\"icon\" sizes=\"96x96\" href=\"https://ssl.pstatic.net/static.datalab/202102250221/img/favicon/android_legacy_xhdpi_96x96.png\" >\\n    <link rel=\"icon\" sizes=\"72x72\" href=\"https://ssl.pstatic.net/static.datalab/202102250221/img/favicon/android_legacy_hdpi_72X72.png\" >\\n\\n    <link rel=\"apple-touch-icon-precomposed\" sizes=\"180x180\" href=\"https://ssl.pstatic.net/static.datalab/202102250221/img/favicon/iOS_iPhone@3x_180X180.png\">\\n    <link rel=\"apple-touch-icon-precomposed\" sizes=\"167x167\" href=\"https://ssl.pstatic.net/static.datalab/202102250221/img/favicon/iOS_iPadPro@2x_167X167.png\">\\n    <link rel=\"apple-touch-icon-precomposed\" sizes=\"152x152\" href=\"https://ssl.pstatic.net/static.datalab/202102250221/img/favicon/iOS_iPad@2x_152X152.png\">\\n    <link rel=\"apple-touch-icon-precomposed\" sizes=\"120x120\" href=\"https://ssl.pstatic.net/static.datalab/202102250221/img/favicon/iOS_iPhone@2x_120X120.png\">\\n    \\n        \\n    <meta property=\"og:title\" content=\"네이버 데이터랩 : 급상승 검색어\"/>\\n    <meta property=\"og:url\" content=\"https://datalab.naver.com/realtimeList.naver\"/>\\n    <meta property=\"og:image\" content=\"https://ssl.pstatic.net/static.datalab/img2019/datalab_og_244x244.jpg\"/>\\n    <meta property=\"og:description\" content=\"검색 횟수가 급상승한 검색어의 순위를 다양한 옵션을 통해 자세히 제공합니다.\"/>\\n    <meta name=\"description\" content=\"검색 횟수가 급상승한 검색어의 순위를 다양한 옵션을 통해 자세히 제공합니다.\">\\n\\n</head>\\n\\n<!--[if lte IE 9]>\\n<body class=\"pop_opened\">\\n<![endif]-->\\n\\n<![if !IE]>\\n<body>\\n<![endif]>\\n\\n<div id=\"wrap\" class=\"wrap\">\\n    \\n    \\n    <div id=\"header\" class=\"header\">\\n        <div class=\"inner\">\\n            <div class=\"srch_wrap\">\\n                <a href=\"https://www.naver.com\" target=\"_blank\" class=\"logo_area\">\\n                    <span class=\"sp_header_logo\"><span class=\"blind\">NAVER</span></span>\\n                </a>\\n                <h1 class=\"sta_area\">\\n                    <a href=\"/\" class=\"sp_sta\"><span class=\"blind\">DataLab</span></a>\\n                </h1>\\n            </div>\\n            <div class=\"gnb_wrap\">\\n                <div id=\"gnb\"></div>\\n            </div>\\n        </div>\\n        <div id=\"lnb\" class=\"lnb\">\\n            <div class=\"lnb_innner\">\\n                <ul class=\"lnb_list\">\\n                    <li class=\"list _home \">\\n                        <a href=\"/\" class=\"list_area\">\\n                        <span class=\"sp_lnb_list nav1\">\\n                            <span class=\"blind\">데이터랩 홈</span>\\n                        </span>\\n                        </a>\\n                    </li>\\n                    <li class=\"list _keyword active\">\\n                        <a href=\"/keyword/realtimeList.naver\" class=\"list_area\">\\n                        <span class=\"sp_lnb_list nav2\">\\n                            <span class=\"blind\">급상승검색어</span>\\n                        </span>\\n                        </a>\\n                    </li>\\n                    <li class=\"list _keyword \">\\n                        <a href=\"/keyword/trendSearch.naver\" class=\"list_area\">\\n                        <span class=\"sp_lnb_list nav3\">\\n                            <span class=\"blind\">검색어트렌드</span>\\n                        </span>\\n                        </a>\\n                    </li>\\n                    <li class=\"list _shopping \">\\n                        <a href=\"/shoppingInsight/sCategory.naver\" class=\"list_area\">\\n\\t\\t\\t\\t\\t\\t\\t<span class=\"sp_lnb_list nav4\">\\n\\t\\t\\t\\t\\t\\t\\t\\t<span class=\"blind\">쇼핑인사이트</span>\\n\\t\\t\\t\\t\\t\\t\\t</span>\\n                        </a>\\n                    </li>\\n                    <li class=\"list _local \">\\n                        <a href=\"/local/trend.naver\" class=\"list_area\">\\n                        <span class=\"sp_lnb_list nav5\">\\n                            <span class=\"blind\">지역통계</span>\\n                        </span>\\n                        </a>\\n                    </li>\\n                    <li class=\"list _commentStat \">\\n                        <a href=\"/commentStat/news.naver\" class=\"list_area\">\\n                        <span class=\"sp_lnb_list nav6\">\\n                            <span class=\"blind\">뉴스댓글통계</span>\\n                        </span>\\n                        </a>\\n                    </li>\\n                </ul>\\n            </div>\\n        </div>\\n    </div>\\n    \\n    \\n<div id=\"container\" class=\"container\" role=\"main\">\\n    <div id=\"content\" class=\"content\">\\n        <div class=\"section_keyword\">\\n<div class=\"com_title title_keyword\">\\n    <h3 class=\"title\">급상승 검색어</h3>\\n    <p class=\"sub_txt\">2021년 2월 25일 0시 <strong>급상승 검색어 서비스가 종료</strong>됨에 따라 데이터 업데이트가 중단됩니다. 데이터 조회 서비스는 2021년 3월 31일까지 유지됩니다.</p>\\n    <a href=\"https://www.naver.com/NOTICE/read/1100001014/10000000000030670835\" target=\"_blank\" class=\"detail_link\">자세히 보기</a>\\n</div>\\n\\n<div class=\"selection_area\">\\n    <div class=\"selection_header\">\\n        <div class=\"selection_box\">\\n            <div class=\"box_wrap\">\\n                <strong class=\"title_txt\">집계 주기</strong>\\n                <div class=\"section_serch_area\">\\n                    <div class=\"select_inbo _picker_component\" data-datetime=\"2021-02-24T23:59:00\" data-start=\"2020-01-16T06:00:00\" data-end=\"2021-02-24T23:59:00\">\\n<div href=\"#\" class=\"date_indo\">\\n    <a href=\"#\" class=\"date_btn _prev_day\"><span class=\"blind\">이전 날짜로 가기</span></a>\\n    <a href=\"#\" class=\"date_btn next _next_day btn_off\"><span class=\"blind\">다음 날짜로 가기</span></a>\\n\\n    <a href=\"#\" class=\"date_box _date_trigger\">\\n        <span class=\"date_txt _title_ymd\">2021.02.24. <em>(수)</em></span>\\n        <span class=\"date_ico\"><span class=\"blind\">달력</span></span>\\n    </a>\\n    <!-- [D] 캘린더 활성화 display:block 추가 부탁 드립니다 -->\\n    <div id=\"_calendar\" class=\"calendar\">\\n        <div class=\"layer_area _date_wrapper\" style=\"display:none\">\\n            <div class=\"calendar_area _leftMonth\">\\n                <div class=\"calendar_head\">\\n                    <strong class=\"calendar-title _title_ym\">2017.02.</strong>\\n                    <!--[D] 링크 비활성화 a 링크에 class=\"off\" 추가 -->\\n                    <a href=\"#\" class=\"calendar-btn-prev-mon _prev\" data-date=\"\"><span class=\"btn_prev\">이전달</span></a>\\n                    <a href=\"#\" class=\"calendar-btn-next-mon _next\" data-date=\"\"><span class=\"btn_next\">다음달</span></a>\\n                </div>\\n                <div class=\"calendar_body _calendar\"></div>\\n            </div>\\n            <div class=\"sub_area\">\\n                <a href=\"#\" class=\"btn_check _confirm\">확인</a>\\n            </div>\\n                 <div class=\"calendar_popup\">\\n                     <div class=\"ly_cont\">\\n                         <p class=\"cont_txt\">2020.01.16. 이전 데이터는<br>아래의 버튼을 눌러 확인해주세요.</p>\\n                     </div>\\n                     <div class=\"ly_btn_bottom\">\\n                         <a href=\"realtimeList.naver?datetime=2020-01-16T05:59:00\" target=\"_blank\" class=\"btn_data\"><span class=\"data_txt\">2020.01.16. 이전 데이터 조회</span></a>\\n                     </div>\\n                     <a href=\"#none\" class=\"btn_popup_close\"><span class=\"blind\">팝업닫기</span></a>\\n                 </div>\\n        </div>\\n    </div>\\n</div><!-- [D] 비활성화시 class=\"time_indo\" 에 v2를 입력해주세요 -->\\n<div href=\"#\" class=\"time_indo\">\\n    <a href=\"#\" class=\"time_btn _prev_tick\"><span class=\"blind\">이전 시간으로 가기</span></a>\\n    <a href=\"#\" class=\"time_btn next _next_tick btn_off\"><span class=\"blind\">다음 시간으로 가기</span></a>\\n    <a href=\"#\" class=\"time_box _time_trigger\">\\n        <span class=\"time_txt _title_hms\">23:59</span>\\n        <span class=\"time_ico\"><span class=\"blind\">시간</span></span>\\n    </a>\\n    <!-- [D] 시간탬 활성화 display:block 추가 부탁 드립니다. -->\\n    <div class=\"layer_time _time_wrapper time_no_second\" id=\"u.c.layer.time\" style=\"display:none\">\\n        <div class=\"hour\">\\n            <!--[AU] data-max 에 입력가능 최대 숫자 설정-->\\n            <!-- [AU] scrollbar-box 클래스 위치 변경 -->\\n            <input type=\"text\" value=\"14\" class=\"time_input _tinput _hour\" maxlength=\"2\" data-max=\"23\"><span class=\"blind\">시</span>\\n            <div id=\"scrollbox\" class=\"time_scroll scrollbar-box _tlist _hour\" style=\"overflow: hidden;\">\\n                <div class=\"scrollbar-content\" style=\"top: 0px; height: auto;\">\\n                    <ul class=\"lst_time\">\\n                        <li class=\"selected _item\"><a href=\"#\">00</a></li>\\n                        <li class=\"_item\"><a href=\"#\">01</a></li>\\n                        <li class=\"_item\"><a href=\"#\">02</a></li>\\n                        <li class=\"_item\"><a href=\"#\">03</a></li>\\n                        <li class=\"_item\"><a href=\"#\">04</a></li>\\n                        <li class=\"_item\"><a href=\"#\">05</a></li>\\n                        <li class=\"_item\"><a href=\"#\">06</a></li>\\n                        <li class=\"_item\"><a href=\"#\">07</a></li>\\n                        <li class=\"_item\"><a href=\"#\">08</a></li>\\n                        <li class=\"_item\"><a href=\"#\">09</a></li>\\n                        <li class=\"_item\"><a href=\"#\">10</a></li>\\n                        <li class=\"_item\"><a href=\"#\">11</a></li>\\n                        <li class=\"_item\"><a href=\"#\">12</a></li>\\n                        <li class=\"_item\"><a href=\"#\">13</a></li>\\n                        <li class=\"_item\"><a href=\"#\">14</a></li>\\n                        <li class=\"_item\"><a href=\"#\">15</a></li>\\n                        <li class=\"_item\"><a href=\"#\">16</a></li>\\n                        <li class=\"_item\"><a href=\"#\">17</a></li>\\n                        <li class=\"_item\"><a href=\"#\">18</a></li>\\n                        <li class=\"_item\"><a href=\"#\">19</a></li>\\n                        <li class=\"_item\"><a href=\"#\">20</a></li>\\n                        <li class=\"_item\"><a href=\"#\">21</a></li>\\n                        <li class=\"_item\"><a href=\"#\">22</a></li>\\n                        <li class=\"_item\"><a href=\"#\">23</a></li>\\n                    </ul>\\n                </div>\\n                <div class=\"iScrollVerticalScrollbar  scrollbar-show\">\\n                    <div class=\"scrollbar-button-up rollover\"></div>\\n                    <div class=\"scrollbar-track rollover\" style=\"height: 202px;\">\\n                        <div class=\"iScrollIndicator S21614895 rollover S84675399\" style=\"top: 0px; height: 61px;\"></div>\\n                    </div>\\n                    <div class=\"scrollbar-button-down rollover\"></div>\\n                </div>\\n            </div>\\n        </div>\\n        <div class=\"hour_minute\">:</div>\\n        <div class=\"minute\">\\n            <!--[AU] data-max 에 입력가능 최대 숫자 설정-->\\n            <input type=\"text\" value=\"00\" class=\"time_input _tinput _minute\" maxlength=\"2\" data-max=\"59\"><span class=\"blind\">분</span>\\n            <div id=\"scrollbox2\" class=\"time_scroll scrollbar-box _tlist _minute\" style=\"overflow: hidden;\">\\n                <div class=\"scrollbar-content\" style=\"top: 0px; height: auto;\">\\n                    <ul class=\"lst_time\">\\n                        <li class=\"selected _item\"><a href=\"#\">00</a></li>\\n                        <li class=\"_item\"><a href=\"#\">01</a></li>\\n                        <li class=\"_item\"><a href=\"#\">02</a></li>\\n                        <li class=\"_item\"><a href=\"#\">03</a></li>\\n                        <li class=\"_item\"><a href=\"#\">04</a></li>\\n                        <li class=\"_item\"><a href=\"#\">05</a></li>\\n                        <li class=\"_item\"><a href=\"#\">06</a></li>\\n                        <li class=\"_item\"><a href=\"#\">07</a></li>\\n                        <li class=\"_item\"><a href=\"#\">08</a></li>\\n                        <li class=\"_item\"><a href=\"#\">09</a></li>\\n                        <li class=\"_item\"><a href=\"#\">10</a></li>\\n                        <li class=\"_item\"><a href=\"#\">11</a></li>\\n                        <li class=\"_item\"><a href=\"#\">12</a></li>\\n                        <li class=\"_item\"><a href=\"#\">13</a></li>\\n                        <li class=\"_item\"><a href=\"#\">14</a></li>\\n                        <li class=\"_item\"><a href=\"#\">15</a></li>\\n                        <li class=\"_item\"><a href=\"#\">16</a></li>\\n                        <li class=\"_item\"><a href=\"#\">17</a></li>\\n                        <li class=\"_item\"><a href=\"#\">18</a></li>\\n                        <li class=\"_item\"><a href=\"#\">19</a></li>\\n                        <li class=\"_item\"><a href=\"#\">20</a></li>\\n                        <li class=\"_item\"><a href=\"#\">21</a></li>\\n                        <li class=\"_item\"><a href=\"#\">22</a></li>\\n                        <li class=\"_item\"><a href=\"#\">23</a></li>\\n                        <li class=\"_item\"><a href=\"#\">24</a></li>\\n                        <li class=\"_item\"><a href=\"#\">25</a></li>\\n                        <li class=\"_item\"><a href=\"#\">26</a></li>\\n                        <li class=\"_item\"><a href=\"#\">27</a></li>\\n                        <li class=\"_item\"><a href=\"#\">28</a></li>\\n                        <li class=\"_item\"><a href=\"#\">29</a></li>\\n                        <li class=\"_item\"><a href=\"#\">30</a></li>\\n                        <li class=\"_item\"><a href=\"#\">31</a></li>\\n                        <li class=\"_item\"><a href=\"#\">32</a></li>\\n                        <li class=\"_item\"><a href=\"#\">33</a></li>\\n                        <li class=\"_item\"><a href=\"#\">34</a></li>\\n                        <li class=\"_item\"><a href=\"#\">35</a></li>\\n                        <li class=\"_item\"><a href=\"#\">36</a></li>\\n                        <li class=\"_item\"><a href=\"#\">37</a></li>\\n                        <li class=\"_item\"><a href=\"#\">38</a></li>\\n                        <li class=\"_item\"><a href=\"#\">39</a></li>\\n                        <li class=\"_item\"><a href=\"#\">40</a></li>\\n                        <li class=\"_item\"><a href=\"#\">41</a></li>\\n                        <li class=\"_item\"><a href=\"#\">42</a></li>\\n                        <li class=\"_item\"><a href=\"#\">43</a></li>\\n                        <li class=\"_item\"><a href=\"#\">44</a></li>\\n                        <li class=\"_item\"><a href=\"#\">45</a></li>\\n                        <li class=\"_item\"><a href=\"#\">46</a></li>\\n                        <li class=\"_item\"><a href=\"#\">47</a></li>\\n                        <li class=\"_item\"><a href=\"#\">48</a></li>\\n                        <li class=\"_item\"><a href=\"#\">49</a></li>\\n                        <li class=\"_item\"><a href=\"#\">50</a></li>\\n                        <li class=\"_item\"><a href=\"#\">51</a></li>\\n                        <li class=\"_item\"><a href=\"#\">52</a></li>\\n                        <li class=\"_item\"><a href=\"#\">53</a></li>\\n                        <li class=\"_item\"><a href=\"#\">54</a></li>\\n                        <li class=\"_item\"><a href=\"#\">55</a></li>\\n                        <li class=\"_item\"><a href=\"#\">56</a></li>\\n                        <li class=\"_item\"><a href=\"#\">57</a></li>\\n                        <li class=\"_item\"><a href=\"#\">58</a></li>\\n                        <li class=\"_item\"><a href=\"#\">59</a></li>\\n                    </ul>\\n                </div>\\n                <div class=\"iScrollVerticalScrollbar  scrollbar-show\">\\n                    <div class=\"scrollbar-button-up rollover\"></div>\\n                    <div class=\"scrollbar-track rollover\" style=\"height: 202px;\">\\n                        <div class=\"iScrollIndicator S6808276 rollover S39500592\" style=\"top: 0px; height: 25px;\"></div>\\n                    </div>\\n                    <div class=\"scrollbar-button-down rollover\"></div>\\n                </div>\\n            </div>\\n        </div>\\n        <div class=\"hour_minute v2\">:</div>\\n        <div class=\"sec\">\\n            <!--[AU] data-max 에 입력가능 최대 숫자 설정-->\\n            <input type=\"text\" value=\"00\" class=\"time_input _tinput _second\" maxlength=\"2\" data-max=\"30\"><span class=\"blind\">초</span>\\n            <div id=\"scrollbox3\" class=\"time_scroll v2 scrollbar-box  _tlist _second\" style=\"overflow: hidden;\">\\n                <div class=\"scrollbar-box\" style=\"width: 62px; height: 202px;\">\\n                    <ul class=\"lst_time\">\\n                        <li class=\"selected _item\" data-value=\"00\"><a href=\"#\">00</a></li>\\n                        <li class=\"_item\" data-value=\"30\"><a href=\"#\">30</a></li>\\n                    </ul>\\n                </div>\\n\\n            </div>\\n        </div>\\n        <div class=\"sub_area v2\">\\n            <a href=\"#\" class=\"btn_check _confirm\">확인</a>\\n        </div>\\n    </div>\\n\\n</div>                    </div>\\n                </div>\\n            </div>\\n        </div>\\n        <div class=\"selection_box _age_filter\" data-age=\"all\">\\n            <div class=\"box_wrap\">\\n                <strong class=\"title_txt\">연령</strong>\\n                <div class=\"section_keyword_detail\">\\n                    <div class=\"graph_tab_box\">\\n                        <ul class=\"graph_tab_list\">\\n                            <!-- [D] 선택된 li에 class=\"on\" 추가 -->\\n                                <li class=\"\">\\n                                    <a href=\"#none\">10대</a>\\n                                </li>\\n                                <li class=\"\">\\n                                    <a href=\"#none\">20대</a>\\n                                </li>\\n                                <li class=\"\">\\n                                    <a href=\"#none\">30대</a>\\n                                </li>\\n                                <li class=\"\">\\n                                    <a href=\"#none\">40대</a>\\n                                </li>\\n                                <li class=\"\">\\n                                    <a href=\"#none\">50대 -</a>\\n                                </li>\\n                                <li class=\"on\">\\n                                    <a href=\"#none\">전체</a>\\n                                </li>\\n                        </ul>\\n                    </div>\\n                </div>\\n            </div>\\n        </div>\\n    </div>\\n\\n\\n    <!-- 상세옵션 및 대표검색어,유사검색어 ranking -->\\n    <div class=\"selection_content\">\\n        <div class=\"field_option\">\\n            <div class=\"option_box\">\\n                <strong class=\"box_title\">상세 옵션</strong>\\n                <div class=\"box_content\">\\n                    <!-- filter -->\\n                    <div class=\"various_filter_area\" >\\n                        <ul class=\"filter_list\">\\n                            <!--[D] 필터 주제에 따라 클래스 추가해주세요.\\n                                이슈별 묶어보기: default\\n                                이벤트・할인: item_event\\n                                시사: item_actualities\\n                                엔터: item_enter\\n                                스포츠: item_sports\\n                                -->\\n                                <li class=\"filter_item _opt_filter \">\\n                                    <strong class=\"item_title\">이슈별 묶어보기</strong>\\n                                    <div class=\"item_graph_wrap\">\\n                                        <div class=\"item_graph\" role=\"radiogroup\">\\n                                            <!--[D] 활성화/비활성화시 aria-checked=true/false로 변경해주세요.-->\\n                                                <a href=\"#\" role=\"radio\" aria-checked=\"false\" aria-label=\"0%\" class=\"level\">\\n                                                    <span class=\"blind\">1단계</span>\\n                                                </a>\\n                                                <a href=\"#\" role=\"radio\" aria-checked=\"true\" aria-label=\"25%\" class=\"level\">\\n                                                    <span class=\"blind\">2단계</span>\\n                                                </a>\\n                                                <a href=\"#\" role=\"radio\" aria-checked=\"false\" aria-label=\"50%\" class=\"level\">\\n                                                    <span class=\"blind\">3단계</span>\\n                                                </a>\\n                                                <a href=\"#\" role=\"radio\" aria-checked=\"false\" aria-label=\"75%\" class=\"level\">\\n                                                    <span class=\"blind\">4단계</span>\\n                                                </a>\\n                                                <a href=\"#\" role=\"radio\" aria-checked=\"false\" aria-label=\"100%\" class=\"level\">\\n                                                    <span class=\"blind\">5단계</span>\\n                                                </a>\\n                                            <div class=\"item_fill\" style=\"width: 25%;\"></div>\\n                                        </div>\\n                                    </div>\\n                                </li>\\n                                <li class=\"filter_item _opt_filter item_event\">\\n                                    <strong class=\"item_title\">이벤트・할인</strong>\\n                                    <div class=\"item_graph_wrap\">\\n                                        <div class=\"item_graph\" role=\"radiogroup\">\\n                                            <!--[D] 활성화/비활성화시 aria-checked=true/false로 변경해주세요.-->\\n                                                <a href=\"#\" role=\"radio\" aria-checked=\"true\" aria-label=\"0%\" class=\"level\">\\n                                                    <span class=\"blind\">1단계</span>\\n                                                </a>\\n                                                <a href=\"#\" role=\"radio\" aria-checked=\"false\" aria-label=\"25%\" class=\"level\">\\n                                                    <span class=\"blind\">2단계</span>\\n                                                </a>\\n                                                <a href=\"#\" role=\"radio\" aria-checked=\"false\" aria-label=\"50%\" class=\"level\">\\n                                                    <span class=\"blind\">3단계</span>\\n                                                </a>\\n                                                <a href=\"#\" role=\"radio\" aria-checked=\"false\" aria-label=\"75%\" class=\"level\">\\n                                                    <span class=\"blind\">4단계</span>\\n                                                </a>\\n                                                <a href=\"#\" role=\"radio\" aria-checked=\"false\" aria-label=\"100%\" class=\"level\">\\n                                                    <span class=\"blind\">5단계</span>\\n                                                </a>\\n                                            <div class=\"item_fill\" style=\"width: 0%;\"></div>\\n                                        </div>\\n                                    </div>\\n                                </li>\\n                                <li class=\"filter_item _opt_filter item_actualities\">\\n                                    <strong class=\"item_title\">시사</strong>\\n                                    <div class=\"item_graph_wrap\">\\n                                        <div class=\"item_graph\" role=\"radiogroup\">\\n                                            <!--[D] 활성화/비활성화시 aria-checked=true/false로 변경해주세요.-->\\n                                                <a href=\"#\" role=\"radio\" aria-checked=\"false\" aria-label=\"0%\" class=\"level\">\\n                                                    <span class=\"blind\">1단계</span>\\n                                                </a>\\n                                                <a href=\"#\" role=\"radio\" aria-checked=\"false\" aria-label=\"25%\" class=\"level\">\\n                                                    <span class=\"blind\">2단계</span>\\n                                                </a>\\n                                                <a href=\"#\" role=\"radio\" aria-checked=\"true\" aria-label=\"50%\" class=\"level\">\\n                                                    <span class=\"blind\">3단계</span>\\n                                                </a>\\n                                                <a href=\"#\" role=\"radio\" aria-checked=\"false\" aria-label=\"75%\" class=\"level\">\\n                                                    <span class=\"blind\">4단계</span>\\n                                                </a>\\n                                                <a href=\"#\" role=\"radio\" aria-checked=\"false\" aria-label=\"100%\" class=\"level\">\\n                                                    <span class=\"blind\">5단계</span>\\n                                                </a>\\n                                            <div class=\"item_fill\" style=\"width: 50%;\"></div>\\n                                        </div>\\n                                    </div>\\n                                </li>\\n                                <li class=\"filter_item _opt_filter item_enter\">\\n                                    <strong class=\"item_title\">엔터</strong>\\n                                    <div class=\"item_graph_wrap\">\\n                                        <div class=\"item_graph\" role=\"radiogroup\">\\n                                            <!--[D] 활성화/비활성화시 aria-checked=true/false로 변경해주세요.-->\\n                                                <a href=\"#\" role=\"radio\" aria-checked=\"false\" aria-label=\"0%\" class=\"level\">\\n                                                    <span class=\"blind\">1단계</span>\\n                                                </a>\\n                                                <a href=\"#\" role=\"radio\" aria-checked=\"false\" aria-label=\"25%\" class=\"level\">\\n                                                    <span class=\"blind\">2단계</span>\\n                                                </a>\\n                                                <a href=\"#\" role=\"radio\" aria-checked=\"true\" aria-label=\"50%\" class=\"level\">\\n                                                    <span class=\"blind\">3단계</span>\\n                                                </a>\\n                                                <a href=\"#\" role=\"radio\" aria-checked=\"false\" aria-label=\"75%\" class=\"level\">\\n                                                    <span class=\"blind\">4단계</span>\\n                                                </a>\\n                                                <a href=\"#\" role=\"radio\" aria-checked=\"false\" aria-label=\"100%\" class=\"level\">\\n                                                    <span class=\"blind\">5단계</span>\\n                                                </a>\\n                                            <div class=\"item_fill\" style=\"width: 50%;\"></div>\\n                                        </div>\\n                                    </div>\\n                                </li>\\n                                <li class=\"filter_item _opt_filter item_sports\">\\n                                    <strong class=\"item_title\">스포츠</strong>\\n                                    <div class=\"item_graph_wrap\">\\n                                        <div class=\"item_graph\" role=\"radiogroup\">\\n                                            <!--[D] 활성화/비활성화시 aria-checked=true/false로 변경해주세요.-->\\n                                                <a href=\"#\" role=\"radio\" aria-checked=\"false\" aria-label=\"0%\" class=\"level\">\\n                                                    <span class=\"blind\">1단계</span>\\n                                                </a>\\n                                                <a href=\"#\" role=\"radio\" aria-checked=\"false\" aria-label=\"25%\" class=\"level\">\\n                                                    <span class=\"blind\">2단계</span>\\n                                                </a>\\n                                                <a href=\"#\" role=\"radio\" aria-checked=\"true\" aria-label=\"50%\" class=\"level\">\\n                                                    <span class=\"blind\">3단계</span>\\n                                                </a>\\n                                                <a href=\"#\" role=\"radio\" aria-checked=\"false\" aria-label=\"75%\" class=\"level\">\\n                                                    <span class=\"blind\">4단계</span>\\n                                                </a>\\n                                                <a href=\"#\" role=\"radio\" aria-checked=\"false\" aria-label=\"100%\" class=\"level\">\\n                                                    <span class=\"blind\">5단계</span>\\n                                                </a>\\n                                            <div class=\"item_fill\" style=\"width: 50%;\"></div>\\n                                        </div>\\n                                    </div>\\n                                </li>\\n                        </ul>\\n                    </div>\\n                </div>\\n            </div>\\n            <div class=\"option_box box_bottom\">\\n                    <strong class=\"box_title\">과거 데이터 조회하기</strong>\\n                    <div class=\"box_content\">\\n                        <ul class=\"previous_data\">\\n                            <li class=\"data_item\"><a href=\"realtimeList.naver?datetime=2018-10-10T05:59:30\" target=\"_blank\">2017.03.29. ~ 2018.10.10.</a></li>\\n                            <li class=\"data_item\"><a href=\"realtimeList.naver?datetime=2019-11-28T05:59:00\" target=\"_blank\">2018.10.10. ~ 2019.11.28.</a></li>\\n                                <li class=\"data_item\"><a href=\"realtimeList.naver?datetime=2020-01-16T05:59:00\" target=\"_blank\">2019.11.28. ~ 2020.01.16.</a></li>\\n                        </ul>\\n                    </div>\\n                </div>\\n        </div>\\n        <div class=\"field_list\">\\n            <div class=\"ranking_box\">\\n                    <div class=\"list_group\">\\n                        <ul class=\"ranking_list\">\\n                            <li class=\"ranking_item\">\\n                            <div class=\"item_box\">\\n                            <span class=\"item_num\">1</span>\\n                            <span class=\"item_title_wrap\">\\n                            <span class=\"item_title\">함소원 진화</span>\\n                            </span>\\n                            </div>\\n                            </li>\\n                        \\n                        \\n                            <li class=\"ranking_item\">\\n                            <div class=\"item_box\">\\n                            <span class=\"item_num\">2</span>\\n                            <span class=\"item_title_wrap\">\\n                            <span class=\"item_title\">함소원</span>\\n                            </span>\\n                            </div>\\n                            </li>\\n                        \\n                        \\n                            <li class=\"ranking_item\">\\n                            <div class=\"item_box\">\\n                            <span class=\"item_num\">3</span>\\n                            <span class=\"item_title_wrap\">\\n                            <span class=\"item_title\">오은영</span>\\n                                <span class=\"item_title_sub\">\\n                                    오은영 박사\\n                                </span>\\n                            </span>\\n                            </div>\\n                            </li>\\n                        \\n                        \\n                            <li class=\"ranking_item\">\\n                            <div class=\"item_box\">\\n                            <span class=\"item_num\">4</span>\\n                            <span class=\"item_title_wrap\">\\n                            <span class=\"item_title\">기성용</span>\\n                            </span>\\n                            </div>\\n                            </li>\\n                        \\n                        \\n                            <li class=\"ranking_item\">\\n                            <div class=\"item_box\">\\n                            <span class=\"item_num\">5</span>\\n                            <span class=\"item_title_wrap\">\\n                            <span class=\"item_title\">제니 지디</span>\\n                                <span class=\"item_title_sub\">\\n                                    지디 제니, \\n                                    제니 나이, \\n                                    디스패치, \\n                                    지드래곤 제니\\n                                </span>\\n                            </span>\\n                            </div>\\n                            </li>\\n                        \\n                        \\n                            <li class=\"ranking_item\">\\n                            <div class=\"item_box\">\\n                            <span class=\"item_num\">6</span>\\n                            <span class=\"item_title_wrap\">\\n                            <span class=\"item_title\">찬열</span>\\n                            </span>\\n                            </div>\\n                            </li>\\n                        \\n                        \\n                            <li class=\"ranking_item\">\\n                            <div class=\"item_box\">\\n                            <span class=\"item_num\">7</span>\\n                            <span class=\"item_title_wrap\">\\n                            <span class=\"item_title\">오은영 나이</span>\\n                            </span>\\n                            </div>\\n                            </li>\\n                        \\n                        \\n                            <li class=\"ranking_item\">\\n                            <div class=\"item_box\">\\n                            <span class=\"item_num\">8</span>\\n                            <span class=\"item_title_wrap\">\\n                            <span class=\"item_title\">진화</span>\\n                            </span>\\n                            </div>\\n                            </li>\\n                        \\n                        \\n                            <li class=\"ranking_item\">\\n                            <div class=\"item_box\">\\n                            <span class=\"item_num\">9</span>\\n                            <span class=\"item_title_wrap\">\\n                            <span class=\"item_title\">이주연</span>\\n                            </span>\\n                            </div>\\n                            </li>\\n                        \\n                        \\n                            <li class=\"ranking_item\">\\n                            <div class=\"item_box\">\\n                            <span class=\"item_num\">10</span>\\n                            <span class=\"item_title_wrap\">\\n                            <span class=\"item_title\">제니</span>\\n                            </span>\\n                            </div>\\n                            </li>\\n                        </ul>\\n                        <ul class=\"ranking_list\">\\n                            <li class=\"ranking_item\">\\n                            <div class=\"item_box\">\\n                            <span class=\"item_num\">11</span>\\n                            <span class=\"item_title_wrap\">\\n                            <span class=\"item_title\">임영웅 대학교</span>\\n                            </span>\\n                            </div>\\n                            </li>\\n                        \\n                        \\n                            <li class=\"ranking_item\">\\n                            <div class=\"item_box\">\\n                            <span class=\"item_num\">12</span>\\n                            <span class=\"item_title_wrap\">\\n                            <span class=\"item_title\">눈치제로</span>\\n                            </span>\\n                            </div>\\n                            </li>\\n                        \\n                        \\n                            <li class=\"ranking_item\">\\n                            <div class=\"item_box\">\\n                            <span class=\"item_num\">13</span>\\n                            <span class=\"item_title_wrap\">\\n                            <span class=\"item_title\">지디</span>\\n                            </span>\\n                            </div>\\n                            </li>\\n                        \\n                        \\n                            <li class=\"ranking_item\">\\n                            <div class=\"item_box\">\\n                            <span class=\"item_num\">14</span>\\n                            <span class=\"item_title_wrap\">\\n                            <span class=\"item_title\">이지혜</span>\\n                            </span>\\n                            </div>\\n                            </li>\\n                        \\n                        \\n                            <li class=\"ranking_item\">\\n                            <div class=\"item_box\">\\n                            <span class=\"item_num\">15</span>\\n                            <span class=\"item_title_wrap\">\\n                            <span class=\"item_title\">경복대학교</span>\\n                            </span>\\n                            </div>\\n                            </li>\\n                        \\n                        \\n                            <li class=\"ranking_item\">\\n                            <div class=\"item_box\">\\n                            <span class=\"item_num\">16</span>\\n                            <span class=\"item_title_wrap\">\\n                            <span class=\"item_title\">지드래곤</span>\\n                            </span>\\n                            </div>\\n                            </li>\\n                        \\n                        \\n                            <li class=\"ranking_item\">\\n                            <div class=\"item_box\">\\n                            <span class=\"item_num\">17</span>\\n                            <span class=\"item_title_wrap\">\\n                            <span class=\"item_title\">블랙핑크 제니</span>\\n                            </span>\\n                            </div>\\n                            </li>\\n                        \\n                        \\n                            <li class=\"ranking_item\">\\n                            <div class=\"item_box\">\\n                            <span class=\"item_num\">18</span>\\n                            <span class=\"item_title_wrap\">\\n                            <span class=\"item_title\">범죄도시</span>\\n                            </span>\\n                            </div>\\n                            </li>\\n                        \\n                        \\n                            <li class=\"ranking_item\">\\n                            <div class=\"item_box\">\\n                            <span class=\"item_num\">19</span>\\n                            <span class=\"item_title_wrap\">\\n                            <span class=\"item_title\">서민재</span>\\n                            </span>\\n                            </div>\\n                            </li>\\n                        \\n                        \\n                            <li class=\"ranking_item\">\\n                            <div class=\"item_box\">\\n                            <span class=\"item_num\">20</span>\\n                            <span class=\"item_title_wrap\">\\n                            <span class=\"item_title\">이지혜 남편</span>\\n                            </span>\\n                            </div>\\n                            </li>\\n                        </ul>\\n                    </div>\\n\\n\\n            </div>\\n        </div>\\n    </div>\\n    <!-- //상세옵션 및 대표검색어,유사검색어 ranking -->\\n</div>\\n\\n        </div>\\n    </div>\\n    <div class=\"_data\" style=\"display:none\">\\n        <span class=\"_subject_server\"></span>\\n        <span class=\"_keyword_server\"></span>\\n    </div>\\n</div>\\n\\n    <div id=\"footer\" class=\"footer\">\\n        <div class=\"footer_inner\">\\n            <div class=\"footer_info\">\\n                <a href=\"https://policy.naver.com/rules/service.html\" target=\"_blank\">이용약관</a>\\n                <a href=\"https://policy.naver.com/rules/privacy.html\" target=\"_blank\"><strong>개인정보처리방침</strong></a>\\n                <a href=\"https://policy.naver.com/rules/disclaimer.html\" target=\"_blank\">책임의 한계와 법적고지</a>\\n                <a href=\"https://help.naver.com/support/service/main.nhn?serviceNo=14493\" target=\"_blank\">고객센터</a>\\n            </div>\\n            <div class=\"footer_copyright\">\\n                <a href=\"https://www.naver.com/\" target=\"_blank\" class=\"sp_footer_logo\"><span class=\"blind\">NAVER</span></a>\\n                <em class=\"copyright\">Copyright ©</em>\\n                <strong><a href=\"https://www.navercorp.com/ko/index.nhn\" target=\"_blank\">NAVER Corp.</a></strong> All Rights Reserved.\\n            </div>\\n        </div>\\n    </div>\\n</div>\\n\\n<!--[if lte IE 9]>\\n<div class=\"com_browser_pop\" style=\"display:none\">\\n    <div class=\"pop_dimmed\"></div>\\n    <div class=\"pop_inner type_browser\">\\n        <strong class=\"browser_title\">권장 브라우저 안내</strong>\\n        <p class=\"browser_desc\">\\n            해당 사이트에 최적화된 브라우저는 Internet Explorer10 이상입니다<br>\\n            편리한 사이트 이용을 위하여 최신 브라우저로 업그레이드를 권장합니다\\n        </p>\\n        <div class=\"browser_list\">\\n\\t\\t\\t<span class=\"list ie\">\\n\\t\\t\\t\\t<span class=\"title\">Internet Explore</span>\\n\\t\\t\\t</span>\\n            <span class=\"list firefox\">\\n\\t\\t\\t\\t<span class=\"title\">Firefox</span>\\n\\t\\t\\t</span>\\n            <span class=\"list chrome\">\\n\\t\\t\\t\\t<span class=\"title\">Google Chrome</span>\\n\\t\\t\\t</span>\\n            <span class=\"list safari\">\\n\\t\\t\\t\\t<span class=\"title\">Safari</span>\\n\\t\\t\\t</span>\\n        </div>\\n        <div class=\"browser_close_chk\">\\n\\t\\t\\t<span class=\"select_chk _old_browser_cookie\">\\n\\t\\t\\t\\t<input type=\"checkbox\" id=\"item_browser\" class=\"chk\" checked=\"\">\\n\\t\\t\\t\\t<label class=\"lbl\" for=\"item_browser\">이 메세지를 다시 표시하지 않습니다</label>\\n\\t\\t\\t</span>\\n        </div>\\n        <a href=\"#\" class=\"sp_btn_pop_close\">\\n            <span class=\"blind\">권장 브라우저 안내 팝업 닫기</span>\\n        </a>\\n    </div>\\n</div>\\n<![endif]-->\\n\\n<script type=\"text/javascript\">\\n(function() {\\n    window.$DATALAB = (typeof $DATALAB != \"undefined\") ? $DATALAB : {};\\n    window.$DATALAB.CONFIG = (typeof $DATALAB.CONFIG != \"undefined\") ? $DATALAB.CONFIG : {};\\n\\n    $DATALAB.CONFIG.request_url = \"\\'http://datalab.naver.com/keyword/realtimeList.naver?where=main\";\\n    $DATALAB.CONFIG.realTimeOpenDate = \"2020-01-16T06:00\";\\n\\n    if(location.href.indexOf(\"dev\") > 0) {\\n        window.lcs_SerName = \"alpha-lcs.naver.com\";\\n    }\\n})();\\n</script>\\n<script type=\"text/javascript\" src=\"https://ssl.pstatic.net/static.datalab/202102250221/js/vendor.202102250221.js\"></script>\\n\\n\\n\\n\\n\\n\\n\\n\\n\\n\\n\\n\\n    <script type=\"text/javascript\" src=\"https://ssl.pstatic.net/static.datalab/202102250221/js/realtime_v3.202102250221.js\"></script>\\n\\n</body>\\n</html>'"
      ]
     },
     "execution_count": 8,
     "metadata": {},
     "output_type": "execute_result"
    }
   ],
   "source": [
    "r = session.get('https://datalab.naver.com/keyword/realtimeList.naver?where=main')\n",
    "\n",
    "if r.status_code != 200:\n",
    "    print(\"[%d Error] %s\" % (r.status_code, r.reason))\n",
    "    quit()\n",
    "    \n",
    "r.encoding='utf-8'\n",
    "r.text"
   ]
  }
 ],
 "metadata": {
  "kernelspec": {
   "display_name": "Python 3",
   "language": "python",
   "name": "python3"
  },
  "language_info": {
   "codemirror_mode": {
    "name": "ipython",
    "version": 3
   },
   "file_extension": ".py",
   "mimetype": "text/x-python",
   "name": "python",
   "nbconvert_exporter": "python",
   "pygments_lexer": "ipython3",
   "version": "3.8.0"
  }
 },
 "nbformat": 4,
 "nbformat_minor": 5
}
