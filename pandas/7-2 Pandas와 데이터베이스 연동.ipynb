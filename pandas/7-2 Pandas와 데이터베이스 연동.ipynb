{
 "cells": [
  {
   "cell_type": "markdown",
   "id": "sunrise-asbestos",
   "metadata": {},
   "source": [
    "# 7-2. Pandas와 데이터베이스 연동\n",
    "SqlAlchemy 패키지를 활용하여 Pandas의 DataFrame과 데이터베이스를 직접 연동시키는 방법\n",
    "\n",
    "# #01. 패키지 설치"
   ]
  },
  {
   "cell_type": "code",
   "execution_count": 1,
   "id": "determined-regular",
   "metadata": {},
   "outputs": [
    {
     "name": "stdout",
     "output_type": "stream",
     "text": [
      "Collecting sqlalchemy\n",
      "  Downloading https://files.pythonhosted.org/packages/38/fc/fd6b39abfaa730bc7898e043b9dbbffebc6856077df2223aa8b8c0da6e3b/SQLAlchemy-1.3.23-cp38-cp38-win_amd64.whl (1.2MB)\n",
      "Installing collected packages: sqlalchemy\n",
      "Successfully installed sqlalchemy-1.3.23\n",
      "Note: you may need to restart the kernel to use updated packages.\n"
     ]
    },
    {
     "name": "stderr",
     "output_type": "stream",
     "text": [
      "WARNING: You are using pip version 19.2.3, however version 21.0.1 is available.\n",
      "You should consider upgrading via the 'python -m pip install --upgrade pip' command.\n"
     ]
    }
   ],
   "source": [
    "pip install --upgrade sqlalchemy"
   ]
  },
  {
   "cell_type": "markdown",
   "id": "contemporary-prefix",
   "metadata": {},
   "source": [
    "# #02. 연동준비\n",
    "## 1) 패키지 참조"
   ]
  },
  {
   "cell_type": "code",
   "execution_count": 2,
   "id": "likely-reader",
   "metadata": {},
   "outputs": [],
   "source": [
    "import pymysql\n",
    "from sqlalchemy import create_engine\n",
    "import pandas as pd\n",
    "from pandas import DataFrame\n",
    "from matplotlib import pyplot"
   ]
  },
  {
   "cell_type": "markdown",
   "id": "wound-large",
   "metadata": {},
   "source": [
    "## 2) 데이터베이스 연동에 필요한 접속 정보"
   ]
  },
  {
   "cell_type": "code",
   "execution_count": 3,
   "id": "manual-kentucky",
   "metadata": {},
   "outputs": [],
   "source": [
    "HOSTNAME = 'localhost'\n",
    "PORT = 3306\n",
    "USERNAME = 'root'\n",
    "PASSWORD = '123qwe!@#'\n",
    "DATABASE = 'myschool'\n",
    "CHARSET1 = 'utf8'          # MySQL에서 사용할 캐릭터셋\n",
    "CHARSET2 = 'utf-8'         # Python에서 사용할 캐릭터셋"
   ]
  },
  {
   "cell_type": "markdown",
   "id": "certain-membrane",
   "metadata": {},
   "source": [
    "# #03. 데이터베이스 접속하기\n",
    "## 1) 접속 문자열 생성\n",
    "mysql+mysqldb://아이디:비밀번호@DB서버주소:포트번호/DB이름?charset=인코딩"
   ]
  },
  {
   "cell_type": "code",
   "execution_count": 4,
   "id": "continent-judgment",
   "metadata": {},
   "outputs": [
    {
     "data": {
      "text/plain": [
       "'mysql+mysqldb://root:123qwe!@#@localhost:3306/myschool?charset=utf8'"
      ]
     },
     "execution_count": 4,
     "metadata": {},
     "output_type": "execute_result"
    }
   ],
   "source": [
    "con_str_fmt = \"mysql+mysqldb://{0}:{1}@{2}:{3}/{4}?charset={5}\"\n",
    "con_str = con_str_fmt.format(USERNAME, PASSWORD, HOSTNAME, PORT, DATABASE, CHARSET1)\n",
    "con_str"
   ]
  },
  {
   "cell_type": "markdown",
   "id": "prospective-wyoming",
   "metadata": {},
   "source": [
    "## 2) pymysql을 사용하여 MySQL 연동 객체 설치하기"
   ]
  },
  {
   "cell_type": "code",
   "execution_count": 5,
   "id": "annual-commodity",
   "metadata": {},
   "outputs": [],
   "source": [
    "pymysql.install_as_MySQLdb()\n",
    "import MySQLdb"
   ]
  },
  {
   "cell_type": "markdown",
   "id": "tribal-blame",
   "metadata": {},
   "source": [
    "## 3) 데이터베이스 접속"
   ]
  },
  {
   "cell_type": "code",
   "execution_count": 7,
   "id": "comfortable-generic",
   "metadata": {},
   "outputs": [],
   "source": [
    "engine = create_engine(con_str, encoding=CHARSET2)\n",
    "conn = engine.connect()"
   ]
  },
  {
   "cell_type": "markdown",
   "id": "changed-senator",
   "metadata": {},
   "source": [
    "# #05. 데이저 저장하기\n",
    "## 1) 인덱스 컬럼이 없는 DataFrame의 경우\n",
    "### DataFrame 생성\n",
    "엑셀읽기, 크롤링 등의 방법으로 수집한 데이터를 DataFrame으로 생성한다."
   ]
  },
  {
   "cell_type": "code",
   "execution_count": 8,
   "id": "comic-professional",
   "metadata": {},
   "outputs": [
    {
     "data": {
      "text/html": [
       "<div>\n",
       "<style scoped>\n",
       "    .dataframe tbody tr th:only-of-type {\n",
       "        vertical-align: middle;\n",
       "    }\n",
       "\n",
       "    .dataframe tbody tr th {\n",
       "        vertical-align: top;\n",
       "    }\n",
       "\n",
       "    .dataframe thead th {\n",
       "        text-align: right;\n",
       "    }\n",
       "</style>\n",
       "<table border=\"1\" class=\"dataframe\">\n",
       "  <thead>\n",
       "    <tr style=\"text-align: right;\">\n",
       "      <th></th>\n",
       "      <th>deptno</th>\n",
       "      <th>dname</th>\n",
       "      <th>loc</th>\n",
       "    </tr>\n",
       "  </thead>\n",
       "  <tbody>\n",
       "    <tr>\n",
       "      <th>0</th>\n",
       "      <td>300</td>\n",
       "      <td>학과1</td>\n",
       "      <td>위치1</td>\n",
       "    </tr>\n",
       "    <tr>\n",
       "      <th>1</th>\n",
       "      <td>301</td>\n",
       "      <td>학과2</td>\n",
       "      <td>위치2</td>\n",
       "    </tr>\n",
       "    <tr>\n",
       "      <th>2</th>\n",
       "      <td>302</td>\n",
       "      <td>학과3</td>\n",
       "      <td>위치3</td>\n",
       "    </tr>\n",
       "  </tbody>\n",
       "</table>\n",
       "</div>"
      ],
      "text/plain": [
       "   deptno dname  loc\n",
       "0     300   학과1  위치1\n",
       "1     301   학과2  위치2\n",
       "2     302   학과3  위치3"
      ]
     },
     "execution_count": 8,
     "metadata": {},
     "output_type": "execute_result"
    }
   ],
   "source": [
    "df1 = DataFrame([\n",
    "    {'deptno':300, 'dname':'학과1', 'loc':'위치1'},\n",
    "    {'deptno':301, 'dname':'학과2', 'loc':'위치2'},\n",
    "    {'deptno':302, 'dname':'학과3', 'loc':'위치3'},\n",
    "])\n",
    "df1"
   ]
  },
  {
   "cell_type": "markdown",
   "id": "banned-moldova",
   "metadata": {},
   "source": [
    "### DataFrame을 db에 저장하기\n",
    "`to_sql()` 함수는 지정된 테이블이 존재하지 않을 경우 새로 생성하여 데이터를 저장한다.\n",
    "\n",
    "파라미터 | 설명 |\n",
    "---- | ---- |\n",
    "if_exists | replace : index값을 기준으로 동일한 데이터 수정 |\n",
    "if_exists | append : 새로운 행으로 추가 |\n",
    "index | True : DataFrame의 index가 DB에 함께 저장 |\n",
    "index | DataFrame의 index를PK로 사용할 경우만 적용할 것"
   ]
  },
  {
   "cell_type": "code",
   "execution_count": 9,
   "id": "strategic-kitty",
   "metadata": {},
   "outputs": [],
   "source": [
    "# 인덱스와 함께 저장하기\n",
    "df1.to_sql(name = 'department_py', con=conn, if_exists='replace', index=True)"
   ]
  },
  {
   "cell_type": "code",
   "execution_count": 10,
   "id": "stopped-glance",
   "metadata": {},
   "outputs": [],
   "source": [
    "# 인덱스를 제외하고 저장하기\n",
    "df1.to_sql(name = 'department_py', con=conn, if_exists='replace', index=False)"
   ]
  },
  {
   "cell_type": "markdown",
   "id": "instructional-mileage",
   "metadata": {},
   "source": [
    "## 2) 인덱스 컬럼이 있는 DataFrame의 경우\n",
    "가장 이상적인 형태는 DataFrame에 별도의 인덱스 컬럼을 지정하고, DB에 저장할 때 그 컬럼이 함께 저장되도록 설정하는 것이다.\n",
    "\n",
    "### DataFrame 만들기"
   ]
  },
  {
   "cell_type": "code",
   "execution_count": 12,
   "id": "spoken-motel",
   "metadata": {},
   "outputs": [
    {
     "data": {
      "text/html": [
       "<div>\n",
       "<style scoped>\n",
       "    .dataframe tbody tr th:only-of-type {\n",
       "        vertical-align: middle;\n",
       "    }\n",
       "\n",
       "    .dataframe tbody tr th {\n",
       "        vertical-align: top;\n",
       "    }\n",
       "\n",
       "    .dataframe thead th {\n",
       "        text-align: right;\n",
       "    }\n",
       "</style>\n",
       "<table border=\"1\" class=\"dataframe\">\n",
       "  <thead>\n",
       "    <tr style=\"text-align: right;\">\n",
       "      <th></th>\n",
       "      <th>dname</th>\n",
       "      <th>loc</th>\n",
       "    </tr>\n",
       "    <tr>\n",
       "      <th>deptno</th>\n",
       "      <th></th>\n",
       "      <th></th>\n",
       "    </tr>\n",
       "  </thead>\n",
       "  <tbody>\n",
       "    <tr>\n",
       "      <th>300</th>\n",
       "      <td>학과1</td>\n",
       "      <td>위치1</td>\n",
       "    </tr>\n",
       "    <tr>\n",
       "      <th>301</th>\n",
       "      <td>학과2</td>\n",
       "      <td>위치2</td>\n",
       "    </tr>\n",
       "    <tr>\n",
       "      <th>302</th>\n",
       "      <td>학과3</td>\n",
       "      <td>위치3</td>\n",
       "    </tr>\n",
       "  </tbody>\n",
       "</table>\n",
       "</div>"
      ],
      "text/plain": [
       "       dname  loc\n",
       "deptno           \n",
       "300      학과1  위치1\n",
       "301      학과2  위치2\n",
       "302      학과3  위치3"
      ]
     },
     "execution_count": 12,
     "metadata": {},
     "output_type": "execute_result"
    }
   ],
   "source": [
    "df2 = DataFrame([\n",
    "    {'deptno':300, 'dname':'학과1', 'loc':'위치1'},\n",
    "    {'deptno':301, 'dname':'학과2', 'loc':'위치2'},\n",
    "    {'deptno':302, 'dname':'학과3', 'loc':'위치3'}    \n",
    "])\n",
    "df2.set_index('deptno', inplace=True)\n",
    "df2"
   ]
  },
  {
   "cell_type": "markdown",
   "id": "offensive-strike",
   "metadata": {},
   "source": [
    "### 데이터 저장하기"
   ]
  },
  {
   "cell_type": "code",
   "execution_count": 13,
   "id": "union-basement",
   "metadata": {},
   "outputs": [],
   "source": [
    "df2.to_sql(name='department_py', con=conn, if_exists='replace', index=True)"
   ]
  },
  {
   "cell_type": "markdown",
   "id": "professional-reach",
   "metadata": {},
   "source": [
    "# #05. 데이터 조회하기\n",
    "## 1) 부분조회\n",
    "원하는 컬럼 이름을 나열하고 WHERE절로 특정 조건에 맞는 데이터 조회하기"
   ]
  },
  {
   "cell_type": "code",
   "execution_count": 14,
   "id": "according-blind",
   "metadata": {},
   "outputs": [
    {
     "data": {
      "text/html": [
       "<div>\n",
       "<style scoped>\n",
       "    .dataframe tbody tr th:only-of-type {\n",
       "        vertical-align: middle;\n",
       "    }\n",
       "\n",
       "    .dataframe tbody tr th {\n",
       "        vertical-align: top;\n",
       "    }\n",
       "\n",
       "    .dataframe thead th {\n",
       "        text-align: right;\n",
       "    }\n",
       "</style>\n",
       "<table border=\"1\" class=\"dataframe\">\n",
       "  <thead>\n",
       "    <tr style=\"text-align: right;\">\n",
       "      <th></th>\n",
       "      <th>dname</th>\n",
       "      <th>loc</th>\n",
       "    </tr>\n",
       "    <tr>\n",
       "      <th>deptno</th>\n",
       "      <th></th>\n",
       "      <th></th>\n",
       "    </tr>\n",
       "  </thead>\n",
       "  <tbody>\n",
       "    <tr>\n",
       "      <th>300</th>\n",
       "      <td>학과1</td>\n",
       "      <td>위치1</td>\n",
       "    </tr>\n",
       "  </tbody>\n",
       "</table>\n",
       "</div>"
      ],
      "text/plain": [
       "       dname  loc\n",
       "deptno           \n",
       "300      학과1  위치1"
      ]
     },
     "execution_count": 14,
     "metadata": {},
     "output_type": "execute_result"
    }
   ],
   "source": [
    "sql = \"SELECT deptno, dname, loc FROM department_py WHERE deptno=300\"\n",
    "df3 = pd.read_sql(sql, index_col='deptno', con=conn)\n",
    "df3"
   ]
  },
  {
   "cell_type": "markdown",
   "id": "above-pursuit",
   "metadata": {},
   "source": [
    "## 2) 전체조회\n",
    "### 특정 테이블 데이터를 통째로 다 가져오기"
   ]
  },
  {
   "cell_type": "code",
   "execution_count": 17,
   "id": "novel-queens",
   "metadata": {},
   "outputs": [
    {
     "data": {
      "text/html": [
       "<div>\n",
       "<style scoped>\n",
       "    .dataframe tbody tr th:only-of-type {\n",
       "        vertical-align: middle;\n",
       "    }\n",
       "\n",
       "    .dataframe tbody tr th {\n",
       "        vertical-align: top;\n",
       "    }\n",
       "\n",
       "    .dataframe thead th {\n",
       "        text-align: right;\n",
       "    }\n",
       "</style>\n",
       "<table border=\"1\" class=\"dataframe\">\n",
       "  <thead>\n",
       "    <tr style=\"text-align: right;\">\n",
       "      <th></th>\n",
       "      <th>dname</th>\n",
       "      <th>loc</th>\n",
       "    </tr>\n",
       "    <tr>\n",
       "      <th>deptno</th>\n",
       "      <th></th>\n",
       "      <th></th>\n",
       "    </tr>\n",
       "  </thead>\n",
       "  <tbody>\n",
       "    <tr>\n",
       "      <th>300</th>\n",
       "      <td>학과1</td>\n",
       "      <td>위치1</td>\n",
       "    </tr>\n",
       "    <tr>\n",
       "      <th>301</th>\n",
       "      <td>학과2</td>\n",
       "      <td>위치2</td>\n",
       "    </tr>\n",
       "    <tr>\n",
       "      <th>302</th>\n",
       "      <td>학과3</td>\n",
       "      <td>위치3</td>\n",
       "    </tr>\n",
       "  </tbody>\n",
       "</table>\n",
       "</div>"
      ],
      "text/plain": [
       "       dname  loc\n",
       "deptno           \n",
       "300      학과1  위치1\n",
       "301      학과2  위치2\n",
       "302      학과3  위치3"
      ]
     },
     "execution_count": 17,
     "metadata": {},
     "output_type": "execute_result"
    }
   ],
   "source": [
    "df4 = pd.read_sql_table('department_py', index_col='deptno', con=conn)\n",
    "df4"
   ]
  },
  {
   "cell_type": "markdown",
   "id": "precise-preparation",
   "metadata": {},
   "source": [
    "### 가져올 컬럼 지정하기"
   ]
  },
  {
   "cell_type": "code",
   "execution_count": 18,
   "id": "automatic-binding",
   "metadata": {},
   "outputs": [
    {
     "data": {
      "text/html": [
       "<div>\n",
       "<style scoped>\n",
       "    .dataframe tbody tr th:only-of-type {\n",
       "        vertical-align: middle;\n",
       "    }\n",
       "\n",
       "    .dataframe tbody tr th {\n",
       "        vertical-align: top;\n",
       "    }\n",
       "\n",
       "    .dataframe thead th {\n",
       "        text-align: right;\n",
       "    }\n",
       "</style>\n",
       "<table border=\"1\" class=\"dataframe\">\n",
       "  <thead>\n",
       "    <tr style=\"text-align: right;\">\n",
       "      <th></th>\n",
       "      <th>dname</th>\n",
       "    </tr>\n",
       "    <tr>\n",
       "      <th>deptno</th>\n",
       "      <th></th>\n",
       "    </tr>\n",
       "  </thead>\n",
       "  <tbody>\n",
       "    <tr>\n",
       "      <th>300</th>\n",
       "      <td>학과1</td>\n",
       "    </tr>\n",
       "    <tr>\n",
       "      <th>301</th>\n",
       "      <td>학과2</td>\n",
       "    </tr>\n",
       "    <tr>\n",
       "      <th>302</th>\n",
       "      <td>학과3</td>\n",
       "    </tr>\n",
       "  </tbody>\n",
       "</table>\n",
       "</div>"
      ],
      "text/plain": [
       "       dname\n",
       "deptno      \n",
       "300      학과1\n",
       "301      학과2\n",
       "302      학과3"
      ]
     },
     "execution_count": 18,
     "metadata": {},
     "output_type": "execute_result"
    }
   ],
   "source": [
    "df5 = pd.read_sql_table('department_py',\n",
    "                       index_col = 'deptno', \n",
    "                       columns=['dname'],\n",
    "                       con=conn)\n",
    "df5"
   ]
  },
  {
   "cell_type": "markdown",
   "id": "front-blame",
   "metadata": {},
   "source": [
    "# #06. 데이터베이스 접속 해제"
   ]
  },
  {
   "cell_type": "code",
   "execution_count": 19,
   "id": "foreign-teacher",
   "metadata": {},
   "outputs": [],
   "source": [
    "conn.close()"
   ]
  }
 ],
 "metadata": {
  "kernelspec": {
   "display_name": "Python 3",
   "language": "python",
   "name": "python3"
  },
  "language_info": {
   "codemirror_mode": {
    "name": "ipython",
    "version": 3
   },
   "file_extension": ".py",
   "mimetype": "text/x-python",
   "name": "python",
   "nbconvert_exporter": "python",
   "pygments_lexer": "ipython3",
   "version": "3.8.0"
  }
 },
 "nbformat": 4,
 "nbformat_minor": 5
}
