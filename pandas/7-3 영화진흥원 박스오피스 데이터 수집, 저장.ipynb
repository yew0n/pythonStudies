{
 "cells": [
  {
   "cell_type": "markdown",
   "id": "connected-breathing",
   "metadata": {},
   "source": [
    "# 7-3. 영화진흥원 박스오피스 데이터 수집, 저장\n",
    "# #01. 필요한 패키지 가져오기"
   ]
  },
  {
   "cell_type": "code",
   "execution_count": 1,
   "id": "verified-fantasy",
   "metadata": {},
   "outputs": [],
   "source": [
    "import requests\n",
    "import json\n",
    "import datetime as dt\n",
    "import pandas as pd\n",
    "from pandas import DataFrame\n",
    "import pymysql\n",
    "from sqlalchemy import create_engine\n",
    "from matplotlib import pyplot"
   ]
  },
  {
   "cell_type": "markdown",
   "id": "obvious-penetration",
   "metadata": {},
   "source": [
    "# #02. OpenAPI를 통한 데이터 수집\n",
    "## 1) API Key 준비하기"
   ]
  },
  {
   "cell_type": "code",
   "execution_count": 2,
   "id": "manufactured-logging",
   "metadata": {},
   "outputs": [],
   "source": [
    "api_key = '498bf1773e4b92ddef9471c8f988acb3'"
   ]
  },
  {
   "cell_type": "markdown",
   "id": "closing-ceremony",
   "metadata": {},
   "source": [
    "## 2) 세션 생성"
   ]
  },
  {
   "cell_type": "code",
   "execution_count": 3,
   "id": "opponent-inquiry",
   "metadata": {},
   "outputs": [],
   "source": [
    "user_agent = \"Mozilla/5.0 (Windows NT 10.0; Win64; x64) AppleWebKit/537.36 (KHTML, like Gecko) Chrome/88.0.4324.190 Safari/537.36\"\n",
    "session= requests.Session()\n",
    "session.headers.update({'User-agent':user_agent, 'referer':None})"
   ]
  },
  {
   "cell_type": "markdown",
   "id": "timely-centre",
   "metadata": {},
   "source": [
    "## 3) 접속 주소 준비하기\n",
    "### 변수가 치환될 주소 템플릿"
   ]
  },
  {
   "cell_type": "code",
   "execution_count": 4,
   "id": "second-crest",
   "metadata": {},
   "outputs": [],
   "source": [
    "url_tpl = 'http://www.kobis.or.kr/kobisopenapi/webservice/rest/boxoffice/searchDailyBoxOfficeList.json?key={key}&targetDt={date}'"
   ]
  },
  {
   "cell_type": "markdown",
   "id": "anticipated-religious",
   "metadata": {},
   "source": [
    "### 조회날짜 문자열 만들기\n",
    "여기서는 어제 날짜로 준비"
   ]
  },
  {
   "cell_type": "code",
   "execution_count": 5,
   "id": "consistent-finder",
   "metadata": {},
   "outputs": [
    {
     "data": {
      "text/plain": [
       "'20210302'"
      ]
     },
     "execution_count": 5,
     "metadata": {},
     "output_type": "execute_result"
    }
   ],
   "source": [
    "today = dt.datetime.now()\n",
    "delta = dt.timedelta(days=-1)                  # 하루 전을 의미하는 timedelta 객체\n",
    "yesterday = today+delta                        # 오늘 날짜와 timedelta 연산\n",
    "yesterday_str = yesterday.strftime('%Y%m%d')   # yyyymmdd 형식 문자열로 변환\n",
    "yesterday_str"
   ]
  },
  {
   "cell_type": "markdown",
   "id": "accurate-dollar",
   "metadata": {},
   "source": [
    "### 최종 접속 주소 확인"
   ]
  },
  {
   "cell_type": "code",
   "execution_count": 6,
   "id": "creative-midwest",
   "metadata": {},
   "outputs": [
    {
     "data": {
      "text/plain": [
       "'http://www.kobis.or.kr/kobisopenapi/webservice/rest/boxoffice/searchDailyBoxOfficeList.json?key=498bf1773e4b92ddef9471c8f988acb3&targetDt=20210302'"
      ]
     },
     "execution_count": 6,
     "metadata": {},
     "output_type": "execute_result"
    }
   ],
   "source": [
    "api_url = url_tpl.format(key=api_key, date=yesterday_str)\n",
    "api_url"
   ]
  },
  {
   "cell_type": "markdown",
   "id": "close-administrator",
   "metadata": {},
   "source": [
    "## 4) API를 통한 JSON 데이터 가져오기"
   ]
  },
  {
   "cell_type": "code",
   "execution_count": 7,
   "id": "religious-worcester",
   "metadata": {
    "collapsed": true,
    "jupyter": {
     "outputs_hidden": true
    }
   },
   "outputs": [
    {
     "data": {
      "text/plain": [
       "'{\"boxOfficeResult\":{\"boxofficeType\":\"일별 박스오피스\",\"showRange\":\"20210302~20210302\",\"dailyBoxOfficeList\":[{\"rnum\":\"1\",\"rank\":\"1\",\"rankInten\":\"2\",\"rankOldAndNew\":\"OLD\",\"movieCd\":\"20200703\",\"movieNm\":\"극장판 귀멸의 칼날: 무한열차편\",\"openDt\":\"2021-01-27\",\"salesAmt\":\"134303840\",\"salesShare\":\"31.9\",\"salesInten\":\"-187741190\",\"salesChange\":\"-58.3\",\"salesAcc\":\"9020206220\",\"audiCnt\":\"13931\",\"audiInten\":\"-18687\",\"audiChange\":\"-57.3\",\"audiAcc\":\"939663\",\"scrnCnt\":\"592\",\"showCnt\":\"1206\"},{\"rnum\":\"2\",\"rank\":\"2\",\"rankInten\":\"0\",\"rankOldAndNew\":\"OLD\",\"movieCd\":\"20199541\",\"movieNm\":\"미션 파서블\",\"openDt\":\"2021-02-17\",\"salesAmt\":\"73313050\",\"salesShare\":\"17.4\",\"salesInten\":\"-245739580\",\"salesChange\":\"-77\",\"salesAcc\":\"3382593160\",\"audiCnt\":\"8102\",\"audiInten\":\"-25997\",\"audiChange\":\"-76.2\",\"audiAcc\":\"373333\",\"scrnCnt\":\"625\",\"showCnt\":\"1496\"},{\"rnum\":\"3\",\"rank\":\"3\",\"rankInten\":\"-2\",\"rankOldAndNew\":\"OLD\",\"movieCd\":\"20207443\",\"movieNm\":\"소울\",\"openDt\":\"2021-01-20\",\"salesAmt\":\"63028360\",\"salesShare\":\"15.0\",\"salesInten\":\"-266296010\",\"salesChange\":\"-80.9\",\"salesAcc\":\"17803392410\",\"audiCnt\":\"6818\",\"audiInten\":\"-27568\",\"audiChange\":\"-80.2\",\"audiAcc\":\"1921847\",\"scrnCnt\":\"591\",\"showCnt\":\"1245\"},{\"rnum\":\"4\",\"rank\":\"4\",\"rankInten\":\"1\",\"rankOldAndNew\":\"OLD\",\"movieCd\":\"20215843\",\"movieNm\":\"카오스 워킹\",\"openDt\":\"2021-02-24\",\"salesAmt\":\"39628010\",\"salesShare\":\"9.4\",\"salesInten\":\"-136984890\",\"salesChange\":\"-77.6\",\"salesAcc\":\"1040542510\",\"audiCnt\":\"5130\",\"audiInten\":\"-14930\",\"audiChange\":\"-74.4\",\"audiAcc\":\"125016\",\"scrnCnt\":\"589\",\"showCnt\":\"1338\"},{\"rnum\":\"5\",\"rank\":\"5\",\"rankInten\":\"-1\",\"rankOldAndNew\":\"OLD\",\"movieCd\":\"20202555\",\"movieNm\":\"톰과 제리\",\"openDt\":\"2021-02-24\",\"salesAmt\":\"32466920\",\"salesShare\":\"7.7\",\"salesInten\":\"-163410190\",\"salesChange\":\"-83.4\",\"salesAcc\":\"995994240\",\"audiCnt\":\"3709\",\"audiInten\":\"-18278\",\"audiChange\":\"-83.1\",\"audiAcc\":\"117037\",\"scrnCnt\":\"613\",\"showCnt\":\"1137\"},{\"rnum\":\"6\",\"rank\":\"6\",\"rankInten\":\"0\",\"rankOldAndNew\":\"OLD\",\"movieCd\":\"20198663\",\"movieNm\":\"고백\",\"openDt\":\"2021-02-24\",\"salesAmt\":\"11295600\",\"salesShare\":\"2.7\",\"salesInten\":\"-12168700\",\"salesChange\":\"-51.9\",\"salesAcc\":\"181814900\",\"audiCnt\":\"1578\",\"audiInten\":\"-996\",\"audiChange\":\"-38.7\",\"audiAcc\":\"25127\",\"scrnCnt\":\"192\",\"showCnt\":\"350\"},{\"rnum\":\"7\",\"rank\":\"7\",\"rankInten\":\"2\",\"rankOldAndNew\":\"OLD\",\"movieCd\":\"20215221\",\"movieNm\":\"더 레이서\",\"openDt\":\"2021-02-24\",\"salesAmt\":\"5466370\",\"salesShare\":\"1.3\",\"salesInten\":\"-3641970\",\"salesChange\":\"-40\",\"salesAcc\":\"67822210\",\"audiCnt\":\"678\",\"audiInten\":\"-445\",\"audiChange\":\"-39.6\",\"audiAcc\":\"8271\",\"scrnCnt\":\"124\",\"showCnt\":\"145\"},{\"rnum\":\"8\",\"rank\":\"8\",\"rankInten\":\"4\",\"rankOldAndNew\":\"OLD\",\"movieCd\":\"20215862\",\"movieNm\":\"라스트 레터\",\"openDt\":\"2021-02-24\",\"salesAmt\":\"4561900\",\"salesShare\":\"1.1\",\"salesInten\":\"-3914500\",\"salesChange\":\"-46.2\",\"salesAcc\":\"69326710\",\"audiCnt\":\"567\",\"audiInten\":\"-379\",\"audiChange\":\"-40.1\",\"audiAcc\":\"8165\",\"scrnCnt\":\"109\",\"showCnt\":\"181\"},{\"rnum\":\"9\",\"rank\":\"9\",\"rankInten\":\"-1\",\"rankOldAndNew\":\"OLD\",\"movieCd\":\"20214848\",\"movieNm\":\"퍼펙트 케어\",\"openDt\":\"2021-02-19\",\"salesAmt\":\"4493010\",\"salesShare\":\"1.1\",\"salesInten\":\"-9068070\",\"salesChange\":\"-66.9\",\"salesAcc\":\"199303090\",\"audiCnt\":\"545\",\"audiInten\":\"-913\",\"audiChange\":\"-62.6\",\"audiAcc\":\"23579\",\"scrnCnt\":\"85\",\"showCnt\":\"97\"},{\"rnum\":\"10\",\"rank\":\"10\",\"rankInten\":\"-3\",\"rankOldAndNew\":\"OLD\",\"movieCd\":\"20209013\",\"movieNm\":\"워 위드 그랜파\",\"openDt\":\"2021-02-24\",\"salesAmt\":\"4438880\",\"salesShare\":\"1.1\",\"salesInten\":\"-14073180\",\"salesChange\":\"-76\",\"salesAcc\":\"106842170\",\"audiCnt\":\"536\",\"audiInten\":\"-1532\",\"audiChange\":\"-74.1\",\"audiAcc\":\"12983\",\"scrnCnt\":\"194\",\"showCnt\":\"246\"}]}}'"
      ]
     },
     "execution_count": 7,
     "metadata": {},
     "output_type": "execute_result"
    }
   ],
   "source": [
    "# 데이터 가져오기\n",
    "r = session.get(api_url)\n",
    "\n",
    "# 결과 검사\n",
    "if r.status_code != 200:\n",
    "    print(\"[%d Error] %s\" % (r.status_code, r.reason))\n",
    "    quit()\n",
    "    \n",
    "r.encoding = 'utf-8'\n",
    "r.text"
   ]
  },
  {
   "cell_type": "markdown",
   "id": "difficult-gabriel",
   "metadata": {},
   "source": [
    "### JSON을 딕셔너리로 변환"
   ]
  },
  {
   "cell_type": "code",
   "execution_count": 8,
   "id": "natural-official",
   "metadata": {
    "collapsed": true,
    "jupyter": {
     "outputs_hidden": true
    }
   },
   "outputs": [
    {
     "data": {
      "text/plain": [
       "{'boxOfficeResult': {'boxofficeType': '일별 박스오피스',\n",
       "  'showRange': '20210302~20210302',\n",
       "  'dailyBoxOfficeList': [{'rnum': '1',\n",
       "    'rank': '1',\n",
       "    'rankInten': '2',\n",
       "    'rankOldAndNew': 'OLD',\n",
       "    'movieCd': '20200703',\n",
       "    'movieNm': '극장판 귀멸의 칼날: 무한열차편',\n",
       "    'openDt': '2021-01-27',\n",
       "    'salesAmt': '134303840',\n",
       "    'salesShare': '31.9',\n",
       "    'salesInten': '-187741190',\n",
       "    'salesChange': '-58.3',\n",
       "    'salesAcc': '9020206220',\n",
       "    'audiCnt': '13931',\n",
       "    'audiInten': '-18687',\n",
       "    'audiChange': '-57.3',\n",
       "    'audiAcc': '939663',\n",
       "    'scrnCnt': '592',\n",
       "    'showCnt': '1206'},\n",
       "   {'rnum': '2',\n",
       "    'rank': '2',\n",
       "    'rankInten': '0',\n",
       "    'rankOldAndNew': 'OLD',\n",
       "    'movieCd': '20199541',\n",
       "    'movieNm': '미션 파서블',\n",
       "    'openDt': '2021-02-17',\n",
       "    'salesAmt': '73313050',\n",
       "    'salesShare': '17.4',\n",
       "    'salesInten': '-245739580',\n",
       "    'salesChange': '-77',\n",
       "    'salesAcc': '3382593160',\n",
       "    'audiCnt': '8102',\n",
       "    'audiInten': '-25997',\n",
       "    'audiChange': '-76.2',\n",
       "    'audiAcc': '373333',\n",
       "    'scrnCnt': '625',\n",
       "    'showCnt': '1496'},\n",
       "   {'rnum': '3',\n",
       "    'rank': '3',\n",
       "    'rankInten': '-2',\n",
       "    'rankOldAndNew': 'OLD',\n",
       "    'movieCd': '20207443',\n",
       "    'movieNm': '소울',\n",
       "    'openDt': '2021-01-20',\n",
       "    'salesAmt': '63028360',\n",
       "    'salesShare': '15.0',\n",
       "    'salesInten': '-266296010',\n",
       "    'salesChange': '-80.9',\n",
       "    'salesAcc': '17803392410',\n",
       "    'audiCnt': '6818',\n",
       "    'audiInten': '-27568',\n",
       "    'audiChange': '-80.2',\n",
       "    'audiAcc': '1921847',\n",
       "    'scrnCnt': '591',\n",
       "    'showCnt': '1245'},\n",
       "   {'rnum': '4',\n",
       "    'rank': '4',\n",
       "    'rankInten': '1',\n",
       "    'rankOldAndNew': 'OLD',\n",
       "    'movieCd': '20215843',\n",
       "    'movieNm': '카오스 워킹',\n",
       "    'openDt': '2021-02-24',\n",
       "    'salesAmt': '39628010',\n",
       "    'salesShare': '9.4',\n",
       "    'salesInten': '-136984890',\n",
       "    'salesChange': '-77.6',\n",
       "    'salesAcc': '1040542510',\n",
       "    'audiCnt': '5130',\n",
       "    'audiInten': '-14930',\n",
       "    'audiChange': '-74.4',\n",
       "    'audiAcc': '125016',\n",
       "    'scrnCnt': '589',\n",
       "    'showCnt': '1338'},\n",
       "   {'rnum': '5',\n",
       "    'rank': '5',\n",
       "    'rankInten': '-1',\n",
       "    'rankOldAndNew': 'OLD',\n",
       "    'movieCd': '20202555',\n",
       "    'movieNm': '톰과 제리',\n",
       "    'openDt': '2021-02-24',\n",
       "    'salesAmt': '32466920',\n",
       "    'salesShare': '7.7',\n",
       "    'salesInten': '-163410190',\n",
       "    'salesChange': '-83.4',\n",
       "    'salesAcc': '995994240',\n",
       "    'audiCnt': '3709',\n",
       "    'audiInten': '-18278',\n",
       "    'audiChange': '-83.1',\n",
       "    'audiAcc': '117037',\n",
       "    'scrnCnt': '613',\n",
       "    'showCnt': '1137'},\n",
       "   {'rnum': '6',\n",
       "    'rank': '6',\n",
       "    'rankInten': '0',\n",
       "    'rankOldAndNew': 'OLD',\n",
       "    'movieCd': '20198663',\n",
       "    'movieNm': '고백',\n",
       "    'openDt': '2021-02-24',\n",
       "    'salesAmt': '11295600',\n",
       "    'salesShare': '2.7',\n",
       "    'salesInten': '-12168700',\n",
       "    'salesChange': '-51.9',\n",
       "    'salesAcc': '181814900',\n",
       "    'audiCnt': '1578',\n",
       "    'audiInten': '-996',\n",
       "    'audiChange': '-38.7',\n",
       "    'audiAcc': '25127',\n",
       "    'scrnCnt': '192',\n",
       "    'showCnt': '350'},\n",
       "   {'rnum': '7',\n",
       "    'rank': '7',\n",
       "    'rankInten': '2',\n",
       "    'rankOldAndNew': 'OLD',\n",
       "    'movieCd': '20215221',\n",
       "    'movieNm': '더 레이서',\n",
       "    'openDt': '2021-02-24',\n",
       "    'salesAmt': '5466370',\n",
       "    'salesShare': '1.3',\n",
       "    'salesInten': '-3641970',\n",
       "    'salesChange': '-40',\n",
       "    'salesAcc': '67822210',\n",
       "    'audiCnt': '678',\n",
       "    'audiInten': '-445',\n",
       "    'audiChange': '-39.6',\n",
       "    'audiAcc': '8271',\n",
       "    'scrnCnt': '124',\n",
       "    'showCnt': '145'},\n",
       "   {'rnum': '8',\n",
       "    'rank': '8',\n",
       "    'rankInten': '4',\n",
       "    'rankOldAndNew': 'OLD',\n",
       "    'movieCd': '20215862',\n",
       "    'movieNm': '라스트 레터',\n",
       "    'openDt': '2021-02-24',\n",
       "    'salesAmt': '4561900',\n",
       "    'salesShare': '1.1',\n",
       "    'salesInten': '-3914500',\n",
       "    'salesChange': '-46.2',\n",
       "    'salesAcc': '69326710',\n",
       "    'audiCnt': '567',\n",
       "    'audiInten': '-379',\n",
       "    'audiChange': '-40.1',\n",
       "    'audiAcc': '8165',\n",
       "    'scrnCnt': '109',\n",
       "    'showCnt': '181'},\n",
       "   {'rnum': '9',\n",
       "    'rank': '9',\n",
       "    'rankInten': '-1',\n",
       "    'rankOldAndNew': 'OLD',\n",
       "    'movieCd': '20214848',\n",
       "    'movieNm': '퍼펙트 케어',\n",
       "    'openDt': '2021-02-19',\n",
       "    'salesAmt': '4493010',\n",
       "    'salesShare': '1.1',\n",
       "    'salesInten': '-9068070',\n",
       "    'salesChange': '-66.9',\n",
       "    'salesAcc': '199303090',\n",
       "    'audiCnt': '545',\n",
       "    'audiInten': '-913',\n",
       "    'audiChange': '-62.6',\n",
       "    'audiAcc': '23579',\n",
       "    'scrnCnt': '85',\n",
       "    'showCnt': '97'},\n",
       "   {'rnum': '10',\n",
       "    'rank': '10',\n",
       "    'rankInten': '-3',\n",
       "    'rankOldAndNew': 'OLD',\n",
       "    'movieCd': '20209013',\n",
       "    'movieNm': '워 위드 그랜파',\n",
       "    'openDt': '2021-02-24',\n",
       "    'salesAmt': '4438880',\n",
       "    'salesShare': '1.1',\n",
       "    'salesInten': '-14073180',\n",
       "    'salesChange': '-76',\n",
       "    'salesAcc': '106842170',\n",
       "    'audiCnt': '536',\n",
       "    'audiInten': '-1532',\n",
       "    'audiChange': '-74.1',\n",
       "    'audiAcc': '12983',\n",
       "    'scrnCnt': '194',\n",
       "    'showCnt': '246'}]}}"
      ]
     },
     "execution_count": 8,
     "metadata": {},
     "output_type": "execute_result"
    }
   ],
   "source": [
    "daily_boxoffice_dict = json.loads(r.text)\n",
    "daily_boxoffice_dict"
   ]
  },
  {
   "cell_type": "markdown",
   "id": "architectural-claim",
   "metadata": {},
   "source": [
    "### 딕셔너리를 데이터프레임으로 변환"
   ]
  },
  {
   "cell_type": "code",
   "execution_count": 9,
   "id": "stupid-illustration",
   "metadata": {
    "collapsed": true,
    "jupyter": {
     "outputs_hidden": true
    }
   },
   "outputs": [
    {
     "data": {
      "text/html": [
       "<div>\n",
       "<style scoped>\n",
       "    .dataframe tbody tr th:only-of-type {\n",
       "        vertical-align: middle;\n",
       "    }\n",
       "\n",
       "    .dataframe tbody tr th {\n",
       "        vertical-align: top;\n",
       "    }\n",
       "\n",
       "    .dataframe thead th {\n",
       "        text-align: right;\n",
       "    }\n",
       "</style>\n",
       "<table border=\"1\" class=\"dataframe\">\n",
       "  <thead>\n",
       "    <tr style=\"text-align: right;\">\n",
       "      <th></th>\n",
       "      <th>rnum</th>\n",
       "      <th>rank</th>\n",
       "      <th>rankInten</th>\n",
       "      <th>rankOldAndNew</th>\n",
       "      <th>movieCd</th>\n",
       "      <th>movieNm</th>\n",
       "      <th>openDt</th>\n",
       "      <th>salesAmt</th>\n",
       "      <th>salesShare</th>\n",
       "      <th>salesInten</th>\n",
       "      <th>salesChange</th>\n",
       "      <th>salesAcc</th>\n",
       "      <th>audiCnt</th>\n",
       "      <th>audiInten</th>\n",
       "      <th>audiChange</th>\n",
       "      <th>audiAcc</th>\n",
       "      <th>scrnCnt</th>\n",
       "      <th>showCnt</th>\n",
       "    </tr>\n",
       "  </thead>\n",
       "  <tbody>\n",
       "    <tr>\n",
       "      <th>0</th>\n",
       "      <td>1</td>\n",
       "      <td>1</td>\n",
       "      <td>2</td>\n",
       "      <td>OLD</td>\n",
       "      <td>20200703</td>\n",
       "      <td>극장판 귀멸의 칼날: 무한열차편</td>\n",
       "      <td>2021-01-27</td>\n",
       "      <td>134303840</td>\n",
       "      <td>31.9</td>\n",
       "      <td>-187741190</td>\n",
       "      <td>-58.3</td>\n",
       "      <td>9020206220</td>\n",
       "      <td>13931</td>\n",
       "      <td>-18687</td>\n",
       "      <td>-57.3</td>\n",
       "      <td>939663</td>\n",
       "      <td>592</td>\n",
       "      <td>1206</td>\n",
       "    </tr>\n",
       "    <tr>\n",
       "      <th>1</th>\n",
       "      <td>2</td>\n",
       "      <td>2</td>\n",
       "      <td>0</td>\n",
       "      <td>OLD</td>\n",
       "      <td>20199541</td>\n",
       "      <td>미션 파서블</td>\n",
       "      <td>2021-02-17</td>\n",
       "      <td>73313050</td>\n",
       "      <td>17.4</td>\n",
       "      <td>-245739580</td>\n",
       "      <td>-77</td>\n",
       "      <td>3382593160</td>\n",
       "      <td>8102</td>\n",
       "      <td>-25997</td>\n",
       "      <td>-76.2</td>\n",
       "      <td>373333</td>\n",
       "      <td>625</td>\n",
       "      <td>1496</td>\n",
       "    </tr>\n",
       "    <tr>\n",
       "      <th>2</th>\n",
       "      <td>3</td>\n",
       "      <td>3</td>\n",
       "      <td>-2</td>\n",
       "      <td>OLD</td>\n",
       "      <td>20207443</td>\n",
       "      <td>소울</td>\n",
       "      <td>2021-01-20</td>\n",
       "      <td>63028360</td>\n",
       "      <td>15.0</td>\n",
       "      <td>-266296010</td>\n",
       "      <td>-80.9</td>\n",
       "      <td>17803392410</td>\n",
       "      <td>6818</td>\n",
       "      <td>-27568</td>\n",
       "      <td>-80.2</td>\n",
       "      <td>1921847</td>\n",
       "      <td>591</td>\n",
       "      <td>1245</td>\n",
       "    </tr>\n",
       "    <tr>\n",
       "      <th>3</th>\n",
       "      <td>4</td>\n",
       "      <td>4</td>\n",
       "      <td>1</td>\n",
       "      <td>OLD</td>\n",
       "      <td>20215843</td>\n",
       "      <td>카오스 워킹</td>\n",
       "      <td>2021-02-24</td>\n",
       "      <td>39628010</td>\n",
       "      <td>9.4</td>\n",
       "      <td>-136984890</td>\n",
       "      <td>-77.6</td>\n",
       "      <td>1040542510</td>\n",
       "      <td>5130</td>\n",
       "      <td>-14930</td>\n",
       "      <td>-74.4</td>\n",
       "      <td>125016</td>\n",
       "      <td>589</td>\n",
       "      <td>1338</td>\n",
       "    </tr>\n",
       "    <tr>\n",
       "      <th>4</th>\n",
       "      <td>5</td>\n",
       "      <td>5</td>\n",
       "      <td>-1</td>\n",
       "      <td>OLD</td>\n",
       "      <td>20202555</td>\n",
       "      <td>톰과 제리</td>\n",
       "      <td>2021-02-24</td>\n",
       "      <td>32466920</td>\n",
       "      <td>7.7</td>\n",
       "      <td>-163410190</td>\n",
       "      <td>-83.4</td>\n",
       "      <td>995994240</td>\n",
       "      <td>3709</td>\n",
       "      <td>-18278</td>\n",
       "      <td>-83.1</td>\n",
       "      <td>117037</td>\n",
       "      <td>613</td>\n",
       "      <td>1137</td>\n",
       "    </tr>\n",
       "    <tr>\n",
       "      <th>5</th>\n",
       "      <td>6</td>\n",
       "      <td>6</td>\n",
       "      <td>0</td>\n",
       "      <td>OLD</td>\n",
       "      <td>20198663</td>\n",
       "      <td>고백</td>\n",
       "      <td>2021-02-24</td>\n",
       "      <td>11295600</td>\n",
       "      <td>2.7</td>\n",
       "      <td>-12168700</td>\n",
       "      <td>-51.9</td>\n",
       "      <td>181814900</td>\n",
       "      <td>1578</td>\n",
       "      <td>-996</td>\n",
       "      <td>-38.7</td>\n",
       "      <td>25127</td>\n",
       "      <td>192</td>\n",
       "      <td>350</td>\n",
       "    </tr>\n",
       "    <tr>\n",
       "      <th>6</th>\n",
       "      <td>7</td>\n",
       "      <td>7</td>\n",
       "      <td>2</td>\n",
       "      <td>OLD</td>\n",
       "      <td>20215221</td>\n",
       "      <td>더 레이서</td>\n",
       "      <td>2021-02-24</td>\n",
       "      <td>5466370</td>\n",
       "      <td>1.3</td>\n",
       "      <td>-3641970</td>\n",
       "      <td>-40</td>\n",
       "      <td>67822210</td>\n",
       "      <td>678</td>\n",
       "      <td>-445</td>\n",
       "      <td>-39.6</td>\n",
       "      <td>8271</td>\n",
       "      <td>124</td>\n",
       "      <td>145</td>\n",
       "    </tr>\n",
       "    <tr>\n",
       "      <th>7</th>\n",
       "      <td>8</td>\n",
       "      <td>8</td>\n",
       "      <td>4</td>\n",
       "      <td>OLD</td>\n",
       "      <td>20215862</td>\n",
       "      <td>라스트 레터</td>\n",
       "      <td>2021-02-24</td>\n",
       "      <td>4561900</td>\n",
       "      <td>1.1</td>\n",
       "      <td>-3914500</td>\n",
       "      <td>-46.2</td>\n",
       "      <td>69326710</td>\n",
       "      <td>567</td>\n",
       "      <td>-379</td>\n",
       "      <td>-40.1</td>\n",
       "      <td>8165</td>\n",
       "      <td>109</td>\n",
       "      <td>181</td>\n",
       "    </tr>\n",
       "    <tr>\n",
       "      <th>8</th>\n",
       "      <td>9</td>\n",
       "      <td>9</td>\n",
       "      <td>-1</td>\n",
       "      <td>OLD</td>\n",
       "      <td>20214848</td>\n",
       "      <td>퍼펙트 케어</td>\n",
       "      <td>2021-02-19</td>\n",
       "      <td>4493010</td>\n",
       "      <td>1.1</td>\n",
       "      <td>-9068070</td>\n",
       "      <td>-66.9</td>\n",
       "      <td>199303090</td>\n",
       "      <td>545</td>\n",
       "      <td>-913</td>\n",
       "      <td>-62.6</td>\n",
       "      <td>23579</td>\n",
       "      <td>85</td>\n",
       "      <td>97</td>\n",
       "    </tr>\n",
       "    <tr>\n",
       "      <th>9</th>\n",
       "      <td>10</td>\n",
       "      <td>10</td>\n",
       "      <td>-3</td>\n",
       "      <td>OLD</td>\n",
       "      <td>20209013</td>\n",
       "      <td>워 위드 그랜파</td>\n",
       "      <td>2021-02-24</td>\n",
       "      <td>4438880</td>\n",
       "      <td>1.1</td>\n",
       "      <td>-14073180</td>\n",
       "      <td>-76</td>\n",
       "      <td>106842170</td>\n",
       "      <td>536</td>\n",
       "      <td>-1532</td>\n",
       "      <td>-74.1</td>\n",
       "      <td>12983</td>\n",
       "      <td>194</td>\n",
       "      <td>246</td>\n",
       "    </tr>\n",
       "  </tbody>\n",
       "</table>\n",
       "</div>"
      ],
      "text/plain": [
       "  rnum rank rankInten rankOldAndNew   movieCd            movieNm      openDt  \\\n",
       "0    1    1         2           OLD  20200703  극장판 귀멸의 칼날: 무한열차편  2021-01-27   \n",
       "1    2    2         0           OLD  20199541             미션 파서블  2021-02-17   \n",
       "2    3    3        -2           OLD  20207443                 소울  2021-01-20   \n",
       "3    4    4         1           OLD  20215843             카오스 워킹  2021-02-24   \n",
       "4    5    5        -1           OLD  20202555              톰과 제리  2021-02-24   \n",
       "5    6    6         0           OLD  20198663                 고백  2021-02-24   \n",
       "6    7    7         2           OLD  20215221              더 레이서  2021-02-24   \n",
       "7    8    8         4           OLD  20215862             라스트 레터  2021-02-24   \n",
       "8    9    9        -1           OLD  20214848             퍼펙트 케어  2021-02-19   \n",
       "9   10   10        -3           OLD  20209013           워 위드 그랜파  2021-02-24   \n",
       "\n",
       "    salesAmt salesShare  salesInten salesChange     salesAcc audiCnt  \\\n",
       "0  134303840       31.9  -187741190       -58.3   9020206220   13931   \n",
       "1   73313050       17.4  -245739580         -77   3382593160    8102   \n",
       "2   63028360       15.0  -266296010       -80.9  17803392410    6818   \n",
       "3   39628010        9.4  -136984890       -77.6   1040542510    5130   \n",
       "4   32466920        7.7  -163410190       -83.4    995994240    3709   \n",
       "5   11295600        2.7   -12168700       -51.9    181814900    1578   \n",
       "6    5466370        1.3    -3641970         -40     67822210     678   \n",
       "7    4561900        1.1    -3914500       -46.2     69326710     567   \n",
       "8    4493010        1.1    -9068070       -66.9    199303090     545   \n",
       "9    4438880        1.1   -14073180         -76    106842170     536   \n",
       "\n",
       "  audiInten audiChange  audiAcc scrnCnt showCnt  \n",
       "0    -18687      -57.3   939663     592    1206  \n",
       "1    -25997      -76.2   373333     625    1496  \n",
       "2    -27568      -80.2  1921847     591    1245  \n",
       "3    -14930      -74.4   125016     589    1338  \n",
       "4    -18278      -83.1   117037     613    1137  \n",
       "5      -996      -38.7    25127     192     350  \n",
       "6      -445      -39.6     8271     124     145  \n",
       "7      -379      -40.1     8165     109     181  \n",
       "8      -913      -62.6    23579      85      97  \n",
       "9     -1532      -74.1    12983     194     246  "
      ]
     },
     "execution_count": 9,
     "metadata": {},
     "output_type": "execute_result"
    }
   ],
   "source": [
    "daily_boxoffice_df = DataFrame(daily_boxoffice_dict['boxOfficeResult']['dailyBoxOfficeList'])\n",
    "daily_boxoffice_df"
   ]
  },
  {
   "cell_type": "markdown",
   "id": "herbal-projector",
   "metadata": {},
   "source": [
    "# #05. 데이터 저장하기\n",
    "## 1) 데이터베이스 접속하기\n",
    "### 데이터베이스 연동에 필요한 접속 정보"
   ]
  },
  {
   "cell_type": "code",
   "execution_count": 10,
   "id": "talented-cambridge",
   "metadata": {},
   "outputs": [],
   "source": [
    "HOSTNAME = 'localhost'\n",
    "PORT = 3306\n",
    "USERNAME = 'root'\n",
    "PASSWORD = '123qwe!@#'\n",
    "DATABASE = 'myschool'\n",
    "CHARSET1 = 'utf8'          # MySQL에서 사용할 캐릭터셋\n",
    "CHARSET2 = 'utf-8'         # Python에서 사용할 캐릭터셋"
   ]
  },
  {
   "cell_type": "markdown",
   "id": "speaking-marathon",
   "metadata": {},
   "source": [
    "### 접속 문자열 생성\n",
    "mysql+mysqldb://아이디:비밀번호@DB서버주소:포트번호/DB이름?charset=인코딩"
   ]
  },
  {
   "cell_type": "code",
   "execution_count": 11,
   "id": "violent-patrick",
   "metadata": {},
   "outputs": [
    {
     "data": {
      "text/plain": [
       "'mysql+mysqldb://root:123qwe!@#@localhost:3306/myschool?charset=utf8'"
      ]
     },
     "execution_count": 11,
     "metadata": {},
     "output_type": "execute_result"
    }
   ],
   "source": [
    "con_str_fmt = \"mysql+mysqldb://{0}:{1}@{2}:{3}/{4}?charset={5}\"\n",
    "con_str = con_str_fmt.format(USERNAME, PASSWORD, HOSTNAME, PORT, DATABASE, CHARSET1)\n",
    "con_str"
   ]
  },
  {
   "cell_type": "markdown",
   "id": "mental-brisbane",
   "metadata": {},
   "source": [
    "### pymysql을 사용하여 MySQL 연동 객체 설치하기"
   ]
  },
  {
   "cell_type": "code",
   "execution_count": 12,
   "id": "changed-communist",
   "metadata": {},
   "outputs": [],
   "source": [
    "pymysql.install_as_MySQLdb()\n",
    "import MySQLdb"
   ]
  },
  {
   "cell_type": "markdown",
   "id": "developing-median",
   "metadata": {},
   "source": [
    "### 데이터베이스 접속"
   ]
  },
  {
   "cell_type": "code",
   "execution_count": 13,
   "id": "reasonable-third",
   "metadata": {},
   "outputs": [],
   "source": [
    "engine = create_engine(con_str, encoding=CHARSET2)\n",
    "conn = engine.connect()"
   ]
  },
  {
   "cell_type": "markdown",
   "id": "shaped-handy",
   "metadata": {},
   "source": [
    "## 2) 수집한 데이터 저장하기"
   ]
  },
  {
   "cell_type": "code",
   "execution_count": 15,
   "id": "active-sentence",
   "metadata": {},
   "outputs": [],
   "source": [
    "daily_boxoffice_df.to_sql(name='daily_boxoffice',\n",
    "                          con=conn,\n",
    "                          if_exists='append', index=False)"
   ]
  },
  {
   "cell_type": "markdown",
   "id": "complicated-chambers",
   "metadata": {},
   "source": [
    "## 3) 데이터베이스 접속 해제"
   ]
  },
  {
   "cell_type": "code",
   "execution_count": 16,
   "id": "detailed-majority",
   "metadata": {},
   "outputs": [],
   "source": [
    "conn.close()"
   ]
  }
 ],
 "metadata": {
  "kernelspec": {
   "display_name": "Python 3",
   "language": "python",
   "name": "python3"
  },
  "language_info": {
   "codemirror_mode": {
    "name": "ipython",
    "version": 3
   },
   "file_extension": ".py",
   "mimetype": "text/x-python",
   "name": "python",
   "nbconvert_exporter": "python",
   "pygments_lexer": "ipython3",
   "version": "3.8.0"
  }
 },
 "nbformat": 4,
 "nbformat_minor": 5
}
