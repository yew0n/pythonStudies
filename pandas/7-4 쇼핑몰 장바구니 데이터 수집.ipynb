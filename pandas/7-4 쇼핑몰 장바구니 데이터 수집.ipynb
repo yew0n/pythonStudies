{
 "cells": [
  {
   "cell_type": "markdown",
   "id": "corporate-heath",
   "metadata": {},
   "source": [
    "# 7-4. 쇼핑몰 장바구니 데이터 수집\n",
    "# Selenium 소개\n",
    "Selenium은 주로 웹/앱을 테스트하는 웹 프레임워크로서 각 브라우저마다 제공되는 Webdriver API를 활용, 웹 브라우저를 Java, C#, Python 같은 프로그래밍 언어를 통해 제어합니다.\n",
    "\n",
    "웹 브라우저를 직접 제어하므로 자바스크립트에 의해 동적으로 생성되는 사이트의 데이터를 크롤링할 때 매우 유용하게 사용되는 스크래핑 도구입니다.\n",
    "\n",
    "## 1) Selenium 동작 방식\n",
    "Selenium은 아래와 같은 과정을 거쳐 크롬 브라우저를 제어합니다.\n",
    "> Python 소스코드 --> Selenium 패키지 --> ChromeDriver(WebDriver) --> Google Chrome\n",
    "\n",
    "키보드 입력값을 전달 / 스크롤 이동 등의 제어가 가능<br>\n",
    "웹 브라우저의 개발자 도구에서 확인 가능한 Element 내용을 수집<br>\n",
    "-> 웹 페이지 로딩 후 동적 결과를 가져오는 웹 페이지의 컨텐츠 수집 가능 <br>\n",
    "(requests 패키지를 통해 URL을 수집할 때 동적 결과는 못가져오지만, Selenium 을 활용하면 컨텐츠 수집 가능)\n",
    "\n",
    "## 2) ChromeDriver 내려받기\n",
    "https://chromedriver.chromiun.org/downloads 에서 사용중인 운영체제와 크롬 브라우저 버전에 맞는 Driver 다운로드\n",
    "> 크롬의 버전정보 => 도움말 메뉴에서 확인\n",
    "\n",
    "## 3) Selenium 설치하기"
   ]
  },
  {
   "cell_type": "code",
   "execution_count": 1,
   "id": "efficient-listening",
   "metadata": {},
   "outputs": [
    {
     "name": "stdout",
     "output_type": "stream",
     "text": [
      "Requirement already up-to-date: selenium in c:\\users\\yewon\\appdata\\local\\programs\\python\\python38\\lib\\site-packages (3.141.0)\n",
      "Requirement already satisfied, skipping upgrade: urllib3 in c:\\users\\yewon\\appdata\\local\\programs\\python\\python38\\lib\\site-packages (from selenium) (1.26.2)\n",
      "Note: you may need to restart the kernel to use updated packages.\n"
     ]
    },
    {
     "name": "stderr",
     "output_type": "stream",
     "text": [
      "WARNING: You are using pip version 19.2.3, however version 21.0.1 is available.\n",
      "You should consider upgrading via the 'python -m pip install --upgrade pip' command.\n"
     ]
    }
   ],
   "source": [
    "pip install --upgrade selenium"
   ]
  },
  {
   "cell_type": "markdown",
   "id": "every-westminster",
   "metadata": {},
   "source": [
    "# 쇼핑몰 회원가입, 로그인 및 장바구니에 상품 담기\n",
    "먼저 예제를 위해 준비한 쇼핑몰에 회원가입 후 로그인을 하고 장바구니에 상품을 무작위로 담는다.\n",
    "> http://itproject.ezenac.co.kr/springmyshop\n",
    "    \n",
    "# #01. 필요한 모듈 참조"
   ]
  },
  {
   "cell_type": "code",
   "execution_count": 3,
   "id": "historical-holocaust",
   "metadata": {},
   "outputs": [],
   "source": [
    "# Chrome을 제어하기 위한 객체\n",
    "from selenium import webdriver\n",
    "# Chrome이 웹 페이지 로딩을 완료할 때까지 최대 n초간 대기하는 기능\n",
    "from selenium.webdriver.support.ui import WebDriverWait\n",
    "from bs4 import BeautifulSoup\n",
    "from pandas import DataFrame\n",
    "# 파이썬 프로그램에 지정된 시간동안 랙을 거는 기능을 위해 사용\n",
    "import time"
   ]
  },
  {
   "cell_type": "markdown",
   "id": "convenient-industry",
   "metadata": {},
   "source": [
    "# #02. 크롬브라우저 객체 색성"
   ]
  },
  {
   "cell_type": "code",
   "execution_count": 4,
   "id": "amino-emerald",
   "metadata": {},
   "outputs": [],
   "source": [
    "# 맥이나 리눅스의 경우 파일 확장자X, 윈도우의 경우 exe 확장자까지 명시\n",
    "driver = webdriver.Chrome('./chromedriver.exe')\n",
    "# 크롬 브라우저가 준비될 때까지 최대 5초씩 대기\n",
    "driver.implicitly_wait(5)"
   ]
  },
  {
   "cell_type": "markdown",
   "id": "painted-fleece",
   "metadata": {},
   "source": [
    "# #03. 샘플 쇼핑몰 로그인\n",
    "## 1) 로그인 페이지로 이동하기"
   ]
  },
  {
   "cell_type": "code",
   "execution_count": 5,
   "id": "muslim-poultry",
   "metadata": {},
   "outputs": [],
   "source": [
    "driver.get('http://itproject.ezenac.co.kr/springmyshop/account/login')\n",
    "# 페이지를 이동하는 동안 최대 3초간 대기\n",
    "time.sleep(3)"
   ]
  },
  {
   "cell_type": "markdown",
   "id": "fundamental-chancellor",
   "metadata": {},
   "source": [
    "## 2) 로그인하기\n",
    "### 아이디 입력 요소에 키 입력 보내기"
   ]
  },
  {
   "cell_type": "code",
   "execution_count": 7,
   "id": "intelligent-breach",
   "metadata": {},
   "outputs": [],
   "source": [
    "id_input = WebDriverWait(driver, 3).until(lambda x: x.find_element_by_css_selector(\"#user_id\"))\n",
    "id_input.send_keys('leekh4232')"
   ]
  },
  {
   "cell_type": "markdown",
   "id": "behavioral-worth",
   "metadata": {},
   "source": [
    "### 비밀번호 입력 요소를 찾아 입력하기"
   ]
  },
  {
   "cell_type": "code",
   "execution_count": 8,
   "id": "meaningful-orbit",
   "metadata": {},
   "outputs": [],
   "source": [
    "pw_input = WebDriverWait(driver, 3).until(lambda x: x.find_element_by_css_selector(\"#user_pw\"))\n",
    "pw_input.send_keys('123qwe!@#')"
   ]
  },
  {
   "cell_type": "markdown",
   "id": "mysterious-sapphire",
   "metadata": {},
   "source": [
    "### 로그인 버튼을 찾아 클릭하기"
   ]
  },
  {
   "cell_type": "code",
   "execution_count": 9,
   "id": "driving-logic",
   "metadata": {},
   "outputs": [],
   "source": [
    "login_button = WebDriverWait(driver, 3).until(\n",
    "                lambda x : x.find_element_by_css_selector(\"button[type='submit']\"))\n",
    "login_button.click()"
   ]
  },
  {
   "cell_type": "markdown",
   "id": "noticed-capitol",
   "metadata": {},
   "source": [
    "### 로그인 후 페이지가 이동하는 동알 최대 3초간 대기"
   ]
  },
  {
   "cell_type": "code",
   "execution_count": 10,
   "id": "sixth-brunei",
   "metadata": {},
   "outputs": [],
   "source": [
    "time.sleep(3)"
   ]
  },
  {
   "cell_type": "markdown",
   "id": "changing-federation",
   "metadata": {},
   "source": [
    "# #03. 장바구니 데이터 수집\n",
    "## 1) 장바구니 페이지로 이동"
   ]
  },
  {
   "cell_type": "code",
   "execution_count": 11,
   "id": "civic-organizer",
   "metadata": {},
   "outputs": [],
   "source": [
    "driver.get('http://itproject.ezenac.co.kr/springmyshop/shopping/cart')\n",
    "# 페이지를 이동하는 동안 최대 3초간 대기\n",
    "time.sleep(3)"
   ]
  },
  {
   "cell_type": "markdown",
   "id": "proper-impact",
   "metadata": {},
   "source": [
    "## 2) 장바구니 페이지의 HTML 코드를 BeautifulSoup 객체로 생성\n",
    "### HTML 코드 추출"
   ]
  },
  {
   "cell_type": "code",
   "execution_count": 12,
   "id": "quiet-publication",
   "metadata": {},
   "outputs": [],
   "source": [
    "html = driver.page_source"
   ]
  },
  {
   "cell_type": "markdown",
   "id": "artificial-sally",
   "metadata": {},
   "source": [
    "### 추출한 코드를 BeautifulSoup 객체로 변환"
   ]
  },
  {
   "cell_type": "code",
   "execution_count": 13,
   "id": "protective-cartridge",
   "metadata": {},
   "outputs": [],
   "source": [
    "soup = BeautifulSoup(html, 'html.parser')"
   ]
  },
  {
   "cell_type": "markdown",
   "id": "super-subscriber",
   "metadata": {},
   "source": [
    "### 크롬브라우저 닫기"
   ]
  },
  {
   "cell_type": "code",
   "execution_count": 14,
   "id": "lesser-operation",
   "metadata": {},
   "outputs": [],
   "source": [
    "driver.quit()"
   ]
  },
  {
   "cell_type": "markdown",
   "id": "alternative-equity",
   "metadata": {},
   "source": [
    "## 3) BeautifulSoup을 활용하여 장바구니 데이터 가져오기\n",
    "### 장바구니 내역 가져오기\n",
    "한 줄을 의미하는 셀렉터는 .cart-item 임을 알 수 있다."
   ]
  },
  {
   "cell_type": "code",
   "execution_count": 15,
   "id": "ignored-regular",
   "metadata": {
    "collapsed": true,
    "jupyter": {
     "outputs_hidden": true
    }
   },
   "outputs": [
    {
     "data": {
      "text/plain": [
       "[<tr class=\"cart-item cart-item-689\">\n",
       " <td class=\"text-center\" rowspan=\"1\">\n",
       " <input checked=\"\" class=\"cart_id\" name=\"cart_id[]\" type=\"checkbox\" value=\"689\"/>\n",
       " </td>\n",
       " <td class=\"text-center\" rowspan=\"1\">\n",
       " <a href=\"/springmyshop/product/detail/2152\">\n",
       " <img src=\"/springmyshop/upload/products/2152_title_resize_150x150.jpg\" width=\"50\"/>\n",
       " </a>\n",
       " </td>\n",
       " <td class=\"text-center\" rowspan=\"1\">\n",
       " <a href=\"/springmyshop/product/detail/2152\">네틸 데님스커트~UB</a>\n",
       " </td>\n",
       " <td class=\"text-center\">M</td>\n",
       " <td class=\"text-center\">\n",
       " <span class=\"price\" data-value=\"27900\">\n",
       "                                                 27,900</span>\n",
       " <span>원</span>\n",
       " </td>\n",
       " <td class=\"text-center\">1</td>\n",
       " <td class=\"text-center text-primary\">\n",
       " <span class=\"total\" data-value=\"27900\">\n",
       "                                                 27,900</span>\n",
       " <span>원</span>\n",
       " </td>\n",
       " <td class=\"text-center\">\n",
       " <strong class=\"text-warning\"><span class=\"order-price\" data-value=\"27900\">\n",
       "                                                         27,900</span>원</strong>\n",
       " </td>\n",
       " <td class=\"text-center\">\n",
       " <button class=\"btn-cart-remove btn btn-danger btn-xs\" data-cart-id=\"689\" data-product-name=\"네틸 데님스커트~UB\">\n",
       " <i aria-hidden=\"true\" class=\"fa fa-trash\"></i>\n",
       " </button>\n",
       " </td>\n",
       " </tr>,\n",
       " <tr class=\"cart-item cart-item-691\">\n",
       " <td class=\"text-center\" rowspan=\"1\">\n",
       " <input checked=\"\" class=\"cart_id\" name=\"cart_id[]\" type=\"checkbox\" value=\"691\"/>\n",
       " </td>\n",
       " <td class=\"text-center\" rowspan=\"1\">\n",
       " <a href=\"/springmyshop/product/detail/2162\">\n",
       " <img src=\"/springmyshop/upload/products/2162_title_resize_150x150.jpg\" width=\"50\"/>\n",
       " </a>\n",
       " </td>\n",
       " <td class=\"text-center\" rowspan=\"1\">\n",
       " <a href=\"/springmyshop/product/detail/2162\">요꼬 데님원피스</a>\n",
       " </td>\n",
       " <td class=\"text-center\">데님(denim)</td>\n",
       " <td class=\"text-center\">\n",
       " <span class=\"price\" data-value=\"28900\">\n",
       "                                                 28,900</span>\n",
       " <span>원</span>\n",
       " </td>\n",
       " <td class=\"text-center\">1</td>\n",
       " <td class=\"text-center text-primary\">\n",
       " <span class=\"total\" data-value=\"28900\">\n",
       "                                                 28,900</span>\n",
       " <span>원</span>\n",
       " </td>\n",
       " <td class=\"text-center\">\n",
       " <strong class=\"text-warning\"><span class=\"order-price\" data-value=\"28900\">\n",
       "                                                         28,900</span>원</strong>\n",
       " </td>\n",
       " <td class=\"text-center\">\n",
       " <button class=\"btn-cart-remove btn btn-danger btn-xs\" data-cart-id=\"691\" data-product-name=\"요꼬 데님원피스\">\n",
       " <i aria-hidden=\"true\" class=\"fa fa-trash\"></i>\n",
       " </button>\n",
       " </td>\n",
       " </tr>,\n",
       " <tr class=\"cart-item cart-item-826\">\n",
       " <td class=\"text-center\" rowspan=\"1\">\n",
       " <input checked=\"\" class=\"cart_id\" name=\"cart_id[]\" type=\"checkbox\" value=\"826\"/>\n",
       " </td>\n",
       " <td class=\"text-center\" rowspan=\"1\">\n",
       " <a href=\"/springmyshop/product/detail/2144\">\n",
       " <img src=\"/springmyshop/upload/products/2144_title_resize_150x150.jpg\" width=\"50\"/>\n",
       " </a>\n",
       " </td>\n",
       " <td class=\"text-center\" rowspan=\"1\">\n",
       " <a href=\"/springmyshop/product/detail/2144\">크라잉 골지밴딩스커트</a>\n",
       " </td>\n",
       " <td class=\"text-center\">머스타드(mustard)</td>\n",
       " <td class=\"text-center\">\n",
       " <span class=\"price\" data-value=\"17900\">\n",
       "                                                 17,900</span>\n",
       " <span>원</span>\n",
       " </td>\n",
       " <td class=\"text-center\">1</td>\n",
       " <td class=\"text-center text-primary\">\n",
       " <span class=\"total\" data-value=\"17900\">\n",
       "                                                 17,900</span>\n",
       " <span>원</span>\n",
       " </td>\n",
       " <td class=\"text-center\">\n",
       " <strong class=\"text-warning\"><span class=\"order-price\" data-value=\"17900\">\n",
       "                                                         17,900</span>원</strong>\n",
       " </td>\n",
       " <td class=\"text-center\">\n",
       " <button class=\"btn-cart-remove btn btn-danger btn-xs\" data-cart-id=\"826\" data-product-name=\"크라잉 골지밴딩스커트\">\n",
       " <i aria-hidden=\"true\" class=\"fa fa-trash\"></i>\n",
       " </button>\n",
       " </td>\n",
       " </tr>,\n",
       " <tr class=\"cart-item cart-item-827\">\n",
       " <td class=\"text-center\" rowspan=\"1\">\n",
       " <input checked=\"\" class=\"cart_id\" name=\"cart_id[]\" type=\"checkbox\" value=\"827\"/>\n",
       " </td>\n",
       " <td class=\"text-center\" rowspan=\"1\">\n",
       " <a href=\"/springmyshop/product/detail/2070\">\n",
       " <img src=\"/springmyshop/upload/products/2070_title_resize_150x150.jpg\" width=\"50\"/>\n",
       " </a>\n",
       " </td>\n",
       " <td class=\"text-center\" rowspan=\"1\">\n",
       " <a href=\"/springmyshop/product/detail/2070\">모리트기모레깅스</a>\n",
       " </td>\n",
       " <td class=\"text-center\">블랙(black)</td>\n",
       " <td class=\"text-center\">\n",
       " <span class=\"price\" data-value=\"10900\">\n",
       "                                                 10,900</span>\n",
       " <span>원</span>\n",
       " </td>\n",
       " <td class=\"text-center\">1</td>\n",
       " <td class=\"text-center text-primary\">\n",
       " <span class=\"total\" data-value=\"10900\">\n",
       "                                                 10,900</span>\n",
       " <span>원</span>\n",
       " </td>\n",
       " <td class=\"text-center\">\n",
       " <strong class=\"text-warning\"><span class=\"order-price\" data-value=\"10900\">\n",
       "                                                         10,900</span>원</strong>\n",
       " </td>\n",
       " <td class=\"text-center\">\n",
       " <button class=\"btn-cart-remove btn btn-danger btn-xs\" data-cart-id=\"827\" data-product-name=\"모리트기모레깅스\">\n",
       " <i aria-hidden=\"true\" class=\"fa fa-trash\"></i>\n",
       " </button>\n",
       " </td>\n",
       " </tr>,\n",
       " <tr class=\"cart-item cart-item-829\">\n",
       " <td class=\"text-center\" rowspan=\"1\">\n",
       " <input checked=\"\" class=\"cart_id\" name=\"cart_id[]\" type=\"checkbox\" value=\"829\"/>\n",
       " </td>\n",
       " <td class=\"text-center\" rowspan=\"1\">\n",
       " <a href=\"/springmyshop/product/detail/2173\">\n",
       " <img src=\"/springmyshop/upload/products/2173_title_resize_150x150.jpg\" width=\"50\"/>\n",
       " </a>\n",
       " </td>\n",
       " <td class=\"text-center\" rowspan=\"1\">\n",
       " <a href=\"/springmyshop/product/detail/2173\">홀렌디 롱스커트</a>\n",
       " </td>\n",
       " <td class=\"text-center\">그린(green)</td>\n",
       " <td class=\"text-center\">\n",
       " <span class=\"price\" data-value=\"29900\">\n",
       "                                                 29,900</span>\n",
       " <span>원</span>\n",
       " </td>\n",
       " <td class=\"text-center\">1</td>\n",
       " <td class=\"text-center text-primary\">\n",
       " <span class=\"total\" data-value=\"29900\">\n",
       "                                                 29,900</span>\n",
       " <span>원</span>\n",
       " </td>\n",
       " <td class=\"text-center\">\n",
       " <strong class=\"text-warning\"><span class=\"order-price\" data-value=\"29900\">\n",
       "                                                         29,900</span>원</strong>\n",
       " </td>\n",
       " <td class=\"text-center\">\n",
       " <button class=\"btn-cart-remove btn btn-danger btn-xs\" data-cart-id=\"829\" data-product-name=\"홀렌디 롱스커트\">\n",
       " <i aria-hidden=\"true\" class=\"fa fa-trash\"></i>\n",
       " </button>\n",
       " </td>\n",
       " </tr>,\n",
       " <tr class=\"cart-item cart-item-849\">\n",
       " <td class=\"text-center\" rowspan=\"1\">\n",
       " <input checked=\"\" class=\"cart_id\" name=\"cart_id[]\" type=\"checkbox\" value=\"849\"/>\n",
       " </td>\n",
       " <td class=\"text-center\" rowspan=\"1\">\n",
       " <a href=\"/springmyshop/product/detail/2172\">\n",
       " <img src=\"/springmyshop/upload/products/2172_title_resize_150x150.jpg\" width=\"50\"/>\n",
       " </a>\n",
       " </td>\n",
       " <td class=\"text-center\" rowspan=\"1\">\n",
       " <a href=\"/springmyshop/product/detail/2172\">니비아니트롱스커트</a>\n",
       " </td>\n",
       " <td class=\"text-center\">블랙(black)</td>\n",
       " <td class=\"text-center\">\n",
       " <span class=\"price\" data-value=\"36900\">\n",
       "                                                 36,900</span>\n",
       " <span>원</span>\n",
       " </td>\n",
       " <td class=\"text-center\">1</td>\n",
       " <td class=\"text-center text-primary\">\n",
       " <span class=\"total\" data-value=\"36900\">\n",
       "                                                 36,900</span>\n",
       " <span>원</span>\n",
       " </td>\n",
       " <td class=\"text-center\">\n",
       " <strong class=\"text-warning\"><span class=\"order-price\" data-value=\"36900\">\n",
       "                                                         36,900</span>원</strong>\n",
       " </td>\n",
       " <td class=\"text-center\">\n",
       " <button class=\"btn-cart-remove btn btn-danger btn-xs\" data-cart-id=\"849\" data-product-name=\"니비아니트롱스커트\">\n",
       " <i aria-hidden=\"true\" class=\"fa fa-trash\"></i>\n",
       " </button>\n",
       " </td>\n",
       " </tr>,\n",
       " <tr class=\"cart-item cart-item-850\">\n",
       " <td class=\"text-center\" rowspan=\"1\">\n",
       " <input checked=\"\" class=\"cart_id\" name=\"cart_id[]\" type=\"checkbox\" value=\"850\"/>\n",
       " </td>\n",
       " <td class=\"text-center\" rowspan=\"1\">\n",
       " <a href=\"/springmyshop/product/detail/2158\">\n",
       " <img src=\"/springmyshop/upload/products/2158_title_resize_150x150.jpg\" width=\"50\"/>\n",
       " </a>\n",
       " </td>\n",
       " <td class=\"text-center\" rowspan=\"1\">\n",
       " <a href=\"/springmyshop/product/detail/2158\">펜타스 롱니트원피스</a>\n",
       " </td>\n",
       " <td class=\"text-center\">아이보리(ivory)</td>\n",
       " <td class=\"text-center\">\n",
       " <span class=\"price\" data-value=\"39800\">\n",
       "                                                 39,800</span>\n",
       " <span>원</span>\n",
       " </td>\n",
       " <td class=\"text-center\">1</td>\n",
       " <td class=\"text-center text-primary\">\n",
       " <span class=\"total\" data-value=\"39800\">\n",
       "                                                 39,800</span>\n",
       " <span>원</span>\n",
       " </td>\n",
       " <td class=\"text-center\">\n",
       " <strong class=\"text-warning\"><span class=\"order-price\" data-value=\"39800\">\n",
       "                                                         39,800</span>원</strong>\n",
       " </td>\n",
       " <td class=\"text-center\">\n",
       " <button class=\"btn-cart-remove btn btn-danger btn-xs\" data-cart-id=\"850\" data-product-name=\"펜타스 롱니트원피스\">\n",
       " <i aria-hidden=\"true\" class=\"fa fa-trash\"></i>\n",
       " </button>\n",
       " </td>\n",
       " </tr>,\n",
       " <tr class=\"cart-item cart-item-851\">\n",
       " <td class=\"text-center\" rowspan=\"1\">\n",
       " <input checked=\"\" class=\"cart_id\" name=\"cart_id[]\" type=\"checkbox\" value=\"851\"/>\n",
       " </td>\n",
       " <td class=\"text-center\" rowspan=\"1\">\n",
       " <a href=\"/springmyshop/product/detail/2145\">\n",
       " <img src=\"/springmyshop/upload/products/2145_title_resize_150x150.jpg\" width=\"50\"/>\n",
       " </a>\n",
       " </td>\n",
       " <td class=\"text-center\" rowspan=\"1\">\n",
       " <a href=\"/springmyshop/product/detail/2145\">제라드 니트스커트</a>\n",
       " </td>\n",
       " <td class=\"text-center\">블랙(black)</td>\n",
       " <td class=\"text-center\">\n",
       " <span class=\"price\" data-value=\"23840\">\n",
       "                                                 23,840</span>\n",
       " <span>원</span>\n",
       " </td>\n",
       " <td class=\"text-center\">1</td>\n",
       " <td class=\"text-center text-primary\">\n",
       " <span class=\"total\" data-value=\"23840\">\n",
       "                                                 23,840</span>\n",
       " <span>원</span>\n",
       " </td>\n",
       " <td class=\"text-center\">\n",
       " <strong class=\"text-warning\"><span class=\"order-price\" data-value=\"23840\">\n",
       "                                                         23,840</span>원</strong>\n",
       " </td>\n",
       " <td class=\"text-center\">\n",
       " <button class=\"btn-cart-remove btn btn-danger btn-xs\" data-cart-id=\"851\" data-product-name=\"제라드 니트스커트\">\n",
       " <i aria-hidden=\"true\" class=\"fa fa-trash\"></i>\n",
       " </button>\n",
       " </td>\n",
       " </tr>,\n",
       " <tr class=\"cart-item cart-item-852\">\n",
       " <td class=\"text-center\" rowspan=\"1\">\n",
       " <input checked=\"\" class=\"cart_id\" name=\"cart_id[]\" type=\"checkbox\" value=\"852\"/>\n",
       " </td>\n",
       " <td class=\"text-center\" rowspan=\"1\">\n",
       " <a href=\"/springmyshop/product/detail/1908\">\n",
       " <img src=\"/springmyshop/upload/products/1908_title_resize_150x150.jpg\" width=\"50\"/>\n",
       " </a>\n",
       " </td>\n",
       " <td class=\"text-center\" rowspan=\"1\">\n",
       " <a href=\"/springmyshop/product/detail/1908\">뉴엘런 자수cap</a>\n",
       " </td>\n",
       " <td class=\"text-center\">머스타드(mustard)</td>\n",
       " <td class=\"text-center\">\n",
       " <span class=\"price\" data-value=\"14900\">\n",
       "                                                 14,900</span>\n",
       " <span>원</span>\n",
       " </td>\n",
       " <td class=\"text-center\">1</td>\n",
       " <td class=\"text-center text-primary\">\n",
       " <span class=\"total\" data-value=\"14900\">\n",
       "                                                 14,900</span>\n",
       " <span>원</span>\n",
       " </td>\n",
       " <td class=\"text-center\">\n",
       " <strong class=\"text-warning\"><span class=\"order-price\" data-value=\"14900\">\n",
       "                                                         14,900</span>원</strong>\n",
       " </td>\n",
       " <td class=\"text-center\">\n",
       " <button class=\"btn-cart-remove btn btn-danger btn-xs\" data-cart-id=\"852\" data-product-name=\"뉴엘런 자수cap\">\n",
       " <i aria-hidden=\"true\" class=\"fa fa-trash\"></i>\n",
       " </button>\n",
       " </td>\n",
       " </tr>]"
      ]
     },
     "execution_count": 15,
     "metadata": {},
     "output_type": "execute_result"
    }
   ],
   "source": [
    "tr = soup.select('.cart-item')\n",
    "tr"
   ]
  },
  {
   "cell_type": "markdown",
   "id": "auburn-reason",
   "metadata": {},
   "source": [
    "### 장바구니의 상품 수만큼 반복하며 개별 항목 가져오기\n",
    "하나의 `.cart-item` 안에 공통적으로 `.text-center` 라는 클래스가 적용된 `<td>` 태그에 정보가 표시되고 있다.\n",
    "\n",
    "이 항목들 중  체크박스/상품이미지/삭제 버튼은 필요 없으므로 `0`, `1`, `8` 번째 항목은 처리할 필요 X<br>\n",
    "또한 상품가격/수량/합계금액 등 숫자형식의 데이터는 `,`나 `원` 글자를 제거 수 숫자로 변환해야 한다."
   ]
  },
  {
   "cell_type": "code",
   "execution_count": 16,
   "id": "lasting-professor",
   "metadata": {},
   "outputs": [
    {
     "data": {
      "text/plain": [
       "[{'상품명': '네틸 데님스커트~UB',\n",
       "  '옵션': 'M',\n",
       "  '상품가격': 27900,\n",
       "  '수량': 1,\n",
       "  '합계': 27900,\n",
       "  '판매금액': 27900},\n",
       " {'상품명': '요꼬 데님원피스',\n",
       "  '옵션': '데님(denim)',\n",
       "  '상품가격': 28900,\n",
       "  '수량': 1,\n",
       "  '합계': 28900,\n",
       "  '판매금액': 28900},\n",
       " {'상품명': '크라잉 골지밴딩스커트',\n",
       "  '옵션': '머스타드(mustard)',\n",
       "  '상품가격': 17900,\n",
       "  '수량': 1,\n",
       "  '합계': 17900,\n",
       "  '판매금액': 17900},\n",
       " {'상품명': '모리트기모레깅스',\n",
       "  '옵션': '블랙(black)',\n",
       "  '상품가격': 10900,\n",
       "  '수량': 1,\n",
       "  '합계': 10900,\n",
       "  '판매금액': 10900},\n",
       " {'상품명': '홀렌디 롱스커트',\n",
       "  '옵션': '그린(green)',\n",
       "  '상품가격': 29900,\n",
       "  '수량': 1,\n",
       "  '합계': 29900,\n",
       "  '판매금액': 29900},\n",
       " {'상품명': '니비아니트롱스커트',\n",
       "  '옵션': '블랙(black)',\n",
       "  '상품가격': 36900,\n",
       "  '수량': 1,\n",
       "  '합계': 36900,\n",
       "  '판매금액': 36900},\n",
       " {'상품명': '펜타스 롱니트원피스',\n",
       "  '옵션': '아이보리(ivory)',\n",
       "  '상품가격': 39800,\n",
       "  '수량': 1,\n",
       "  '합계': 39800,\n",
       "  '판매금액': 39800},\n",
       " {'상품명': '제라드 니트스커트',\n",
       "  '옵션': '블랙(black)',\n",
       "  '상품가격': 23840,\n",
       "  '수량': 1,\n",
       "  '합계': 23840,\n",
       "  '판매금액': 23840},\n",
       " {'상품명': '뉴엘런 자수cap',\n",
       "  '옵션': '머스타드(mustard)',\n",
       "  '상품가격': 14900,\n",
       "  '수량': 1,\n",
       "  '합계': 14900,\n",
       "  '판매금액': 14900}]"
      ]
     },
     "execution_count": 16,
     "metadata": {},
     "output_type": "execute_result"
    }
   ],
   "source": [
    "# 수집 결과를 모아 놓기 위한 빈 리스트\n",
    "cart = []\n",
    "\n",
    "for tr_item in tr :\n",
    "    td = tr_item.select('.text-center')\n",
    "    \n",
    "    item_dict={\n",
    "        \"상품명\" : td[2].text.strip(),\n",
    "        \"옵션\" : td[3].text.strip(),\n",
    "        \"상품가격\" : int(td[4].text.strip().replace(\"원\", \"\").replace(\",\",\"\")),\n",
    "        \"수량\" : int(td[5].text.strip()),\n",
    "        \"합계\" : int(td[6].text.strip().replace(\"원\", \"\").replace(\",\",\"\")),\n",
    "        \"판매금액\" : int(td[7].text.strip().replace(\"원\", \"\").replace(\",\",\"\"))\n",
    "    }\n",
    "    \n",
    "    cart.append(item_dict)\n",
    "    \n",
    "cart"
   ]
  }
 ],
 "metadata": {
  "kernelspec": {
   "display_name": "Python 3",
   "language": "python",
   "name": "python3"
  },
  "language_info": {
   "codemirror_mode": {
    "name": "ipython",
    "version": 3
   },
   "file_extension": ".py",
   "mimetype": "text/x-python",
   "name": "python",
   "nbconvert_exporter": "python",
   "pygments_lexer": "ipython3",
   "version": "3.8.0"
  }
 },
 "nbformat": 4,
 "nbformat_minor": 5
}
