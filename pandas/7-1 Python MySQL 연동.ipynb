{
 "cells": [
  {
   "cell_type": "markdown",
   "id": "crucial-swiss",
   "metadata": {},
   "source": [
    "# 7-1. Python MySQL 연동\n",
    "python 데이터베이스 연동 패키지인 pymysql을 활용하여 데이터베이스와 연동하는 방법\n",
    "\n",
    "## 준비사항\n",
    "- MySQL8 설치\n",
    "- root 계정 비밀번호는 123qwe!@#으로 가정함\n",
    "- myschool 데이터베이스 생성\n",
    "- 샘플 테이블 존배 가정\n",
    "\n",
    "# #01. 패키지 설치"
   ]
  },
  {
   "cell_type": "code",
   "execution_count": 1,
   "id": "united-election",
   "metadata": {},
   "outputs": [
    {
     "name": "stdout",
     "output_type": "stream",
     "text": [
      "Collecting pymysql\n",
      "  Downloading https://files.pythonhosted.org/packages/4f/52/a115fe175028b058df353c5a3d5290b71514a83f67078a6482cff24d6137/PyMySQL-1.0.2-py3-none-any.whl (43kB)\n",
      "Installing collected packages: pymysql\n",
      "Successfully installed pymysql-1.0.2\n",
      "Note: you may need to restart the kernel to use updated packages.\n"
     ]
    },
    {
     "name": "stderr",
     "output_type": "stream",
     "text": [
      "WARNING: You are using pip version 19.2.3, however version 21.0.1 is available.\n",
      "You should consider upgrading via the 'python -m pip install --upgrade pip' command.\n"
     ]
    }
   ],
   "source": [
    "pip install --upgrade pymysql"
   ]
  },
  {
   "cell_type": "markdown",
   "id": "technical-vacation",
   "metadata": {},
   "source": [
    "# #02. 연동준비\n",
    "## 1) 패키지 참조"
   ]
  },
  {
   "cell_type": "code",
   "execution_count": 2,
   "id": "unlikely-garage",
   "metadata": {},
   "outputs": [],
   "source": [
    "import pymysql\n",
    "from pandas import DataFrame"
   ]
  },
  {
   "cell_type": "markdown",
   "id": "psychological-defendant",
   "metadata": {},
   "source": [
    "## 2) 데이터베이스 연동에 필요한 접속 정보"
   ]
  },
  {
   "cell_type": "code",
   "execution_count": 3,
   "id": "parallel-adventure",
   "metadata": {},
   "outputs": [],
   "source": [
    "HOSTNAME = 'localhost'\n",
    "PORT = 3306\n",
    "USERNAME = 'root'\n",
    "PASSWORD = '123qwe!@#'\n",
    "DATABASE = 'myschool'\n",
    "CHARSET = 'utf8'"
   ]
  },
  {
   "cell_type": "markdown",
   "id": "moved-distinction",
   "metadata": {},
   "source": [
    "# #03. 데이터베이스 접속하기"
   ]
  },
  {
   "cell_type": "code",
   "execution_count": 5,
   "id": "awful-labor",
   "metadata": {},
   "outputs": [
    {
     "name": "stdout",
     "output_type": "stream",
     "text": [
      "데이터베이스 접속 성공\n",
      "<class 'pymysql.connections.Connection'>\n",
      "<pymysql.connections.Connection object at 0x000001CD32EE23A0>\n"
     ]
    }
   ],
   "source": [
    "dbcon = pymysql.connect(host=HOSTNAME, port=PORT, user=USERNAME, password=PASSWORD,\n",
    "                       db=DATABASE, charset=CHARSET)\n",
    "print('데이터베이스 접속 성공')\n",
    "print(type(dbcon))\n",
    "print(dbcon)"
   ]
  },
  {
   "cell_type": "markdown",
   "id": "identical-christmas",
   "metadata": {},
   "source": [
    "# #04. SQL 수행하기\n",
    "## 1) 커서객체 생성\n",
    "커서란 SQL을 실행하는 기능을 갖는 객체이다. \n",
    "\n",
    "`cursor()` 함수에 파라미터를 생략할 경우 SQL에 전달되는 파라미터를 리스트타입으로 관리해야 한다. (인덱스 번호에 따른 위치 지정)<br>\n",
    "`pymysql.cursors.DictCursor`를 지정할 경우 SQL에 전달되는 파라미터를 딕셔너리 형태로 관리할 수 있다."
   ]
  },
  {
   "cell_type": "code",
   "execution_count": 6,
   "id": "eleven-repair",
   "metadata": {},
   "outputs": [],
   "source": [
    "cursor = dbcon.cursor(pymysql.cursors.DictCursor)"
   ]
  },
  {
   "cell_type": "markdown",
   "id": "incredible-blend",
   "metadata": {},
   "source": [
    "## 2) 데이터 저장하기\n",
    "`INSERT` 문은 SQL 수행 후 AUTO_INCREMENT로 지정된 PK 값을 반환받을 수 있다."
   ]
  },
  {
   "cell_type": "code",
   "execution_count": 7,
   "id": "fabulous-privacy",
   "metadata": {},
   "outputs": [
    {
     "name": "stdout",
     "output_type": "stream",
     "text": [
      "생성된 학과번호 : 310\n"
     ]
    }
   ],
   "source": [
    "# 저장할 데이터 설정\n",
    "dname = 'Python'\n",
    "loc = '1004호'\n",
    "\n",
    "# 저장을 위한 SQL 실행 (문자열 데이터도 홑따옴표 사용 안함)\n",
    "sql = \"INSERT INTO department (dname, loc) VALUES (%s, %s)\"\n",
    "cursor.execute(sql, (dname, loc))\n",
    "\n",
    "# insert 시에 생성된 PK 얻기\n",
    "# -> 반드시 commit 전에 조회해야 한다. (UPDATE/DELETE 불필요)\n",
    "new_deptno = dbcon.insert_id()\n",
    "print(\"생성된 학과번호 : %d\" % new_deptno)\n",
    "\n",
    "# 변경사항 저장하기\n",
    "dbcon.commit()"
   ]
  },
  {
   "cell_type": "markdown",
   "id": "electric-subject",
   "metadata": {},
   "source": [
    "## 3) 데이터 수정하기\n",
    "앞에서 저장한 데이터의 학과명과 위치 수정하기\n",
    "> ※ 주의사항 : SQL에 저장되는 모든 변수는 `%s` 를 사용해야 하고, 데이터타입은 `string`이어야 한다."
   ]
  },
  {
   "cell_type": "code",
   "execution_count": 10,
   "id": "changing-linux",
   "metadata": {},
   "outputs": [
    {
     "name": "stdout",
     "output_type": "stream",
     "text": [
      "수정된 데이터 수 : 1\n"
     ]
    }
   ],
   "source": [
    "# 수정할 데이터 설정\n",
    "dname = '빅데이터'\n",
    "loc = '1004호'\n",
    "\n",
    "# 수정을 위한 SQL 실행 (문자열 데이터도 홑따옴표 사용 안함)\n",
    "sql = \"UPDATE department SET dname=%s, loc=%s WHERE deptno=%s\"\n",
    "edit_count = cursor.execute(sql, (dname, loc, str(new_deptno)))\n",
    "\n",
    "print(\"수정된 데이터 수 : %d\" % edit_count)\n",
    "\n",
    "# 변경사항 저장하기\n",
    "dbcon.commit()"
   ]
  },
  {
   "cell_type": "markdown",
   "id": "treated-guarantee",
   "metadata": {},
   "source": [
    "## 4) 데이터 삭제하기"
   ]
  },
  {
   "cell_type": "code",
   "execution_count": 11,
   "id": "whole-williams",
   "metadata": {},
   "outputs": [
    {
     "name": "stdout",
     "output_type": "stream",
     "text": [
      "삭제된 데이터 수 : 1\n"
     ]
    }
   ],
   "source": [
    "# 삭제를 위한 SQL 실행 (문자열 데이터도 홑따옴표 사용 안함)\n",
    "sql = \"DELETE FROM department WHERE deptno=%s\"\n",
    "delete_count = cursor.execute(sql, (str(new_deptno)))\n",
    "\n",
    "print(\"삭제된 데이터 수 : %d\" % delete_count)\n",
    "\n",
    "# 변경사항 저장하기\n",
    "dbcon.commit()"
   ]
  },
  {
   "cell_type": "markdown",
   "id": "charitable-pasta",
   "metadata": {},
   "source": [
    "## 5) 단일행 데이터 조회하기\n",
    "딕셔너리 키 값 = SQL 문에서 별칭을 적용할 경우 별칭으로 설정, 별칭을 사용하지 않으면 원래 컬럼이름<br>\n",
    "SQL 문 안에서 줄바꿈이 필요한 경우 전체 구문을 삼중 따옴표로 감싸야 한다."
   ]
  },
  {
   "cell_type": "code",
   "execution_count": 12,
   "id": "vietnamese-modem",
   "metadata": {},
   "outputs": [
    {
     "data": {
      "text/plain": [
       "{'학과번호': 202, '학과이름': '기계공학과', '학과위치': '4호관'}"
      ]
     },
     "execution_count": 12,
     "metadata": {},
     "output_type": "execute_result"
    }
   ],
   "source": [
    "# 단일행 조회를 위한 SQL구문 형식 설정\n",
    "sql = \"\"\"SELECT deptno AS `학과번호`, dname AS `학과이름`, loc AS `학과위치`\n",
    "        FROM department WHERE deptno=%s\"\"\"\n",
    "\n",
    "# %d에 202라는 값을 적용하여  SQL 실행\n",
    "# -> sql구문에 치환문자가 없을 경우 두 번째 파라미터 생략 가능\n",
    "cursor.execute(sql, (202))\n",
    "\n",
    "# 조회 결과 한 줄을 딕셔너리로 변환\n",
    "result = cursor.fetchone()\n",
    "result"
   ]
  },
  {
   "cell_type": "markdown",
   "id": "hungry-sterling",
   "metadata": {},
   "source": [
    "## 6) 다중 데이터 조회하기\n",
    "### SQL문 실행하기\n",
    "`fetchall()` 함수를 사용하면 동일한 구조의 딕셔너리를 원소로 갖는 리스트로 반환된다."
   ]
  },
  {
   "cell_type": "code",
   "execution_count": 13,
   "id": "standard-wayne",
   "metadata": {},
   "outputs": [
    {
     "data": {
      "text/plain": [
       "[{'deptno': 101, 'dname': '컴퓨터공학과', 'loc': '1호관'},\n",
       " {'deptno': 102, 'dname': '멀티미디어학과', 'loc': '2호관'},\n",
       " {'deptno': 201, 'dname': '전자공학과', 'loc': '3호관'},\n",
       " {'deptno': 202, 'dname': '기계공학과', 'loc': '4호관'},\n",
       " {'deptno': 204, 'dname': '수정학과', 'loc': '6호관'}]"
      ]
     },
     "execution_count": 13,
     "metadata": {},
     "output_type": "execute_result"
    }
   ],
   "source": [
    "# 다중행 조회를 위한 SQL구문 형식 설정\n",
    "sql = \"SELECT deptno, dname, loc FROM department\"\n",
    "cursor.execute(sql)\n",
    "\n",
    "# 조회 결과 전체를 딕셔너리를 원소로 갖는 리스트로 변환\n",
    "result = cursor.fetchall()\n",
    "result"
   ]
  },
  {
   "cell_type": "markdown",
   "id": "endless-grace",
   "metadata": {},
   "source": [
    "### 데이터 조회 결과를 데이터 프레임으로 변환"
   ]
  },
  {
   "cell_type": "code",
   "execution_count": 14,
   "id": "russian-mortgage",
   "metadata": {},
   "outputs": [
    {
     "data": {
      "text/html": [
       "<div>\n",
       "<style scoped>\n",
       "    .dataframe tbody tr th:only-of-type {\n",
       "        vertical-align: middle;\n",
       "    }\n",
       "\n",
       "    .dataframe tbody tr th {\n",
       "        vertical-align: top;\n",
       "    }\n",
       "\n",
       "    .dataframe thead th {\n",
       "        text-align: right;\n",
       "    }\n",
       "</style>\n",
       "<table border=\"1\" class=\"dataframe\">\n",
       "  <thead>\n",
       "    <tr style=\"text-align: right;\">\n",
       "      <th></th>\n",
       "      <th>dname</th>\n",
       "      <th>loc</th>\n",
       "    </tr>\n",
       "    <tr>\n",
       "      <th>deptno</th>\n",
       "      <th></th>\n",
       "      <th></th>\n",
       "    </tr>\n",
       "  </thead>\n",
       "  <tbody>\n",
       "    <tr>\n",
       "      <th>101</th>\n",
       "      <td>컴퓨터공학과</td>\n",
       "      <td>1호관</td>\n",
       "    </tr>\n",
       "    <tr>\n",
       "      <th>102</th>\n",
       "      <td>멀티미디어학과</td>\n",
       "      <td>2호관</td>\n",
       "    </tr>\n",
       "    <tr>\n",
       "      <th>201</th>\n",
       "      <td>전자공학과</td>\n",
       "      <td>3호관</td>\n",
       "    </tr>\n",
       "    <tr>\n",
       "      <th>202</th>\n",
       "      <td>기계공학과</td>\n",
       "      <td>4호관</td>\n",
       "    </tr>\n",
       "    <tr>\n",
       "      <th>204</th>\n",
       "      <td>수정학과</td>\n",
       "      <td>6호관</td>\n",
       "    </tr>\n",
       "  </tbody>\n",
       "</table>\n",
       "</div>"
      ],
      "text/plain": [
       "          dname  loc\n",
       "deptno              \n",
       "101      컴퓨터공학과  1호관\n",
       "102     멀티미디어학과  2호관\n",
       "201       전자공학과  3호관\n",
       "202       기계공학과  4호관\n",
       "204        수정학과  6호관"
      ]
     },
     "execution_count": 14,
     "metadata": {},
     "output_type": "execute_result"
    }
   ],
   "source": [
    "df = DataFrame(result)\n",
    "df.set_index('deptno', inplace=True)\n",
    "df"
   ]
  },
  {
   "cell_type": "markdown",
   "id": "closed-bridge",
   "metadata": {},
   "source": [
    "# #05. 데이터베이스 접속 해제"
   ]
  },
  {
   "cell_type": "code",
   "execution_count": 15,
   "id": "geological-password",
   "metadata": {},
   "outputs": [
    {
     "name": "stdout",
     "output_type": "stream",
     "text": [
      "데이터베이스 접속 해제\n"
     ]
    }
   ],
   "source": [
    "dbcon.close()\n",
    "print('데이터베이스 접속 해제')"
   ]
  }
 ],
 "metadata": {
  "kernelspec": {
   "display_name": "Python 3",
   "language": "python",
   "name": "python3"
  },
  "language_info": {
   "codemirror_mode": {
    "name": "ipython",
    "version": 3
   },
   "file_extension": ".py",
   "mimetype": "text/x-python",
   "name": "python",
   "nbconvert_exporter": "python",
   "pygments_lexer": "ipython3",
   "version": "3.8.0"
  }
 },
 "nbformat": 4,
 "nbformat_minor": 5
}
