{
 "cells": [
  {
   "cell_type": "markdown",
   "id": "mental-whole",
   "metadata": {},
   "source": [
    "# 6-2. 네이버 뉴스 기사 수집\n",
    "## 용어정리\n",
    "### 1) Web Scraping (웹 스크랩핑)\n",
    "컴퓨터 소프트웨어 기술로 웹 사이트들에서 원하는 정보를 추출하는 것<br>\n",
    "국내에서는 흔히 크롤링이라는 용어로 많이 알려져 있다.<br>\n",
    "하나의 페이지에서 데이터 수집\n",
    "\n",
    "### 2) 웹 크롤러\n",
    "인터넷에 있는 웹 사이트를 방문하여 자료를 수집하는 일을 하는 프로그램<br>\n",
    "즉, 하나의 페이지에서 파생되는 하위 페이지까지 일괄적으로 방문해 수집하는 것을 의미.<br>\n",
    "엄청난 분량의 웹 문서를 사람이 일일이 구별하여 모으는 일을 불가능에 가까우므로 웹 문서 검색에서는 이를 자동 수행<br>\n",
    "링크를 따라다시면서 복수의 페이지에서 데이터 수집\n",
    "\n",
    "<hr/>\n",
    "\n",
    "# #01. 필요한 모듈 참조"
   ]
  },
  {
   "cell_type": "code",
   "execution_count": 1,
   "id": "helpful-rebel",
   "metadata": {},
   "outputs": [],
   "source": [
    "import requests\n",
    "from bs4 import BeautifulSoup"
   ]
  },
  {
   "cell_type": "markdown",
   "id": "suspended-talent",
   "metadata": {},
   "source": [
    "# #02. 수집 준비\n",
    "## 1) 접속을 수행하기 위한 session 객체 생성\n",
    "> 웹 페이지로부터 데이터를 수집할 경우 항상 가장 처음에 위치해야 하는 코드입니다."
   ]
  },
  {
   "cell_type": "code",
   "execution_count": 2,
   "id": "particular-proportion",
   "metadata": {},
   "outputs": [],
   "source": [
    "user_agent = \"Mozilla/5.0 (Windows NT 10.0; Win64; x64) AppleWebKit/537.36 (KHTML, like Gecko) Chrome/88.0.4324.190 Safari/537.36\"\n",
    "session= requests.Session()\n",
    "session.headers.update({'User-agent':user_agent, 'referer':None})"
   ]
  },
  {
   "cell_type": "markdown",
   "id": "induced-intensity",
   "metadata": {},
   "source": [
    "## 2) 접근할 페이지 주소 (네이버 뉴스 기사)"
   ]
  },
  {
   "cell_type": "code",
   "execution_count": 3,
   "id": "olive-attraction",
   "metadata": {},
   "outputs": [],
   "source": [
    "content_url = 'https://news.naver.com/main/read.nhn?mode=LSD&mid=shm&sid1=103&oid=001&aid=0012233834'"
   ]
  },
  {
   "cell_type": "markdown",
   "id": "ideal-simple",
   "metadata": {},
   "source": [
    "# #03. 데이터 수집\n",
    "지정한 URL에 접속하고 접속 결과를 체크한다."
   ]
  },
  {
   "cell_type": "code",
   "execution_count": 4,
   "id": "amateur-habitat",
   "metadata": {},
   "outputs": [],
   "source": [
    "# 데이터 가져오기\n",
    "r = session.get(content_url)\n",
    "\n",
    "# 결과 검사\n",
    "if r.status_code != 200:\n",
    "    print(\"[%d Error] %s\" % (r.status_code, r.reason))\n",
    "    quit()"
   ]
  },
  {
   "cell_type": "markdown",
   "id": "radio-mentor",
   "metadata": {},
   "source": [
    "# #04. 데이터 추출\n",
    "URL에 접속해서 가져온 HTML 코드에서 분석을 원하는 부분을 추출한다.\n",
    "## 1) 가져온 HTML 코드 확인\n",
    "웹 페이지의 인코딩 형식을 확인하여 설정해야 한다."
   ]
  },
  {
   "cell_type": "code",
   "execution_count": 5,
   "id": "quiet-steering",
   "metadata": {},
   "outputs": [],
   "source": [
    "r.encoding='euc-kr'\n",
    "#r.text"
   ]
  },
  {
   "cell_type": "markdown",
   "id": "secure-anger",
   "metadata": {},
   "source": [
    "## 2) 기사 본문 추출하기"
   ]
  },
  {
   "cell_type": "code",
   "execution_count": 6,
   "id": "married-faculty",
   "metadata": {},
   "outputs": [
    {
     "name": "stdout",
     "output_type": "stream",
     "text": [
      "<class 'bs4.element.ResultSet'>\n"
     ]
    },
    {
     "data": {
      "text/plain": [
       "[<div class=\"_article_body_contents\" id=\"articleBodyContents\">\n",
       " <!-- 본문 내용 -->\n",
       " <!-- TV플레이어 -->\n",
       " <!-- // TV플레이어 -->\n",
       " <script type=\"text/javascript\">\n",
       " // flash 오류를 우회하기 위한 함수 추가\n",
       " function _flash_removeCallback() {}\n",
       " </script>\n",
       " <strong style=\"display:block;overflow:hidden;position:relative;margin:33px 20px 10px 3px;padding-left:11px;font-weight:bold;border-left: 2px solid #141414;\">주차장·화장실 등 상춘객 편의시설 일체 제공 안 해</strong><br/><br/><span class=\"end_photo_org\"><img alt=\"\" src=\"https://imgnews.pstatic.net/image/001/2021/03/02/AKR20210302038051052_05_i_P4_20210302114248554.jpg?type=w647\"><em class=\"img_desc\">2020년 진해 벚꽃 명소 폐쇄<br/>[연합뉴스 자료사진]</em></img></span><br/><br/>(창원=연합뉴스) 이정훈 기자 = 코로나19가 발생 1년이 넘도록 수그러들지 않으면서 경남 창원시가 전국 최대 봄꽃축제 진해 군항제를 2년 연속으로 취소한다.<br/><br/>    창원시는 3월말 열 예정이던 제59회 진해 군항제를 취소한다고 2일 발표했다.<br/><br/>    창원시는 코로나19 하루 확진자 수가 여전히 전국적으로 300∼400명 이상씩 발생하고, 3∼4월까지는 백신 접종도 많지 않아 시민 지난해에 이어 군항제를 열지 않기로 했다고 설명했다.<br/><br/>    진해구 여론도 군항제 개최에 부정적이었다.<br/><br/>    창원시는 진해구민 667명을 대상으로 군항제 개최 여부를 설문 조사했다.<br/><br/>    설문에 응한 주민 85%가 군항제 개최에 부정적인 입장을 냈다. <br/><br/><span class=\"end_photo_org\"><img alt=\"\" src=\"https://imgnews.pstatic.net/image/001/2021/03/02/AKR20210302038051052_06_i_P4_20210302114248569.jpg?type=w647\"><em class=\"img_desc\">2020년 진해 시가지 벚꽃길<br/>[연합뉴스 자료사진]</em></img></span><br/><br/>창원시는 군항제 취소를 알리면서 상춘객들이 벚꽃피는 시기에 진해구 방문을 자제해 달라고 요청했다.<br/><br/>    심재욱 창원시 문화체육관광국장은 \"주요 벚꽃명소를 폐쇄한 지난해와 달리 벚꽃 구경을 강제로 막지는 않겠지만, 주차장과 화장실 등 관광객 편의시설을 일체 제공하지 않는다\"고 밝혔다. <br/><br/>    매년 수백만 명이 찾는 진해 군항제는 봄꽃 축제의 대명사다.<br/><br/>    1963년 1회 축제를 시작으로 지난해까지 한 번도 취소된 적이 없었다.<br/><br/>    그러나 지난해 초 국내에서 첫 코로나19 확진자가 나오고 이후 전국에서 확진자가 속출하자 창원시는 사상 처음으로 제58회 군항제를 취소했다.<br/><br/>    창원시는 당시, 경화역, 여좌천, 안민고개, 내수면생태연구소 등 벚꽃명소를 전면 폐쇄했다.<br/><br/>    군항제 개최 시기는 매년 4월 1일부터 10일까지다.<br/><br/>    창원시는 올해 벚꽃 개화가 빨라질 것이라는 예보에 따라 3월 27일∼4월 5일 사이 군항제를 열기로 하고 준비를 해왔다.<br/><br/>    지난해 마산국화축제처럼 '드라이브 스루' 등 비대면 관광을 하고 이충무공 승전행사 등 핵심행사만 여는 방향으로 군항제 축소 검토했지만, 결국 시민 안전을 우선해 취소를 택했다.<br/><br/>      seaman@yna.co.kr <br/><br/><span class=\"end_photo_org\"><img alt=\"\" src=\"https://imgnews.pstatic.net/image/001/2021/03/02/AKR20210302038051052_07_i_P4_20210302114248578.jpg?type=w647\"><em class=\"img_desc\">2019년 진해 군항제 때 경화역 풍경<br/>[연합뉴스 자료사진]</em></img></span><br/><br/><span><a href=\"https://media.naver.com/channel/promotion.nhn?oid=001\" target=\"_blank\">▶네이버에서도 뉴스는 연합뉴스[구독 클릭]</a><br/><a href=\"https://www.yna.co.kr/theme-list/factcheck?input=1195s\" target=\"_blank\">▶[팩트체크]\"평생 간호사한테 주사 맞았는데\"…불법?</a><a href=\"https://www.yna.co.kr/board/jebo/index?input=offer_naver\" style=\"margin-left:10px;\" target=\"_blank\"><br/>▶제보하기</a></span><br/><br/>&lt;저작권자(c) 연합뉴스(https://www.yna.co.kr/), 무단 전재-재배포 금지&gt;\n",
       " \t<!-- // 본문 내용 -->\n",
       " </div>]"
      ]
     },
     "execution_count": 6,
     "metadata": {},
     "output_type": "execute_result"
    }
   ],
   "source": [
    "# 웹 페이지의 소스코들르 사용, HTML 분석 객체로 생성\n",
    "soup = BeautifulSoup(r.text, 'html.parser')\n",
    "\n",
    "# css 선택자를 활용해 가져오기를 원하는 부분 지정\n",
    "selector = soup.select('#articleBodyContents')\n",
    "\n",
    "#가져온 내용이 없다면?\n",
    "if not selector:\n",
    "    print('크롤링 실패')\n",
    "    quit()\n",
    "    \n",
    "print(type(selector))\n",
    "#print(len(selector))\n",
    "selector"
   ]
  },
  {
   "cell_type": "markdown",
   "id": "every-bruce",
   "metadata": {},
   "source": [
    "## 3) 추출한 본문 영역에서 불필요한 부분 제거/치환\n",
    "### 본문 영역에 대한 결과 얻기\n",
    "html의 id 속성을 통해 가져온 원소 = 그 페이지 내 고유한 영역 <br>\n",
    "select() 함수의 결과가 list여도 실제 원소는 하나만 존재 \n",
    "\n",
    "=> 리스트에 대한 0번째 요소에 직접 접근해도 무관"
   ]
  },
  {
   "cell_type": "code",
   "execution_count": 7,
   "id": "atomic-skating",
   "metadata": {},
   "outputs": [
    {
     "name": "stdout",
     "output_type": "stream",
     "text": [
      "<div class=\"_article_body_contents\" id=\"articleBodyContents\">\n",
      "<!-- 본문 내용 -->\n",
      "<!-- TV플레이어 -->\n",
      "<!-- // TV플레이어 -->\n",
      "<script type=\"text/javascript\">\n",
      "// flash 오류를 우회하기 위한 함수 추가\n",
      "function _flash_removeCallback() {}\n",
      "</script>\n",
      "<strong style=\"display:block;overflow:hidden;position:relative;margin:33px 20px 10px 3px;padding-left:11px;font-weight:bold;border-left: 2px solid #141414;\">주차장·화장실 등 상춘객 편의시설 일체 제공 안 해</strong><br/><br/><span class=\"end_photo_org\"><img alt=\"\" src=\"https://imgnews.pstatic.net/image/001/2021/03/02/AKR20210302038051052_05_i_P4_20210302114248554.jpg?type=w647\"><em class=\"img_desc\">2020년 진해 벚꽃 명소 폐쇄<br/>[연합뉴스 자료사진]</em></img></span><br/><br/>(창원=연합뉴스) 이정훈 기자 = 코로나19가 발생 1년이 넘도록 수그러들지 않으면서 경남 창원시가 전국 최대 봄꽃축제 진해 군항제를 2년 연속으로 취소한다.<br/><br/>    창원시는 3월말 열 예정이던 제59회 진해 군항제를 취소한다고 2일 발표했다.<br/><br/>    창원시는 코로나19 하루 확진자 수가 여전히 전국적으로 300∼400명 이상씩 발생하고, 3∼4월까지는 백신 접종도 많지 않아 시민 지난해에 이어 군항제를 열지 않기로 했다고 설명했다.<br/><br/>    진해구 여론도 군항제 개최에 부정적이었다.<br/><br/>    창원시는 진해구민 667명을 대상으로 군항제 개최 여부를 설문 조사했다.<br/><br/>    설문에 응한 주민 85%가 군항제 개최에 부정적인 입장을 냈다. <br/><br/><span class=\"end_photo_org\"><img alt=\"\" src=\"https://imgnews.pstatic.net/image/001/2021/03/02/AKR20210302038051052_06_i_P4_20210302114248569.jpg?type=w647\"><em class=\"img_desc\">2020년 진해 시가지 벚꽃길<br/>[연합뉴스 자료사진]</em></img></span><br/><br/>창원시는 군항제 취소를 알리면서 상춘객들이 벚꽃피는 시기에 진해구 방문을 자제해 달라고 요청했다.<br/><br/>    심재욱 창원시 문화체육관광국장은 \"주요 벚꽃명소를 폐쇄한 지난해와 달리 벚꽃 구경을 강제로 막지는 않겠지만, 주차장과 화장실 등 관광객 편의시설을 일체 제공하지 않는다\"고 밝혔다. <br/><br/>    매년 수백만 명이 찾는 진해 군항제는 봄꽃 축제의 대명사다.<br/><br/>    1963년 1회 축제를 시작으로 지난해까지 한 번도 취소된 적이 없었다.<br/><br/>    그러나 지난해 초 국내에서 첫 코로나19 확진자가 나오고 이후 전국에서 확진자가 속출하자 창원시는 사상 처음으로 제58회 군항제를 취소했다.<br/><br/>    창원시는 당시, 경화역, 여좌천, 안민고개, 내수면생태연구소 등 벚꽃명소를 전면 폐쇄했다.<br/><br/>    군항제 개최 시기는 매년 4월 1일부터 10일까지다.<br/><br/>    창원시는 올해 벚꽃 개화가 빨라질 것이라는 예보에 따라 3월 27일∼4월 5일 사이 군항제를 열기로 하고 준비를 해왔다.<br/><br/>    지난해 마산국화축제처럼 '드라이브 스루' 등 비대면 관광을 하고 이충무공 승전행사 등 핵심행사만 여는 방향으로 군항제 축소 검토했지만, 결국 시민 안전을 우선해 취소를 택했다.<br/><br/>      seaman@yna.co.kr <br/><br/><span class=\"end_photo_org\"><img alt=\"\" src=\"https://imgnews.pstatic.net/image/001/2021/03/02/AKR20210302038051052_07_i_P4_20210302114248578.jpg?type=w647\"><em class=\"img_desc\">2019년 진해 군항제 때 경화역 풍경<br/>[연합뉴스 자료사진]</em></img></span><br/><br/><span><a href=\"https://media.naver.com/channel/promotion.nhn?oid=001\" target=\"_blank\">▶네이버에서도 뉴스는 연합뉴스[구독 클릭]</a><br/><a href=\"https://www.yna.co.kr/theme-list/factcheck?input=1195s\" target=\"_blank\">▶[팩트체크]\"평생 간호사한테 주사 맞았는데\"…불법?</a><a href=\"https://www.yna.co.kr/board/jebo/index?input=offer_naver\" style=\"margin-left:10px;\" target=\"_blank\"><br/>▶제보하기</a></span><br/><br/>&lt;저작권자(c) 연합뉴스(https://www.yna.co.kr/), 무단 전재-재배포 금지&gt;\n",
      "\t<!-- // 본문 내용 -->\n",
      "</div>\n"
     ]
    }
   ],
   "source": [
    "item = selector[0]\n",
    "\n",
    "#print(type(item))\n",
    "print(item)"
   ]
  },
  {
   "cell_type": "markdown",
   "id": "transparent-fever",
   "metadata": {},
   "source": [
    "### 불필요한 태그들 제거하기"
   ]
  },
  {
   "cell_type": "code",
   "execution_count": 8,
   "id": "subtle-subscription",
   "metadata": {},
   "outputs": [
    {
     "data": {
      "text/plain": [
       "<div class=\"_article_body_contents\" id=\"articleBodyContents\">\n",
       "<!-- 본문 내용 -->\n",
       "<!-- TV플레이어 -->\n",
       "<!-- // TV플레이어 -->\n",
       "\n",
       "<strong style=\"display:block;overflow:hidden;position:relative;margin:33px 20px 10px 3px;padding-left:11px;font-weight:bold;border-left: 2px solid #141414;\">주차장·화장실 등 상춘객 편의시설 일체 제공 안 해</strong>\n",
       "\n",
       "\n",
       "\n",
       "(창원=연합뉴스) 이정훈 기자 = 코로나19가 발생 1년이 넘도록 수그러들지 않으면서 경남 창원시가 전국 최대 봄꽃축제 진해 군항제를 2년 연속으로 취소한다.\n",
       "\n",
       "    창원시는 3월말 열 예정이던 제59회 진해 군항제를 취소한다고 2일 발표했다.\n",
       "\n",
       "    창원시는 코로나19 하루 확진자 수가 여전히 전국적으로 300∼400명 이상씩 발생하고, 3∼4월까지는 백신 접종도 많지 않아 시민 지난해에 이어 군항제를 열지 않기로 했다고 설명했다.\n",
       "\n",
       "    진해구 여론도 군항제 개최에 부정적이었다.\n",
       "\n",
       "    창원시는 진해구민 667명을 대상으로 군항제 개최 여부를 설문 조사했다.\n",
       "\n",
       "    설문에 응한 주민 85%가 군항제 개최에 부정적인 입장을 냈다. \n",
       "\n",
       "\n",
       "\n",
       "창원시는 군항제 취소를 알리면서 상춘객들이 벚꽃피는 시기에 진해구 방문을 자제해 달라고 요청했다.\n",
       "\n",
       "    심재욱 창원시 문화체육관광국장은 \"주요 벚꽃명소를 폐쇄한 지난해와 달리 벚꽃 구경을 강제로 막지는 않겠지만, 주차장과 화장실 등 관광객 편의시설을 일체 제공하지 않는다\"고 밝혔다. \n",
       "\n",
       "    매년 수백만 명이 찾는 진해 군항제는 봄꽃 축제의 대명사다.\n",
       "\n",
       "    1963년 1회 축제를 시작으로 지난해까지 한 번도 취소된 적이 없었다.\n",
       "\n",
       "    그러나 지난해 초 국내에서 첫 코로나19 확진자가 나오고 이후 전국에서 확진자가 속출하자 창원시는 사상 처음으로 제58회 군항제를 취소했다.\n",
       "\n",
       "    창원시는 당시, 경화역, 여좌천, 안민고개, 내수면생태연구소 등 벚꽃명소를 전면 폐쇄했다.\n",
       "\n",
       "    군항제 개최 시기는 매년 4월 1일부터 10일까지다.\n",
       "\n",
       "    창원시는 올해 벚꽃 개화가 빨라질 것이라는 예보에 따라 3월 27일∼4월 5일 사이 군항제를 열기로 하고 준비를 해왔다.\n",
       "\n",
       "    지난해 마산국화축제처럼 '드라이브 스루' 등 비대면 관광을 하고 이충무공 승전행사 등 핵심행사만 여는 방향으로 군항제 축소 검토했지만, 결국 시민 안전을 우선해 취소를 택했다.\n",
       "\n",
       "      seaman@yna.co.kr \n",
       "\n",
       "\n",
       "\n",
       "\n",
       "\n",
       "&lt;저작권자(c) 연합뉴스(https://www.yna.co.kr/), 무단 전재-재배포 금지&gt;\n",
       "\t<!-- // 본문 내용 -->\n",
       "</div>"
      ]
     },
     "execution_count": 8,
     "metadata": {},
     "output_type": "execute_result"
    }
   ],
   "source": [
    "# <script> 태그 제거\n",
    "for target in item.find_all('script'):\n",
    "    target.extract()\n",
    "    \n",
    "# <a> 태그 제거\n",
    "for target in item.find_all('a'):\n",
    "    target.extract()\n",
    "    \n",
    "# <span> 태그 제거\n",
    "for target in item.find_all('span'):\n",
    "    target.extract()\n",
    "    \n",
    "# <div> 태그 제거\n",
    "for target in item.find_all('div'):\n",
    "    target.extract()\n",
    "    \n",
    "# <iframe> 태그 제거\n",
    "# 기사에 따라 iframe태그가 있는 경우도 없는 경우도 있음 (주로 광고노출을 위해 사용)\n",
    "# 존재하지 않는 태그를 삭제하는 것은 문제X -> 기사 내용에 상관 없이 수행\n",
    "for target in item.find_all('iframe'):\n",
    "    target.extract()\n",
    "    \n",
    "# <br> 태그 치환\n",
    "# <br> 태그는 줄바꿈 문자를 의미하므로 replace_with 함수를 이용하여 \\n으로 치환\n",
    "for target in item.find_all('br'):\n",
    "    target.replace_with('\\n')\n",
    "    \n",
    "# 결과 출력\n",
    "item"
   ]
  },
  {
   "cell_type": "markdown",
   "id": "harmful-holiday",
   "metadata": {},
   "source": [
    "## 4) 최종 텍스트 추출\n",
    "### 텍스트만 추출\n",
    "앞뒤로 불필요한 개행문자(\\n)가 포함되어있다."
   ]
  },
  {
   "cell_type": "code",
   "execution_count": 9,
   "id": "second-aviation",
   "metadata": {},
   "outputs": [],
   "source": [
    "news_content_body = item.text\n",
    "#news_content_body"
   ]
  },
  {
   "cell_type": "markdown",
   "id": "theoretical-tracy",
   "metadata": {},
   "source": [
    "### 앞 뒤 공백 제거"
   ]
  },
  {
   "cell_type": "code",
   "execution_count": 10,
   "id": "looking-landscape",
   "metadata": {},
   "outputs": [],
   "source": [
    "news_content = news_content_body.strip()\n",
    "#news_content"
   ]
  },
  {
   "cell_type": "code",
   "execution_count": 11,
   "id": "infinite-default",
   "metadata": {},
   "outputs": [],
   "source": [
    "### 추출 결과를 텍스트로 저장\n",
    "with open('네이버뉴스.txt', 'w', encoding=\"utf-8\") as f:\n",
    "    f.write(news_content)"
   ]
  }
 ],
 "metadata": {
  "kernelspec": {
   "display_name": "Python 3",
   "language": "python",
   "name": "python3"
  },
  "language_info": {
   "codemirror_mode": {
    "name": "ipython",
    "version": 3
   },
   "file_extension": ".py",
   "mimetype": "text/x-python",
   "name": "python",
   "nbconvert_exporter": "python",
   "pygments_lexer": "ipython3",
   "version": "3.8.0"
  }
 },
 "nbformat": 4,
 "nbformat_minor": 5
}
