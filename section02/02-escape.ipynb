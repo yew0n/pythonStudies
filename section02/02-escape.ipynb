{
 "cells": [
  {
   "cell_type": "code",
   "execution_count": 8,
   "id": "floppy-google",
   "metadata": {},
   "outputs": [
    {
     "name": "stdout",
     "output_type": "stream",
     "text": [
      "Life is \"too\" short\n",
      "Life is 'too' short\n"
     ]
    }
   ],
   "source": [
    "# -*- coding: utf-8 -*-\n",
    "\n",
    "#문자열 안에 따옴표 넣기\n",
    "case1 = \"Life is \\\"too\\\" short\"\n",
    "print(case1)\n",
    "\n",
    "case2 = 'Life is \\'too\\' short'\n",
    "print(case2)"
   ]
  },
  {
   "cell_type": "code",
   "execution_count": 9,
   "id": "religious-cargo",
   "metadata": {},
   "outputs": [
    {
     "name": "stdout",
     "output_type": "stream",
     "text": [
      "Life is too short\n",
      "You need Python\n",
      "Life is too short\tYou need Python\n",
      "Life is too short\\You need Python\n"
     ]
    }
   ],
   "source": [
    "#줄바꿈 > \\n, 탭키 > \\t, 순수역슬래시 \\\\\n",
    "print(\"Life is too short\\nYou need Python\")\n",
    "print(\"Life is too short\\tYou need Python\")\n",
    "print(\"Life is too short\\\\You need Python\")"
   ]
  },
  {
   "cell_type": "code",
   "execution_count": 10,
   "id": "compliant-orlando",
   "metadata": {},
   "outputs": [
    {
     "name": "stdout",
     "output_type": "stream",
     "text": [
      "You 'need' Python\n",
      "You \"need\" Python\n",
      "Life is too short\n",
      "You need Python\n"
     ]
    }
   ],
   "source": [
    "#따옴표의 쌍을 조절하여 문자열 안에 따옴표 넣기\n",
    "a= \"You 'need' Python\"\n",
    "print(a)\n",
    "\n",
    "b='You \"need\" Python'\n",
    "print(b)\n",
    "\n",
    "#줄바꿈이 가능한 문자열 > 3중 쌍따옴표\n",
    "msg = \"\"\"Life is too short\n",
    "You need Python\"\"\"\n",
    "print(msg)"
   ]
  }
 ],
 "metadata": {
  "kernelspec": {
   "display_name": "Python 3",
   "language": "python",
   "name": "python3"
  },
  "language_info": {
   "codemirror_mode": {
    "name": "ipython",
    "version": 3
   },
   "file_extension": ".py",
   "mimetype": "text/x-python",
   "name": "python",
   "nbconvert_exporter": "python",
   "pygments_lexer": "ipython3",
   "version": "3.8.0"
  }
 },
 "nbformat": 4,
 "nbformat_minor": 5
}
