{
 "cells": [
  {
   "cell_type": "code",
   "execution_count": 1,
   "id": "saved-peter",
   "metadata": {},
   "outputs": [
    {
     "name": "stdout",
     "output_type": "stream",
     "text": [
      "당신의 생일은 80년 10월 23일 입니다.\n"
     ]
    }
   ],
   "source": [
    "# -*- coding: utf-8 -*-\n",
    "\n",
    "jumin = \"801023-1000123\"\n",
    "\n",
    "msg = \"당신의 생일은 {0}년 {1}월 {2}일 입니다.\"\n",
    "print(msg.format(jumin[:2], jumin[2:4], jumin[4:6]))\n"
   ]
  }
 ],
 "metadata": {
  "kernelspec": {
   "display_name": "Python 3",
   "language": "python",
   "name": "python3"
  },
  "language_info": {
   "codemirror_mode": {
    "name": "ipython",
    "version": 3
   },
   "file_extension": ".py",
   "mimetype": "text/x-python",
   "name": "python",
   "nbconvert_exporter": "python",
   "pygments_lexer": "ipython3",
   "version": "3.8.0"
  }
 },
 "nbformat": 4,
 "nbformat_minor": 5
}
