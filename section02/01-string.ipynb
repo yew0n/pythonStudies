{
 "cells": [
  {
   "cell_type": "code",
   "execution_count": 1,
   "id": "authentic-embassy",
   "metadata": {},
   "outputs": [
    {
     "name": "stdout",
     "output_type": "stream",
     "text": [
      "Life is too short\n",
      "You need Python\n"
     ]
    }
   ],
   "source": [
    "# -*- coding: utf-8 -*-\n",
    "\n",
    "#쌍따옴표나 홑따옴표로 감싸야 한다\n",
    "msg1 = \"Life is too short\"\n",
    "msg2 = 'You need Python'\n",
    "print(msg1)\n",
    "print(msg2)"
   ]
  },
  {
   "cell_type": "code",
   "execution_count": 2,
   "id": "complimentary-tourism",
   "metadata": {},
   "outputs": [
    {
     "name": "stdout",
     "output_type": "stream",
     "text": [
      "Life is too short, You need Python\n"
     ]
    }
   ],
   "source": [
    "#문자열의 덧셈 = 문자열 연결\n",
    "print(msg1+\", \"+msg2)"
   ]
  },
  {
   "cell_type": "code",
   "execution_count": 3,
   "id": "supreme-massachusetts",
   "metadata": {},
   "outputs": [
    {
     "name": "stdout",
     "output_type": "stream",
     "text": [
      "PythonPythonPythonPythonPythonPythonPythonPythonPythonPythonPythonPythonPythonPythonPythonPythonPythonPythonPythonPythonPythonPythonPythonPythonPythonPythonPythonPythonPythonPythonPythonPythonPythonPythonPythonPythonPythonPythonPythonPythonPythonPythonPythonPythonPythonPythonPythonPythonPythonPython\n"
     ]
    }
   ],
   "source": [
    "#문자열과 숫자의 곱셈 = 동일 내용을 반복\n",
    "name = \"Python\"\n",
    "print(name*50)"
   ]
  },
  {
   "cell_type": "code",
   "execution_count": 4,
   "id": "adverse-escape",
   "metadata": {},
   "outputs": [
    {
     "name": "stdout",
     "output_type": "stream",
     "text": [
      "20000100\n"
     ]
    }
   ],
   "source": [
    "# 따옴표로 감싸면 무조건 문장\n",
    "pay=\"20000\"\n",
    "bonus=\"100\"\n",
    "print(pay+bonus)"
   ]
  }
 ],
 "metadata": {
  "kernelspec": {
   "display_name": "Python 3",
   "language": "python",
   "name": "python3"
  },
  "language_info": {
   "codemirror_mode": {
    "name": "ipython",
    "version": 3
   },
   "file_extension": ".py",
   "mimetype": "text/x-python",
   "name": "python",
   "nbconvert_exporter": "python",
   "pygments_lexer": "ipython3",
   "version": "3.8.0"
  }
 },
 "nbformat": 4,
 "nbformat_minor": 5
}
