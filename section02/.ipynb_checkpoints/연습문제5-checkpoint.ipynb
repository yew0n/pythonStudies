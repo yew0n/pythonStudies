{
 "cells": [
  {
   "cell_type": "code",
   "execution_count": 3,
   "id": "posted-gallery",
   "metadata": {},
   "outputs": [
    {
     "name": "stdout",
     "output_type": "stream",
     "text": [
      "['Life', 'is', 'too', 'short']\n",
      "Life is too short\n",
      "LIFE IS TOO SHORT\n"
     ]
    }
   ],
   "source": [
    "# -*- coding: utf-8 -*-\n",
    "\n",
    "mymsg = ['Life', 'is', 'too', 'short']\n",
    "print(mymsg)\n",
    "balnk = \" \"\n",
    "\n",
    "# 문자열로 결합 후 결합된 문자열의 모든 글자를 대문자 형태로 출력\n",
    "msg  = balnk.join(mymsg)\n",
    "print(msg)\n",
    "print(msg.upper())"
   ]
  }
 ],
 "metadata": {
  "kernelspec": {
   "display_name": "Python 3",
   "language": "python",
   "name": "python3"
  },
  "language_info": {
   "codemirror_mode": {
    "name": "ipython",
    "version": 3
   },
   "file_extension": ".py",
   "mimetype": "text/x-python",
   "name": "python",
   "nbconvert_exporter": "python",
   "pygments_lexer": "ipython3",
   "version": "3.8.0"
  }
 },
 "nbformat": 4,
 "nbformat_minor": 5
}
