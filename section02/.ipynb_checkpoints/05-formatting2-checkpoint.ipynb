{
 "cells": [
  {
   "cell_type": "code",
   "execution_count": 1,
   "id": "wireless-humanity",
   "metadata": {},
   "outputs": [
    {
     "name": "stdout",
     "output_type": "stream",
     "text": [
      "I eat 3 apples\n"
     ]
    }
   ],
   "source": [
    "# -*- coding: utf-8 -*-\n",
    "\n",
    "#0번쨰 위치에 format() 함수에 전달된 0번째 값 대입\n",
    "msg1 = \"I eat {0} apples\"\n",
    "print(msg1.format(3))"
   ]
  },
  {
   "cell_type": "code",
   "execution_count": 3,
   "id": "presidential-peninsula",
   "metadata": {},
   "outputs": [
    {
     "name": "stdout",
     "output_type": "stream",
     "text": [
      "개강일은 2020년 10월 12일 입니다.\n"
     ]
    }
   ],
   "source": [
    "#여러개의 값을 혼용하기\n",
    "msg2 = \"{0}은 {1}년 {2}월 {3}일 입니다.\"\n",
    "print(msg2.format(\"개강일\", 2020, 10, 12))"
   ]
  },
  {
   "cell_type": "code",
   "execution_count": 4,
   "id": "active-jumping",
   "metadata": {},
   "outputs": [
    {
     "name": "stdout",
     "output_type": "stream",
     "text": [
      "종강일은 2021년 3월 19일 입니다.\n"
     ]
    }
   ],
   "source": [
    "#이름으로 넣기\n",
    "msg3 = \"{name}은 {yy}년 {mm}월 {dd}일 입니다.\"\n",
    "print(msg3.format(name=\"종강일\", yy=2021, mm=3, dd=19))"
   ]
  },
  {
   "cell_type": "code",
   "execution_count": 5,
   "id": "known-archives",
   "metadata": {},
   "outputs": [
    {
     "name": "stdout",
     "output_type": "stream",
     "text": [
      "생일은 1997년 1월 28일 입니다.\n"
     ]
    }
   ],
   "source": [
    "#혼합사용 -> 숫자 형식의 치환자가 먼저 위치해야 한다.\n",
    "msg4 = \"{0}은 {yy}년 {mm}월 {dd}일 입니다.\"\n",
    "print(msg4.format(\"생일\", yy=1997, mm=1, dd=28))"
   ]
  },
  {
   "cell_type": "code",
   "execution_count": 7,
   "id": "advanced-chair",
   "metadata": {},
   "outputs": [
    {
     "name": "stdout",
     "output_type": "stream",
     "text": [
      "   Hi!!Python,   Welcome~Python\n",
      "Hi   !!Python, Welcome  ~Python\n"
     ]
    }
   ],
   "source": [
    "#5글자 오른쪽 정렬 -> \"%5s\"와 동일\n",
    "msg5 = \"{0:>5}!!Python, {1:>9}~Python\"\n",
    "print(msg5.format(\"Hi\", \"Welcome\"))\n",
    "#5글자 왼쪽 정렬 -> \"%-5s\"와 동일\n",
    "msg6 = \"{0:<5}!!Python, {1:<9}~Python\"\n",
    "print(msg6.format(\"Hi\", \"Welcome\"))\n"
   ]
  },
  {
   "cell_type": "code",
   "execution_count": 8,
   "id": "favorite-optimum",
   "metadata": {},
   "outputs": [
    {
     "name": "stdout",
     "output_type": "stream",
     "text": [
      "    Hi    !!Python,   Hello  ~Python\n"
     ]
    }
   ],
   "source": [
    "#가운데 정렬\n",
    "msg7 = \"{0:^10}!!Python, {1:^9}~Python\"\n",
    "print(msg7.format(\"Hi\", \"Hello\"))"
   ]
  },
  {
   "cell_type": "code",
   "execution_count": 9,
   "id": "environmental-egypt",
   "metadata": {},
   "outputs": [
    {
     "name": "stdout",
     "output_type": "stream",
     "text": [
      "Hi~~~!!Python!! **Hello**!!Python\n"
     ]
    }
   ],
   "source": [
    "#공백을 지정한 문자로 채우기\n",
    "msg8 = \"{0:~<5}!!Python!! {1:*^9}!!Python\"\n",
    "print(msg8.format(\"Hi\", \"Hello\"))"
   ]
  },
  {
   "cell_type": "code",
   "execution_count": 10,
   "id": "banned-animal",
   "metadata": {},
   "outputs": [
    {
     "name": "stdout",
     "output_type": "stream",
     "text": [
      "123.4568\n"
     ]
    }
   ],
   "source": [
    "#소수점 4째 자리까지 표현하기 -> 5째 자리에서 반올림\n",
    "msg9 = \"{0:0.4f}\"\n",
    "print(msg9.format(123.456789))"
   ]
  },
  {
   "cell_type": "code",
   "execution_count": 11,
   "id": "sweet-husband",
   "metadata": {},
   "outputs": [
    {
     "name": "stdout",
     "output_type": "stream",
     "text": [
      "  123.4568\n"
     ]
    }
   ],
   "source": [
    "#전체 10글자, 소수점 4째 자리까지 표현하기 -> 5째 자리에서 반올림\n",
    "msg10 = \"{0:10.4f}\"\n",
    "print(msg10.format(123.456789))"
   ]
  },
  {
   "cell_type": "code",
   "execution_count": 12,
   "id": "liquid-newman",
   "metadata": {},
   "outputs": [
    {
     "name": "stdout",
     "output_type": "stream",
     "text": [
      "00123.4568\n"
     ]
    }
   ],
   "source": [
    "#전체 10글자, 공백은 0, 소수점 4째자리까지 표현\n",
    "msg11 = \"{0:010.4f}\"\n",
    "print(msg11.format(123.456789))"
   ]
  },
  {
   "cell_type": "code",
   "execution_count": 14,
   "id": "opposite-enlargement",
   "metadata": {},
   "outputs": [
    {
     "name": "stdout",
     "output_type": "stream",
     "text": [
      "{python}은 쉽다\n",
      "{python}은 좋다\n"
     ]
    }
   ],
   "source": [
    "#문자열에 \"{\"나\"}\" 포함시키기 --> 두겹으로 사용\n",
    "msg12 = \"{{python}}은 {0}다\"\n",
    "print(msg12.format(\"쉽\"))\n",
    "print(msg12.format(\"좋\"))"
   ]
  }
 ],
 "metadata": {
  "kernelspec": {
   "display_name": "Python 3",
   "language": "python",
   "name": "python3"
  },
  "language_info": {
   "codemirror_mode": {
    "name": "ipython",
    "version": 3
   },
   "file_extension": ".py",
   "mimetype": "text/x-python",
   "name": "python",
   "nbconvert_exporter": "python",
   "pygments_lexer": "ipython3",
   "version": "3.8.0"
  }
 },
 "nbformat": 4,
 "nbformat_minor": 5
}
