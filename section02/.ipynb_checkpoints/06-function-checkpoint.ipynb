{
 "cells": [
  {
   "cell_type": "code",
   "execution_count": 1,
   "id": "miniature-lafayette",
   "metadata": {},
   "outputs": [
    {
     "name": "stdout",
     "output_type": "stream",
     "text": [
      "34\n",
      "34\n"
     ]
    }
   ],
   "source": [
    "# -*- coding: utf-8 -*-\n",
    "\n",
    "str = \"Life is too short, You need Python\"\n",
    "\n",
    "#전체 글자 수 세기 -> 파이썬 내장함수, 한글/영문 구분 없이 1글자씩 카운트\n",
    "a = len(str)\n",
    "print(a)\n",
    "print(len(str))"
   ]
  },
  {
   "cell_type": "code",
   "execution_count": 2,
   "id": "august-pepper",
   "metadata": {},
   "outputs": [
    {
     "name": "stdout",
     "output_type": "stream",
     "text": [
      "2\n",
      "0\n",
      "1\n",
      "0\n"
     ]
    }
   ],
   "source": [
    "#특정 글자나 단어의 개수 세기\n",
    "print(str.count(\"i\"))\n",
    "print(str.count(\"a\"))\n",
    "print(str.count(\"short\"))\n",
    "print(str.count(\"nice\"))"
   ]
  },
  {
   "cell_type": "code",
   "execution_count": 3,
   "id": "exterior-harmony",
   "metadata": {},
   "outputs": [
    {
     "name": "stdout",
     "output_type": "stream",
     "text": [
      "8\n",
      "12\n",
      "-1\n",
      "-1\n"
     ]
    }
   ],
   "source": [
    "# 특정 글자나 단어가 처음 등장하는 위치 조회 > 찾지 못할 경우 -1 리턴\n",
    "print(str.find(\"t\"))\n",
    "print(str.find(\"short\"))\n",
    "print(str.find(\"g\"))\n",
    "print(str.find(\"nice\"))"
   ]
  },
  {
   "cell_type": "code",
   "execution_count": 4,
   "id": "anticipated-concern",
   "metadata": {},
   "outputs": [
    {
     "name": "stdout",
     "output_type": "stream",
     "text": [
      "30\n",
      "12\n",
      "-1\n",
      "-1\n"
     ]
    }
   ],
   "source": [
    "#특정 글자나 단어가 마지막으로 등장하는 위치 조회\n",
    "#->마지막으로 나타나는 글자 위치를 왼쪽 0부터 카운트\n",
    "#->찾지 못할 경우 -1 리턴\n",
    "print(str.rfind(\"t\"))\n",
    "print(str.rfind(\"short\"))\n",
    "print(str.rfind(\"g\"))\n",
    "print(str.rfind(\"nice\"))"
   ]
  },
  {
   "cell_type": "code",
   "execution_count": 5,
   "id": "bizarre-sense",
   "metadata": {},
   "outputs": [
    {
     "name": "stdout",
     "output_type": "stream",
     "text": [
      "12\n"
     ]
    }
   ],
   "source": [
    "# 특정 글자나 단어가 처음 등장하는 위치 조회\n",
    "# ->찾지 못할 경우 에러 발생\n",
    "# print(str.index(\"nice\"))\n",
    "print(str.index(\"short\"))"
   ]
  },
  {
   "cell_type": "code",
   "execution_count": 7,
   "id": "dramatic-voluntary",
   "metadata": {},
   "outputs": [
    {
     "name": "stdout",
     "output_type": "stream",
     "text": [
      "True\n",
      "False\n",
      "True\n",
      "False\n",
      "False\n"
     ]
    }
   ],
   "source": [
    "#특정 단어나 글자로 시작나는지 여부 검사 (True/Flase 반환)\n",
    "print(str.startswith(\"L\"))\n",
    "print(str.startswith(\"l\"))\n",
    "print(str.startswith(\"Life\"))\n",
    "print(str.startswith(\"H\"))\n",
    "print(str.startswith(\"Hello\"))"
   ]
  },
  {
   "cell_type": "code",
   "execution_count": 8,
   "id": "velvet-bruce",
   "metadata": {},
   "outputs": [
    {
     "name": "stdout",
     "output_type": "stream",
     "text": [
      "False\n",
      "True\n",
      "True\n",
      "False\n"
     ]
    }
   ],
   "source": [
    "#특정 단어나 글자로 끝나는지 여부 검사 (True/Flase 반환)\n",
    "print(str.endswith(\"N\"))\n",
    "print(str.endswith(\"n\"))\n",
    "print(str.endswith(\"Python\"))\n",
    "print(str.endswith(\"python\"))"
   ]
  },
  {
   "cell_type": "code",
   "execution_count": 9,
   "id": "radio-eclipse",
   "metadata": {},
   "outputs": [
    {
     "name": "stdout",
     "output_type": "stream",
     "text": [
      "LIFE IS TOO SHORT, YOU NEED PYTHON\n",
      "life is too short, you need python\n",
      "lIFE IS TOO SHORT, yOU NEED pYTHON\n",
      "Life is too short, you need python\n",
      "Life Is Too Short, You Need Python\n"
     ]
    }
   ],
   "source": [
    "#대소문자 변환\n",
    "#모든결과를 대문자로 변환한 결과 반환\n",
    "upchar = str.upper()\n",
    "print(upchar)\n",
    "#모든결과를 소문자로 변환한 결과 반환\n",
    "lowchar=str.lower()\n",
    "print(lowchar)\n",
    "#대문자는 소문자로, 소문자는 대문자로 변환\n",
    "print(str.swapcase())\n",
    "#문장의 첫글자를 대문자로 변환, 그 뒤는 다 소문자\n",
    "print(str.capitalize())\n",
    "#각 단어의 첫 글자를 대문자로 변환\n",
    "print(str.title())"
   ]
  },
  {
   "cell_type": "code",
   "execution_count": 10,
   "id": "driving-premium",
   "metadata": {},
   "outputs": [
    {
     "name": "stdout",
     "output_type": "stream",
     "text": [
      "Your height is too short, You need Python\n"
     ]
    }
   ],
   "source": [
    "#문자열 바꾸기\n",
    "print(str.replace(\"Life\", \"Your height\"))"
   ]
  },
  {
   "cell_type": "code",
   "execution_count": 11,
   "id": "clinical-insurance",
   "metadata": {},
   "outputs": [
    {
     "name": "stdout",
     "output_type": "stream",
     "text": [
      "python    \n",
      "     python\n",
      "python\n"
     ]
    }
   ],
   "source": [
    "#공백 지우기\n",
    "k= \"     python    \"\n",
    "#왼쪽 공백 삭제\n",
    "print(k.lstrip())\n",
    "#오른쪽 공백 삭제\n",
    "print(k.rstrip())\n",
    "# 좌우 공백 삭제\n",
    "print(k.strip())"
   ]
  },
  {
   "cell_type": "code",
   "execution_count": 12,
   "id": "bound-valuable",
   "metadata": {},
   "outputs": [
    {
     "name": "stdout",
     "output_type": "stream",
     "text": [
      "p,y,t,h,o,n\n"
     ]
    }
   ],
   "source": [
    "#파라미터로 전달되는 문자열의 각 글자 사이에 변수값 삽입\n",
    "a=\",\"\n",
    "b=a.join(\"python\")\n",
    "print(b)"
   ]
  },
  {
   "cell_type": "code",
   "execution_count": null,
   "id": "pretty-weather",
   "metadata": {},
   "outputs": [],
   "source": []
  }
 ],
 "metadata": {
  "kernelspec": {
   "display_name": "Python 3",
   "language": "python",
   "name": "python3"
  },
  "language_info": {
   "codemirror_mode": {
    "name": "ipython",
    "version": 3
   },
   "file_extension": ".py",
   "mimetype": "text/x-python",
   "name": "python",
   "nbconvert_exporter": "python",
   "pygments_lexer": "ipython3",
   "version": "3.8.0"
  }
 },
 "nbformat": 4,
 "nbformat_minor": 5
}
