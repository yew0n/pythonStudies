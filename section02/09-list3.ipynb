{
 "cells": [
  {
   "cell_type": "code",
   "execution_count": 1,
   "id": "solar-timothy",
   "metadata": {},
   "outputs": [
    {
     "name": "stdout",
     "output_type": "stream",
     "text": [
      "20\n",
      "50\n"
     ]
    }
   ],
   "source": [
    "# -*- coding: utf-8 -*-\n",
    "\n",
    "mylist = [10, 20, 30, 40, 50]\n",
    "\n",
    "# 1번째 원소에 접근 -> 0부터 카운트\n",
    "print(mylist[1])\n",
    "\n",
    "# 뒤에서 1번째 원소에 접근 -> 1부터 카운트\n",
    "print(mylist[-1])"
   ]
  },
  {
   "cell_type": "code",
   "execution_count": 2,
   "id": "explicit-spine",
   "metadata": {},
   "outputs": [
    {
     "name": "stdout",
     "output_type": "stream",
     "text": [
      "[20, 30]\n",
      "[10, 20, 30]\n",
      "[40, 50]\n",
      "[10, 20, 30, 40, 50]\n",
      "[20, 30]\n"
     ]
    }
   ],
   "source": [
    "#리스트 슬라이싱\n",
    "\n",
    "#list에서 1번째부터 3번째 \"전\"까지\n",
    "print(mylist[1:3])\n",
    "\n",
    "#처음부터 3번째 전까지\n",
    "print(mylist[:3])\n",
    "\n",
    "#list[3]부터 끝까지\n",
    "print(mylist[3:])\n",
    "\n",
    "#list의 모든 원소\n",
    "print(mylist[:])\n",
    "\n",
    "#list에서 1번째부터 뒤에서 2번째 다음까지\n",
    "#->마이너스 값을 사용할 경우 \"다음까지\"의 의미\n",
    "print(mylist[1:-2])"
   ]
  }
 ],
 "metadata": {
  "kernelspec": {
   "display_name": "Python 3",
   "language": "python",
   "name": "python3"
  },
  "language_info": {
   "codemirror_mode": {
    "name": "ipython",
    "version": 3
   },
   "file_extension": ".py",
   "mimetype": "text/x-python",
   "name": "python",
   "nbconvert_exporter": "python",
   "pygments_lexer": "ipython3",
   "version": "3.8.0"
  }
 },
 "nbformat": 4,
 "nbformat_minor": 5
}
