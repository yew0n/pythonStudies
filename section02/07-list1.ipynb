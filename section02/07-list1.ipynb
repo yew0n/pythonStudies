{
 "cells": [
  {
   "cell_type": "code",
   "execution_count": 1,
   "id": "catholic-crowd",
   "metadata": {},
   "outputs": [
    {
     "data": {
      "text/plain": [
       "[98, 82, 73, 64, 100]"
      ]
     },
     "execution_count": 1,
     "metadata": {},
     "output_type": "execute_result"
    }
   ],
   "source": [
    "# -*- coding: utf-8 -*-\n",
    "\n",
    "#5명의 학생에 대한 성적 리스트(배열)\n",
    "grade = [98, 82, 73, 64, 100]\n",
    "grade"
   ]
  },
  {
   "cell_type": "code",
   "execution_count": 2,
   "id": "accredited-necklace",
   "metadata": {},
   "outputs": [
    {
     "data": {
      "text/plain": [
       "['철수', '영희', '나영', '민식', '호영']"
      ]
     },
     "execution_count": 2,
     "metadata": {},
     "output_type": "execute_result"
    }
   ],
   "source": [
    "#각 학생의 이름에 대한 나열\n",
    "names = [\"철수\", \"영희\", \"나영\", \"민식\", \"호영\"]\n",
    "names"
   ]
  },
  {
   "cell_type": "code",
   "execution_count": 3,
   "id": "attended-elevation",
   "metadata": {},
   "outputs": [
    {
     "name": "stdout",
     "output_type": "stream",
     "text": [
      "['철수', 98]\n",
      "['영희', 82]\n",
      "['나영', 73]\n"
     ]
    }
   ],
   "source": [
    "#파이썬은 서로 다른 자료형들을 함께 사용 가능\n",
    "stud1 = [\"철수\", 98]\n",
    "stud2 = [\"영희\", 82]\n",
    "stud3 = [\"나영\", 73]\n",
    "print(stud1)\n",
    "print(stud2)\n",
    "print(stud3)"
   ]
  },
  {
   "cell_type": "code",
   "execution_count": 4,
   "id": "psychological-cedar",
   "metadata": {},
   "outputs": [
    {
     "name": "stdout",
     "output_type": "stream",
     "text": [
      "철수\n",
      "98\n"
     ]
    }
   ],
   "source": [
    "#리스트의 각 원소는 0부터 시작하는 인덱스번호를 갖는다\n",
    "name=stud1[0]\n",
    "point=stud1[1]\n",
    "print(name)\n",
    "print(point)"
   ]
  },
  {
   "cell_type": "code",
   "execution_count": 5,
   "id": "integral-executive",
   "metadata": {},
   "outputs": [
    {
     "name": "stdout",
     "output_type": "stream",
     "text": [
      "철호(이)의 점수는 100점 입니다.\n",
      "영희(이)의 점수는 82점 입니다.\n",
      "나영(이)의 점수는 73점 입니다.\n"
     ]
    }
   ],
   "source": [
    "#값의 변경\n",
    "stud1[0]=\"철호\"\n",
    "stud1[1]=100\n",
    "\n",
    "#리스트의 원소를 직접 출력하는 활용 예시\n",
    "msg = \"{0}(이)의 점수는 {1}점 입니다.\"\n",
    "print(msg.format(stud1[0], stud1[1]))\n",
    "print(msg.format(stud2[0], stud2[1]))\n",
    "print(msg.format(stud3[0], stud3[1]))"
   ]
  },
  {
   "cell_type": "code",
   "execution_count": null,
   "id": "accredited-shanghai",
   "metadata": {},
   "outputs": [],
   "source": []
  }
 ],
 "metadata": {
  "kernelspec": {
   "display_name": "Python 3",
   "language": "python",
   "name": "python3"
  },
  "language_info": {
   "codemirror_mode": {
    "name": "ipython",
    "version": 3
   },
   "file_extension": ".py",
   "mimetype": "text/x-python",
   "name": "python",
   "nbconvert_exporter": "python",
   "pygments_lexer": "ipython3",
   "version": "3.8.0"
  }
 },
 "nbformat": 4,
 "nbformat_minor": 5
}
