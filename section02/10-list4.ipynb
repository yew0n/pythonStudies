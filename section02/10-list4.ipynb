{
 "cells": [
  {
   "cell_type": "code",
   "execution_count": 1,
   "id": "behavioral-confidence",
   "metadata": {},
   "outputs": [],
   "source": [
    "# -*- coding: utf-8 -*-\n",
    "\n",
    "list1 = [1,2,3]\n",
    "list2 = [4,5,6]"
   ]
  },
  {
   "cell_type": "code",
   "execution_count": 2,
   "id": "included-enclosure",
   "metadata": {},
   "outputs": [
    {
     "name": "stdout",
     "output_type": "stream",
     "text": [
      "[1, 2, 3, 4, 5, 6]\n",
      "[1, 2, 3, 1, 2, 3, 1, 2, 3]\n"
     ]
    }
   ],
   "source": [
    "# 1) 리스트 사칙연산\n",
    "\n",
    "#리스트끼리 덧셈 = 단순병합\n",
    "list3 = list1+list2\n",
    "print(list3)\n",
    "\n",
    "#리스트와 정수의 곱셈 = 동일 내용 반복\n",
    "list4 = list1 * 3\n",
    "print(list4)\n",
    "\n",
    "#아래의 경우 에러 발생\n",
    "#print(list3+10)    #리스트+정수\n",
    "#print(list3+\"hi\")    #리스트+문자열\n",
    "#print(list1*list2)    #리스트*리스트"
   ]
  },
  {
   "cell_type": "code",
   "execution_count": 3,
   "id": "gentle-crowd",
   "metadata": {},
   "outputs": [
    {
     "data": {
      "text/plain": [
       "[1, 2, 4]"
      ]
     },
     "execution_count": 3,
     "metadata": {},
     "output_type": "execute_result"
    }
   ],
   "source": [
    "#대입연산자 이용 단일값 수정\n",
    "mylist = [1,2,3]\n",
    "mylist[2]=4\n",
    "mylist"
   ]
  },
  {
   "cell_type": "code",
   "execution_count": 4,
   "id": "congressional-worthy",
   "metadata": {},
   "outputs": [
    {
     "data": {
      "text/plain": [
       "[1, 20, 30]"
      ]
     },
     "execution_count": 4,
     "metadata": {},
     "output_type": "execute_result"
    }
   ],
   "source": [
    "#대입연산자 이용 주어진 범위 수정\n",
    "mylist=[1,2,3] \n",
    "mylist[1:3] = [20,30]\n",
    "mylist"
   ]
  },
  {
   "cell_type": "code",
   "execution_count": 5,
   "id": "fewer-prison",
   "metadata": {},
   "outputs": [
    {
     "data": {
      "text/plain": [
       "[1, 1000]"
      ]
     },
     "execution_count": 5,
     "metadata": {},
     "output_type": "execute_result"
    }
   ],
   "source": [
    "#주어진 범위보다 작은 개수를 갖는 리스트 지정 -> 리스트 잘림\n",
    "mylist = [1,2,3]\n",
    "mylist[1:3] = [1000]\n",
    "mylist"
   ]
  },
  {
   "cell_type": "code",
   "execution_count": 6,
   "id": "laden-commitment",
   "metadata": {},
   "outputs": [
    {
     "data": {
      "text/plain": [
       "[1, 7, 8, 9, 0, 3]"
      ]
     },
     "execution_count": 6,
     "metadata": {},
     "output_type": "execute_result"
    }
   ],
   "source": [
    "# 주어진 범위보다 많은 개수를 갖는 리스트 지정 -> 리스트 확장\n",
    "mylist = [1,2,3]\n",
    "mylist[1:2] = [7,8,9,0]\n",
    "mylist"
   ]
  },
  {
   "cell_type": "code",
   "execution_count": 7,
   "id": "weekly-psychiatry",
   "metadata": {},
   "outputs": [
    {
     "data": {
      "text/plain": [
       "[1, 3, 4, 5]"
      ]
     },
     "execution_count": 7,
     "metadata": {},
     "output_type": "execute_result"
    }
   ],
   "source": [
    "# 특정 위치 원소 삭제 -> 삭제 후 빈자리 메꿈\n",
    "mylist = [1,2,3,4,5]\n",
    "del(mylist[1])\n",
    "mylist"
   ]
  },
  {
   "cell_type": "code",
   "execution_count": 8,
   "id": "underlying-sleep",
   "metadata": {},
   "outputs": [
    {
     "data": {
      "text/plain": [
       "[1, 4, 5]"
      ]
     },
     "execution_count": 8,
     "metadata": {},
     "output_type": "execute_result"
    }
   ],
   "source": [
    "#특정 범위의 원소 삭제 \n",
    "mylist = [1,2,3,4,5]\n",
    "del(mylist[1:3])\n",
    "mylist"
   ]
  },
  {
   "cell_type": "code",
   "execution_count": 9,
   "id": "international-lucas",
   "metadata": {},
   "outputs": [
    {
     "data": {
      "text/plain": [
       "[1, 4, 5]"
      ]
     },
     "execution_count": 9,
     "metadata": {},
     "output_type": "execute_result"
    }
   ],
   "source": [
    "# 특정 범위를 삭제하는 또 다른 방법\n",
    "mylist = [1,2,3,4,5]\n",
    "mylist[1:3] =[]\n",
    "mylist"
   ]
  },
  {
   "cell_type": "code",
   "execution_count": null,
   "id": "about-custody",
   "metadata": {},
   "outputs": [],
   "source": [
    "# 인덱싱으로 접근하는 경우 > 단순 삽입\n",
    "# 1번째 원소에 다른 리스트 \"삽입\""
   ]
  }
 ],
 "metadata": {
  "kernelspec": {
   "display_name": "Python 3",
   "language": "python",
   "name": "python3"
  },
  "language_info": {
   "codemirror_mode": {
    "name": "ipython",
    "version": 3
   },
   "file_extension": ".py",
   "mimetype": "text/x-python",
   "name": "python",
   "nbconvert_exporter": "python",
   "pygments_lexer": "ipython3",
   "version": "3.8.0"
  }
 },
 "nbformat": 4,
 "nbformat_minor": 5
}
