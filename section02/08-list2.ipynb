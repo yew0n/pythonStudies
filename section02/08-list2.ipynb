{
 "cells": [
  {
   "cell_type": "code",
   "execution_count": 2,
   "id": "careful-arabic",
   "metadata": {},
   "outputs": [
    {
     "data": {
      "text/plain": [
       "[['철수', 98], ['영희', 82], ['나영', 73]]"
      ]
     },
     "execution_count": 2,
     "metadata": {},
     "output_type": "execute_result"
    }
   ],
   "source": [
    "# -*- coding: utf-8 -*-\n",
    "\n",
    "# 각 학생별 이름, 점수 정의\n",
    "stud1 = [\"철수\", 98]\n",
    "stud2 = [\"영희\", 82]\n",
    "stud3 = [\"나영\", 73]\n",
    "\n",
    "#2차원 리스트 > 새로운 리스트 stud_group의 각 원소가 리스트가 되는 형태\n",
    "stud_group = [stud1, stud2, stud3]\n",
    "stud_group"
   ]
  },
  {
   "cell_type": "code",
   "execution_count": 3,
   "id": "endless-bulgaria",
   "metadata": {},
   "outputs": [
    {
     "name": "stdout",
     "output_type": "stream",
     "text": [
      "['철수', 98]\n",
      "['영희', 82]\n"
     ]
    }
   ],
   "source": [
    "#1차원 원소에 접근\n",
    "print(stud_group[0])\n",
    "print(stud_group[1])"
   ]
  },
  {
   "cell_type": "code",
   "execution_count": 4,
   "id": "cultural-germany",
   "metadata": {},
   "outputs": [
    {
     "name": "stdout",
     "output_type": "stream",
     "text": [
      "철수\n",
      "98\n",
      "영희\n",
      "82\n"
     ]
    }
   ],
   "source": [
    "#2차원 원소에 접근\n",
    "print(stud_group[0][0])\n",
    "print(stud_group[0][1])\n",
    "print(stud_group[1][0])\n",
    "print(stud_group[1][1])"
   ]
  },
  {
   "cell_type": "code",
   "execution_count": 5,
   "id": "subjective-burns",
   "metadata": {},
   "outputs": [
    {
     "data": {
      "text/plain": [
       "[['민식', 64], ['호영', 100]]"
      ]
     },
     "execution_count": 5,
     "metadata": {},
     "output_type": "execute_result"
    }
   ],
   "source": [
    "#2차원 리스트의 일괄 생성\n",
    "grade = [\n",
    "    [\"민식\", 64],\n",
    "    [\"호영\", 100]\n",
    "]\n",
    "grade\n",
    "\n",
    "#존재하지 않는 인덱스에 접근할 경우 \"list index out of range 에러 발생\"\n",
    "# print(grade[3][1])"
   ]
  }
 ],
 "metadata": {
  "kernelspec": {
   "display_name": "Python 3",
   "language": "python",
   "name": "python3"
  },
  "language_info": {
   "codemirror_mode": {
    "name": "ipython",
    "version": 3
   },
   "file_extension": ".py",
   "mimetype": "text/x-python",
   "name": "python",
   "nbconvert_exporter": "python",
   "pygments_lexer": "ipython3",
   "version": "3.8.0"
  }
 },
 "nbformat": 4,
 "nbformat_minor": 5
}
