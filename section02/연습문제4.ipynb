{
 "cells": [
  {
   "cell_type": "code",
   "execution_count": 6,
   "id": "disabled-hardware",
   "metadata": {},
   "outputs": [
    {
     "name": "stdout",
     "output_type": "stream",
     "text": [
      "C:\\myphoto\n",
      "helloworld\n",
      "jpg\n"
     ]
    }
   ],
   "source": [
    "# -*- coding: utf-8 -*-\n",
    "\n",
    "location = \"C:\\myphoto\\helloworld.jpg\"\n",
    "\n",
    "#rfind() 함수 확인해서 c:\\myphoto, helloworld, jpg로 끊어 출력하기\n",
    "print(location[:location.rfind(\"\\\\\")])\n",
    "print(location[location.rfind(\"\\\\\")+1:location.rfind(\".\")])\n",
    "print(location[location.rfind(\".\")+1:])"
   ]
  }
 ],
 "metadata": {
  "kernelspec": {
   "display_name": "Python 3",
   "language": "python",
   "name": "python3"
  },
  "language_info": {
   "codemirror_mode": {
    "name": "ipython",
    "version": 3
   },
   "file_extension": ".py",
   "mimetype": "text/x-python",
   "name": "python",
   "nbconvert_exporter": "python",
   "pygments_lexer": "ipython3",
   "version": "3.8.0"
  }
 },
 "nbformat": 4,
 "nbformat_minor": 5
}
