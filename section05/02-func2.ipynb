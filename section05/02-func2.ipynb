{
 "cells": [
  {
   "cell_type": "code",
   "execution_count": 2,
   "id": "individual-complement",
   "metadata": {},
   "outputs": [
    {
     "name": "stdout",
     "output_type": "stream",
     "text": [
      "f(2) => 2 + 1 = 3\n",
      "f(5) => 5 + 1 = 6\n",
      "f(7) => 7 + 1 = 8\n"
     ]
    }
   ],
   "source": [
    "# -*- coding: utf-8 -*-\n",
    "\n",
    "# 파라미터를 갖는 함수 정의\n",
    "def f(x):\n",
    "    y=x+1\n",
    "    tpl = \"f({0}) => {0} + 1 = {1}\"\n",
    "    print(tpl.format(x,y))\n",
    "\n",
    "# 매개변수가 정의된 함수를 호출할 경우 해당 값 전달\n",
    "# => 전달하지 않을 경우 에러 발생\n",
    "f(2)\n",
    "f(5)\n",
    "f(7)"
   ]
  },
  {
   "cell_type": "code",
   "execution_count": 3,
   "id": "royal-sociology",
   "metadata": {},
   "outputs": [
    {
     "name": "stdout",
     "output_type": "stream",
     "text": [
      "f(2, 1) => 2 + 1 = 3\n",
      "f(5, 3) => 5 + 3 = 8\n",
      "f(7, 5) => 7 + 5 = 12\n"
     ]
    }
   ],
   "source": [
    "# 다중 파라미터의 경우\n",
    "def f(x,y):\n",
    "    z = x+y\n",
    "    tpl = \"f({0}, {1}) => {0} + {1} = {2}\"\n",
    "    print(tpl.format(x,y,z))\n",
    "\n",
    "f(2,1)\n",
    "f(5,3)\n",
    "f(7,5)"
   ]
  }
 ],
 "metadata": {
  "kernelspec": {
   "display_name": "Python 3",
   "language": "python",
   "name": "python3"
  },
  "language_info": {
   "codemirror_mode": {
    "name": "ipython",
    "version": 3
   },
   "file_extension": ".py",
   "mimetype": "text/x-python",
   "name": "python",
   "nbconvert_exporter": "python",
   "pygments_lexer": "ipython3",
   "version": "3.8.0"
  }
 },
 "nbformat": 4,
 "nbformat_minor": 5
}
