{
 "cells": [
  {
   "cell_type": "code",
   "execution_count": 2,
   "id": "unavailable-massage",
   "metadata": {},
   "outputs": [
    {
     "data": {
      "text/plain": [
       "30"
      ]
     },
     "execution_count": 2,
     "metadata": {},
     "output_type": "execute_result"
    }
   ],
   "source": [
    "# -*- coding: utf-8 -*-\n",
    "\n",
    "# 값을 리턴하는 함수 정의하기\n",
    "def plus(x,y):\n",
    "    z=x+y\n",
    "    return z\n",
    "\n",
    "a = plus(10,20)\n",
    "a"
   ]
  },
  {
   "cell_type": "code",
   "execution_count": 3,
   "id": "documentary-token",
   "metadata": {},
   "outputs": [
    {
     "name": "stdout",
     "output_type": "stream",
     "text": [
      "300\n"
     ]
    },
    {
     "data": {
      "text/plain": [
       "112"
      ]
     },
     "execution_count": 3,
     "metadata": {},
     "output_type": "execute_result"
    }
   ],
   "source": [
    "# 리턴값을 갖는 함수 = 결과를 직접출력하거나 다른 연산에 활용 가능\n",
    "print(plus(100,200))\n",
    "\n",
    "b = plus(5,7) + 100\n",
    "b"
   ]
  },
  {
   "cell_type": "code",
   "execution_count": 4,
   "id": "expanded-robert",
   "metadata": {},
   "outputs": [
    {
     "name": "stdout",
     "output_type": "stream",
     "text": [
      "300\n",
      "0\n"
     ]
    }
   ],
   "source": [
    "# return문을 중간에 만나는 경우 즉시 수행 종료\n",
    "def foo(x,y):\n",
    "    if x<10 or y<10:\n",
    "        return 0\n",
    "    z= x+y\n",
    "    return z\n",
    "\n",
    "# 함수 내 if문 조건이 거짓이므로 x+y 리턴\n",
    "print(foo(100,200))\n",
    "\n",
    "# 함수 내 if문 조건이 참이므로 0 리턴\n",
    "print(foo(1,2))"
   ]
  },
  {
   "cell_type": "code",
   "execution_count": 6,
   "id": "generous-compact",
   "metadata": {},
   "outputs": [
    {
     "name": "stdout",
     "output_type": "stream",
     "text": [
      "사용할 수 없는 아이디 입니다.\n",
      "사용 가능한 아이디 입니다.\n"
     ]
    }
   ],
   "source": [
    "# 단순히 실행을 종료할 목적이라면 return 키워드만 사용 가능\n",
    "def id_check(user_id):\n",
    "    member_list = ['user1', 'user2', 'user3']\n",
    "    # 만약 user_id가 없다면 처리 중단\n",
    "    if not user_id:\n",
    "        return\n",
    "    # 만약 user_id의 값이 member_list에 속해있다면\n",
    "    if user_id in member_list:\n",
    "        print(\"사용할 수 없는 아이디 입니다.\")\n",
    "    else:\n",
    "        print(\"사용 가능한 아이디 입니다.\")\n",
    "        \n",
    "id_check(\"\")     #아무것도 출력 안됨\n",
    "id_check(\"user1\")\n",
    "id_check(\"python\")"
   ]
  },
  {
   "cell_type": "code",
   "execution_count": 7,
   "id": "stretch-edmonton",
   "metadata": {},
   "outputs": [
    {
     "name": "stdout",
     "output_type": "stream",
     "text": [
      "(1, 2)\n",
      "1\n",
      "2\n",
      "1\n",
      "2\n"
     ]
    }
   ],
   "source": [
    "# 튜플이나 리스트를 리턴하는 함수\n",
    "\n",
    "# 두개의 값을 튜플이나 리스트로 묶어 한번에 리턴\n",
    "def bar():\n",
    "    x=1\n",
    "    y=2\n",
    "    return (x,y)\n",
    "\n",
    "# 함수의 리턴값이 튜플이므로 인덱스 번호를 활용하여 원소에 접근\n",
    "a = bar()\n",
    "print(a)\n",
    "print(a[0])\n",
    "print(a[1])\n",
    "\n",
    "# 'a,b = (1,2)'의 변수 일괄 생성 규칙을 활용\n",
    "# => 튜플이나 리스트 형식의 파라미터를 개별 변수로 저장 가능\n",
    "m, n = bar()\n",
    "print(m)\n",
    "print(n)"
   ]
  }
 ],
 "metadata": {
  "kernelspec": {
   "display_name": "Python 3",
   "language": "python",
   "name": "python3"
  },
  "language_info": {
   "codemirror_mode": {
    "name": "ipython",
    "version": 3
   },
   "file_extension": ".py",
   "mimetype": "text/x-python",
   "name": "python",
   "nbconvert_exporter": "python",
   "pygments_lexer": "ipython3",
   "version": "3.8.0"
  }
 },
 "nbformat": 4,
 "nbformat_minor": 5
}
