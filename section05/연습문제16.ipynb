{
 "cells": [
  {
   "cell_type": "code",
   "execution_count": 6,
   "id": "hungry-finish",
   "metadata": {},
   "outputs": [],
   "source": [
    "# -*- coding: utf-8 -*-\n",
    "\n",
    "grade_dic = {\n",
    "    '이름' : ['철수', '영희', '민철', '수현', '호영'],\n",
    "    '국어' : [98,88,92,63,100],\n",
    "    '영어' : [76,90,70,60,50],\n",
    "    '수학' : [88,62,88,31,76],\n",
    "    '과학' : [64,72,45,70,88]\n",
    "}\n",
    "\n",
    "tpl = \"{0},{1},{2},{3},{4}\\n\"  #한줄에 대한 템플릿\n",
    "keys = list(grade_dic.keys())  #딕셔너리의 키를 리스트로 변환\n",
    "\n",
    "p = \",\"\n",
    "title = ','.join(keys) #keys 리스트 사이에 쉼표를 넣어 문자열로 반환\n",
    "\n",
    "with open(\"grade.csv\", \"w\", encoding='euc-kr') as f:\n",
    "    #첫 줄에 각 항목의 제목 기록\n",
    "    f.write(title+\"\\n\")\n",
    "    \n",
    "    #각 데이터를 한줄씩 콤마로 구분 기록\n",
    "    for i in range(0,len(keys)):\n",
    "        tmp = tpl.format(grade_dic['이름'][i], grade_dic['국어'][i],\n",
    "                        grade_dic['영어'][i], grade_dic['수학'][i],\n",
    "                        grade_dic['과학'][i])\n",
    "        f.write(tmp)"
   ]
  }
 ],
 "metadata": {
  "kernelspec": {
   "display_name": "Python 3",
   "language": "python",
   "name": "python3"
  },
  "language_info": {
   "codemirror_mode": {
    "name": "ipython",
    "version": 3
   },
   "file_extension": ".py",
   "mimetype": "text/x-python",
   "name": "python",
   "nbconvert_exporter": "python",
   "pygments_lexer": "ipython3",
   "version": "3.8.0"
  }
 },
 "nbformat": 4,
 "nbformat_minor": 5
}
