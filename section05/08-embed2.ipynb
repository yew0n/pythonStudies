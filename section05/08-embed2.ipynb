{
 "cells": [
  {
   "cell_type": "code",
   "execution_count": 1,
   "id": "fantastic-train",
   "metadata": {},
   "outputs": [
    {
     "data": {
      "text/plain": [
       "256"
      ]
     },
     "execution_count": 1,
     "metadata": {},
     "output_type": "execute_result"
    }
   ],
   "source": [
    "# -*- coding: utf-8 -*-\n",
    "# 내장함수 사용\n",
    "\n",
    "#제곱근 구하기 = 2**8\n",
    "a = pow(2,8)\n",
    "a"
   ]
  },
  {
   "cell_type": "code",
   "execution_count": 3,
   "id": "terminal-beijing",
   "metadata": {},
   "outputs": [
    {
     "name": "stdout",
     "output_type": "stream",
     "text": [
      "100\n",
      "100\n",
      "12.345\n"
     ]
    }
   ],
   "source": [
    "# 절대값 구하기\n",
    "a= abs(100)\n",
    "print(a)\n",
    "\n",
    "b = abs(-100)\n",
    "print(b)\n",
    "\n",
    "c=abs(-12.345)\n",
    "print(c)"
   ]
  },
  {
   "cell_type": "code",
   "execution_count": 5,
   "id": "split-procurement",
   "metadata": {},
   "outputs": [
    {
     "name": "stdout",
     "output_type": "stream",
     "text": [
      "(2, 1)\n",
      "33일 8시간\n"
     ]
    }
   ],
   "source": [
    "# 나눗셈에 대한 확장 기능을 제공하는 함수\n",
    "# 나눗셈의 연산 결과를 정수부분의 몫과 나머지로 계산하여 튜플로 리턴\n",
    "c = divmod(7,3)\n",
    "print(c)\n",
    "\n",
    "hours = 800\n",
    "k=divmod(hours,24)\n",
    "tpl = \"{0}일 {1}시간\"\n",
    "print(tpl.format(k[0], k[1]))"
   ]
  },
  {
   "cell_type": "code",
   "execution_count": 6,
   "id": "abstract-semiconductor",
   "metadata": {},
   "outputs": [
    {
     "name": "stdout",
     "output_type": "stream",
     "text": [
      "40일 0시간\n"
     ]
    }
   ],
   "source": [
    "# 결과가 튜플로 리턴 > 값을 서로 다른 변수에 나누어 저장 가능\n",
    "days, hours = divmod(960,24)\n",
    "tpl = \"{0}일 {1}시간\"\n",
    "print(tpl.format(days, hours))"
   ]
  }
 ],
 "metadata": {
  "kernelspec": {
   "display_name": "Python 3",
   "language": "python",
   "name": "python3"
  },
  "language_info": {
   "codemirror_mode": {
    "name": "ipython",
    "version": 3
   },
   "file_extension": ".py",
   "mimetype": "text/x-python",
   "name": "python",
   "nbconvert_exporter": "python",
   "pygments_lexer": "ipython3",
   "version": "3.8.0"
  }
 },
 "nbformat": 4,
 "nbformat_minor": 5
}
