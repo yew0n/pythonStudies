{
 "cells": [
  {
   "cell_type": "code",
   "execution_count": null,
   "id": "identified-mainland",
   "metadata": {},
   "outputs": [],
   "source": [
    "# -*- coding: utf-8 -*-\n",
    "\n",
    "#새로운 파일 생성/기존파일 열기\n",
    "# -> 파일 경로와ㅏ 파일 열기 모드 설정\n",
    "# -> r: 읽기모드 / w:쓰기모드(덮어쓰기) / a:추가모드(기존내용유지 후 뒤에 추가)\n",
    "f = open(\"helloworld.txt\", \"w\", encoding = 'utf-8')\n",
    "\n",
    "# 파일에 내용 기록하기\n",
    "# -> 두 문장을 연달아 한줄에 기록, 줄바꿈을 원하는 위치에 \\n\n",
    "f.write(\"Hello Python!!!\\n\")\n",
    "f.write(\"안녕하세요. 파이썬!!\\n\")\n",
    "\n",
    "# open() 함수를 단독으로 사용할 경우 파일 작업 완료 후 닫기를 반드시 수행\n",
    "f.close()"
   ]
  }
 ],
 "metadata": {
  "kernelspec": {
   "display_name": "Python 3",
   "language": "python",
   "name": "python3"
  },
  "language_info": {
   "codemirror_mode": {
    "name": "ipython",
    "version": 3
   },
   "file_extension": ".py",
   "mimetype": "text/x-python",
   "name": "python",
   "nbconvert_exporter": "python",
   "pygments_lexer": "ipython3",
   "version": "3.8.0"
  }
 },
 "nbformat": 4,
 "nbformat_minor": 5
}
