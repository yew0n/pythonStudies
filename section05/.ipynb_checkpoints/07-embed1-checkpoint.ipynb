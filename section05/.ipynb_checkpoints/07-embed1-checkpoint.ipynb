{
 "cells": [
  {
   "cell_type": "code",
   "execution_count": 1,
   "id": "athletic-munich",
   "metadata": {},
   "outputs": [
    {
     "data": {
      "text/plain": [
       "int"
      ]
     },
     "execution_count": 1,
     "metadata": {},
     "output_type": "execute_result"
    }
   ],
   "source": [
    "# -*- coding: utf-8 -*-\n",
    "# 내장함수 사용\n",
    "\n",
    "# type() --> 변수의 자료형 조회\n",
    "a = 123\n",
    "type(a)"
   ]
  },
  {
   "cell_type": "code",
   "execution_count": 2,
   "id": "statutory-pizza",
   "metadata": {},
   "outputs": [
    {
     "data": {
      "text/plain": [
       "float"
      ]
     },
     "execution_count": 2,
     "metadata": {},
     "output_type": "execute_result"
    }
   ],
   "source": [
    "b=123.45\n",
    "type(b)"
   ]
  },
  {
   "cell_type": "code",
   "execution_count": 3,
   "id": "military-problem",
   "metadata": {},
   "outputs": [
    {
     "name": "stdout",
     "output_type": "stream",
     "text": [
      "<class 'str'>\n",
      "<class 'bool'>\n",
      "<class 'list'>\n",
      "<class 'tuple'>\n",
      "<class 'dict'>\n"
     ]
    }
   ],
   "source": [
    "# 변수에 저장X, 값을 직접 전달하여 자료형 조회\n",
    "print(type(\"hello\"))\n",
    "print(type(True))\n",
    "print(type([1,2]))\n",
    "print(type((1,2)))\n",
    "print(type({\"name\":\"python\"}))"
   ]
  },
  {
   "cell_type": "code",
   "execution_count": 4,
   "id": "understood-secretary",
   "metadata": {},
   "outputs": [
    {
     "name": "stdout",
     "output_type": "stream",
     "text": [
      "True\n"
     ]
    }
   ],
   "source": [
    "# is instance() -> i가 dict 형태인지 판별\n",
    "# 1st param > 검사하고자 하는 변수, 2nd param > type() 함수에서 표시하는 자료형 이름\n",
    "i={\"name\":\"python\"}\n",
    "k=isinstance(i, dict)\n",
    "print(k)"
   ]
  },
  {
   "cell_type": "code",
   "execution_count": 5,
   "id": "legislative-guide",
   "metadata": {},
   "outputs": [
    {
     "name": "stdout",
     "output_type": "stream",
     "text": [
      "a는 정수타입 입니다.\n"
     ]
    }
   ],
   "source": [
    "if isinstance(a,int):\n",
    "    print(\"a는 정수타입 입니다.\")\n",
    "else:\n",
    "    print(\"a는 정수타입이 아닙니다.\")"
   ]
  },
  {
   "cell_type": "code",
   "execution_count": 6,
   "id": "decent-shooting",
   "metadata": {},
   "outputs": [
    {
     "name": "stdout",
     "output_type": "stream",
     "text": [
      "13\n",
      "310\n"
     ]
    }
   ],
   "source": [
    "# 숫자 형식의 변수를 문자열로 변환\n",
    "a=3\n",
    "b=10\n",
    "\n",
    "print(a+b)\n",
    "\n",
    "c=str(a)\n",
    "d=str(b)\n",
    "\n",
    "print(c+d)"
   ]
  },
  {
   "cell_type": "code",
   "execution_count": 7,
   "id": "careful-newfoundland",
   "metadata": {},
   "outputs": [
    {
     "name": "stdout",
     "output_type": "stream",
     "text": [
      "12345\n",
      "168\n"
     ]
    }
   ],
   "source": [
    "# 문자열을 숫자로 변환\n",
    "x=\"123\"\n",
    "y=\"45\"\n",
    "\n",
    "print(x+y)\n",
    "\n",
    "\n",
    "x1 = int(x)\n",
    "y1 = int(y)\n",
    "print(x1+y1)"
   ]
  },
  {
   "cell_type": "code",
   "execution_count": 8,
   "id": "sharp-strengthening",
   "metadata": {},
   "outputs": [
    {
     "name": "stdout",
     "output_type": "stream",
     "text": [
      "168.0\n"
     ]
    }
   ],
   "source": [
    "# 문자열이나 정수형을 실수 형태로 변환\n",
    "x2 = float(x)\n",
    "y2 = float(y1)\n",
    "print(x2+y2)"
   ]
  }
 ],
 "metadata": {
  "kernelspec": {
   "display_name": "Python 3",
   "language": "python",
   "name": "python3"
  },
  "language_info": {
   "codemirror_mode": {
    "name": "ipython",
    "version": 3
   },
   "file_extension": ".py",
   "mimetype": "text/x-python",
   "name": "python",
   "nbconvert_exporter": "python",
   "pygments_lexer": "ipython3",
   "version": "3.8.0"
  }
 },
 "nbformat": 4,
 "nbformat_minor": 5
}
