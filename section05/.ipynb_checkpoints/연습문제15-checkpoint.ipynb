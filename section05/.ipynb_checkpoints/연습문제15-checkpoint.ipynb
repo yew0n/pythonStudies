{
 "cells": [
  {
   "cell_type": "code",
   "execution_count": 2,
   "id": "likely-voluntary",
   "metadata": {},
   "outputs": [
    {
     "name": "stdout",
     "output_type": "stream",
     "text": [
      "국어 : 98\n",
      "영어 : 82\n",
      "수학 : 75\n",
      "----------\n",
      "평균 : 85\n"
     ]
    }
   ],
   "source": [
    "# -*- coding: utf-8 -*-\n",
    "\n",
    "def print_point(point):\n",
    "    point_values = list(point.values())\n",
    "    print(\"국어 : %d\" % point_values[0] )\n",
    "    print(\"영어 : %d\" % point_values[1] )\n",
    "    print(\"수학 : %d\" % point_values[2] )\n",
    "    print(\"-\"*10)\n",
    "    print(\"평균 : %d\" % int(sum(point_values)/len(point_values)))\n",
    "    \n",
    "my_point = {\"kor\":98, \"eng\":82, \"math\":75}\n",
    "print_point(my_point)"
   ]
  }
 ],
 "metadata": {
  "kernelspec": {
   "display_name": "Python 3",
   "language": "python",
   "name": "python3"
  },
  "language_info": {
   "codemirror_mode": {
    "name": "ipython",
    "version": 3
   },
   "file_extension": ".py",
   "mimetype": "text/x-python",
   "name": "python",
   "nbconvert_exporter": "python",
   "pygments_lexer": "ipython3",
   "version": "3.8.0"
  }
 },
 "nbformat": 4,
 "nbformat_minor": 5
}
