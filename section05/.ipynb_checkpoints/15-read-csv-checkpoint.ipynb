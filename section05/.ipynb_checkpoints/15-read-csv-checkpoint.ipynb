{
 "cells": [
  {
   "cell_type": "code",
   "execution_count": 2,
   "id": "divided-compound",
   "metadata": {},
   "outputs": [
    {
     "name": "stdout",
     "output_type": "stream",
     "text": [
      "['이름,국어,영어,수학\\n', '철수,95,88,72\\n', '영희,92,90,95\\n', '철민,88,76,64\\n']\n",
      "['철수', '95', '88', '72']\n",
      "철수의 총점은 255점 이고 평균은 85.00점 입니다.\n",
      "['영희', '92', '90', '95']\n",
      "영희의 총점은 277점 이고 평균은 92.33점 입니다.\n",
      "['철민', '88', '76', '64']\n",
      "철민의 총점은 228점 이고 평균은 76.00점 입니다.\n"
     ]
    }
   ],
   "source": [
    "# -*- coding: utf-8 -*-\n",
    "\n",
    "# -> Excel의 csv - euc-kr 형식\n",
    "with open(\"grade.csv\", \"r\", encoding='euc-kr') as f:\n",
    "    #파일의 각 행을 원소로 갖는 리스트 생성\n",
    "    csv_list = f.readlines()\n",
    "    print(csv_list)\n",
    "    \n",
    "    for i, line in enumerate(csv_list):\n",
    "        if i>0:\n",
    "            #현재 행의 내용을 콤마를 기준으로 잘라 리스트로 변환\n",
    "            item = line.strip().split(\",\")\n",
    "            print(item)\n",
    "            \n",
    "            #이름과 점수로 분리 -> 점수는 정수형으로 변환\n",
    "            name = item[0]\n",
    "            kor = int(item[1])\n",
    "            eng = int(item[2])\n",
    "            math = int(item[3])\n",
    "            total = kor+eng+math\n",
    "            avg = total/3\n",
    "            \n",
    "            #결과 출력\n",
    "            tpl = \"{0}의 총점은 {1}점 이고 평균은 {2:0.2f}점 입니다.\" #두번째 파라미터를 소수점 둘째자리까지 표현\n",
    "            print(tpl.format(name, total, avg))"
   ]
  },
  {
   "cell_type": "code",
   "execution_count": null,
   "id": "handmade-prime",
   "metadata": {},
   "outputs": [],
   "source": []
  }
 ],
 "metadata": {
  "kernelspec": {
   "display_name": "Python 3",
   "language": "python",
   "name": "python3"
  },
  "language_info": {
   "codemirror_mode": {
    "name": "ipython",
    "version": 3
   },
   "file_extension": ".py",
   "mimetype": "text/x-python",
   "name": "python",
   "nbconvert_exporter": "python",
   "pygments_lexer": "ipython3",
   "version": "3.8.0"
  }
 },
 "nbformat": 4,
 "nbformat_minor": 5
}
