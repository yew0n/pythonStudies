{
 "cells": [
  {
   "cell_type": "code",
   "execution_count": 2,
   "id": "preliminary-climate",
   "metadata": {},
   "outputs": [],
   "source": [
    "# -*- coding: utf-8 -*-\n",
    "\n",
    "#한 학급의 성적표 데이터 예시\n",
    "grade = [\n",
    "    {\"name\":\"철수\", \"kor\":95, \"eng\":88, \"math\":72},\n",
    "    {\"name\":\"영희\", \"kor\":92, \"eng\":90, \"math\":95},\n",
    "    {\"name\":\"철민\", \"kor\":88, \"eng\":76, \"math\":64}\n",
    "]\n",
    "\n",
    "tpl = \"{0},{1},{2},{3}\\n\"\n",
    "\n",
    "#csv 파일 저장을 위한 f 객체 생성\n",
    "# -> Excel의 csv - euc-kr 형식\n",
    "with open(\"grade.csv\", \"w\", encoding='euc-kr') as f:\n",
    "    #첫 줄에 각 항목의 제목 기록\n",
    "    f.write(\"이름,국어,영어,수학\\n\")\n",
    "    \n",
    "    #각 데이터를 한 줄씩 콤마로 구분하여 기록\n",
    "    for item in grade:\n",
    "        tmp = tpl.format(item[\"name\"], item[\"kor\"], item[\"eng\"], item[\"math\"])\n",
    "        f.write(tmp)"
   ]
  }
 ],
 "metadata": {
  "kernelspec": {
   "display_name": "Python 3",
   "language": "python",
   "name": "python3"
  },
  "language_info": {
   "codemirror_mode": {
    "name": "ipython",
    "version": 3
   },
   "file_extension": ".py",
   "mimetype": "text/x-python",
   "name": "python",
   "nbconvert_exporter": "python",
   "pygments_lexer": "ipython3",
   "version": "3.8.0"
  }
 },
 "nbformat": 4,
 "nbformat_minor": 5
}
