{
 "cells": [
  {
   "cell_type": "code",
   "execution_count": 1,
   "id": "recent-running",
   "metadata": {},
   "outputs": [
    {
     "name": "stdout",
     "output_type": "stream",
     "text": [
      "300\n"
     ]
    }
   ],
   "source": [
    "# -*- coding: utf-8 -*-\n",
    "\n",
    "a=100\n",
    "b=200\n",
    "\n",
    "def foo():\n",
    "    # 함수 안에서 함수 밖의 변수 식별 가능(파이썬 특징)\n",
    "    # -> 함수 안에서는 가급적 바깥의 변수를 사용하지 않고 파라미터를 이용하는 것이 바람직\n",
    "    c= a+b\n",
    "    print(c)\n",
    "\n",
    "foo()\n",
    "\n",
    "#함수 밖에서는 함수 내부에서 생성된 변수 식별 불가\n",
    "# print(c)"
   ]
  }
 ],
 "metadata": {
  "kernelspec": {
   "display_name": "Python 3",
   "language": "python",
   "name": "python3"
  },
  "language_info": {
   "codemirror_mode": {
    "name": "ipython",
    "version": 3
   },
   "file_extension": ".py",
   "mimetype": "text/x-python",
   "name": "python",
   "nbconvert_exporter": "python",
   "pygments_lexer": "ipython3",
   "version": "3.8.0"
  }
 },
 "nbformat": 4,
 "nbformat_minor": 5
}
