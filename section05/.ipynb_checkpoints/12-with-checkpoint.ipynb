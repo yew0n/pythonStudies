{
 "cells": [
  {
   "cell_type": "code",
   "execution_count": 1,
   "id": "drawn-rough",
   "metadata": {},
   "outputs": [
    {
     "name": "stdout",
     "output_type": "stream",
     "text": [
      "파일 저장이 완료되었습니다.\n",
      "0 >> Life is too short, you need python\n",
      "1 >> Life is too short, you need python\n",
      "2 >> Life is too short, you need python\n",
      "3 >> Life is too short, you need python\n",
      "4 >> Life is too short, you need python\n",
      "5 >> Life is too short, you need python\n",
      "6 >> Life is too short, you need python\n",
      "7 >> Life is too short, you need python\n",
      "8 >> Life is too short, you need python\n",
      "9 >> Life is too short, you need python\n",
      "\n"
     ]
    }
   ],
   "source": [
    "# -*- coding: utf-8 -*-\n",
    "\n",
    "# 쓰기 모드로 파일 객체 생성, 이전 예제와 동일하나 f.close()처리를 자동 수행\n",
    "with open(\"hellopython.txt\", \"w\", encoding='utf-8') as f:\n",
    "    #with 블록 안에서만 파일 객체 f 유효\n",
    "    for i in range(0,10):\n",
    "        f.write(\"%d >> \" % i)\n",
    "        f.write(\"Life is too short, \")\n",
    "        f.write(\"you need python\\n\")\n",
    "        \n",
    "    print(\"파일 저장이 완료되었습니다.\")\n",
    "    \n",
    "#읽기모드에서 파일 객체 생성\n",
    "# 'w' 에서 'r'로 모드가 변경되어야 하므로 파일객체 새로 생성\n",
    "with open(\"hellopython.txt\", \"r\", encoding='utf-8') as f:\n",
    "    #파일의 내용을 변수에 저장\n",
    "    data = f.read()\n",
    "    print(data)"
   ]
  }
 ],
 "metadata": {
  "kernelspec": {
   "display_name": "Python 3",
   "language": "python",
   "name": "python3"
  },
  "language_info": {
   "codemirror_mode": {
    "name": "ipython",
    "version": 3
   },
   "file_extension": ".py",
   "mimetype": "text/x-python",
   "name": "python",
   "nbconvert_exporter": "python",
   "pygments_lexer": "ipython3",
   "version": "3.8.0"
  }
 },
 "nbformat": 4,
 "nbformat_minor": 5
}
