{
 "cells": [
  {
   "cell_type": "code",
   "execution_count": 2,
   "id": "closing-insulin",
   "metadata": {},
   "outputs": [
    {
     "name": "stdout",
     "output_type": "stream",
     "text": [
      "HelloPython\n",
      "안녕파이썬\n",
      "HelloPython\n",
      "안녕파이썬\n"
     ]
    }
   ],
   "source": [
    "# -*- coding: utf-8 -*-\n",
    "\n",
    "# 함수의 정의\n",
    "def say_hello():\n",
    "    print(\"HelloPython\")\n",
    "    print(\"안녕파이썬\")\n",
    "    \n",
    "# 정의된 함수는 호출되어야만 실행된다\n",
    "say_hello()\n",
    "say_hello()"
   ]
  }
 ],
 "metadata": {
  "kernelspec": {
   "display_name": "Python 3",
   "language": "python",
   "name": "python3"
  },
  "language_info": {
   "codemirror_mode": {
    "name": "ipython",
    "version": 3
   },
   "file_extension": ".py",
   "mimetype": "text/x-python",
   "name": "python",
   "nbconvert_exporter": "python",
   "pygments_lexer": "ipython3",
   "version": "3.8.0"
  }
 },
 "nbformat": 4,
 "nbformat_minor": 5
}
