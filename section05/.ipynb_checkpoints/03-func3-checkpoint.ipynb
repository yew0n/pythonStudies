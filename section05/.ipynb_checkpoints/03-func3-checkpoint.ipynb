{
 "cells": [
  {
   "cell_type": "code",
   "execution_count": 3,
   "id": "educated-newspaper",
   "metadata": {},
   "outputs": [
    {
     "name": "stdout",
     "output_type": "stream",
     "text": [
      "sum(1, 2, 3) => 1 + 2 + 3 = 6\n",
      "sum(10, 20, 0) => 10 + 20 + 0 = 30\n",
      "sum(30, 20, 10) => 30 + 20 + 10 = 60\n",
      "sum(30, 20, 0) => 30 + 20 + 0 = 50\n"
     ]
    }
   ],
   "source": [
    "# -*- coding: utf-8 -*-\n",
    "\n",
    "#파라미터 초기값 설정하기 => 뒤에서부터 설정 가능\n",
    "# sum1(x, y=0, z)는 에러 발생\n",
    "def sum1(x, y, z=0):\n",
    "    fpl = \"sum({0}, {1}, {2}) => {0} + {1} + {2} = {3}\"\n",
    "    print(fpl.format(x,y,z,x+y+z))\n",
    "    \n",
    "# 모든 파라미터 값을 전달하며 함수 호출\n",
    "sum1(1,2,3)\n",
    "\n",
    "# 초기값이 설정된 파라미터는 호출시 생략 가능\n",
    "sum1(10,20)\n",
    "\n",
    "# 파라미터 이름을 지정한 호출 -> 파라미터 전달 순서 무시 \n",
    "sum1(z=10, y=20, x=30)\n",
    "\n",
    "# 기본값이 없는 파라미터는 생략 불가\n",
    "sum1(y=20, x=30)"
   ]
  }
 ],
 "metadata": {
  "kernelspec": {
   "display_name": "Python 3",
   "language": "python",
   "name": "python3"
  },
  "language_info": {
   "codemirror_mode": {
    "name": "ipython",
    "version": 3
   },
   "file_extension": ".py",
   "mimetype": "text/x-python",
   "name": "python",
   "nbconvert_exporter": "python",
   "pygments_lexer": "ipython3",
   "version": "3.8.0"
  }
 },
 "nbformat": 4,
 "nbformat_minor": 5
}
