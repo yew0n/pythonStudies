{
 "cells": [
  {
   "cell_type": "code",
   "execution_count": 1,
   "id": "earlier-villa",
   "metadata": {},
   "outputs": [
    {
     "name": "stdout",
     "output_type": "stream",
     "text": [
      "helloworld\n"
     ]
    }
   ],
   "source": [
    "# -*- coding: utf-8 -*-\n",
    "\n",
    "#기본형\n",
    "print(\"helloworld\")"
   ]
  },
  {
   "cell_type": "code",
   "execution_count": 2,
   "id": "internal-signal",
   "metadata": {},
   "outputs": [
    {
     "name": "stdout",
     "output_type": "stream",
     "text": [
      "Lifeisshort\n",
      "Lifeisshort\n"
     ]
    }
   ],
   "source": [
    "#문자열연결\n",
    "print(\"Life\"+\"is\"+\"short\")\n",
    "print(\"Life\" \"is\" \"short\")"
   ]
  },
  {
   "cell_type": "code",
   "execution_count": 3,
   "id": "former-peoples",
   "metadata": {},
   "outputs": [
    {
     "name": "stdout",
     "output_type": "stream",
     "text": [
      "Life is short 100\n"
     ]
    }
   ],
   "source": [
    "# 문장을 콤마로 구분 시 띄어쓰기 수행\n",
    "a=100\n",
    "print(\"Life\",\"is\",\"short\",a)"
   ]
  },
  {
   "cell_type": "code",
   "execution_count": 4,
   "id": "subsequent-naples",
   "metadata": {},
   "outputs": [
    {
     "name": "stdout",
     "output_type": "stream",
     "text": [
      "Life is short "
     ]
    }
   ],
   "source": [
    "# 출력할 내용 구성 후 마지막에 end=\"\"라고 지정 시 줄바꿈 수행 x\n",
    "print(\"Life \", end=\"\")\n",
    "print(\"is \", end=\"\")\n",
    "print(\"short \", end=\"\")"
   ]
  },
  {
   "cell_type": "code",
   "execution_count": 5,
   "id": "cathedral-variable",
   "metadata": {},
   "outputs": [
    {
     "name": "stdout",
     "output_type": "stream",
     "text": [
      "You need Python~~^^"
     ]
    }
   ],
   "source": [
    "# end는 출력 후 마무리를 어떻게 할지 지정하는 기능\n",
    "# -> 기본값 = 줄바꿈\n",
    "print(\"You\",\"need\", \"Python\", end=\"~~^^\")"
   ]
  }
 ],
 "metadata": {
  "kernelspec": {
   "display_name": "Python 3",
   "language": "python",
   "name": "python3"
  },
  "language_info": {
   "codemirror_mode": {
    "name": "ipython",
    "version": 3
   },
   "file_extension": ".py",
   "mimetype": "text/x-python",
   "name": "python",
   "nbconvert_exporter": "python",
   "pygments_lexer": "ipython3",
   "version": "3.8.0"
  }
 },
 "nbformat": 4,
 "nbformat_minor": 5
}
