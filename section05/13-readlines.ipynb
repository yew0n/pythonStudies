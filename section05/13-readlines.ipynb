{
 "cells": [
  {
   "cell_type": "code",
   "execution_count": 1,
   "id": "african-tamil",
   "metadata": {},
   "outputs": [
    {
     "name": "stdout",
     "output_type": "stream",
     "text": [
      "['Hello Python!!!\\n', '안녕하세요. 파이썬!!\\n']\n",
      "읽어들인 데이터는 총 2줄 입니다.\n",
      "Hello Python!!!\n",
      "안녕하세요. 파이썬!!\n"
     ]
    }
   ],
   "source": [
    "# -*- coding: utf-8 -*-\n",
    "\n",
    "with open(\"helloworld.txt\", 'r', encoding='utf-8') as f:\n",
    "    #파일의 각 행을 원소로 갖는 리스트 생성\n",
    "    lines = f.readlines()\n",
    "    print(lines)\n",
    "    \n",
    "    #전체 리스트의 크기 확인\n",
    "    size = len(lines)\n",
    "    print(\"읽어들인 데이터는 총 %d줄 입니다.\" % size)\n",
    "    \n",
    "    for item in lines:\n",
    "        #읽어들인 데이터에 줄바꿈 문자가 포함되므로 공백 제거 필요\n",
    "        print(item.strip())"
   ]
  },
  {
   "cell_type": "code",
   "execution_count": null,
   "id": "early-cabin",
   "metadata": {},
   "outputs": [],
   "source": []
  }
 ],
 "metadata": {
  "kernelspec": {
   "display_name": "Python 3",
   "language": "python",
   "name": "python3"
  },
  "language_info": {
   "codemirror_mode": {
    "name": "ipython",
    "version": 3
   },
   "file_extension": ".py",
   "mimetype": "text/x-python",
   "name": "python",
   "nbconvert_exporter": "python",
   "pygments_lexer": "ipython3",
   "version": "3.8.0"
  }
 },
 "nbformat": 4,
 "nbformat_minor": 5
}
