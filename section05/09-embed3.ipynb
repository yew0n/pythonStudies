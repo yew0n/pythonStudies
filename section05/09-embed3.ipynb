{
 "cells": [
  {
   "cell_type": "code",
   "execution_count": 1,
   "id": "funded-azerbaijan",
   "metadata": {},
   "outputs": [
    {
     "data": {
      "text/plain": [
       "3"
      ]
     },
     "execution_count": 1,
     "metadata": {},
     "output_type": "execute_result"
    }
   ],
   "source": [
    "# -*- coding: utf-8 -*-\n",
    "# 내장함수 사용\n",
    "\n",
    "# 반복 가능한 자료형(리스트, 튜플, 문자열, 딕셔너리)의 길이 구하기\n",
    "# -> 문자열의 경우 각 글자를 리스트의 원소로 변환\n",
    "a= [1,2,3]\n",
    "size=len(a)\n",
    "size"
   ]
  },
  {
   "cell_type": "code",
   "execution_count": 2,
   "id": "finished-turkish",
   "metadata": {},
   "outputs": [
    {
     "name": "stdout",
     "output_type": "stream",
     "text": [
      "3\n",
      "1\n",
      "6\n"
     ]
    }
   ],
   "source": [
    "#리스트, 튜플 중 최대값, 최소값, 합계 구하기 -> 문자열은 계산 불가\n",
    "print(max(a))\n",
    "print(min(a))\n",
    "print(sum(a))"
   ]
  },
  {
   "cell_type": "code",
   "execution_count": 3,
   "id": "toxic-sullivan",
   "metadata": {},
   "outputs": [
    {
     "name": "stdout",
     "output_type": "stream",
     "text": [
      "2.0\n"
     ]
    }
   ],
   "source": [
    "# 평균을 구하는 기능은 없으므로 직접 계산 필요\n",
    "avg = sum(a) / len(a)\n",
    "print(avg)"
   ]
  },
  {
   "cell_type": "code",
   "execution_count": 4,
   "id": "crazy-wilson",
   "metadata": {},
   "outputs": [
    {
     "name": "stdout",
     "output_type": "stream",
     "text": [
      "['P', 'y', 't', 'h', 'o', 'n']\n"
     ]
    }
   ],
   "source": [
    "# 반복 가능한 자료형을 리스트로 변환 -> 문자열의 경우 글자들의 모음으로 변환\n",
    "a = \"Python\"\n",
    "b = list(a)\n",
    "#b = tuple(a)\n",
    "print(b)"
   ]
  },
  {
   "cell_type": "code",
   "execution_count": 7,
   "id": "greater-integrity",
   "metadata": {},
   "outputs": [
    {
     "name": "stdout",
     "output_type": "stream",
     "text": [
      "[1, 2, 3]\n",
      "(10, 20, 30)\n"
     ]
    }
   ],
   "source": [
    "# 튜플을 리스트 / 리스트를 튜플로 변환\n",
    "c = (1,2,3)\n",
    "d = list(c)\n",
    "#d=list(c)\n",
    "print(d)\n",
    "\n",
    "e = [10,20,30]\n",
    "#f=list(e)\n",
    "f=tuple(e)\n",
    "print(f)"
   ]
  },
  {
   "cell_type": "code",
   "execution_count": 8,
   "id": "liquid-eating",
   "metadata": {},
   "outputs": [
    {
     "name": "stdout",
     "output_type": "stream",
     "text": [
      "['a', 'b']\n"
     ]
    }
   ],
   "source": [
    "# 딕셔너리의 경우 key만 추려서 리스트/튜플로 변환\n",
    "g = {\"a\":100, \"b\":200}\n",
    "h = list(g.keys())\n",
    "#h=tuple(g.keys())\n",
    "print(h)"
   ]
  },
  {
   "cell_type": "code",
   "execution_count": 10,
   "id": "phantom-mobile",
   "metadata": {},
   "outputs": [
    {
     "data": {
      "text/plain": [
       "[100, 200]"
      ]
     },
     "execution_count": 10,
     "metadata": {},
     "output_type": "execute_result"
    }
   ],
   "source": [
    "# 딕셔너리의 경우 value만 추려서 리스트/튜플로 변환\n",
    "i=list(g.values())\n",
    "#i=tuple(g.values())\n",
    "i"
   ]
  },
  {
   "cell_type": "code",
   "execution_count": 11,
   "id": "further-rainbow",
   "metadata": {},
   "outputs": [
    {
     "name": "stdout",
     "output_type": "stream",
     "text": [
      "<class 'range'>\n",
      "range(1, 10)\n"
     ]
    }
   ],
   "source": [
    "# 1부터 10전까지 1씩 증가하는 range 객체 생성\n",
    "k = range(1,10)\n",
    "print(type(k))\n",
    "print(k)"
   ]
  },
  {
   "cell_type": "code",
   "execution_count": 12,
   "id": "upset-lodge",
   "metadata": {},
   "outputs": [
    {
     "name": "stdout",
     "output_type": "stream",
     "text": [
      "<class 'list'>\n",
      "[1, 2, 3, 4, 5, 6, 7, 8, 9]\n"
     ]
    }
   ],
   "source": [
    "# list() 함수를 사용, 리스트로 변환하여 사용 가능\n",
    "mylist = list(k)\n",
    "print(type(mylist))\n",
    "print(mylist)"
   ]
  },
  {
   "cell_type": "code",
   "execution_count": 13,
   "id": "seeing-tennis",
   "metadata": {},
   "outputs": [
    {
     "name": "stdout",
     "output_type": "stream",
     "text": [
      "[1, 4, 7]\n"
     ]
    }
   ],
   "source": [
    "# 1부터 10전까지 3씩 증가하는 range 객체를 list로 변환\n",
    "k = list(range(1,10,3))\n",
    "print(k)"
   ]
  },
  {
   "cell_type": "code",
   "execution_count": 14,
   "id": "insured-ending",
   "metadata": {},
   "outputs": [
    {
     "name": "stdout",
     "output_type": "stream",
     "text": [
      "[1, 2, 3, 4, 5]\n"
     ]
    }
   ],
   "source": [
    "# 리스트 자체를 정렬하기\n",
    "data = [1,4,2,3,5]\n",
    "data.sort()\n",
    "print(data)    #원본 리스트 자체가 정렬, 리턴값X"
   ]
  },
  {
   "cell_type": "code",
   "execution_count": 15,
   "id": "twenty-deadline",
   "metadata": {},
   "outputs": [
    {
     "name": "stdout",
     "output_type": "stream",
     "text": [
      "[1, 4, 2, 3, 5]\n",
      "[1, 2, 3, 4, 5]\n"
     ]
    }
   ],
   "source": [
    "data = [1,4,2,3,5]\n",
    "k = sorted(data)\n",
    "print(data)    #원본 변화 없음\n",
    "print(k)       #정렬된 결과 리턴"
   ]
  }
 ],
 "metadata": {
  "kernelspec": {
   "display_name": "Python 3",
   "language": "python",
   "name": "python3"
  },
  "language_info": {
   "codemirror_mode": {
    "name": "ipython",
    "version": 3
   },
   "file_extension": ".py",
   "mimetype": "text/x-python",
   "name": "python",
   "nbconvert_exporter": "python",
   "pygments_lexer": "ipython3",
   "version": "3.8.0"
  }
 },
 "nbformat": 4,
 "nbformat_minor": 5
}
