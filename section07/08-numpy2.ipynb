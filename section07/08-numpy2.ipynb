{
 "cells": [
  {
   "cell_type": "code",
   "execution_count": 1,
   "id": "effective-cholesterol",
   "metadata": {},
   "outputs": [
    {
     "name": "stdout",
     "output_type": "stream",
     "text": [
      "[82 77 91 88]\n"
     ]
    }
   ],
   "source": [
    "#-*- coding: utf-8 -*-\n",
    "\n",
    "#모듈 GET\n",
    "import numpy\n",
    "\n",
    "#-----------------------------\n",
    "# 1)numpy 배열의 기초 통계값\n",
    "#-----------------------------\n",
    "#예제를 위한 배열 구성\n",
    "grade = numpy.array([82, 77, 91, 88])\n",
    "print(grade)"
   ]
  },
  {
   "cell_type": "code",
   "execution_count": 2,
   "id": "guided-occurrence",
   "metadata": {},
   "outputs": [
    {
     "name": "stdout",
     "output_type": "stream",
     "text": [
      "총점 : 338\n"
     ]
    }
   ],
   "source": [
    "#모든 원소의 합\n",
    "s1 = numpy.sum(grade)\n",
    "print(\"총점 : %d\" % s1)"
   ]
  },
  {
   "cell_type": "code",
   "execution_count": 3,
   "id": "wooden-filling",
   "metadata": {},
   "outputs": [
    {
     "name": "stdout",
     "output_type": "stream",
     "text": [
      "평균 : 84 \n"
     ]
    }
   ],
   "source": [
    "#모든 원소의 평균\n",
    "s2 = numpy.average(grade)\n",
    "print(\"평균 : %d \" % s2)"
   ]
  },
  {
   "cell_type": "code",
   "execution_count": 6,
   "id": "opened-advisory",
   "metadata": {},
   "outputs": [
    {
     "name": "stdout",
     "output_type": "stream",
     "text": [
      "최대값 : 91, 최소값 : 77\n"
     ]
    }
   ],
   "source": [
    "#최대, 최소값\n",
    "s3 = numpy.max(grade)\n",
    "s4 = numpy.min(grade)\n",
    "print(\"최대값 : %d, 최소값 : %d\" % (s3, s4))"
   ]
  },
  {
   "cell_type": "code",
   "execution_count": 7,
   "id": "illegal-participation",
   "metadata": {},
   "outputs": [
    {
     "name": "stdout",
     "output_type": "stream",
     "text": [
      "[84 79 93 90]\n",
      "[77 72 86 83]\n"
     ]
    }
   ],
   "source": [
    "#-----------------------------\n",
    "# 2) numpy 배열의 각 원소에 대한 연산\n",
    "#-----------------------------\n",
    "#모든 원소에 대한 사칙연산 수행\n",
    "# -> 모든 원소에 대하여 2씩 더함\n",
    "new1 = grade+2\n",
    "print(new1)\n",
    "\n",
    "# -> 모든 원소에 대하여 5씩 뺌\n",
    "new2 = grade-5\n",
    "print(new2)"
   ]
  },
  {
   "cell_type": "code",
   "execution_count": 8,
   "id": "level-distance",
   "metadata": {},
   "outputs": [
    {
     "name": "stdout",
     "output_type": "stream",
     "text": [
      "[10 15 20 25 30]\n",
      "[2 3 4 5 6]\n"
     ]
    }
   ],
   "source": [
    "#-----------------------------\n",
    "# 3) numpy 배열끼리의 연산(1)\n",
    "#-----------------------------\n",
    "# 연산자를 사용한 배열간 연산 => 위치가 동일한 각 원소끼리 수행\n",
    "arr1 = numpy.array([10,15,20,25,30])\n",
    "arr2 = numpy.array([2,3,4,5,6])\n",
    "print(arr1)\n",
    "print(arr2)"
   ]
  },
  {
   "cell_type": "code",
   "execution_count": 10,
   "id": "finite-mayor",
   "metadata": {},
   "outputs": [
    {
     "name": "stdout",
     "output_type": "stream",
     "text": [
      "[12 18 24 30 36]\n"
     ]
    }
   ],
   "source": [
    "a = arr1+arr2\n",
    "print(a)"
   ]
  },
  {
   "cell_type": "code",
   "execution_count": 11,
   "id": "antique-thursday",
   "metadata": {},
   "outputs": [
    {
     "name": "stdout",
     "output_type": "stream",
     "text": [
      "[ 8 12 16 20 24]\n"
     ]
    }
   ],
   "source": [
    "b = arr1-arr2\n",
    "print(b)"
   ]
  },
  {
   "cell_type": "code",
   "execution_count": 12,
   "id": "sixth-shelter",
   "metadata": {},
   "outputs": [
    {
     "name": "stdout",
     "output_type": "stream",
     "text": [
      "[ 20  45  80 125 180]\n"
     ]
    }
   ],
   "source": [
    "c = arr1*arr2\n",
    "print(c)"
   ]
  },
  {
   "cell_type": "code",
   "execution_count": 13,
   "id": "forbidden-killer",
   "metadata": {},
   "outputs": [
    {
     "name": "stdout",
     "output_type": "stream",
     "text": [
      "[5. 5. 5. 5. 5.]\n"
     ]
    }
   ],
   "source": [
    "d = arr1/arr2\n",
    "print(d)"
   ]
  },
  {
   "cell_type": "code",
   "execution_count": 14,
   "id": "excessive-robert",
   "metadata": {},
   "outputs": [
    {
     "name": "stdout",
     "output_type": "stream",
     "text": [
      "[10 15 20 25 30]\n",
      "[2 3 4 5 6]\n",
      "[12 18 24 30 36]\n",
      "[ 8 12 16 20 24]\n",
      "[ 20  45  80 125 180]\n",
      "[5. 5. 5. 5. 5.]\n"
     ]
    }
   ],
   "source": [
    "#-----------------------------\n",
    "# 4) numpy 배열끼리의 연산(2)\n",
    "#----------------------------\n",
    "\n",
    "#numpy 모듈의 함수를 사용한 배열간 연산 => 연산자와 동일 결과\n",
    "\n",
    "arr1 = numpy.array([10,15,20,25,30])\n",
    "arr2 = numpy.array([2,3,4,5,6])\n",
    "print(arr1)\n",
    "print(arr2)\n",
    "\n",
    "a = numpy.add(arr1, arr2)\n",
    "print(a)\n",
    "\n",
    "b = numpy.subtract(arr1, arr2)\n",
    "print(b)\n",
    "\n",
    "c = numpy.multiply(arr1, arr2)\n",
    "print(c)\n",
    "\n",
    "d = numpy.divide(arr1, arr2)\n",
    "print(d)"
   ]
  }
 ],
 "metadata": {
  "kernelspec": {
   "display_name": "Python 3",
   "language": "python",
   "name": "python3"
  },
  "language_info": {
   "codemirror_mode": {
    "name": "ipython",
    "version": 3
   },
   "file_extension": ".py",
   "mimetype": "text/x-python",
   "name": "python",
   "nbconvert_exporter": "python",
   "pygments_lexer": "ipython3",
   "version": "3.8.0"
  }
 },
 "nbformat": 4,
 "nbformat_minor": 5
}
