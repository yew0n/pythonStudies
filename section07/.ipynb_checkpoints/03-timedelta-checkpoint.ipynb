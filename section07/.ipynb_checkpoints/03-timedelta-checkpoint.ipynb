{
 "cells": [
  {
   "cell_type": "code",
   "execution_count": 1,
   "id": "liable-transcript",
   "metadata": {},
   "outputs": [
    {
     "name": "stdout",
     "output_type": "stream",
     "text": [
      "311 days, 12:22:29.615948\n"
     ]
    }
   ],
   "source": [
    "# -*- coding: utf-8 -*-\n",
    "\n",
    "#날짜 처리 모듈 로드\n",
    "import datetime as dt\n",
    "\n",
    "#두 날짜 만들기\n",
    "dt1 = dt.datetime.now()\n",
    "#내년 1월1일 자정\n",
    "dt2 = dt.datetime(dt1.year+1, 1, 1, 0, 0, 0)\n",
    "\n",
    "#두 날짜의 차를 구한 결과 = timedelta 객체 형식\n",
    "td = dt2-dt1\n",
    "print(td)"
   ]
  },
  {
   "cell_type": "code",
   "execution_count": 2,
   "id": "inclusive-canada",
   "metadata": {},
   "outputs": [
    {
     "name": "stdout",
     "output_type": "stream",
     "text": [
      "311\n",
      "44549\n",
      "올해는 311일 남았습니다.\n"
     ]
    }
   ],
   "source": [
    "#timedelta 객체에 내장된 변수 (=속성)\n",
    "\n",
    "#날짜만 추출\n",
    "print(td.days)\n",
    "#날짜 제외 시간/분/초 단위를 모두 초로 합산한 값\n",
    "print(td.seconds)\n",
    "print(\"올해는 %d일 남았습니다.\" % td.days)"
   ]
  },
  {
   "cell_type": "code",
   "execution_count": 4,
   "id": "cultural-publication",
   "metadata": {},
   "outputs": [
    {
     "name": "stdout",
     "output_type": "stream",
     "text": [
      "26914949.615948\n"
     ]
    }
   ],
   "source": [
    "#모든 속성을 초 단위로 모아서 반환\n",
    "# -> ex) 25일에 해당하는 초를 구한 후 44549를 더한 결과 반환\n",
    "result = td.total_seconds()\n",
    "print(result)"
   ]
  },
  {
   "cell_type": "code",
   "execution_count": 5,
   "id": "determined-vertex",
   "metadata": {},
   "outputs": [
    {
     "data": {
      "text/plain": [
       "'21/06/03 12:40:33'"
      ]
     },
     "execution_count": 5,
     "metadata": {},
     "output_type": "execute_result"
    }
   ],
   "source": [
    "# 특정 시각(혹은 현재시각)에 timedelta 객체를 더해 연산결과 얻기\n",
    "now_time = dt.datetime.now()\n",
    "\n",
    "# timedelta 객체 만들기 (더할 값) --> 100일+3600초\n",
    "d=dt.timedelta(days=100, seconds=3600)\n",
    "\n",
    "#연산결과는 datetime객체가 된다\n",
    "after_time = now_time+d\n",
    "after_time.strftime(\"%y/%m/%d %H:%M:%S\")"
   ]
  }
 ],
 "metadata": {
  "kernelspec": {
   "display_name": "Python 3",
   "language": "python",
   "name": "python3"
  },
  "language_info": {
   "codemirror_mode": {
    "name": "ipython",
    "version": 3
   },
   "file_extension": ".py",
   "mimetype": "text/x-python",
   "name": "python",
   "nbconvert_exporter": "python",
   "pygments_lexer": "ipython3",
   "version": "3.8.0"
  }
 },
 "nbformat": 4,
 "nbformat_minor": 5
}
