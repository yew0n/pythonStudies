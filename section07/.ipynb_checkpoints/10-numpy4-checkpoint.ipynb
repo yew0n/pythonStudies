{
 "cells": [
  {
   "cell_type": "code",
   "execution_count": 1,
   "id": "dried-bunch",
   "metadata": {},
   "outputs": [
    {
     "name": "stdout",
     "output_type": "stream",
     "text": [
      "[[98 72 82 64]\n",
      " [88 90 80 72]\n",
      " [92 88 82 76]]\n"
     ]
    }
   ],
   "source": [
    "#-*- coding: utf-8 -*-\n",
    "\n",
    "import numpy\n",
    "\n",
    "#-----------------------------\n",
    "# 1)numpy 2차배열 생성 및 기본정보 조회\n",
    "#-----------------------------\n",
    "\n",
    "#철수의 학년-과목별 점수\n",
    "grade = numpy.array([\n",
    "    [98, 72, 82, 64], #kor\n",
    "    [88, 90, 80, 72], #eng\n",
    "    [92, 88, 82, 76]  #math\n",
    "])\n",
    "print(grade)"
   ]
  },
  {
   "cell_type": "code",
   "execution_count": 3,
   "id": "useful-collect",
   "metadata": {},
   "outputs": [
    {
     "name": "stdout",
     "output_type": "stream",
     "text": [
      "차원크기 : 2 \n",
      "(3, 4)\n",
      "int32\n"
     ]
    }
   ],
   "source": [
    "#배열정보 (차원크기)\n",
    "print(\"차원크기 : %d \" % grade.ndim)\n",
    "# 각차원의 원소수 튜플로 표시한것\n",
    "print(grade.shape)\n",
    "# 각원소의 타입\n",
    "print(grade.dtype)"
   ]
  },
  {
   "cell_type": "code",
   "execution_count": 4,
   "id": "beautiful-italy",
   "metadata": {},
   "outputs": [
    {
     "name": "stdout",
     "output_type": "stream",
     "text": [
      "80\n",
      "[[90 80 72]\n",
      " [88 82 76]]\n",
      "[[98 72 82]\n",
      " [88 90 80]]\n",
      "[[80 72]\n",
      " [82 76]]\n"
     ]
    }
   ],
   "source": [
    "#-----------------------------\n",
    "# 2) 기본 인덱싱과 슬라이싱\n",
    "#-----------------------------\n",
    "#정수형 인덱싱\n",
    "print(grade[1,2])\n",
    "\n",
    "#슬라이싱\n",
    "# 1~3행 전까지, 1~4열 전까지\n",
    "print(grade[1:3, 1:4])\n",
    "\n",
    "# 0~2행 전까지, 0~3열 전까지\n",
    "print(grade[:2, :3])\n",
    "\n",
    "# 1~끝행, 2~끝열\n",
    "print(grade[1:, 2:])"
   ]
  },
  {
   "cell_type": "code",
   "execution_count": 5,
   "id": "silver-fusion",
   "metadata": {},
   "outputs": [
    {
     "name": "stdout",
     "output_type": "stream",
     "text": [
      "<class 'numpy.ndarray'>\n",
      "[278 250 244 212]\n",
      "<class 'numpy.ndarray'>\n",
      "[316 330 338]\n"
     ]
    }
   ],
   "source": [
    "#-----------------------------\n",
    "# 3) 기초통계산출\n",
    "#-----------------------------\n",
    "#각열끼리 더함 (세로로 덧셈) 결과타입=numpy의 1차배열\n",
    "# = = 과목별 합계\n",
    "s1 = numpy.sum(grade, axis=0)\n",
    "print(type(s1))\n",
    "print(s1)\n",
    "\n",
    "#각 행끼리 더함(가로로 덧셈) =학년별 전과목 합계\n",
    "s2 = numpy.sum(grade, axis=1)\n",
    "print(type(s2))\n",
    "print(s2)"
   ]
  },
  {
   "cell_type": "code",
   "execution_count": 7,
   "id": "industrial-halifax",
   "metadata": {},
   "outputs": [
    {
     "name": "stdout",
     "output_type": "stream",
     "text": [
      "[98 82 88 90 80 92 88 82]\n",
      "[98 82 88 90 80 92 88 82]\n",
      "[82 88 90 80 88 82]\n",
      "[98 72 82 64 88 90 80 72 92 88 82 76]\n"
     ]
    }
   ],
   "source": [
    "#-----------------------------\n",
    "# 4) 조건에 맞는 값 추출\n",
    "#-----------------------------\n",
    "#bool형 인덱싱\n",
    "bool_array = numpy.array([\n",
    "    [True, False, True, False],\n",
    "    [True, True, True, False],\n",
    "    [True, True, True, False]\n",
    "])\n",
    "\n",
    "#조건에 맞는 항목만 1차배열로 추출\n",
    "result1 = grade[bool_array]\n",
    "print(result1)\n",
    "\n",
    "#80점 이상인지 판별하여 조건에 맞는 데이터만 추려냄 => 1차배열\n",
    "result2 = grade[grade>=80]\n",
    "print(result2)\n",
    "\n",
    "#logical_and 함수를 사용, 80점이상 & 90점이하인 데이터만 추려냄\n",
    "result3 = grade[numpy.logical_and(grade>=80, grade<=90)]\n",
    "print(result3)\n",
    "\n",
    "#logical_and 함수를 사용, 80점미만 | 90점초과인 데이터만 추려냄\n",
    "result4 = grade[numpy.logical_or(grade<80, grade>0)]\n",
    "print(result4)"
   ]
  }
 ],
 "metadata": {
  "kernelspec": {
   "display_name": "Python 3",
   "language": "python",
   "name": "python3"
  },
  "language_info": {
   "codemirror_mode": {
    "name": "ipython",
    "version": 3
   },
   "file_extension": ".py",
   "mimetype": "text/x-python",
   "name": "python",
   "nbconvert_exporter": "python",
   "pygments_lexer": "ipython3",
   "version": "3.8.0"
  }
 },
 "nbformat": 4,
 "nbformat_minor": 5
}
