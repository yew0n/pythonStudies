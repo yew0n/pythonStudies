{
 "cells": [
  {
   "cell_type": "code",
   "execution_count": 1,
   "id": "adult-beast",
   "metadata": {},
   "outputs": [
    {
     "name": "stdout",
     "output_type": "stream",
     "text": [
      "[82 77 91 88]\n"
     ]
    }
   ],
   "source": [
    "#-*- coding: utf-8 -*-\n",
    "\n",
    "import numpy\n",
    "\n",
    "#-----------------------------\n",
    "# 1)numpy 배열의 기본 인덱싱, 슬라이싱\n",
    "#-----------------------------\n",
    "\n",
    "#철수의 1학년~4학년까지의 평균점수\n",
    "grade = numpy.array([82,77,91,88])\n",
    "print(grade)"
   ]
  },
  {
   "cell_type": "code",
   "execution_count": 2,
   "id": "unlike-architecture",
   "metadata": {},
   "outputs": [
    {
     "name": "stdout",
     "output_type": "stream",
     "text": [
      "91\n",
      "[82 77]\n",
      "[77 91 88]\n"
     ]
    }
   ],
   "source": [
    "#인덱싱 -> 2열(0부터 카운트)\n",
    "print(grade[2])\n",
    "\n",
    "#슬라이싱\n",
    "print(grade[:2])\n",
    "print(grade[1:])"
   ]
  },
  {
   "cell_type": "code",
   "execution_count": 4,
   "id": "moderate-aviation",
   "metadata": {},
   "outputs": [
    {
     "name": "stdout",
     "output_type": "stream",
     "text": [
      "[82 91]\n",
      "[82 91 88]\n",
      "[82 88]\n",
      "[82 77 91 88]\n"
     ]
    }
   ],
   "source": [
    "#-----------------------------\n",
    "# 2) 조건에 맞는 값 추출하기\n",
    "#-----------------------------\n",
    "\n",
    "# 추출하고자 하는 원본과 같은 사이즈의 배열 생성 => 추출할값:True, 추출X값:False\n",
    "bool_array = numpy.array([True, False, True, False])\n",
    "\n",
    "#조건에 맞는 항목만 1차 배열로 추출\n",
    "result1 = grade[bool_array]\n",
    "print(result1)\n",
    "\n",
    "#80점 이상인지 판별된 조건에 맞는 데이터만 추려냄\n",
    "result2 = grade[grade>=80]\n",
    "print(result2)\n",
    "\n",
    "#logical_and 함수를 사용, 80점이상 & 90점이하인 데이터만 추려냄\n",
    "result3 = grade[numpy.logical_and(grade>=80, grade<=90)]\n",
    "print(result3)\n",
    "\n",
    "#logical_and 함수를 사용, 80점미만 | 90점초과인 데이터만 추려냄\n",
    "result4 = grade[numpy.logical_or(grade<80, grade>0)]\n",
    "print(result4)"
   ]
  }
 ],
 "metadata": {
  "kernelspec": {
   "display_name": "Python 3",
   "language": "python",
   "name": "python3"
  },
  "language_info": {
   "codemirror_mode": {
    "name": "ipython",
    "version": 3
   },
   "file_extension": ".py",
   "mimetype": "text/x-python",
   "name": "python",
   "nbconvert_exporter": "python",
   "pygments_lexer": "ipython3",
   "version": "3.8.0"
  }
 },
 "nbformat": 4,
 "nbformat_minor": 5
}
