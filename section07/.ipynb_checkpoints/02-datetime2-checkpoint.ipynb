{
 "cells": [
  {
   "cell_type": "code",
   "execution_count": 1,
   "id": "banned-script",
   "metadata": {},
   "outputs": [
    {
     "data": {
      "text/plain": [
       "'20/08/30 13:26:55'"
      ]
     },
     "execution_count": 1,
     "metadata": {},
     "output_type": "execute_result"
    }
   ],
   "source": [
    "# -*- coding: utf-8 -*-\n",
    "\n",
    "#모듈 가져오기\n",
    "import datetime as dt\n",
    "\n",
    "#현재시각이 아닌 특정 시각을 저장하는 날짜 객체 생성\n",
    "#시간지정시 24시간제로 지정, 존재X 월/날짜/시간 값 지정할 경우 에러\n",
    "someday = dt.datetime(2020,8,30,13,26,55)\n",
    "someday.strftime(\"%y/%m/%d %H:%M:%S\")"
   ]
  },
  {
   "cell_type": "code",
   "execution_count": 2,
   "id": "described-jaguar",
   "metadata": {},
   "outputs": [
    {
     "data": {
      "text/plain": [
       "'20/01/28 01:28:00'"
      ]
     },
     "execution_count": 2,
     "metadata": {},
     "output_type": "execute_result"
    }
   ],
   "source": [
    "#날짜 형식의 문자열을 날짜 객체로 변환\n",
    "date_str = \"2020년 01월 28일 01시 28분\"\n",
    "oldday = dt.datetime.strptime(date_str, \"%Y년 %m월 %d일 %H시 %M분\")\n",
    "\n",
    "oldday.strftime(\"%y/%m/%d %H:%M:%S\")"
   ]
  },
  {
   "cell_type": "code",
   "execution_count": 3,
   "id": "patient-browser",
   "metadata": {},
   "outputs": [
    {
     "data": {
      "text/plain": [
       "'21/01/29 15:28:00'"
      ]
     },
     "execution_count": 3,
     "metadata": {},
     "output_type": "execute_result"
    }
   ],
   "source": [
    "#날짜 객체에서 특정 값 변경하기\n",
    "# 단위=값 형식으로 원하는 만큼 지정 가능\n",
    "change_date = oldday.replace(year=2021, day=29, hour=15)\n",
    "change_date.strftime(\"%y/%m/%d %H:%M:%S\")"
   ]
  }
 ],
 "metadata": {
  "kernelspec": {
   "display_name": "Python 3",
   "language": "python",
   "name": "python3"
  },
  "language_info": {
   "codemirror_mode": {
    "name": "ipython",
    "version": 3
   },
   "file_extension": ".py",
   "mimetype": "text/x-python",
   "name": "python",
   "nbconvert_exporter": "python",
   "pygments_lexer": "ipython3",
   "version": "3.8.0"
  }
 },
 "nbformat": 4,
 "nbformat_minor": 5
}
