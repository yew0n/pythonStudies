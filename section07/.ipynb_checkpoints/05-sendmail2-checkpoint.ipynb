{
 "cells": [
  {
   "cell_type": "code",
   "execution_count": 1,
   "id": "shared-restaurant",
   "metadata": {},
   "outputs": [],
   "source": [
    "#-*- coding: utf-8 -*-\n",
    "\n",
    "#헬퍼에 정의된 함수 참조\n",
    "from helper import sendmail\n",
    "\n",
    "from_addr=\"syewon0128@gmail.com\"\n",
    "to_addr=\"syewon0128@gmail.com\"\n",
    "subject = \"테스트 12345\"\n",
    "files = [\"mail/hello.txt\", \"mail/world.txt\"]\n",
    "\n",
    "#----------------------------------\n",
    "# 메일 본문 설정 -> HTML 코드 형식\n",
    "#----------------------------------\n",
    "content = \"\"\"<html>\n",
    "    <head></head>\n",
    "    <body>\n",
    "        <h1>Hi!</h1>\n",
    "        <h2>How are you?</h2>\n",
    "        <p>Here is the <a href=\"http://www.python.org\">link</a>you wanted</p>\n",
    "    </body>\n",
    "</html>\"\"\"\n",
    "\n",
    "#helper 모듈 안에 있는 함수 호출\n",
    "# -> 첨부파일이 없는 경우 마지막 파라미터 생략가능\n",
    "sendmail(from_addr, to_addr, subject, content, files)"
   ]
  }
 ],
 "metadata": {
  "kernelspec": {
   "display_name": "Python 3",
   "language": "python",
   "name": "python3"
  },
  "language_info": {
   "codemirror_mode": {
    "name": "ipython",
    "version": 3
   },
   "file_extension": ".py",
   "mimetype": "text/x-python",
   "name": "python",
   "nbconvert_exporter": "python",
   "pygments_lexer": "ipython3",
   "version": "3.8.0"
  }
 },
 "nbformat": 4,
 "nbformat_minor": 5
}
