{
 "cells": [
  {
   "cell_type": "code",
   "execution_count": 2,
   "id": "double-wings",
   "metadata": {},
   "outputs": [
    {
     "data": {
      "text/plain": [
       "array([1, 3, 5, 7, 9])"
      ]
     },
     "execution_count": 2,
     "metadata": {},
     "output_type": "execute_result"
    }
   ],
   "source": [
    "#-*- coding: utf-8 -*-\n",
    "\n",
    "#모듈 가져오기\n",
    "import numpy\n",
    "\n",
    "#-----------------------------\n",
    "# 1)numpy배열 생성과 기본 활용\n",
    "#-----------------------------\n",
    "\n",
    "#리스트를 통한 1차월 배열 만들기\n",
    "arr = numpy.array([1,3,5,7,9])\n",
    "arr"
   ]
  },
  {
   "cell_type": "code",
   "execution_count": 3,
   "id": "lined-commercial",
   "metadata": {},
   "outputs": [
    {
     "name": "stdout",
     "output_type": "stream",
     "text": [
      "배열의 원소는 5개 입니다.\n"
     ]
    }
   ],
   "source": [
    "#배열의 크기와 각 원소에 접근하기\n",
    "#->내장함수 len()은 모든 연속성 데이터(문자열/리스트/튜플)에 사용 가능\n",
    "size = len(arr)\n",
    "print(\"배열의 원소는 %d개 입니다.\" % size)"
   ]
  },
  {
   "cell_type": "code",
   "execution_count": 4,
   "id": "champion-bracket",
   "metadata": {},
   "outputs": [
    {
     "name": "stdout",
     "output_type": "stream",
     "text": [
      "1\n",
      "3\n",
      "7\n"
     ]
    }
   ],
   "source": [
    "# 배열의 원소에 접근하기 \n",
    "# -> 리스트와 마찬가지로 각 원소에 인덱스 번호로 접근 가능\n",
    "print(arr[0])\n",
    "print(arr[1])\n",
    "print(arr[3])"
   ]
  },
  {
   "cell_type": "code",
   "execution_count": 5,
   "id": "eastern-communist",
   "metadata": {},
   "outputs": [
    {
     "name": "stdout",
     "output_type": "stream",
     "text": [
      "0번째 원소 >> 1\n",
      "1번째 원소 >> 3\n",
      "2번째 원소 >> 5\n",
      "3번째 원소 >> 7\n",
      "4번째 원소 >> 9\n"
     ]
    }
   ],
   "source": [
    "#인덱스가 있기때문에 반복문을 통해 제어할 각 원소에 접근 가능\n",
    "for i,v in enumerate(arr):\n",
    "    print(\"%d번째 원소 >> %d\" % (i,v))"
   ]
  },
  {
   "cell_type": "code",
   "execution_count": 6,
   "id": "atomic-mexico",
   "metadata": {},
   "outputs": [
    {
     "data": {
      "text/plain": [
       "[1.2, 3, '4']"
      ]
     },
     "execution_count": 6,
     "metadata": {},
     "output_type": "execute_result"
    }
   ],
   "source": [
    "#-----------------------------\n",
    "# 2) numpy 배열의 특성\n",
    "#-----------------------------\n",
    "#서로 다른 타입의 원소를 갖는 list 만들기\n",
    "#->파이썬의 리스트는 서로 다른 타입 허용\n",
    "arr2 = [1.2, 3, '4']\n",
    "arr2"
   ]
  },
  {
   "cell_type": "code",
   "execution_count": 7,
   "id": "metropolitan-stuart",
   "metadata": {},
   "outputs": [
    {
     "data": {
      "text/plain": [
       "array([1. , 2.4, 3. , 4.6])"
      ]
     },
     "execution_count": 7,
     "metadata": {},
     "output_type": "execute_result"
    }
   ],
   "source": [
    "#정수와 실수가 섞인 리스트를 배열로 변환\n",
    "#-> 배열은 원소의 타입이 서로 다른것을 허용 X\n",
    "# -> 가장 포괄적인 형태의 자료형으로 통일\n",
    "# -> 여기서는 실수 범위가 더 크므로 모든 원소가 실수형으로 변환\n",
    "arr3 = numpy.array([1,2.4, 3, 4.6])\n",
    "arr3"
   ]
  },
  {
   "cell_type": "code",
   "execution_count": 8,
   "id": "talented-cooper",
   "metadata": {},
   "outputs": [
    {
     "data": {
      "text/plain": [
       "array(['1.2', '3', '4'], dtype='<U32')"
      ]
     },
     "execution_count": 8,
     "metadata": {},
     "output_type": "execute_result"
    }
   ],
   "source": [
    "#정수, 실수, 문자열이 포함된 리스트를 배열로 변환\n",
    "# -> 모든 타입이 문자열로 변환됨\n",
    "arr4 = numpy.array([1.2, 3, '4'])\n",
    "arr4"
   ]
  },
  {
   "cell_type": "code",
   "execution_count": 9,
   "id": "latter-orange",
   "metadata": {},
   "outputs": [
    {
     "data": {
      "text/plain": [
       "array([1, 2, 3, 4])"
      ]
     },
     "execution_count": 9,
     "metadata": {},
     "output_type": "execute_result"
    }
   ],
   "source": [
    "# 모든 원소의 타입을 강제로 int로 지정\n",
    "# -> 소수점 아래 값들은 버림\n",
    "arr5 = numpy.array([1,2.4, 3, 4.6], dtype='int')\n",
    "arr5"
   ]
  },
  {
   "cell_type": "code",
   "execution_count": 10,
   "id": "parliamentary-simpson",
   "metadata": {},
   "outputs": [
    {
     "name": "stdout",
     "output_type": "stream",
     "text": [
      "[ 0  1  2  3  4  5  6  7  8  9 10 11 12 13 14]\n"
     ]
    }
   ],
   "source": [
    "#-----------------------------\n",
    "# 3) 정형화된 값을 갖는 배열 생성하기\n",
    "#-----------------------------\n",
    "#0부터 15전까지 순차적으로 증가하는 값들을 원소로 갖는 배열\n",
    "#->시작값이 무조건 0부터 시작\n",
    "a = numpy.arange(15)\n",
    "print(a)"
   ]
  },
  {
   "cell_type": "code",
   "execution_count": 11,
   "id": "automatic-filename",
   "metadata": {},
   "outputs": [
    {
     "name": "stdout",
     "output_type": "stream",
     "text": [
      "[100 101 102 103 104 105 106 107 108 109 110 111 112 113 114]\n"
     ]
    }
   ],
   "source": [
    "# 100-115전까지 순차적으로 증가하는 값들을 원소로 갖는 배열\n",
    "b = numpy.array(range(100,115))\n",
    "print(b)"
   ]
  },
  {
   "cell_type": "code",
   "execution_count": 12,
   "id": "registered-delta",
   "metadata": {},
   "outputs": [
    {
     "name": "stdout",
     "output_type": "stream",
     "text": [
      "[0. 0. 0.]\n"
     ]
    }
   ],
   "source": [
    "# 모든 원소가 실수형 0인 1행 3열 배열 생성\n",
    "c = numpy.zeros([3])\n",
    "print(c)"
   ]
  },
  {
   "cell_type": "code",
   "execution_count": 13,
   "id": "neural-maker",
   "metadata": {},
   "outputs": [
    {
     "name": "stdout",
     "output_type": "stream",
     "text": [
      "[0 0 0 0]\n"
     ]
    }
   ],
   "source": [
    "# a모든 원소가 정수형 0인 1행 4열 배열 생성\n",
    "# -> dtype을 별도로 지정하지 않으면 기본값은 실수\n",
    "d = numpy.zeros([4], dtype='int')\n",
    "print(d)"
   ]
  },
  {
   "cell_type": "code",
   "execution_count": 14,
   "id": "based-equivalent",
   "metadata": {},
   "outputs": [
    {
     "name": "stdout",
     "output_type": "stream",
     "text": [
      "[1. 1. 1.]\n",
      "[1 1 1 1]\n"
     ]
    }
   ],
   "source": [
    "#모든 원소가 실수형 1인 1행 3열 배열\n",
    "e = numpy.ones([3])\n",
    "print(e)\n",
    "#모든 원소가 정수형 1인 1행 4열 배열\n",
    "f=numpy.ones([4], dtype='int')\n",
    "print(f)"
   ]
  },
  {
   "cell_type": "code",
   "execution_count": 15,
   "id": "plastic-trigger",
   "metadata": {},
   "outputs": [
    {
     "name": "stdout",
     "output_type": "stream",
     "text": [
      "[7 7 7 7 7]\n"
     ]
    }
   ],
   "source": [
    "#모든 원소가 정수형 7인 1행 5열 배열 \n",
    "g = numpy.full([5], 7)\n",
    "print(g)"
   ]
  },
  {
   "cell_type": "code",
   "execution_count": 16,
   "id": "formal-prophet",
   "metadata": {},
   "outputs": [
    {
     "name": "stdout",
     "output_type": "stream",
     "text": [
      "[7. 7. 7. 7.]\n"
     ]
    }
   ],
   "source": [
    "#모든 원소가 실수형 7인 1행 4열 배열\n",
    "# -> .full에서 주의 !!! dtype은 생략할 경우 int\n",
    "h = numpy.full([4], 7, dtype='float')\n",
    "print(h)"
   ]
  }
 ],
 "metadata": {
  "kernelspec": {
   "display_name": "Python 3",
   "language": "python",
   "name": "python3"
  },
  "language_info": {
   "codemirror_mode": {
    "name": "ipython",
    "version": 3
   },
   "file_extension": ".py",
   "mimetype": "text/x-python",
   "name": "python",
   "nbconvert_exporter": "python",
   "pygments_lexer": "ipython3",
   "version": "3.8.0"
  }
 },
 "nbformat": 4,
 "nbformat_minor": 5
}
