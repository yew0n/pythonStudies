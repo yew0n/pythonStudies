{
 "cells": [
  {
   "cell_type": "code",
   "execution_count": 2,
   "id": "latter-hampton",
   "metadata": {},
   "outputs": [
    {
     "name": "stdout",
     "output_type": "stream",
     "text": [
      "2021-02-23 11:27:06.641540\n"
     ]
    }
   ],
   "source": [
    "# -*- coding: utf-8 -*-\n",
    "\n",
    "#날짜처리 모듈 dt 별칭 적용\n",
    "import datetime as dt\n",
    "\n",
    "#현재 시각을 갖는 객체 GET\n",
    "now_time = dt.datetime.now()\n",
    "print(now_time)"
   ]
  },
  {
   "cell_type": "code",
   "execution_count": 4,
   "id": "amateur-cleaning",
   "metadata": {},
   "outputs": [
    {
     "name": "stdout",
     "output_type": "stream",
     "text": [
      "2021\n",
      "2\n",
      "23\n",
      "11\n",
      "27\n",
      "6\n",
      "641540\n"
     ]
    }
   ],
   "source": [
    "print(now_time.year)\n",
    "print(now_time.month)\n",
    "print(now_time.day)\n",
    "print(now_time.hour)\n",
    "print(now_time.minute)\n",
    "print(now_time.second)\n",
    "print(now_time.microsecond)"
   ]
  },
  {
   "cell_type": "code",
   "execution_count": 5,
   "id": "mysterious-herald",
   "metadata": {},
   "outputs": [
    {
     "data": {
      "text/plain": [
       "1"
      ]
     },
     "execution_count": 5,
     "metadata": {},
     "output_type": "execute_result"
    }
   ],
   "source": [
    "# 현재시각 객체에서 요일 반환 (0월~6일)\n",
    "d= now_time.weekday()\n",
    "d"
   ]
  },
  {
   "cell_type": "code",
   "execution_count": 7,
   "id": "changing-kidney",
   "metadata": {},
   "outputs": [
    {
     "name": "stdout",
     "output_type": "stream",
     "text": [
      "화\n"
     ]
    }
   ],
   "source": [
    "# 리턴된 요일값을 튜플의 인덱스로 활용하여 요일 이름 출력\n",
    "days = ('월','화', '수', '목', '금', '토', '일')\n",
    "print(days[d])"
   ]
  },
  {
   "cell_type": "code",
   "execution_count": 10,
   "id": "revised-order",
   "metadata": {},
   "outputs": [
    {
     "data": {
      "text/plain": [
       "'21/02/23 11:27:06'"
      ]
     },
     "execution_count": 10,
     "metadata": {},
     "output_type": "execute_result"
    }
   ],
   "source": [
    "#출력형식만들기\n",
    "# %Y 앞자리 0으로 채우는 4자리 연도 숫자\n",
    "# %y 앞자리 0으로 채우는 2자리 연도 숫자\n",
    "# %m 앞자리 0으로 채우는 2자리 월 숫자\n",
    "# %d 앞자리 0으로 채우는 2자리 일 숫자\n",
    "# %H 앞자리 0으로 채우는 24시간 형식 2자리 시간 숫자\n",
    "# %M 앞자리 0으로 채우는 2자리 분 숫자\n",
    "# %S 앞자리 0으로 채우는 2자리 초 숫자\n",
    "now_time.strftime(\"%y/%m/%d %H:%M:%S\")"
   ]
  }
 ],
 "metadata": {
  "kernelspec": {
   "display_name": "Python 3",
   "language": "python",
   "name": "python3"
  },
  "language_info": {
   "codemirror_mode": {
    "name": "ipython",
    "version": 3
   },
   "file_extension": ".py",
   "mimetype": "text/x-python",
   "name": "python",
   "nbconvert_exporter": "python",
   "pygments_lexer": "ipython3",
   "version": "3.8.0"
  }
 },
 "nbformat": 4,
 "nbformat_minor": 5
}
