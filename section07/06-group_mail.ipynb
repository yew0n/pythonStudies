{
 "cells": [
  {
   "cell_type": "code",
   "execution_count": null,
   "id": "native-collins",
   "metadata": {},
   "outputs": [],
   "source": [
    "#-*- coding: utf-8 -*-\n",
    "\n",
    "#헬퍼에 정의된 함수 참조\n",
    "from helper import sendmail\n",
    "#날짜 처리 모듈\n",
    "import datetime as dt\n",
    "\n",
    "#이번년도 월 얻기\n",
    "now_time = dt.datetime.now()\n",
    "now_year = now_timel.year\n",
    "now_month = now_time.month\n",
    "\n",
    "#발송자 주소/메일제목\n",
    "from_addr=\"syewon0128@gmail.com\"\n",
    "subject_tpl = '{name}님의 {yy}년 {mm}월 급여명세서 입니다.'\n",
    "\n",
    "#메일본문 = HTML 파일 읽기\n",
    "with open(\"mail/content.html\", \"r\", encoding='utf-8') as f:\n",
    "    content_tpl = f.read()\n",
    "    print(content_tpl)\n",
    "    \n",
    "#수신자 목록에 대한 CSV 파일 읽기\n",
    "with open(\"mail/mail_list.csv\", \"r\", encoding='euc-kr') as f:\n",
    "    cxsv_data = f.readlines()\n",
    "    count=len(csv_data)\n",
    "    \n",
    "    #결과 출력을 위한 문자열 템플릿\n",
    "    result_tpl = \"{0}/{1} >> {2}({3})님께 메일을 발송했습니다.\"\n",
    "    \n",
    "    #리스트 행수만큼 반복 -> i=인덱스 line=한행의문자열\n",
    "    for i, line in enumerate(csv_data):\n",
    "        #line = \"학생, hello@gmail.com,mail/document.pptx,mail/pay1.xlsx\"\n",
    "        item = line.strip().split(\",\")\n",
    "        to_name = item[0].strip()\n",
    "        to_addr = item[1].strip()\n",
    "        file1 = item[2].strip()\n",
    "        file2 = item[3].strip()\n",
    "        \n",
    "        #제목과 내용에 포함된 {이름} 형식의 치환자에 변수값 적용\n",
    "        subject = subject_tpl.format(name=to_name, yy=now_year, mm=now_month)\n",
    "        content = content_tpl.format(name=to_name, yy=now_year, mm=now_month)\n",
    "        \n",
    "        #메일 발송\n",
    "        sendmail(from_addr, to_addr, subject, content, [file1, file2])\n",
    "        \n",
    "        #결과 출력\n",
    "        print(result_tpl.format(i+1, count, to_name, to_addr))"
   ]
  }
 ],
 "metadata": {
  "kernelspec": {
   "display_name": "Python 3",
   "language": "python",
   "name": "python3"
  },
  "language_info": {
   "codemirror_mode": {
    "name": "ipython",
    "version": 3
   },
   "file_extension": ".py",
   "mimetype": "text/x-python",
   "name": "python",
   "nbconvert_exporter": "python",
   "pygments_lexer": "ipython3",
   "version": "3.8.0"
  }
 },
 "nbformat": 4,
 "nbformat_minor": 5
}
