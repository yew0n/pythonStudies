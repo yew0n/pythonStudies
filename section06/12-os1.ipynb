{
 "cells": [
  {
   "cell_type": "code",
   "execution_count": 2,
   "id": "accessory-climb",
   "metadata": {},
   "outputs": [
    {
     "name": "stdout",
     "output_type": "stream",
     "text": [
      "win32\n"
     ]
    }
   ],
   "source": [
    "# -*- coding: utf-8 -*-\n",
    "\n",
    "import sys #현재 시스템 정보 제공 모듈\n",
    "import os #운영체제 기능에 접근 가능 모듈\n",
    "\n",
    "#현재 운영체제 이름 얻기\n",
    "#윈도우=win32/Mac=darwin/Linux=linux1 or 2\n",
    "print(sys.platform)"
   ]
  },
  {
   "cell_type": "code",
   "execution_count": 4,
   "id": "raising-chair",
   "metadata": {},
   "outputs": [
    {
     "data": {
      "text/plain": [
       "0"
      ]
     },
     "execution_count": 4,
     "metadata": {},
     "output_type": "execute_result"
    }
   ],
   "source": [
    "#윈도우인 경우와 그 밖의 경우를 분기하여 command 변수 생성\n",
    "if sys.platform == 'win32':\n",
    "    command = 'dir'\n",
    "else:\n",
    "    command = 'ls -l'\n",
    "    \n",
    "#시스템 명령어를 수행하여 결과 즉시 출력\n",
    "os.system(command)"
   ]
  }
 ],
 "metadata": {
  "kernelspec": {
   "display_name": "Python 3",
   "language": "python",
   "name": "python3"
  },
  "language_info": {
   "codemirror_mode": {
    "name": "ipython",
    "version": 3
   },
   "file_extension": ".py",
   "mimetype": "text/x-python",
   "name": "python",
   "nbconvert_exporter": "python",
   "pygments_lexer": "ipython3",
   "version": "3.8.0"
  }
 },
 "nbformat": 4,
 "nbformat_minor": 5
}
