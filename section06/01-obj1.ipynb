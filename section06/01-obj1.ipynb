{
 "cells": [
  {
   "cell_type": "code",
   "execution_count": 1,
   "id": "hawaiian-judge",
   "metadata": {},
   "outputs": [
    {
     "name": "stdout",
     "output_type": "stream",
     "text": [
      "python\n",
      "python@gmail.com\n",
      "01012345678\n"
     ]
    }
   ],
   "source": [
    "# -*- coding: utf-8 -*-\n",
    "\n",
    "# 클래스 - 객체를 구성하는 자료구조\n",
    "# -> 변수를 그룹화하기 위한 단위를 정의한 것\n",
    "class Member:\n",
    "    userid = \"python\"\n",
    "    email = \"python@gmail.com\"\n",
    "    phone = \"01012345678\"\n",
    "    \n",
    "# 객체 - 클래스에서 정의한 구조를 부여받은 특수한 변수\n",
    "mem1 = Member()\n",
    "print(mem1.userid)\n",
    "print(mem1.email)\n",
    "print(mem1.phone)"
   ]
  },
  {
   "cell_type": "code",
   "execution_count": 2,
   "id": "falling-cherry",
   "metadata": {},
   "outputs": [
    {
     "name": "stdout",
     "output_type": "stream",
     "text": [
      "life\n",
      "life@naver.com\n",
      "01098765432\n"
     ]
    }
   ],
   "source": [
    "#객체 안에 내장된 변수 = 일반변수와 동일하게 사용 가능\n",
    "mem1.userid=\"life\"\n",
    "mem1.email=\"life@naver.com\"\n",
    "mem1.phone=\"01098765432\"\n",
    "print(mem1.userid)\n",
    "print(mem1.email)\n",
    "print(mem1.phone)"
   ]
  },
  {
   "cell_type": "code",
   "execution_count": 3,
   "id": "beneficial-metallic",
   "metadata": {},
   "outputs": [
    {
     "name": "stdout",
     "output_type": "stream",
     "text": [
      "hello\n",
      "hello@daum.com\n",
      "01087654321\n"
     ]
    }
   ],
   "source": [
    "#정의된 클래스는 몇번이고 재사용 가능\n",
    "mem2 = Member()\n",
    "mem2.userid=\"hello\"\n",
    "mem2.email=\"hello@daum.com\"\n",
    "mem2.phone=\"01087654321\"\n",
    "print(mem2.userid)\n",
    "print(mem2.email)\n",
    "print(mem2.phone)"
   ]
  }
 ],
 "metadata": {
  "kernelspec": {
   "display_name": "Python 3",
   "language": "python",
   "name": "python3"
  },
  "language_info": {
   "codemirror_mode": {
    "name": "ipython",
    "version": 3
   },
   "file_extension": ".py",
   "mimetype": "text/x-python",
   "name": "python",
   "nbconvert_exporter": "python",
   "pygments_lexer": "ipython3",
   "version": "3.8.0"
  }
 },
 "nbformat": 4,
 "nbformat_minor": 5
}
