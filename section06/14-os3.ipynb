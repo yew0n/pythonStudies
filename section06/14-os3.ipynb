{
 "cells": [
  {
   "cell_type": "code",
   "execution_count": 6,
   "id": "hispanic-consideration",
   "metadata": {},
   "outputs": [
    {
     "name": "stdout",
     "output_type": "stream",
     "text": [
      "True\n"
     ]
    }
   ],
   "source": [
    "# -*- coding: utf-8 -*-\n",
    "\n",
    "import os\n",
    "\n",
    "#특정 폴더나 파일이 존재하는지 확인\n",
    "# -> 상대경로일 경우 현재 소스파일 기준\n",
    "k=os.path.exists('./hello')\n",
    "print(k)"
   ]
  },
  {
   "cell_type": "code",
   "execution_count": 3,
   "id": "important-burns",
   "metadata": {},
   "outputs": [
    {
     "name": "stdout",
     "output_type": "stream",
     "text": [
      "D:\\yewon\\08_Python\\python\\section06\\hello\n"
     ]
    }
   ],
   "source": [
    "#절대 경로 확인 -> 존재하지 않더라도 경로값 확인 가능\n",
    "print(os.path.abspath('./hello'))"
   ]
  },
  {
   "cell_type": "code",
   "execution_count": 7,
   "id": "legal-potato",
   "metadata": {},
   "outputs": [
    {
     "name": "stdout",
     "output_type": "stream",
     "text": [
      "hello폴더를 삭제했습니다.\n"
     ]
    }
   ],
   "source": [
    "#폴더의 생성과 삭제\n",
    "if k == False:\n",
    "    #없다면 생성\n",
    "    os.mkdir('./hello')\n",
    "    print('hello폴더를 생성했습니다.')\n",
    "else:\n",
    "    #있다면 삭제 > 빈폴더만 삭제 가능\n",
    "    os.rmdir('./hello')\n",
    "    print('hello폴더를 삭제했습니다.')"
   ]
  }
 ],
 "metadata": {
  "kernelspec": {
   "display_name": "Python 3",
   "language": "python",
   "name": "python3"
  },
  "language_info": {
   "codemirror_mode": {
    "name": "ipython",
    "version": 3
   },
   "file_extension": ".py",
   "mimetype": "text/x-python",
   "name": "python",
   "nbconvert_exporter": "python",
   "pygments_lexer": "ipython3",
   "version": "3.8.0"
  }
 },
 "nbformat": 4,
 "nbformat_minor": 5
}
