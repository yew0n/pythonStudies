{
 "cells": [
  {
   "cell_type": "code",
   "execution_count": null,
   "id": "civic-district",
   "metadata": {},
   "outputs": [],
   "source": [
    "# -*- coding: utf-8 -*-\n",
    "\n",
    "import os\n",
    "import shutil #파일/폴더관련 작업에 확장된 기능 제공\n",
    "\n",
    "#현재 작업 위치에서 \"python1\"이라는 이름의 폴더와 \"python2\" 라는 폴더가 없ㄷ면\n",
    "if os.path.exists('python1')==False and os.path.exists('python2')==False:\n",
    "    #순환적으로 폴더 생성\n",
    "    #exist_ok=True 옵션 = 이미 존재해도 에러발생X\n",
    "    os.makedirs('python/test/hello/world', exist_ok = True)\n",
    "    print(\"python 폴더와 하위 폴더들을 생성했습니다.\")\n",
    "    \n",
    "    #파일의 이동(같은위치에서 이름만 변경하는 기능도 겸함)\n",
    "    # -> 이미 대상이 존재하는 경우 에러 > 사전에 존재여부 검사 필요\n",
    "    if os.path.exists('python1') == False :\n",
    "        shutil.move('python', 'python1')\n",
    "        print('python폴더를 python1로 이동했습니다.')\n",
    "        \n",
    "    #폴더 복사\n",
    "    # -> 이미 대상이 존재할 경우 에러 > 사전에 존재여부 검사 필요\n",
    "    if os.path.exists('python2') == False :\n",
    "        shutil.copytree('python1', 'python2')\n",
    "        print('python1폴더를 python2로 복사했습니다.')\n",
    "# 그렇지 않다면\n",
    "else:\n",
    "    #q비어있지 않은 폴더도 강제 삭제 > 존재X경우 에러\n",
    "    shutil.rmtree('python1')\n",
    "    shutil.rmtree('python2')\n",
    "    print('python1, python2 폴더가 삭제되었습니다.')"
   ]
  }
 ],
 "metadata": {
  "kernelspec": {
   "display_name": "Python 3",
   "language": "python",
   "name": "python3"
  },
  "language_info": {
   "codemirror_mode": {
    "name": "ipython",
    "version": 3
   },
   "file_extension": ".py",
   "mimetype": "text/x-python",
   "name": "python",
   "nbconvert_exporter": "python",
   "pygments_lexer": "ipython3",
   "version": "3.8.0"
  }
 },
 "nbformat": 4,
 "nbformat_minor": 5
}
