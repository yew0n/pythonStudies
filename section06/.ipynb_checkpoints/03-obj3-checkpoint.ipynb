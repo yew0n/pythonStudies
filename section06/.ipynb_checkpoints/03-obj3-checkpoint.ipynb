{
 "cells": [
  {
   "cell_type": "code",
   "execution_count": 1,
   "id": "satellite-southwest",
   "metadata": {},
   "outputs": [
    {
     "name": "stdout",
     "output_type": "stream",
     "text": [
      "Python\n",
      "python@gmail.com\n"
     ]
    }
   ],
   "source": [
    "# -*- coding: utf-8 -*-\n",
    "\n",
    "#변수와 함수를 모두 내장하는 클래스의 정의\n",
    "class Member:\n",
    "    #클래스 레벨에서 정의된 변수는 내장되어 있는 함수들끼리 공유\n",
    "    # -> =전역변수=멤버변수\n",
    "    username =\"\"\n",
    "    email=\"\"\n",
    "    \n",
    "    def join(self, username, email):\n",
    "        #파라미터로 전달된 값들을 멤버변수에 복사 -> 데이터 입력\n",
    "        # 파라미터나 메서드 안에서 정의된 변수들 = 지역변수\n",
    "        self.username = username\n",
    "        self.email = email\n",
    "        \n",
    "    def view_info(self):\n",
    "        #join()에 의해 설정된 값 활용 -> 데이터 출력\n",
    "        print(self.username)\n",
    "        print(self.email)\n",
    "        \n",
    "#클래스의 기능을 객체에 부여하기\n",
    "mem1 = Member()\n",
    "mem1.join(\"Python\", \"python@gmail.com\")\n",
    "mem1.view_info()"
   ]
  }
 ],
 "metadata": {
  "kernelspec": {
   "display_name": "Python 3",
   "language": "python",
   "name": "python3"
  },
  "language_info": {
   "codemirror_mode": {
    "name": "ipython",
    "version": 3
   },
   "file_extension": ".py",
   "mimetype": "text/x-python",
   "name": "python",
   "nbconvert_exporter": "python",
   "pygments_lexer": "ipython3",
   "version": "3.8.0"
  }
 },
 "nbformat": 4,
 "nbformat_minor": 5
}
