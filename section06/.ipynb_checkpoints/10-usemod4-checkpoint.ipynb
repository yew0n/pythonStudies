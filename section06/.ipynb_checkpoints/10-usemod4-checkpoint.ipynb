{
 "cells": [
  {
   "cell_type": "code",
   "execution_count": 3,
   "id": "collaborative-vancouver",
   "metadata": {},
   "outputs": [
    {
     "name": "stdout",
     "output_type": "stream",
     "text": [
      "----------- 생성자가 실행되었습니다 ------------\n",
      "이름 : 파이썬학생 / 이메일 : syewon0128@gmail.com\n"
     ]
    }
   ],
   "source": [
    "# -*- coding: utf-8 -*-\n",
    "\n",
    "#my_mod2.py 파일의 기능을 import\n",
    "import my_mod2\n",
    "\n",
    "#my_mod2에 정의된 member클래스에 \"모듈이름.클래스이름\" 형식으로 접근\n",
    "#->import된 클래스는 정의된 기능을 다른 변수에 부여해야 사용 가능 = 객체\n",
    "#->클래스에 생성자가 포함되어 있고 생성자가 파라미터를 갖는경우\n",
    "# 객체 생성 시 생성자 파라미터 전달\n",
    "mem = my_mod2.Member('파이썬학생', 'syewon0128@gmail.com')\n",
    "mem.view_info()"
   ]
  },
  {
   "cell_type": "code",
   "execution_count": 5,
   "id": "crucial-preparation",
   "metadata": {},
   "outputs": [
    {
     "name": "stdout",
     "output_type": "stream",
     "text": [
      "----------- 생성자가 실행되었습니다 ------------\n",
      "이름 : 파이썬학생 / 이메일 : syewon0128@gmail.com\n"
     ]
    }
   ],
   "source": [
    "# my_mod2 모듈에 user별칭 적용 후 import\n",
    "import my_mod2 as user\n",
    "mem = user.Member('파이썬학생', 'syewon0128@gmail.com')\n",
    "mem.view_info()"
   ]
  },
  {
   "cell_type": "code",
   "execution_count": 6,
   "id": "decreased-malta",
   "metadata": {},
   "outputs": [
    {
     "name": "stdout",
     "output_type": "stream",
     "text": [
      "----------- 생성자가 실행되었습니다 ------------\n",
      "이름 : 파이썬학생 / 이메일 : syewon0128@gmail.com\n"
     ]
    }
   ],
   "source": [
    "from my_mod2 import Member\n",
    "mem = Member('파이썬학생', 'syewon0128@gmail.com')\n",
    "mem.view_info()"
   ]
  }
 ],
 "metadata": {
  "kernelspec": {
   "display_name": "Python 3",
   "language": "python",
   "name": "python3"
  },
  "language_info": {
   "codemirror_mode": {
    "name": "ipython",
    "version": 3
   },
   "file_extension": ".py",
   "mimetype": "text/x-python",
   "name": "python",
   "nbconvert_exporter": "python",
   "pygments_lexer": "ipython3",
   "version": "3.8.0"
  }
 },
 "nbformat": 4,
 "nbformat_minor": 5
}
