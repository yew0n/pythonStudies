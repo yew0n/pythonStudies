{
 "cells": [
  {
   "cell_type": "code",
   "execution_count": 1,
   "id": "mental-recording",
   "metadata": {},
   "outputs": [],
   "source": [
    "# -*- coding: utf-8 -*-\n",
    "\n",
    "class Unit:\n",
    "    #객체가 갖는 명사적 특성들을 멤버변수로 정의\n",
    "    name = None\n",
    "    hp = None #체력\n",
    "    dps = None #초당공격력\n",
    "    \n",
    "    #객체 특성을 초기화하기 위한 생성자 정의\n",
    "    def __init__(self, name, hp, dps):\n",
    "        self.name = name\n",
    "        self.hp = hp\n",
    "        self.dps = dps\n",
    "        print(\"[%s] 체력 : %d, 공격력 : %d\" % (name, hp, dps))\n",
    "        \n",
    "    #객체가 수행해야 하는 동작들을 함수 형태로 정의\n",
    "    def move(self, position):\n",
    "        print(\"%s(이)가 %s까지 이동합니다.\" % (self.name, position))\n",
    "    def attack(self, target):\n",
    "        print(\"%s(이)가 %s(을)를 공격합니다. 데미지 : %d\" % (self.name, target, self.dps))"
   ]
  },
  {
   "cell_type": "code",
   "execution_count": 5,
   "id": "liberal-spread",
   "metadata": {},
   "outputs": [
    {
     "name": "stdout",
     "output_type": "stream",
     "text": [
      "[질럿1호] 체력 : 100, 공격력 : 10\n",
      "[질럿2호] 체력 : 100, 공격력 : 12\n",
      "[드라군1호] 체력 : 120, 공격력 : 20\n",
      "[드라군2호] 체력 : 150, 공격력 : 35\n"
     ]
    }
   ],
   "source": [
    "#객체를 생성하면서 생성자를 통해 각 객체의 특성 정의\n",
    "u1 = Unit(\"질럿1호\", 100,10)\n",
    "u2 = Unit(\"질럿2호\", 100,12)\n",
    "u3 = Unit(\"드라군1호\", 120,20)\n",
    "u4 = Unit(\"드라군2호\", 150,35)"
   ]
  },
  {
   "cell_type": "code",
   "execution_count": 7,
   "id": "northern-contributor",
   "metadata": {},
   "outputs": [
    {
     "name": "stdout",
     "output_type": "stream",
     "text": [
      "질럿1호(이)가 적 본진까지 이동합니다.\n",
      "드라군1호(이)가 적 본진까지 이동합니다.\n",
      "질럿1호(이)가 적 본진(을)를 공격합니다. 데미지 : 10\n",
      "드라군1호(이)가 적 본진(을)를 공격합니다. 데미지 : 20\n"
     ]
    }
   ],
   "source": [
    "#객체 동작\n",
    "u1.move('적 본진')\n",
    "u3.move('적 본진')\n",
    "u1.attack('적 본진')\n",
    "u3.attack('적 본진')"
   ]
  },
  {
   "cell_type": "code",
   "execution_count": 8,
   "id": "unusual-industry",
   "metadata": {},
   "outputs": [
    {
     "name": "stdout",
     "output_type": "stream",
     "text": [
      "질럿2호(이)가 적 멀티까지 이동합니다.\n",
      "드라군2호(이)가 적 멀티까지 이동합니다.\n",
      "질럿2호(이)가 적 멀티(을)를 공격합니다. 데미지 : 12\n",
      "드라군2호(이)가 적 멀티(을)를 공격합니다. 데미지 : 35\n"
     ]
    }
   ],
   "source": [
    "u2.move('적 멀티')\n",
    "u4.move('적 멀티')\n",
    "u2.attack('적 멀티')\n",
    "u4.attack('적 멀티')"
   ]
  }
 ],
 "metadata": {
  "kernelspec": {
   "display_name": "Python 3",
   "language": "python",
   "name": "python3"
  },
  "language_info": {
   "codemirror_mode": {
    "name": "ipython",
    "version": 3
   },
   "file_extension": ".py",
   "mimetype": "text/x-python",
   "name": "python",
   "nbconvert_exporter": "python",
   "pygments_lexer": "ipython3",
   "version": "3.8.0"
  }
 },
 "nbformat": 4,
 "nbformat_minor": 5
}
