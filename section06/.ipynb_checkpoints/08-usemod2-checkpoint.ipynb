{
 "cells": [
  {
   "cell_type": "code",
   "execution_count": 1,
   "id": "prime-scenario",
   "metadata": {},
   "outputs": [
    {
     "name": "stdout",
     "output_type": "stream",
     "text": [
      "Hello Python\n",
      "7\n",
      "-1\n"
     ]
    }
   ],
   "source": [
    "# -*- coding: utf-8 -*-\n",
    "\n",
    "#참조한 my_mod1 모듈에 hello 별칭 적용\n",
    "import my_mod1 as hello\n",
    "\n",
    "#모듈에 포함된 기능들을 별칭이름.기능명 형식으로 접근\n",
    "print(hello.NAME)\n",
    "print(hello.plus(3,4))\n",
    "print(hello.minus(3,4))"
   ]
  }
 ],
 "metadata": {
  "kernelspec": {
   "display_name": "Python 3",
   "language": "python",
   "name": "python3"
  },
  "language_info": {
   "codemirror_mode": {
    "name": "ipython",
    "version": 3
   },
   "file_extension": ".py",
   "mimetype": "text/x-python",
   "name": "python",
   "nbconvert_exporter": "python",
   "pygments_lexer": "ipython3",
   "version": "3.8.0"
  }
 },
 "nbformat": 4,
 "nbformat_minor": 5
}
