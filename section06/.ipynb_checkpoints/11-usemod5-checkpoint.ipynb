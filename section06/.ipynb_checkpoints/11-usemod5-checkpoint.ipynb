{
 "cells": [
  {
   "cell_type": "code",
   "execution_count": 1,
   "id": "unavailable-comedy",
   "metadata": {},
   "outputs": [
    {
     "name": "stdout",
     "output_type": "stream",
     "text": [
      "45\n",
      "15\n"
     ]
    }
   ],
   "source": [
    "# -*- coding: utf-8 -*-\n",
    "\n",
    "import my_mod3\n",
    "print(my_mod3.my_calc.plus(30,15))\n",
    "print(my_mod3.my_calc.minus(30,15))"
   ]
  },
  {
   "cell_type": "code",
   "execution_count": 4,
   "id": "thorough-helmet",
   "metadata": {},
   "outputs": [
    {
     "name": "stdout",
     "output_type": "stream",
     "text": [
      "45\n",
      "15\n"
     ]
    }
   ],
   "source": [
    "import my_mod3 as helloworld\n",
    "print(helloworld.my_calc.plus(30,15))\n",
    "print(helloworld.my_calc.minus(30,15))"
   ]
  },
  {
   "cell_type": "code",
   "execution_count": 7,
   "id": "narrow-million",
   "metadata": {},
   "outputs": [
    {
     "name": "stdout",
     "output_type": "stream",
     "text": [
      "45\n",
      "15\n"
     ]
    }
   ],
   "source": [
    "from my_mod3 import my_calc\n",
    "print(my_calc.plus(30,15))\n",
    "print(my_calc.minus(30,15))"
   ]
  }
 ],
 "metadata": {
  "kernelspec": {
   "display_name": "Python 3",
   "language": "python",
   "name": "python3"
  },
  "language_info": {
   "codemirror_mode": {
    "name": "ipython",
    "version": 3
   },
   "file_extension": ".py",
   "mimetype": "text/x-python",
   "name": "python",
   "nbconvert_exporter": "python",
   "pygments_lexer": "ipython3",
   "version": "3.8.0"
  }
 },
 "nbformat": 4,
 "nbformat_minor": 5
}
