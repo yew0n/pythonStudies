{
 "cells": [
  {
   "cell_type": "code",
   "execution_count": 2,
   "id": "exempt-farmer",
   "metadata": {},
   "outputs": [
    {
     "name": "stdout",
     "output_type": "stream",
     "text": [
      "----------- 생성자가 실행되었습니다 ------------\n",
      "이름 : 예원 / 이메일 : syewon0128@gmail.com\n"
     ]
    }
   ],
   "source": [
    "# -*- coding: utf-8 -*-\n",
    "\n",
    "class Member:\n",
    "    username = None\n",
    "    email = None\n",
    "    \n",
    "    #생성자도 함수의 일종이므로 필요한 값만큼 파라미터 정의 가능\n",
    "    def __init__(self, username, email):\n",
    "        print(\"----------- 생성자가 실행되었습니다 ------------\")\n",
    "        self.username=username\n",
    "        self.email = email\n",
    "        \n",
    "    def view_info(self):\n",
    "        tpl = \"이름 : {0} / 이메일 : {1}\"\n",
    "        print(tpl.format(self.username, self.email))\n",
    "        \n",
    "mem1= Member(\"예원\", \"syewon0128@gmail.com\")\n",
    "mem1.view_info()\n",
    "    "
   ]
  }
 ],
 "metadata": {
  "kernelspec": {
   "display_name": "Python 3",
   "language": "python",
   "name": "python3"
  },
  "language_info": {
   "codemirror_mode": {
    "name": "ipython",
    "version": 3
   },
   "file_extension": ".py",
   "mimetype": "text/x-python",
   "name": "python",
   "nbconvert_exporter": "python",
   "pygments_lexer": "ipython3",
   "version": "3.8.0"
  }
 },
 "nbformat": 4,
 "nbformat_minor": 5
}
