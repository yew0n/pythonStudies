{
 "cells": [
  {
   "cell_type": "code",
   "execution_count": 2,
   "id": "solved-grain",
   "metadata": {},
   "outputs": [
    {
     "name": "stdout",
     "output_type": "stream",
     "text": [
      "----------- 생성자가 실행되었습니다 ------------\n",
      "이름 : 예원 / 이메일 : syewon0128@gmail.com\n"
     ]
    }
   ],
   "source": [
    "# -*- coding: utf-8 -*-\n",
    "\n",
    "class Member:\n",
    "    #변수 값을 비워두기 위해 None 할당\n",
    "    userame = None\n",
    "    email = None\n",
    "    \n",
    "    #생성자 - 객체 생성시 자동 실행\n",
    "    # 이름이 고정되어있음 / 주로변수값 초기화 용도로 사용\n",
    "    def __init__(self):\n",
    "        print(\"----------- 생성자가 실행되었습니다 ------------\")\n",
    "        self.username=\"예원\"\n",
    "        self.email = \"syewon0128@gmail.com\"\n",
    "        \n",
    "    def view_info(self):\n",
    "        tpl = \"이름 : {0} / 이메일 : {1}\"\n",
    "        print(tpl.format(self.username, self.email))\n",
    "        \n",
    "mem1=Member()\n",
    "mem1.view_info()"
   ]
  }
 ],
 "metadata": {
  "kernelspec": {
   "display_name": "Python 3",
   "language": "python",
   "name": "python3"
  },
  "language_info": {
   "codemirror_mode": {
    "name": "ipython",
    "version": 3
   },
   "file_extension": ".py",
   "mimetype": "text/x-python",
   "name": "python",
   "nbconvert_exporter": "python",
   "pygments_lexer": "ipython3",
   "version": "3.8.0"
  }
 },
 "nbformat": 4,
 "nbformat_minor": 5
}
