{
 "cells": [
  {
   "cell_type": "code",
   "execution_count": 2,
   "id": "golden-approach",
   "metadata": {},
   "outputs": [
    {
     "name": "stdout",
     "output_type": "stream",
     "text": [
      "D:\\yewon\\08_Python\\python\\section06\n"
     ]
    }
   ],
   "source": [
    "# -*- coding: utf-8 -*-\n",
    "\n",
    "import os\n",
    "import sys\n",
    "\n",
    "#현재 작업폴더 위치 확인\n",
    "print(os.getcwd())"
   ]
  },
  {
   "cell_type": "code",
   "execution_count": 4,
   "id": "computational-simulation",
   "metadata": {},
   "outputs": [
    {
     "name": "stdout",
     "output_type": "stream",
     "text": [
      "['.ipynb_checkpoints', '01-obj1.ipynb', '02-obj2.ipynb', '03-obj3.ipynb', '04-obj4.ipynb', '05-obj5.ipynb', '06-unit.ipynb', '07-usemod1.ipynb', '08-usemod2.ipynb', '09-usemod3.ipynb', '10-usemod4.ipynb', '11-usemod5.ipynb', '12-os1.ipynb', '13-os2.ipynb', 'my_mod1.py', 'my_mod2.py', 'my_mod3.py', '__pycache__']\n"
     ]
    }
   ],
   "source": [
    "#현재 폴더 내의 하위항목들의 이름을 리스트로 리턴\n",
    "ls = os.listdir('./')\n",
    "print(ls)"
   ]
  },
  {
   "cell_type": "code",
   "execution_count": 5,
   "id": "insured-genesis",
   "metadata": {},
   "outputs": [
    {
     "name": "stdout",
     "output_type": "stream",
     "text": [
      "['$Recycle.Bin', '$SysReset', '$WinREAgent', 'bootmgr', 'Config.Msi', 'Documents and Settings', 'DumpStack.log.tmp', 'hiberfil.sys', 'Intel', 'MSOCache', 'pagefile.sys', 'PerfLogs', 'Program Files', 'Program Files (x86)', 'ProgramData', 'Recovery', 'swapfile.sys', 'System Volume Information', 'Users', 'Windows']\n"
     ]
    }
   ],
   "source": [
    "#특정 폴더 내의 항목 조회\n",
    "if sys.platform == 'win32':\n",
    "    target = 'C:\\\\'\n",
    "else:\n",
    "    target=\"/\"\n",
    "    \n",
    "ls = os.listdir(target)\n",
    "print(ls)"
   ]
  }
 ],
 "metadata": {
  "kernelspec": {
   "display_name": "Python 3",
   "language": "python",
   "name": "python3"
  },
  "language_info": {
   "codemirror_mode": {
    "name": "ipython",
    "version": 3
   },
   "file_extension": ".py",
   "mimetype": "text/x-python",
   "name": "python",
   "nbconvert_exporter": "python",
   "pygments_lexer": "ipython3",
   "version": "3.8.0"
  }
 },
 "nbformat": 4,
 "nbformat_minor": 5
}
