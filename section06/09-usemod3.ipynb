{
 "cells": [
  {
   "cell_type": "code",
   "execution_count": 1,
   "id": "brave-reform",
   "metadata": {},
   "outputs": [
    {
     "name": "stdout",
     "output_type": "stream",
     "text": [
      "Hello Python\n",
      "7\n"
     ]
    }
   ],
   "source": [
    "# -*- coding: utf-8 -*-\n",
    "\n",
    "#모듈 안에 포함된 특정 기능만 골라 가져오기\n",
    "# -> from 모듈이름 import 기능명\n",
    "from my_mod1 import NAME\n",
    "from my_mod1 import plus\n",
    "\n",
    "#골라서 가져온 기능들은 앞에 모듈 이름을 적용하지 않고 직접 접근 가능\n",
    "print(NAME)\n",
    "\n",
    "print(plus(3,4))\n",
    "\n",
    "#minus함수는 import하지 않았으므로 사용 불가\n",
    "#print(minus(3,4))"
   ]
  }
 ],
 "metadata": {
  "kernelspec": {
   "display_name": "Python 3",
   "language": "python",
   "name": "python3"
  },
  "language_info": {
   "codemirror_mode": {
    "name": "ipython",
    "version": 3
   },
   "file_extension": ".py",
   "mimetype": "text/x-python",
   "name": "python",
   "nbconvert_exporter": "python",
   "pygments_lexer": "ipython3",
   "version": "3.8.0"
  }
 },
 "nbformat": 4,
 "nbformat_minor": 5
}
