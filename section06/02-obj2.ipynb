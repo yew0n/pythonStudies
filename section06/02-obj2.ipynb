{
 "cells": [
  {
   "cell_type": "code",
   "execution_count": 1,
   "id": "boxed-stupid",
   "metadata": {},
   "outputs": [
    {
     "name": "stdout",
     "output_type": "stream",
     "text": [
      "30\n",
      "50\n"
     ]
    }
   ],
   "source": [
    "# -*- coding: utf-8 -*-\n",
    "\n",
    "#함수들을 내장하는 클래스의 정의\n",
    "class Calc:\n",
    "    #클래스에 포함되는 함수들은 반드시 첫 파라미터 self 정의\n",
    "    def plus(self,x,y):\n",
    "        return x+y\n",
    "    def minus(self,x,y):\n",
    "        return x-y\n",
    "    def all(self,x,y):\n",
    "        #같은 클래스에 소속된 함수끼리 호출할 경우\n",
    "        #self.함수이름() 형식으로 접근 가능\n",
    "        a = self.plus(x,y)\n",
    "        b=self.minus(x,y)\n",
    "        \n",
    "        #튜플로 묶어서 여러개의 값을 한번에 리턴\n",
    "        return (a,b)\n",
    "    \n",
    "# 생성되는 객체 = 클래스에 정의된 모든 함수 부여받음\n",
    "my = Calc()\n",
    "\n",
    "#객체를 통한 함수 호출 - self는 호출X\n",
    "print(my.plus(10,20))\n",
    "print(my.minus(100,50))"
   ]
  },
  {
   "cell_type": "code",
   "execution_count": 2,
   "id": "assigned-wings",
   "metadata": {},
   "outputs": [
    {
     "name": "stdout",
     "output_type": "stream",
     "text": [
      "30\n",
      "-10\n"
     ]
    }
   ],
   "source": [
    "#all() 함수는 튜플리턴\n",
    "a=my.all(10,20)\n",
    "#튜플의 각 원소 확인\n",
    "print(a[0])\n",
    "print(a[1])"
   ]
  },
  {
   "cell_type": "code",
   "execution_count": 3,
   "id": "nearby-tyler",
   "metadata": {},
   "outputs": [
    {
     "name": "stdout",
     "output_type": "stream",
     "text": [
      "300\n",
      "100\n"
     ]
    }
   ],
   "source": [
    "p,m = my.all(200,100)\n",
    "print(p)\n",
    "print(m)"
   ]
  }
 ],
 "metadata": {
  "kernelspec": {
   "display_name": "Python 3",
   "language": "python",
   "name": "python3"
  },
  "language_info": {
   "codemirror_mode": {
    "name": "ipython",
    "version": 3
   },
   "file_extension": ".py",
   "mimetype": "text/x-python",
   "name": "python",
   "nbconvert_exporter": "python",
   "pygments_lexer": "ipython3",
   "version": "3.8.0"
  }
 },
 "nbformat": 4,
 "nbformat_minor": 5
}
