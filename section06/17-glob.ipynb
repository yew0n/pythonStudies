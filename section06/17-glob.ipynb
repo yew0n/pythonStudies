{
 "cells": [
  {
   "cell_type": "code",
   "execution_count": 1,
   "id": "connected-springer",
   "metadata": {},
   "outputs": [
    {
     "name": "stdout",
     "output_type": "stream",
     "text": [
      "['01-obj1.ipynb', '02-obj2.ipynb', '03-obj3.ipynb', '04-obj4.ipynb', '05-obj5.ipynb', '06-unit.ipynb', '07-usemod1.ipynb', '08-usemod2.ipynb', '09-usemod3.ipynb', '10-usemod4.ipynb', '11-usemod5.ipynb', '12-os1.ipynb', '13-os2.ipynb', '14-os3.ipynb', '15-shutil1.ipynb', '16-shutil2.ipynb', '17-glob.ipynb', 'my_mod1.py', 'my_mod2.py', 'my_mod3.py', '__pycache__']\n"
     ]
    }
   ],
   "source": [
    "# -*- coding: utf-8 -*-\n",
    "\n",
    "#파일이나 폴더 목록을 검색하기 위한 모듈\n",
    "import glob as gl\n",
    "\n",
    "#현재 폴더의 모든 하위 요소 조회\n",
    "ls = gl.glob('*')\n",
    "print(ls)"
   ]
  },
  {
   "cell_type": "code",
   "execution_count": 2,
   "id": "medium-demographic",
   "metadata": {},
   "outputs": [
    {
     "name": "stdout",
     "output_type": "stream",
     "text": [
      "['my_mod1.py', 'my_mod2.py', 'my_mod3.py']\n"
     ]
    }
   ],
   "source": [
    "#현재 폴더에서 \".py\"로 끝나는 모든 요소 조회\n",
    "ls = gl.glob('*.py')\n",
    "print(ls)"
   ]
  },
  {
   "cell_type": "code",
   "execution_count": 3,
   "id": "solved-sunday",
   "metadata": {},
   "outputs": [
    {
     "name": "stdout",
     "output_type": "stream",
     "text": [
      "['01-obj1.ipynb', '02-obj2.ipynb', '03-obj3.ipynb', '04-obj4.ipynb', '05-obj5.ipynb', '06-unit.ipynb', '07-usemod1.ipynb', '08-usemod2.ipynb', '09-usemod3.ipynb']\n"
     ]
    }
   ],
   "source": [
    "#현재 폴더에서 0으로 시작하는 모든 요소 조회\n",
    "ls = gl.glob('0*')\n",
    "print(ls)"
   ]
  }
 ],
 "metadata": {
  "kernelspec": {
   "display_name": "Python 3",
   "language": "python",
   "name": "python3"
  },
  "language_info": {
   "codemirror_mode": {
    "name": "ipython",
    "version": 3
   },
   "file_extension": ".py",
   "mimetype": "text/x-python",
   "name": "python",
   "nbconvert_exporter": "python",
   "pygments_lexer": "ipython3",
   "version": "3.8.0"
  }
 },
 "nbformat": 4,
 "nbformat_minor": 5
}
