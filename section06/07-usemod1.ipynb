{
 "cells": [
  {
   "cell_type": "code",
   "execution_count": 3,
   "id": "baking-stopping",
   "metadata": {},
   "outputs": [
    {
     "name": "stdout",
     "output_type": "stream",
     "text": [
      "Hello Python\n",
      "7\n",
      "-1\n"
     ]
    }
   ],
   "source": [
    "# -*- coding: utf-8 -*-\n",
    "\n",
    "#my_mod1.py 파일의 모든 내용 참조\n",
    "import my_mod1\n",
    "\n",
    "#참조한 파일에 정의된 변수, 함수\n",
    "#=> 파일이름.기능명 형식으로 사용 가능\n",
    "print(my_mod1.NAME)\n",
    "print(my_mod1.plus(3,4))\n",
    "print(my_mod1.minus(3,4))"
   ]
  }
 ],
 "metadata": {
  "kernelspec": {
   "display_name": "Python 3",
   "language": "python",
   "name": "python3"
  },
  "language_info": {
   "codemirror_mode": {
    "name": "ipython",
    "version": 3
   },
   "file_extension": ".py",
   "mimetype": "text/x-python",
   "name": "python",
   "nbconvert_exporter": "python",
   "pygments_lexer": "ipython3",
   "version": "3.8.0"
  }
 },
 "nbformat": 4,
 "nbformat_minor": 5
}
