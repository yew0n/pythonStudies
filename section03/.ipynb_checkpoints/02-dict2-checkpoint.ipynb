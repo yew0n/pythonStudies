{
 "cells": [
  {
   "cell_type": "code",
   "execution_count": 1,
   "id": "ancient-swiss",
   "metadata": {},
   "outputs": [
    {
     "data": {
      "text/plain": [
       "{'userid': 'python',\n",
       " 'age': 20,\n",
       " 'addr': ['서울', '서초구', '강남대로'],\n",
       " 'grade': {'korean': 98, 'math': 77, 'english': 82}}"
      ]
     },
     "execution_count": 1,
     "metadata": {},
     "output_type": "execute_result"
    }
   ],
   "source": [
    "# -*- coding: utf-8 -*-\n",
    "\n",
    "#딕셔너리는 리스트나 다른 딕셔너리 포함 가능 -> 정보를 계층화해서 표현 가능\n",
    "addr = [\"서울\", \"서초구\", \"강남대로\"]\n",
    "grade = {\"korean\" :98, \"math\":77, \"english\":82}\n",
    "\n",
    "member = {\n",
    "    \"userid\" : \"python\", #문자열 데이터\n",
    "    \"age\" : 20,          #정수형 데이터\n",
    "    \"addr\" : addr,       #리스트 데이터\n",
    "    \"grade\" : grade      #딕셔너리 데이터\n",
    "}\n",
    "\n",
    "member"
   ]
  },
  {
   "cell_type": "code",
   "execution_count": 2,
   "id": "indian-garden",
   "metadata": {},
   "outputs": [
    {
     "name": "stdout",
     "output_type": "stream",
     "text": [
      "서울\n",
      "98\n"
     ]
    }
   ],
   "source": [
    "#계층화된 값에 접근하기\n",
    "print(member[\"addr\"][0])\n",
    "print(member[\"grade\"][\"korean\"])"
   ]
  },
  {
   "cell_type": "code",
   "execution_count": 4,
   "id": "physical-light",
   "metadata": {},
   "outputs": [
    {
     "name": "stdout",
     "output_type": "stream",
     "text": [
      "{'total': 1962, 'city': ['서울', '대전', '광주'], 'population': [987, 654, 321], 'date': {'yy': 2018, 'mm': 9, 'dd': 10}}\n",
      "서울\n",
      "987\n",
      "2018\n"
     ]
    }
   ],
   "source": [
    "#딕셔너리의 계층화 직접 표현\n",
    "mydic = {\n",
    "    'total' : 1962,\n",
    "    'city' : [\"서울\", \"대전\", \"광주\"],\n",
    "    'population' : [987,654,321],\n",
    "    'date' : {'yy':2018, 'mm':9, 'dd':10}\n",
    "}\n",
    "\n",
    "print(mydic)\n",
    "print(mydic['city'][0])\n",
    "print(mydic['population'][0])\n",
    "print(mydic['date']['yy'])"
   ]
  },
  {
   "cell_type": "code",
   "execution_count": 7,
   "id": "romantic-cooper",
   "metadata": {},
   "outputs": [
    {
     "name": "stdout",
     "output_type": "stream",
     "text": [
      "철수의 국어점수 : 95, 영어점수: 88\n",
      "영희의 국어점수 : 92, 영어점수: 90\n",
      "철민의 국어점수 : 88, 영어점수: 76\n"
     ]
    }
   ],
   "source": [
    "#리스트의 원소가 딕셔너리가 되는 경우 -> 표 자료형\n",
    "grade = [\n",
    "    {\"name\":\"철수\", \"kor\":95, \"eng\":88},\n",
    "    {\"name\":\"영희\", \"kor\":92, \"eng\":90},\n",
    "    {\"name\":\"철민\", \"kor\":88, \"eng\":76}\n",
    "]\n",
    "\n",
    "tpl = \"{0}의 국어점수 : {1}, 영어점수: {2}\"\n",
    "print(tpl.format(grade[0][\"name\"], grade[0][\"kor\"], grade[0][\"eng\"]))\n",
    "print(tpl.format(grade[1][\"name\"], grade[1][\"kor\"], grade[1][\"eng\"]))\n",
    "print(tpl.format(grade[2][\"name\"], grade[2][\"kor\"], grade[2][\"eng\"]))"
   ]
  }
 ],
 "metadata": {
  "kernelspec": {
   "display_name": "Python 3",
   "language": "python",
   "name": "python3"
  },
  "language_info": {
   "codemirror_mode": {
    "name": "ipython",
    "version": 3
   },
   "file_extension": ".py",
   "mimetype": "text/x-python",
   "name": "python",
   "nbconvert_exporter": "python",
   "pygments_lexer": "ipython3",
   "version": "3.8.0"
  }
 },
 "nbformat": 4,
 "nbformat_minor": 5
}
