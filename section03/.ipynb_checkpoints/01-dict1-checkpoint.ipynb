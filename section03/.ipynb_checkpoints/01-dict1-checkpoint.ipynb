{
 "cells": [
  {
   "cell_type": "code",
   "execution_count": 1,
   "id": "banned-finding",
   "metadata": {},
   "outputs": [
    {
     "data": {
      "text/plain": [
       "{'name': '철수', 'phone': '010-1234-5678', 'birth': '0115'}"
      ]
     },
     "execution_count": 1,
     "metadata": {},
     "output_type": "execute_result"
    }
   ],
   "source": [
    "# -*- coding: utf-8 -*-\n",
    "\n",
    "#딕셔너리 정의하기 : 이름과 값이 쌍을 이루는 자료구조\n",
    "dic = {\"name\":\"철수\", \"phone\":\"010-1234-5678\", \"birth\":\"0115\"}\n",
    "dic"
   ]
  },
  {
   "cell_type": "code",
   "execution_count": 2,
   "id": "solid-creation",
   "metadata": {},
   "outputs": [
    {
     "data": {
      "text/plain": [
       "'철수'"
      ]
     },
     "execution_count": 2,
     "metadata": {},
     "output_type": "execute_result"
    }
   ],
   "source": [
    "#특정 원소에 접근하기 -> 직접 출력\n",
    "dic[\"name\"]"
   ]
  },
  {
   "cell_type": "code",
   "execution_count": 3,
   "id": "reported-gross",
   "metadata": {},
   "outputs": [
    {
     "data": {
      "text/plain": [
       "'010-1234-5678'"
      ]
     },
     "execution_count": 3,
     "metadata": {},
     "output_type": "execute_result"
    }
   ],
   "source": [
    "#특정 원소에 접근하기 -> 다른 변수에 복사\n",
    "phone = dic[\"phone\"]\n",
    "phone"
   ]
  },
  {
   "cell_type": "code",
   "execution_count": 4,
   "id": "united-shower",
   "metadata": {},
   "outputs": [
    {
     "data": {
      "text/plain": [
       "'호영'"
      ]
     },
     "execution_count": 4,
     "metadata": {},
     "output_type": "execute_result"
    }
   ],
   "source": [
    "#특정 원소 값을 변경\n",
    "dic[\"name\"] = \"호영\"\n",
    "dic[\"name\"]"
   ]
  },
  {
   "cell_type": "code",
   "execution_count": 5,
   "id": "athletic-aside",
   "metadata": {},
   "outputs": [
    {
     "data": {
      "text/plain": [
       "{'name': '호영', 'phone': '010-1234-5678', 'birth': '0115', 'height': 175}"
      ]
     },
     "execution_count": 5,
     "metadata": {},
     "output_type": "execute_result"
    }
   ],
   "source": [
    "#존재하지 않는 키의 값을 사용 시 에러\n",
    "#print(dic[\"weight\"])\n",
    "\n",
    "#존재하지 않는 키에 값 할당 시 확장\n",
    "dic[\"height\"] = 175\n",
    "dic"
   ]
  },
  {
   "cell_type": "code",
   "execution_count": 8,
   "id": "stylish-entry",
   "metadata": {},
   "outputs": [],
   "source": [
    "# key 가 birth인 데이터 삭제\n",
    "#del(dic[\"birth\"])\n",
    "#dic"
   ]
  },
  {
   "cell_type": "code",
   "execution_count": 9,
   "id": "civic-barcelona",
   "metadata": {},
   "outputs": [
    {
     "data": {
      "text/plain": [
       "'python'"
      ]
     },
     "execution_count": 9,
     "metadata": {},
     "output_type": "execute_result"
    }
   ],
   "source": [
    "#키가 중복될 경우 하나를 제외한 나머지는 무시\n",
    "#->일반적으로 나중에 정의된 항목이 이전에 정의된 항목을 덮어씀\n",
    "data = {\"msg\" : \"hello\", \"msg\" : \"world\", \"msg\" : \"python\"}\n",
    "data['msg']"
   ]
  },
  {
   "cell_type": "code",
   "execution_count": 10,
   "id": "dressed-arkansas",
   "metadata": {},
   "outputs": [
    {
     "name": "stdout",
     "output_type": "stream",
     "text": [
      "Python\n",
      "R\n",
      "Java\n"
     ]
    }
   ],
   "source": [
    "#딕셔너리는 리스트와 다르게 자료의 순서가 중요하지 않다. key는 정수형으로도 지정 가능\n",
    "rank = {0:\"Python\" , 30: \"R\", 10:\"Java\"}\n",
    "print(rank[0])\n",
    "print(rank[30])\n",
    "print(rank[10])"
   ]
  }
 ],
 "metadata": {
  "kernelspec": {
   "display_name": "Python 3",
   "language": "python",
   "name": "python3"
  },
  "language_info": {
   "codemirror_mode": {
    "name": "ipython",
    "version": 3
   },
   "file_extension": ".py",
   "mimetype": "text/x-python",
   "name": "python",
   "nbconvert_exporter": "python",
   "pygments_lexer": "ipython3",
   "version": "3.8.0"
  }
 },
 "nbformat": 4,
 "nbformat_minor": 5
}
