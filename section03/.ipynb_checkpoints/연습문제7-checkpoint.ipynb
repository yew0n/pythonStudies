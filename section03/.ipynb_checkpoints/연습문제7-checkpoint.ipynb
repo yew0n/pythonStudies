{
 "cells": [
  {
   "cell_type": "code",
   "execution_count": 7,
   "id": "empty-tennis",
   "metadata": {},
   "outputs": [
    {
     "name": "stdout",
     "output_type": "stream",
     "text": [
      "정상(안심)\n"
     ]
    }
   ],
   "source": [
    "#1. height/weight 정의 후 적절값 대입\n",
    "height = 180\n",
    "weight = 70\n",
    "\n",
    "#2. 표준체중 standard_weight 구하기\n",
    "if height<150:\n",
    "    standard_weight=height-110\n",
    "else:\n",
    "    standard_weight=(height-110)*0.9\n",
    "\n",
    "#3. obesity 구하기\n",
    "obesity = (weight-standard_weight)/standard_weight*100\n",
    "\n",
    "#4. 값의 범위에 따라 조건문 결과 출력\n",
    "if obesity<=20:\n",
    "    print(\"정상(안심)\")\n",
    "elif obesity<=30:\n",
    "    print(\"경도비만(주의)\")\n",
    "elif obesity<=50:\n",
    "    print(\"중등도비만(위험)\")\n",
    "else:\n",
    "    print(\"고도비만(매우위험)\")"
   ]
  }
 ],
 "metadata": {
  "kernelspec": {
   "display_name": "Python 3",
   "language": "python",
   "name": "python3"
  },
  "language_info": {
   "codemirror_mode": {
    "name": "ipython",
    "version": 3
   },
   "file_extension": ".py",
   "mimetype": "text/x-python",
   "name": "python",
   "nbconvert_exporter": "python",
   "pygments_lexer": "ipython3",
   "version": "3.8.0"
  }
 },
 "nbformat": 4,
 "nbformat_minor": 5
}
