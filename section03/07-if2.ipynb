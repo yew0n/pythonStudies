{
 "cells": [
  {
   "cell_type": "code",
   "execution_count": 1,
   "id": "small-buffer",
   "metadata": {},
   "outputs": [
    {
     "name": "stdout",
     "output_type": "stream",
     "text": [
      "a와 b는 같다\n"
     ]
    }
   ],
   "source": [
    "# -*- coding: utf-8 -*-\n",
    "\n",
    "#is 는 두 변수 값+데이터형식이 동일하면 True\n",
    "a=123\n",
    "b=123\n",
    "c=234\n",
    "\n",
    "if a is b :\n",
    "    print(\"a와 b는 같다\")\n",
    "\n",
    "if b is c : \n",
    "    print(\"b와 c는 같다\")"
   ]
  },
  {
   "cell_type": "code",
   "execution_count": 2,
   "id": "speaking-broadcasting",
   "metadata": {},
   "outputs": [
    {
     "name": "stdout",
     "output_type": "stream",
     "text": [
      "x와 z는 같다\n"
     ]
    }
   ],
   "source": [
    "x=1\n",
    "y=1\n",
    "z=1.0\n",
    "\n",
    "if x==z :\n",
    "    print(\"x와 z는 같다\")\n",
    "\n",
    "if y is z : \n",
    "    print(\"y와 z는 같다\")"
   ]
  },
  {
   "cell_type": "code",
   "execution_count": 3,
   "id": "actual-moscow",
   "metadata": {},
   "outputs": [
    {
     "name": "stdout",
     "output_type": "stream",
     "text": [
      "a와 b는 다르다\n",
      "b와 c는 다르다\n"
     ]
    }
   ],
   "source": [
    "#두 값이 서로 다르면 참인 is not 연산자\n",
    "a=123.0\n",
    "b=123\n",
    "c=234\n",
    "\n",
    "if a is not b :\n",
    "    print(\"a와 b는 다르다\")\n",
    "\n",
    "if b is not c : \n",
    "    print(\"b와 c는 다르다\")"
   ]
  },
  {
   "cell_type": "code",
   "execution_count": 4,
   "id": "vulnerable-salon",
   "metadata": {},
   "outputs": [
    {
     "name": "stdout",
     "output_type": "stream",
     "text": [
      "True\n",
      "False\n",
      "hello은(는) 이미 가입되어 있습니다.\n"
     ]
    }
   ],
   "source": [
    "#포함 여부를 검사하는 in 연산자 = 왼쪽 값이 오른쪽 대상에 포함되어 있다면 참\n",
    "user1=\"hello\"\n",
    "user2=\"world\"\n",
    "member_list=['hello', 'python', 'life']\n",
    "\n",
    "a=user1 in member_list\n",
    "print(a)\n",
    "\n",
    "b = user2 in member_list\n",
    "print(b)\n",
    "\n",
    "if user1 in member_list:\n",
    "    print(user1+\"은(는) 이미 가입되어 있습니다.\")\n",
    "    \n",
    "if user2 in member_list:\n",
    "    print(user2+\"은(는) 이미 가입되어 있습니다.\")"
   ]
  },
  {
   "cell_type": "code",
   "execution_count": 5,
   "id": "rocky-thickness",
   "metadata": {},
   "outputs": [
    {
     "name": "stdout",
     "output_type": "stream",
     "text": [
      "world은(는) 가입되어 있지 않습니다.\n"
     ]
    }
   ],
   "source": [
    "#포함되지 않았음을 검사하는 not in 연산자\n",
    "if user1 not in member_list:\n",
    "    print(user1+\"은(는) 가입되어 있지 않습니다.\")\n",
    "    \n",
    "if user2 not in member_list:\n",
    "    print(user2+\"은(는) 가입되어 있지 않습니다.\")"
   ]
  }
 ],
 "metadata": {
  "kernelspec": {
   "display_name": "Python 3",
   "language": "python",
   "name": "python3"
  },
  "language_info": {
   "codemirror_mode": {
    "name": "ipython",
    "version": 3
   },
   "file_extension": ".py",
   "mimetype": "text/x-python",
   "name": "python",
   "nbconvert_exporter": "python",
   "pygments_lexer": "ipython3",
   "version": "3.8.0"
  }
 },
 "nbformat": 4,
 "nbformat_minor": 5
}
