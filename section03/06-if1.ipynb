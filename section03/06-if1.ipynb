{
 "cells": [
  {
   "cell_type": "code",
   "execution_count": 1,
   "id": "spare-respect",
   "metadata": {},
   "outputs": [
    {
     "name": "stdout",
     "output_type": "stream",
     "text": [
      "식당에서\n",
      "밥을먹자\n"
     ]
    }
   ],
   "source": [
    "# -*- coding: utf-8 -*-\n",
    "\n",
    "have_money = True\n",
    "\n",
    "if have_money:\n",
    "    print(\"식당에서\")\n",
    "    \n",
    "print(\"밥을먹자\")"
   ]
  },
  {
   "cell_type": "code",
   "execution_count": 2,
   "id": "eligible-norfolk",
   "metadata": {},
   "outputs": [
    {
     "name": "stdout",
     "output_type": "stream",
     "text": [
      "택시타고\n",
      "집에가자\n",
      "Python\n",
      "프로그래밍\n"
     ]
    }
   ],
   "source": [
    "#숫자형 변수인 경우 0이 false, 문자열 변수의 경우 \"\"빈문자열이 false\n",
    "money = 10000\n",
    "if money:\n",
    "    print(\"택시타고\")\n",
    "print(\"집에가자\")\n",
    "\n",
    "name=\"Python\"\n",
    "if name:\n",
    "    print(name)\n",
    "print(\"프로그래밍\")"
   ]
  },
  {
   "cell_type": "code",
   "execution_count": 4,
   "id": "arabic-mobile",
   "metadata": {},
   "outputs": [
    {
     "name": "stdout",
     "output_type": "stream",
     "text": [
      "국어 : 100, 영어 80, 수학 : 70\n",
      "성적처리\n"
     ]
    }
   ],
   "source": [
    "#리스트에 대한 조건 처리 -> 원소 없이 빈 리스트인 경우 false\n",
    "grade=[100,80,70]\n",
    "\n",
    "if grade:\n",
    "    msg = \"국어 : {0}, 영어 {1}, 수학 : {2}\"\n",
    "    print(msg.format(grade[0], grade[1], grade[2]))\n",
    "print(\"성적처리\")"
   ]
  },
  {
   "cell_type": "code",
   "execution_count": 5,
   "id": "crazy-circus",
   "metadata": {},
   "outputs": [
    {
     "name": "stdout",
     "output_type": "stream",
     "text": [
      "선물을 사고 7000원 남는다.\n",
      "돈이 있지만 3000원 부족하다.\n"
     ]
    }
   ],
   "source": [
    "#비교식과 논리식에 대한 조건식 판별\n",
    "money = 12000\n",
    "if money>=5000:\n",
    "    print(\"선물을 사고 %d원 남는다.\" % (money-5000))\n",
    "    \n",
    "if money and money<15000:\n",
    "    print(\"돈이 있지만 %d원 부족하다.\" % (15000-money))"
   ]
  }
 ],
 "metadata": {
  "kernelspec": {
   "display_name": "Python 3",
   "language": "python",
   "name": "python3"
  },
  "language_info": {
   "codemirror_mode": {
    "name": "ipython",
    "version": 3
   },
   "file_extension": ".py",
   "mimetype": "text/x-python",
   "name": "python",
   "nbconvert_exporter": "python",
   "pygments_lexer": "ipython3",
   "version": "3.8.0"
  }
 },
 "nbformat": 4,
 "nbformat_minor": 5
}
