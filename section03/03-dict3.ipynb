{
 "cells": [
  {
   "cell_type": "code",
   "execution_count": 1,
   "id": "capable-student",
   "metadata": {},
   "outputs": [],
   "source": [
    "# -*- coding: utf-8 -*-\n",
    "\n",
    "dic = {\"name\" : \"철수\", \"phone\" : \"010-1234-5678\", \"birth\" : \"0115\"}"
   ]
  },
  {
   "cell_type": "code",
   "execution_count": 2,
   "id": "public-complement",
   "metadata": {},
   "outputs": [
    {
     "name": "stdout",
     "output_type": "stream",
     "text": [
      "철수\n",
      "None\n",
      "남자\n"
     ]
    }
   ],
   "source": [
    "#특정 key에 대응하는 값 얻기\n",
    "print(dic.get(\"name\"))\n",
    "\n",
    "#존재하지 않는 key에 접근하는 경우 -> 에러\n",
    "#print(dic[\"gender\"])\n",
    "#존재하지 않는 key에 접근하는 경우2 -> 에러X (None 반환)\n",
    "print(dic.get(\"gender\"))\n",
    "\n",
    "#get 함수는 전달 key가 존재하지 않을 경우 대신 반환될 값을 함께 설정 가능\n",
    "print(dic.get(\"gender\", \"남자\"))"
   ]
  },
  {
   "cell_type": "code",
   "execution_count": 3,
   "id": "friendly-restoration",
   "metadata": {},
   "outputs": [
    {
     "data": {
      "text/plain": [
       "dict_keys(['name', 'phone', 'birth'])"
      ]
     },
     "execution_count": 3,
     "metadata": {},
     "output_type": "execute_result"
    }
   ],
   "source": [
    "#key만 모아서 dict_keys라는 객체로 반환\n",
    "keys = dic.keys()\n",
    "keys"
   ]
  },
  {
   "cell_type": "code",
   "execution_count": 4,
   "id": "rental-serial",
   "metadata": {},
   "outputs": [
    {
     "data": {
      "text/plain": [
       "['name', 'phone', 'birth']"
      ]
     },
     "execution_count": 4,
     "metadata": {},
     "output_type": "execute_result"
    }
   ],
   "source": [
    "#dict_keys를 list로 변환\n",
    "key_list = list(keys)\n",
    "key_list"
   ]
  },
  {
   "cell_type": "code",
   "execution_count": 6,
   "id": "spatial-poetry",
   "metadata": {},
   "outputs": [
    {
     "name": "stdout",
     "output_type": "stream",
     "text": [
      "dict_values(['철수', '010-1234-5678', '0115'])\n",
      "['철수', '010-1234-5678', '0115']\n"
     ]
    }
   ],
   "source": [
    "#values만 모아서 dic_values객체로 반환 > dic_vlaues를 list로 변환\n",
    "values=dic.values()\n",
    "print(values)\n",
    "value_list = list(values)\n",
    "print(value_list)"
   ]
  },
  {
   "cell_type": "code",
   "execution_count": 7,
   "id": "expected-bhutan",
   "metadata": {},
   "outputs": [
    {
     "name": "stdout",
     "output_type": "stream",
     "text": [
      "dict_items([('name', '철수'), ('phone', '010-1234-5678'), ('birth', '0115')])\n",
      "[('name', '철수'), ('phone', '010-1234-5678'), ('birth', '0115')]\n"
     ]
    }
   ],
   "source": [
    "#key-value를 쌍으로 묶은 튜플들의 모음인 dict_items 객체 얻기\n",
    "items = dic.items()\n",
    "print(items)\n",
    "\n",
    "lists = list(items)\n",
    "print(lists)"
   ]
  }
 ],
 "metadata": {
  "kernelspec": {
   "display_name": "Python 3",
   "language": "python",
   "name": "python3"
  },
  "language_info": {
   "codemirror_mode": {
    "name": "ipython",
    "version": 3
   },
   "file_extension": ".py",
   "mimetype": "text/x-python",
   "name": "python",
   "nbconvert_exporter": "python",
   "pygments_lexer": "ipython3",
   "version": "3.8.0"
  }
 },
 "nbformat": 4,
 "nbformat_minor": 5
}
