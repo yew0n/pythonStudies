{
 "cells": [
  {
   "cell_type": "code",
   "execution_count": 1,
   "id": "present-graduate",
   "metadata": {},
   "outputs": [
    {
     "name": "stdout",
     "output_type": "stream",
     "text": [
      "38000원 x 6개 -> 총 228000원\n",
      "20000원 x 4개 -> 총 80000원\n",
      "17900원 x 3개 -> 총 53700원\n",
      "17900원 x 5개 -> 총 89500원\n"
     ]
    }
   ],
   "source": [
    "# -*- coding: utf-8 -*-\n",
    "\n",
    "cart = [\n",
    "    {'price':38000, 'qty':6},\n",
    "    {'price':20000, 'qty':4},\n",
    "    {'price':17900, 'qty':3},\n",
    "    {'price':17900, 'qty':5},\n",
    "]\n",
    "\n",
    "tpl = \"{0}원 x {1}개 -> 총 {2}원\"\n",
    "print(tpl.format(cart[0]['price'], cart[0]['qty'], cart[0]['price']*cart[0]['qty']))\n",
    "print(tpl.format(cart[1]['price'], cart[1]['qty'], cart[1]['price']*cart[1]['qty']))\n",
    "print(tpl.format(cart[2]['price'], cart[2]['qty'], cart[2]['price']*cart[2]['qty']))\n",
    "print(tpl.format(cart[3]['price'], cart[3]['qty'], cart[3]['price']*cart[3]['qty']))"
   ]
  }
 ],
 "metadata": {
  "kernelspec": {
   "display_name": "Python 3",
   "language": "python",
   "name": "python3"
  },
  "language_info": {
   "codemirror_mode": {
    "name": "ipython",
    "version": 3
   },
   "file_extension": ".py",
   "mimetype": "text/x-python",
   "name": "python",
   "nbconvert_exporter": "python",
   "pygments_lexer": "ipython3",
   "version": "3.8.0"
  }
 },
 "nbformat": 4,
 "nbformat_minor": 5
}
