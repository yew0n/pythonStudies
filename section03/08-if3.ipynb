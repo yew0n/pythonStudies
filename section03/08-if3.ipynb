{
 "cells": [
  {
   "cell_type": "code",
   "execution_count": 1,
   "id": "compressed-sydney",
   "metadata": {},
   "outputs": [
    {
     "name": "stdout",
     "output_type": "stream",
     "text": [
      "성인이 아닙니다.\n"
     ]
    }
   ],
   "source": [
    "# -*- coding: utf-8 -*-\n",
    "\n",
    "#else문\n",
    "age=19;\n",
    "if age>19:\n",
    "    print(\"성인입니다.\")\n",
    "else:\n",
    "    print(\"성인이 아닙니다.\")"
   ]
  },
  {
   "cell_type": "code",
   "execution_count": 2,
   "id": "featured-equity",
   "metadata": {},
   "outputs": [
    {
     "name": "stdout",
     "output_type": "stream",
     "text": [
      "hello은(는) 이미 가입되어 있습니다.\n",
      "world은(는) 가입되어 있지 않습니다.\n"
     ]
    }
   ],
   "source": [
    "#활용 예시\n",
    "user1=\"hello\"\n",
    "user2=\"world\"\n",
    "member_list=['hello', 'python', 'life']\n",
    "\n",
    "if user1 in member_list:\n",
    "    print(user1+\"은(는) 이미 가입되어 있습니다.\")\n",
    "else:\n",
    "    print(user1+\"은(는) 가입되어 있지 않습니다.\")\n",
    "    \n",
    "if user2 in member_list:\n",
    "    print(user2+\"은(는) 이미 가입되어 있습니다.\")\n",
    "else:\n",
    "    print(user2+\"은(는) 가입되어 있지 않습니다.\")"
   ]
  },
  {
   "cell_type": "code",
   "execution_count": 3,
   "id": "worldwide-mouth",
   "metadata": {},
   "outputs": [
    {
     "name": "stdout",
     "output_type": "stream",
     "text": [
      "C\n"
     ]
    }
   ],
   "source": [
    "#다양한 경우의 수 나열\n",
    "point = 72\n",
    "\n",
    "if point>90:\n",
    "    print(\"A\")\n",
    "elif point>80:\n",
    "    print(\"B\")\n",
    "elif point>70:\n",
    "    print(\"C\")\n",
    "elif point>60:\n",
    "    print(\"D\")\n",
    "else:\n",
    "    print(\"F\")"
   ]
  }
 ],
 "metadata": {
  "kernelspec": {
   "display_name": "Python 3",
   "language": "python",
   "name": "python3"
  },
  "language_info": {
   "codemirror_mode": {
    "name": "ipython",
    "version": 3
   },
   "file_extension": ".py",
   "mimetype": "text/x-python",
   "name": "python",
   "nbconvert_exporter": "python",
   "pygments_lexer": "ipython3",
   "version": "3.8.0"
  }
 },
 "nbformat": 4,
 "nbformat_minor": 5
}
