{
 "cells": [
  {
   "cell_type": "code",
   "execution_count": 1,
   "id": "computational-intensity",
   "metadata": {},
   "outputs": [
    {
     "name": "stdout",
     "output_type": "stream",
     "text": [
      "7\n",
      "-1\n",
      "12\n",
      "0.75\n",
      "3.3333333333333335\n",
      "3\n",
      "1\n",
      "243\n",
      "1\n"
     ]
    }
   ],
   "source": [
    "# -*- coding: utf-8 -*-\n",
    "\n",
    "# 연산결과는 새로운 변수에 할당 or 직접출력 가능\n",
    "a=3\n",
    "b=4\n",
    "c=a+b\n",
    "print(c)\n",
    "\n",
    "#연산결과 직접출력\n",
    "print(a-b)\n",
    "print(a*b)\n",
    "print(a/b)\n",
    "\n",
    "#나눗셈 몫을 구함 -> 처리 가능 단위까지 계산\n",
    "print(10/3)\n",
    "\n",
    "#나눗셈에서 소수점 아래 버리고 몫만 계산\n",
    "print(10//3)\n",
    "\n",
    "#나눗셈의 나머지 구함\n",
    "print(10%3)\n",
    "\n",
    "#제곱구하기\n",
    "print(3**5)\n",
    "\n",
    "#단항연산자\n",
    "a=1\n",
    "a+=100    #->101\n",
    "a*=10     #->1010\n",
    "a//=3     #->336\n",
    "a%=5      #->1\n",
    "print(a)"
   ]
  },
  {
   "cell_type": "code",
   "execution_count": 3,
   "id": "ultimate-probability",
   "metadata": {},
   "outputs": [
    {
     "name": "stdout",
     "output_type": "stream",
     "text": [
      "False\n",
      "True\n",
      "True\n",
      "True\n",
      "False\n",
      "False\n"
     ]
    }
   ],
   "source": [
    "#비교연산자\n",
    "print(100==50)\n",
    "print(100!=50)\n",
    "print(100>=50)\n",
    "print(100>50)\n",
    "print(100<50)\n",
    "print(100<=50)"
   ]
  },
  {
   "cell_type": "code",
   "execution_count": 5,
   "id": "accomplished-render",
   "metadata": {},
   "outputs": [
    {
     "name": "stdout",
     "output_type": "stream",
     "text": [
      "True\n"
     ]
    }
   ],
   "source": [
    "#비교연산도 하나의 수식이므로 결과를 다른변수에 할당 가능\n",
    "result=100>50\n",
    "print(result)"
   ]
  },
  {
   "cell_type": "code",
   "execution_count": 6,
   "id": "wound-morning",
   "metadata": {},
   "outputs": [
    {
     "name": "stdout",
     "output_type": "stream",
     "text": [
      "True\n",
      "False\n",
      "False\n",
      "False\n",
      "True\n",
      "True\n",
      "True\n",
      "False\n"
     ]
    }
   ],
   "source": [
    "#논리연산자\n",
    "print(True and True)\n",
    "print(True and False)\n",
    "print(False and True)\n",
    "print(False and False)\n",
    "\n",
    "print(True or True)\n",
    "print(True or False)\n",
    "print(False or True)\n",
    "print(False or False)\n"
   ]
  },
  {
   "cell_type": "code",
   "execution_count": 7,
   "id": "lucky-meter",
   "metadata": {},
   "outputs": [
    {
     "name": "stdout",
     "output_type": "stream",
     "text": [
      "True\n",
      "False\n",
      "True\n"
     ]
    }
   ],
   "source": [
    "#비교연산결과값은 bool 형식이므로 논리연산 가능\n",
    "a=100>50\n",
    "b=20>10\n",
    "print(a and b)\n",
    "\n",
    "c=100>=100 and 50==10\n",
    "print(c)\n",
    "\n",
    "print(100!=200 and 100==100)"
   ]
  },
  {
   "cell_type": "code",
   "execution_count": 8,
   "id": "owned-government",
   "metadata": {},
   "outputs": [
    {
     "name": "stdout",
     "output_type": "stream",
     "text": [
      "True\n",
      "False\n"
     ]
    }
   ],
   "source": [
    "#두 변수가 동일한지 판별하는 is 연산자\n",
    "s1= a is b\n",
    "print(s1)\n",
    "\n",
    "s2=a is c\n",
    "print(s2)"
   ]
  },
  {
   "cell_type": "code",
   "execution_count": 9,
   "id": "intended-landing",
   "metadata": {},
   "outputs": [
    {
     "name": "stdout",
     "output_type": "stream",
     "text": [
      "True\n",
      "False\n"
     ]
    }
   ],
   "source": [
    "# \"==\" 연산과 \"is\"연산의 차이\n",
    "x=100\n",
    "y=100.0\n",
    "\n",
    "# 단순히 값만 비교 > 두 값이 같다고 판단\n",
    "print(x==y)\n",
    "\n",
    "# 값의 데이터타입까지 비교 > 정수와 실수는 다르다고 판단\n",
    "print(x is y)"
   ]
  }
 ],
 "metadata": {
  "kernelspec": {
   "display_name": "Python 3",
   "language": "python",
   "name": "python3"
  },
  "language_info": {
   "codemirror_mode": {
    "name": "ipython",
    "version": 3
   },
   "file_extension": ".py",
   "mimetype": "text/x-python",
   "name": "python",
   "nbconvert_exporter": "python",
   "pygments_lexer": "ipython3",
   "version": "3.8.0"
  }
 },
 "nbformat": 4,
 "nbformat_minor": 5
}
