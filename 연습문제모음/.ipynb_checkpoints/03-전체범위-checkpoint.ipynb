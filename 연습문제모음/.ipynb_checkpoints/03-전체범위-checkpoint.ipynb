{
 "cells": [
  {
   "cell_type": "markdown",
   "metadata": {},
   "source": [
    "# 파이썬 연습문제\n",
    "\n",
    "---\n",
    "\n",
    "## 참고!!\n",
    "\n",
    "사용자로부터 입력을 받기 위해서는 `input(str)` 함수를 사용합니다. \n",
    "\n",
    "이 함수는 사용자로부터 입력값을 문자열 변수로 반환합니다.\n",
    "\n",
    "아래의 코드를 실행해 보세요"
   ]
  },
  {
   "cell_type": "code",
   "execution_count": 1,
   "metadata": {},
   "outputs": [
    {
     "name": "stdin",
     "output_type": "stream",
     "text": [
      "아무 내용이나 입력하세요: 안녕하세요 파이썬\n"
     ]
    },
    {
     "name": "stdout",
     "output_type": "stream",
     "text": [
      "입력하신 내용: 안녕하세요 파이썬\n"
     ]
    }
   ],
   "source": [
    "myinput = input(\"아무 내용이나 입력하세요:\")\n",
    "print(\"입력하신 내용:\", myinput)"
   ]
  },
  {
   "cell_type": "markdown",
   "metadata": {},
   "source": [
    "만약 입력값을 숫자로 사용하고자 할 경우 `int()` 함수를 사용하여 형변환을 수행해야 합니다.\n",
    "\n",
    "아래의 코드를 실행해 보세요."
   ]
  },
  {
   "cell_type": "code",
   "execution_count": 2,
   "metadata": {},
   "outputs": [
    {
     "name": "stdin",
     "output_type": "stream",
     "text": [
      "숫자를 입력하세요: 123\n"
     ]
    },
    {
     "name": "stdout",
     "output_type": "stream",
     "text": [
      "입력값에 100을 더한 결과: 223\n"
     ]
    }
   ],
   "source": [
    "myinput = input(\"숫자를 입력하세요:\")\n",
    "mynumber = int(myinput)\n",
    "x = mynumber + 100\n",
    "print(\"입력값에 100을 더한 결과:\", x)"
   ]
  },
  {
   "cell_type": "markdown",
   "metadata": {},
   "source": [
    "----\n",
    "\n",
    "## 문제1\n",
    "\n",
    "2~10 사이의 숫자 x, y를 입력받은 후 1부터 100까지의 자연수 중에서 x와 y의 공배수를 모두 출력하고 총 합이 얼마인지 출력하시오."
   ]
  },
  {
   "cell_type": "code",
   "execution_count": 3,
   "metadata": {},
   "outputs": [
    {
     "name": "stdin",
     "output_type": "stream",
     "text": [
      "x를 입력하세요:  3\n",
      "y를 입력하세요:  5\n"
     ]
    },
    {
     "name": "stdout",
     "output_type": "stream",
     "text": [
      "15\n",
      "30\n",
      "45\n",
      "60\n",
      "75\n",
      "90\n",
      "3와 5의 공배수 합 : 315\n"
     ]
    }
   ],
   "source": [
    "myinput = input(\"x를 입력하세요: \")\n",
    "x = int(myinput)\n",
    "myinput = input(\"y를 입력하세요: \")\n",
    "y = int(myinput)\n",
    "\n",
    "sum=0\n",
    "\n",
    "for i in range(1,101):\n",
    "    if i%x==0 and i%y==0:\n",
    "        sum+=i\n",
    "        print(i)\n",
    "        \n",
    "print(\"%d와 %d의 공배수 합 : %d\" % (x,y,sum))"
   ]
  },
  {
   "cell_type": "markdown",
   "metadata": {},
   "source": [
    "---\n",
    "\n",
    "## 문제2\n",
    "\n",
    "태어난 년도 `year`를 입력받아서 그 사람이 성인인지 판별하는 프로그램을 작성하시오.\n",
    "\n",
    "(단, 20세 이상인 경우 성인으로 판단합니다.)\n",
    "\n",
    "현재 년도는 datetime 패키지를 활용해야 합니다."
   ]
  },
  {
   "cell_type": "code",
   "execution_count": 5,
   "metadata": {},
   "outputs": [
    {
     "name": "stdin",
     "output_type": "stream",
     "text": [
      "태어난 년도를 입력하세요:  2003\n"
     ]
    },
    {
     "name": "stdout",
     "output_type": "stream",
     "text": [
      "미성년자입니다.\n"
     ]
    }
   ],
   "source": [
    "myinput = input(\"태어난 년도를 입력하세요: \")\n",
    "year = int(myinput)\n",
    "import datetime as dt\n",
    "current = dt.datetime.now().year\n",
    "\n",
    "if current-year+1>=20:\n",
    "    print(\"성인입니다.\")\n",
    "else:\n",
    "    print(\"미성년자입니다.\")"
   ]
  },
  {
   "cell_type": "markdown",
   "metadata": {},
   "source": [
    "---\n",
    "\n",
    "## 문제3\n",
    "\n",
    "하나의 정수 x를 입력받아 x개의 행을 출력하는 별찍기 프로그램을 작성하시오.\n",
    "\n",
    "- 첫 번째 행은 1개의 별을 출력하고, \n",
    "- 두 번재 행은 2개의 별을 출력하고,\n",
    "- x 번째 행은 x개의 별을 출력합니다."
   ]
  },
  {
   "cell_type": "code",
   "execution_count": 8,
   "metadata": {},
   "outputs": [
    {
     "name": "stdin",
     "output_type": "stream",
     "text": [
      "숫자를 입력하세요:  5\n"
     ]
    },
    {
     "name": "stdout",
     "output_type": "stream",
     "text": [
      "*\n",
      "**\n",
      "***\n",
      "****\n",
      "*****\n"
     ]
    }
   ],
   "source": [
    "myinput = input(\"숫자를 입력하세요: \")\n",
    "x = int(myinput)\n",
    "\n",
    "for i in range(0,x):\n",
    "    star=\"\"\n",
    "    for j in range(0, i+1):\n",
    "        star+=\"*\"\n",
    "    print(star)"
   ]
  },
  {
   "cell_type": "markdown",
   "metadata": {},
   "source": [
    "----\n",
    "\n",
    "## 문제4\n",
    "\n",
    "n개의 과목에 대한 점수를 입력하는 프로그램을 만들고자 한다.\n",
    "\n",
    "숫자 n을 입력 받아 n번 반복을 수행하면서 숫자를 입력받는다.\n",
    "\n",
    "반복문 안에서 입력받은 숫자는 data라는 리스트의 원소로 추가된다.\n",
    "\n",
    "이 리스트의 모든 원소에 대한 총합과 평균을 구하시오.\n",
    "\n",
    "(평균은 소수점 둘째 자리까지만 표시한다.)"
   ]
  },
  {
   "cell_type": "code",
   "execution_count": 10,
   "metadata": {},
   "outputs": [
    {
     "name": "stdin",
     "output_type": "stream",
     "text": [
      "숫자를 입력하세요:  5\n",
      "1번째 점수를 입력하세요 :  90\n",
      "2번째 점수를 입력하세요 :  80\n",
      "3번째 점수를 입력하세요 :  70\n",
      "4번째 점수를 입력하세요 :  60\n",
      "5번째 점수를 입력하세요 :  50\n"
     ]
    },
    {
     "name": "stdout",
     "output_type": "stream",
     "text": [
      "총합 : 350, 평균 : 70.00\n"
     ]
    }
   ],
   "source": [
    "myinput = input(\"숫자를 입력하세요: \")\n",
    "x = int(myinput)\n",
    "sum=0\n",
    "\n",
    "for i in range(1,x+1):\n",
    "    myinput = input(\"%d번째 점수를 입력하세요 : \" % i)\n",
    "    sum+=int(myinput)\n",
    "\n",
    "print(\"총합 : %d, 평균 : %.2f\" % (sum, sum/x))"
   ]
  },
  {
   "cell_type": "markdown",
   "metadata": {},
   "source": [
    "---\n",
    "\n",
    "## 문제5\n",
    "\n",
    "`n`개의 숫자를 입력받아서 리스트에 원소로 추가한 후 그 숫자들 중에서 가장 큰 값을 구하는 프로그램을 작성하시오.\n",
    "\n",
    "단, 최대값은 `max()`함수를 사용하지 않고 반복문을 통해 직접 구해야 합니다."
   ]
  },
  {
   "cell_type": "code",
   "execution_count": 15,
   "metadata": {},
   "outputs": [
    {
     "name": "stdin",
     "output_type": "stream",
     "text": [
      "숫자를 입력하세요:  5\n",
      "1번째 숫자를 입력하세요 :  9\n",
      "2번째 숫자를 입력하세요 :  101\n",
      "3번째 숫자를 입력하세요 :  3\n",
      "4번째 숫자를 입력하세요 :  5\n",
      "5번째 숫자를 입력하세요 :  7\n"
     ]
    },
    {
     "name": "stdout",
     "output_type": "stream",
     "text": [
      "가장 큰 값 : 101\n"
     ]
    }
   ],
   "source": [
    "myinput = input(\"숫자를 입력하세요: \")\n",
    "x = int(myinput)\n",
    "\n",
    "mylist = []\n",
    "max=0\n",
    "\n",
    "for i in range(1,x+1):\n",
    "    myinput = input(\"%d번째 숫자를 입력하세요 : \" % i)\n",
    "    mylist.append(int(myinput))\n",
    "\n",
    "for i in range(0, len(mylist)):\n",
    "    if(mylist[i]>max):\n",
    "        max = mylist[i]\n",
    "\n",
    "print(\"가장 큰 값 : %d\" % max)"
   ]
  },
  {
   "cell_type": "markdown",
   "metadata": {},
   "source": [
    "---\n",
    "\n",
    "## 문제6\n",
    "\n",
    "`n`개의 숫자를 입력받아서 리스트에 원소로 추가한 후 그 숫자을 오름차순으로 정렬한 결과를 출력하는 프로그램을 작성하시오.\n",
    "\n",
    "단, 정렬은 `sort()`함수를 사용하지 않고 반복문을 통해 직접 처리해야 합니다."
   ]
  },
  {
   "cell_type": "code",
   "execution_count": 16,
   "metadata": {},
   "outputs": [
    {
     "name": "stdin",
     "output_type": "stream",
     "text": [
      "숫자를 입력하세요:  5\n",
      "1번째 숫자를 입력하세요 :  4\n",
      "2번째 숫자를 입력하세요 :  2\n",
      "3번째 숫자를 입력하세요 :  5\n",
      "4번째 숫자를 입력하세요 :  3\n",
      "5번째 숫자를 입력하세요 :  1\n"
     ]
    },
    {
     "data": {
      "text/plain": [
       "[1, 2, 3, 4, 5]"
      ]
     },
     "execution_count": 16,
     "metadata": {},
     "output_type": "execute_result"
    }
   ],
   "source": [
    "myinput = input(\"숫자를 입력하세요: \")\n",
    "x = int(myinput)\n",
    "\n",
    "mylist = []\n",
    "max=0\n",
    "\n",
    "for i in range(1,x+1):\n",
    "    myinput = input(\"%d번째 숫자를 입력하세요 : \" % i)\n",
    "    mylist.append(int(myinput))\n",
    "\n",
    "size=len(mylist)\n",
    "# 처음부터 뒤에서 두번째 것까지 반복\n",
    "for i in range(0,size-1):\n",
    "    for j in range(i+1, size):\n",
    "        #i번째 원소가 j번째 원소보다 크면\n",
    "        if mylist[i]>mylist[j]:\n",
    "            #원소 맞바꿈\n",
    "            mylist[i], mylist[j] = mylist[j], mylist[i]\n",
    "            \n",
    "mylist"
   ]
  },
  {
   "cell_type": "markdown",
   "metadata": {},
   "source": [
    "---\n",
    "\n",
    "## 문제7\n",
    "\n",
    "자신의 키를 `cm`단위로 입력받아 `m`와 `cm`단위로 분할하여 출력하시오.\n",
    "\n",
    "단, 함수를 사용하지 않고 직접 연산자를 활용하여 구해야 합니다."
   ]
  },
  {
   "cell_type": "code",
   "execution_count": 17,
   "metadata": {},
   "outputs": [
    {
     "name": "stdin",
     "output_type": "stream",
     "text": [
      "키를 숫자만 입력하세요:  175\n"
     ]
    },
    {
     "name": "stdout",
     "output_type": "stream",
     "text": [
      "1m 75cm\n"
     ]
    }
   ],
   "source": [
    "myinput = input(\"키를 숫자만 입력하세요: \")\n",
    "height = int(myinput)\n",
    "\n",
    "print(\"%dm %dcm\" % (height//100, height%100))"
   ]
  }
 ],
 "metadata": {
  "kernelspec": {
   "display_name": "Python 3",
   "language": "python",
   "name": "python3"
  },
  "language_info": {
   "codemirror_mode": {
    "name": "ipython",
    "version": 3
   },
   "file_extension": ".py",
   "mimetype": "text/x-python",
   "name": "python",
   "nbconvert_exporter": "python",
   "pygments_lexer": "ipython3",
   "version": "3.8.0"
  }
 },
 "nbformat": 4,
 "nbformat_minor": 4
}
