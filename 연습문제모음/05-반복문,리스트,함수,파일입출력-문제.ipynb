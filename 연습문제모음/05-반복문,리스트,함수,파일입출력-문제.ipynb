{
 "cells": [
  {
   "cell_type": "markdown",
   "metadata": {},
   "source": [
    "# 파이썬 연습문제 05\n",
    "\n",
    "---\n",
    "\n",
    "### 문제1\n",
    "\n",
    "여행에서 찍은 사진을 \"C:\\myphoto\\helloworld.jpg\"의 경로에 보관하고 있다. \n",
    "\n",
    "이 사진 파일의 경로를 임의의 변수에 할당하고, 사진이 보관되어 있는 폴더의 위치와 파일 이름, \n",
    "확장자를 출력하는 프로그램을 작성하시오."
   ]
  },
  {
   "cell_type": "code",
   "execution_count": 1,
   "metadata": {},
   "outputs": [
    {
     "name": "stdout",
     "output_type": "stream",
     "text": [
      "폴더의 위치 : C:\\myphoto\n",
      "파일이름 : helloworld\n",
      "확장자 : jpg\n"
     ]
    }
   ],
   "source": [
    "# -*- coding: utf-8 -*-\n",
    "location = \"C:\\myphoto\\helloworld.jpg\"\n",
    "\n",
    "#rfind() 함수 확인해서 c:\\myphoto, helloworld, jpg로 끊어 출력하기\n",
    "print(\"폴더의 위치 : %s\" % location[:location.rfind(\"\\\\\")])\n",
    "print(\"파일이름 : %s\" % location[location.rfind(\"\\\\\")+1:location.rfind(\".\")])\n",
    "print(\"확장자 : %s\" % location[location.rfind(\".\")+1:])"
   ]
  },
  {
   "cell_type": "markdown",
   "metadata": {},
   "source": [
    "---\n",
    "\n",
    "### 문제2\n",
    "\n",
    "임의의 숫자를 입력받은 후 그 값이 홀수인지 짝수인지를 판별하시오."
   ]
  },
  {
   "cell_type": "code",
   "execution_count": 2,
   "metadata": {},
   "outputs": [
    {
     "name": "stdin",
     "output_type": "stream",
     "text": [
      "숫자를 입력하세요:  7\n"
     ]
    },
    {
     "name": "stdout",
     "output_type": "stream",
     "text": [
      "7(은)는 홀수입니다.\n"
     ]
    }
   ],
   "source": [
    "myinput = input(\"숫자를 입력하세요: \")\n",
    "x = int(myinput)\n",
    "if x%2==0:\n",
    "    print(\"%d(은)는 짝수입니다.\" % x)\n",
    "else:\n",
    "    print(\"%d(은)는 홀수입니다.\" % x)"
   ]
  },
  {
   "cell_type": "markdown",
   "metadata": {},
   "source": [
    "---\n",
    "\n",
    "### 문제3\n",
    "\n",
    "임의의 숫자를 입력받은 후 값만큼 \"HelloPython\"이라는 문구를 반복해서 출력하시오.\n",
    "\n",
    "> 예) 3을 입력한 경우 -> HelloPythonHelloPythonHelloPython"
   ]
  },
  {
   "cell_type": "code",
   "execution_count": 3,
   "metadata": {},
   "outputs": [
    {
     "name": "stdin",
     "output_type": "stream",
     "text": [
      "숫자를 입력하세요:  3\n"
     ]
    },
    {
     "name": "stdout",
     "output_type": "stream",
     "text": [
      "HelloPythonHelloPythonHelloPython\n"
     ]
    }
   ],
   "source": [
    "myinput = input(\"숫자를 입력하세요: \")\n",
    "x = int(myinput)\n",
    "print(\"HelloPython\"*x)"
   ]
  },
  {
   "cell_type": "markdown",
   "metadata": {},
   "source": [
    "---\n",
    "\n",
    "### 문제 4\n",
    "\n",
    "다음의 리스트는 어느 학급의 중간고사 성적을 나타낸다\n",
    "\n",
    "```python\n",
    "exam = {\n",
    "    \"철수\": [89, 82, 79, 91],\n",
    "    \"민영\": [91, 95, 94, 89],\n",
    "    \"남철\": [65, 57, 71, 64],\n",
    "    \"혜진\": [82, 76, 81, 83]\n",
    "}\n",
    "```\n",
    "\n",
    "위 데이터에서 학생별 총점과 평균을 구하시오."
   ]
  },
  {
   "cell_type": "code",
   "execution_count": 9,
   "metadata": {},
   "outputs": [
    {
     "name": "stdout",
     "output_type": "stream",
     "text": [
      "['철수', '민영', '남철', '혜진']\n",
      "철수의 총점은 341이고 평균은 85점 입니다.\n",
      "민영의 총점은 369이고 평균은 92점 입니다.\n",
      "남철의 총점은 257이고 평균은 64점 입니다.\n",
      "혜진의 총점은 322이고 평균은 80점 입니다.\n"
     ]
    }
   ],
   "source": [
    "exam = {\n",
    "    \"철수\": [89, 82, 79, 91],\n",
    "    \"민영\": [91, 95, 94, 89],\n",
    "    \"남철\": [65, 57, 71, 64],\n",
    "    \"혜진\": [82, 76, 81, 83]\n",
    "}\n",
    "\n",
    "names = list(exam.keys())\n",
    "print(names)\n",
    "\n",
    "for i in range(0, len(names)):\n",
    "    scores = exam[names[i]]\n",
    "    print(\"%s의 총점은 %d이고 평균은 %d점 입니다.\" % (names[i], sum(scores), int(sum(scores)/len(scores))))"
   ]
  },
  {
   "cell_type": "markdown",
   "metadata": {},
   "source": [
    "---\n",
    "\n",
    "### 문제5\n",
    "\n",
    "위 4번 문제의 점수가 순서대로 국어, 영어, 수학, 과학일 경우 수학에 대한 모든 학생의 총점과 평균을 구하시오."
   ]
  },
  {
   "cell_type": "code",
   "execution_count": 13,
   "metadata": {},
   "outputs": [
    {
     "name": "stdout",
     "output_type": "stream",
     "text": [
      "['철수', '민영', '남철', '혜진']\n",
      "모든 학생의 수학 총점은 310이고 평균은 77 입니다.\n"
     ]
    }
   ],
   "source": [
    "print(names)\n",
    "math = 0\n",
    "\n",
    "for i in range(0,len(names)):\n",
    "    math+=exam[names[i]][1]\n",
    "\n",
    "print(\"모든 학생의 수학 총점은 %d이고 평균은 %d 입니다.\" % (math, int(math/len(names))))"
   ]
  },
  {
   "cell_type": "markdown",
   "metadata": {},
   "source": [
    "---\n",
    "\n",
    "### 문제6\n",
    "\n",
    "사용자가 입력한 문장을 `hello.txt` 라는 이름의 텍스트 파일로 저장하는 프로그램을 작성하시오."
   ]
  },
  {
   "cell_type": "code",
   "execution_count": 13,
   "metadata": {},
   "outputs": [
    {
     "name": "stdin",
     "output_type": "stream",
     "text": [
      "문장을 입력하세요: 안녕하세요 파이썬\n"
     ]
    }
   ],
   "source": [
    "myinput = input(\"문장을 입력하세요: \")\n",
    "\n",
    "with open(\"hellopython.txt\", \"w\", encoding='utf-8') as f:\n",
    "    #with 블록 안에서만 파일 객체 f 유효\n",
    "    f.write(myinput)"
   ]
  },
  {
   "cell_type": "markdown",
   "metadata": {},
   "source": [
    "---\n",
    "\n",
    "### 문제7\n",
    "\n",
    "앞 6번에서 저장한 `hello.txt` 파일의 내용을 읽어들여 출력하는 프로그램을 작성하시오."
   ]
  },
  {
   "cell_type": "code",
   "execution_count": 15,
   "metadata": {},
   "outputs": [
    {
     "name": "stdout",
     "output_type": "stream",
     "text": [
      "안녕하세요. 파이썬\n"
     ]
    }
   ],
   "source": [
    "with open(\"hellopython.txt\", \"r\", encoding='utf-8') as f:\n",
    "    print(f.read())"
   ]
  },
  {
   "cell_type": "markdown",
   "metadata": {},
   "source": [
    "---\n",
    "\n",
    "### 문제8\n",
    "\n",
    "1부터 100까지의 자연수 중에서 3의 배수의 총 합은 얼마인지 구하시오."
   ]
  },
  {
   "cell_type": "code",
   "execution_count": 16,
   "metadata": {},
   "outputs": [
    {
     "name": "stdout",
     "output_type": "stream",
     "text": [
      "1683\n"
     ]
    }
   ],
   "source": [
    "sum=0\n",
    "\n",
    "for i in range(1,101):\n",
    "    if i%3==0:\n",
    "        sum+=i\n",
    "\n",
    "print(sum)"
   ]
  },
  {
   "cell_type": "markdown",
   "metadata": {},
   "source": [
    "---\n",
    "\n",
    "### 문제9\n",
    "\n",
    "월드컵은 4년에 한 번 개최된다. 2002~2050년까지 중 월드컵이 개최되는 연도를 출력하라."
   ]
  },
  {
   "cell_type": "code",
   "execution_count": 17,
   "metadata": {},
   "outputs": [
    {
     "name": "stdout",
     "output_type": "stream",
     "text": [
      "2002\n",
      "2006\n",
      "2010\n",
      "2014\n",
      "2018\n",
      "2022\n",
      "2026\n",
      "2030\n",
      "2034\n",
      "2038\n",
      "2042\n",
      "2046\n",
      "2050\n"
     ]
    }
   ],
   "source": [
    "for i in range(2002, 2051, 4):\n",
    "    print(i)"
   ]
  },
  {
   "cell_type": "markdown",
   "metadata": {},
   "source": [
    "---\n",
    "\n",
    "### 문제10\n",
    "\n",
    "구구단 프로그램을 만들고자 한다.\n",
    "\n",
    "전체를 출력하는 구구단이 아니라 1번을 입력하면 홀수 단(3, 5, 7, 9) 2번을 입력하면 짝수 단(2, 4, 6, 8)을 출력하는 프로그램을 완성하시오."
   ]
  },
  {
   "cell_type": "code",
   "execution_count": 19,
   "metadata": {},
   "outputs": [
    {
     "name": "stdin",
     "output_type": "stream",
     "text": [
      "숫자를 입력하세요:  2\n"
     ]
    },
    {
     "name": "stdout",
     "output_type": "stream",
     "text": [
      "2 x 1 = 2\n",
      "2 x 2 = 4\n",
      "2 x 3 = 6\n",
      "2 x 4 = 8\n",
      "2 x 5 = 10\n",
      "2 x 6 = 12\n",
      "2 x 7 = 14\n",
      "2 x 8 = 16\n",
      "2 x 9 = 18\n",
      "4 x 1 = 4\n",
      "4 x 2 = 8\n",
      "4 x 3 = 12\n",
      "4 x 4 = 16\n",
      "4 x 5 = 20\n",
      "4 x 6 = 24\n",
      "4 x 7 = 28\n",
      "4 x 8 = 32\n",
      "4 x 9 = 36\n",
      "6 x 1 = 6\n",
      "6 x 2 = 12\n",
      "6 x 3 = 18\n",
      "6 x 4 = 24\n",
      "6 x 5 = 30\n",
      "6 x 6 = 36\n",
      "6 x 7 = 42\n",
      "6 x 8 = 48\n",
      "6 x 9 = 54\n",
      "8 x 1 = 8\n",
      "8 x 2 = 16\n",
      "8 x 3 = 24\n",
      "8 x 4 = 32\n",
      "8 x 5 = 40\n",
      "8 x 6 = 48\n",
      "8 x 7 = 56\n",
      "8 x 8 = 64\n",
      "8 x 9 = 72\n"
     ]
    }
   ],
   "source": [
    "myinput = input(\"숫자를 입력하세요: \")\n",
    "x = int(myinput)\n",
    "\n",
    "if x==1:\n",
    "    for i in range(3, 10, 2):\n",
    "        for j in range(1, 10):\n",
    "            print(\"%d x %d = %d\" % (i,j,i*j))\n",
    "else:\n",
    "    for i in range(2, 9, 2):\n",
    "        for j in range(1, 10):\n",
    "            print(\"%d x %d = %d\" % (i,j,i*j))"
   ]
  },
  {
   "cell_type": "markdown",
   "metadata": {},
   "source": [
    "---\n",
    "\n",
    "### 문제11\n",
    "\n",
    "아래와 같은 출력 결과가 나타나도록 중첩 반복문을 for 문 형식으로 구현하시오.\n",
    "\n",
    "단, 반복문에서 사용되는 초기식 변수(`i`,`j`)외에 다른 변수를 사용해서는 안됩니다.\n",
    "\n",
    "```\n",
    "1\n",
    "12\n",
    "123\n",
    "1234\n",
    "12345\n",
    "123456\n",
    "1234567\n",
    "```"
   ]
  },
  {
   "cell_type": "code",
   "execution_count": 23,
   "metadata": {},
   "outputs": [
    {
     "name": "stdout",
     "output_type": "stream",
     "text": [
      "1\n",
      "12\n",
      "123\n",
      "1234\n",
      "12345\n",
      "123456\n",
      "1234567\n"
     ]
    }
   ],
   "source": [
    "for i in range(1,8):\n",
    "    for j in range(1, i+1):\n",
    "        print(j,end=\"\")\n",
    "    print(\"\")"
   ]
  },
  {
   "cell_type": "markdown",
   "metadata": {},
   "source": [
    "---\n",
    "\n",
    "### 문제12\n",
    "\n",
    "정수를 한 개 입력받아, 1부터 입력받은 수까지 각각에 대해 제곱을 구해 프린트하는 프로그램을 작성해 보세요. \n",
    "\n",
    "단, while 문을 사용하세요.\n",
    "\n",
    "#### 예 1\n",
    "\n",
    "입력:3\n",
    "```\n",
    "1 1\n",
    "2 4\n",
    "3 9\n",
    "```\n",
    "\n",
    "#### 예 2\n",
    "입력: 5\n",
    "```\n",
    "1 1\n",
    "2 4\n",
    "3 9\n",
    "4 16\n",
    "5 25\n",
    "```"
   ]
  },
  {
   "cell_type": "code",
   "execution_count": 27,
   "metadata": {},
   "outputs": [
    {
     "name": "stdin",
     "output_type": "stream",
     "text": [
      "숫자를 입력하세요:  5\n"
     ]
    },
    {
     "name": "stdout",
     "output_type": "stream",
     "text": [
      "1 1\n",
      "2 4\n",
      "3 9\n",
      "4 16\n",
      "5 25\n"
     ]
    }
   ],
   "source": [
    "myinput = input(\"숫자를 입력하세요: \")\n",
    "x = int(myinput)\n",
    "i=1\n",
    "while i<=x:\n",
    "    print(\"%d %d\" % (i, pow(i,2)))\n",
    "    i+=1"
   ]
  }
 ],
 "metadata": {
  "kernelspec": {
   "display_name": "Python 3",
   "language": "python",
   "name": "python3"
  },
  "language_info": {
   "codemirror_mode": {
    "name": "ipython",
    "version": 3
   },
   "file_extension": ".py",
   "mimetype": "text/x-python",
   "name": "python",
   "nbconvert_exporter": "python",
   "pygments_lexer": "ipython3",
   "version": "3.8.0"
  }
 },
 "nbformat": 4,
 "nbformat_minor": 4
}
